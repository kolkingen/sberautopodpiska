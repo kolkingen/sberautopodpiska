{
  "cells": [
    {
      "cell_type": "markdown",
      "metadata": {
        "id": "il9mxL14fbAA"
      },
      "source": [
        "# \"СберАвтоподписка\": предсказание целевых действий  \n"
      ]
    },
    {
      "cell_type": "markdown",
      "metadata": {
        "id": "hxF0cbZagWuj"
      },
      "source": [
        "**Цель проекта**: предсказать совершения одного из целевых действий - событий типа \"Оставить заявку\" или \"Заказать звонок\" для каждой сессии по аттрибутам visit_\\*, utm_\\*, device_\\*, geo_\\*.   \n",
        "\n",
        "**Целевая метрика**: roc-auc > 0.65."
      ]
    },
    {
      "cell_type": "markdown",
      "metadata": {
        "id": "wsl453hog4Po"
      },
      "source": [
        "## Настройка ноутбука"
      ]
    },
    {
      "cell_type": "markdown",
      "metadata": {
        "id": "00cQKFqYg9OA"
      },
      "source": [
        "### Импорт библиотек\n",
        "\n",
        "\n",
        "\n"
      ]
    },
    {
      "cell_type": "code",
      "execution_count": 1,
      "metadata": {
        "colab": {
          "base_uri": "https://localhost:8080/"
        },
        "id": "Zk3GLAm7fbrP",
        "outputId": "7ad2017a-0fd2-46cf-fa6a-c404dafacf03"
      },
      "outputs": [
        {
          "output_type": "stream",
          "name": "stdout",
          "text": [
            "Looking in indexes: https://pypi.org/simple, https://us-python.pkg.dev/colab-wheels/public/simple/\n",
            "Collecting feature-engine\n",
            "  Downloading feature_engine-1.4.0-py2.py3-none-any.whl (276 kB)\n",
            "\u001b[K     |████████████████████████████████| 276 kB 29.8 MB/s \n",
            "\u001b[?25hCollecting catboost\n",
            "  Downloading catboost-1.1.1-cp37-none-manylinux1_x86_64.whl (76.6 MB)\n",
            "\u001b[K     |████████████████████████████████| 76.6 MB 1.2 MB/s \n",
            "\u001b[?25hRequirement already satisfied: scikit-learn>=1.0.0 in /usr/local/lib/python3.7/dist-packages (from feature-engine) (1.0.2)\n",
            "Requirement already satisfied: scipy>=1.4.1 in /usr/local/lib/python3.7/dist-packages (from feature-engine) (1.7.3)\n",
            "Requirement already satisfied: pandas>=1.0.3 in /usr/local/lib/python3.7/dist-packages (from feature-engine) (1.3.5)\n",
            "Requirement already satisfied: numpy>=1.18.2 in /usr/local/lib/python3.7/dist-packages (from feature-engine) (1.21.6)\n",
            "Requirement already satisfied: statsmodels>=0.11.1 in /usr/local/lib/python3.7/dist-packages (from feature-engine) (0.12.2)\n",
            "Requirement already satisfied: python-dateutil>=2.7.3 in /usr/local/lib/python3.7/dist-packages (from pandas>=1.0.3->feature-engine) (2.8.2)\n",
            "Requirement already satisfied: pytz>=2017.3 in /usr/local/lib/python3.7/dist-packages (from pandas>=1.0.3->feature-engine) (2022.6)\n",
            "Requirement already satisfied: six>=1.5 in /usr/local/lib/python3.7/dist-packages (from python-dateutil>=2.7.3->pandas>=1.0.3->feature-engine) (1.15.0)\n",
            "Requirement already satisfied: threadpoolctl>=2.0.0 in /usr/local/lib/python3.7/dist-packages (from scikit-learn>=1.0.0->feature-engine) (3.1.0)\n",
            "Requirement already satisfied: joblib>=0.11 in /usr/local/lib/python3.7/dist-packages (from scikit-learn>=1.0.0->feature-engine) (1.2.0)\n",
            "Requirement already satisfied: patsy>=0.5 in /usr/local/lib/python3.7/dist-packages (from statsmodels>=0.11.1->feature-engine) (0.5.3)\n",
            "Requirement already satisfied: matplotlib in /usr/local/lib/python3.7/dist-packages (from catboost) (3.2.2)\n",
            "Requirement already satisfied: plotly in /usr/local/lib/python3.7/dist-packages (from catboost) (5.5.0)\n",
            "Requirement already satisfied: graphviz in /usr/local/lib/python3.7/dist-packages (from catboost) (0.10.1)\n",
            "Requirement already satisfied: pyparsing!=2.0.4,!=2.1.2,!=2.1.6,>=2.0.1 in /usr/local/lib/python3.7/dist-packages (from matplotlib->catboost) (3.0.9)\n",
            "Requirement already satisfied: kiwisolver>=1.0.1 in /usr/local/lib/python3.7/dist-packages (from matplotlib->catboost) (1.4.4)\n",
            "Requirement already satisfied: cycler>=0.10 in /usr/local/lib/python3.7/dist-packages (from matplotlib->catboost) (0.11.0)\n",
            "Requirement already satisfied: typing-extensions in /usr/local/lib/python3.7/dist-packages (from kiwisolver>=1.0.1->matplotlib->catboost) (4.1.1)\n",
            "Requirement already satisfied: tenacity>=6.2.0 in /usr/local/lib/python3.7/dist-packages (from plotly->catboost) (8.1.0)\n",
            "Installing collected packages: feature-engine, catboost\n",
            "Successfully installed catboost-1.1.1 feature-engine-1.4.0\n"
          ]
        }
      ],
      "source": [
        "! pip install feature-engine catboost"
      ]
    },
    {
      "cell_type": "code",
      "execution_count": 2,
      "metadata": {
        "id": "s45aMMmq98og"
      },
      "outputs": [],
      "source": [
        "import sys\n",
        "from datetime import datetime\n",
        "import warnings\n",
        "from pathlib import Path\n",
        "from typing import Union\n",
        "\n",
        "import dill\n",
        "import pandas as pd\n",
        "import matplotlib.pyplot as plt\n",
        "import seaborn as sns\n",
        "\n",
        "# препроцессинг и метрики\n",
        "from sklearn.preprocessing import FunctionTransformer, StandardScaler\n",
        "from sklearn.model_selection import (\n",
        "    train_test_split, GridSearchCV, StratifiedKFold)\n",
        "from sklearn.metrics import (\n",
        "    roc_auc_score, accuracy_score, confusion_matrix, precision_score, \n",
        "    recall_score, f1_score, make_scorer, roc_curve)\n",
        "from sklearn.pipeline import Pipeline\n",
        "from feature_engine.encoding import RareLabelEncoder, OneHotEncoder\n",
        "from feature_engine.wrappers import SklearnTransformerWrapper\n",
        "from feature_engine.outliers import Winsorizer\n",
        "from feature_engine.selection import (\n",
        "    DropDuplicateFeatures, DropConstantFeatures, \n",
        "    DropCorrelatedFeatures, DropFeatures)\n",
        "from feature_engine.transformation import YeoJohnsonTransformer\n",
        "\n",
        "# модели\n",
        "from sklearn.base import BaseEstimator\n",
        "from sklearn.dummy import DummyClassifier\n",
        "from sklearn.linear_model import LogisticRegression\n",
        "from sklearn.neighbors import KNeighborsClassifier\n",
        "from sklearn.neural_network import MLPClassifier\n",
        "from sklearn.svm import LinearSVC\n",
        "from sklearn.naive_bayes import GaussianNB\n",
        "from sklearn.tree import DecisionTreeClassifier\n",
        "from sklearn.ensemble import (\n",
        "    RandomForestClassifier, HistGradientBoostingClassifier)\n",
        "from catboost import CatBoostClassifier\n",
        "from xgboost import XGBClassifier\n",
        "from lightgbm import LGBMClassifier\n",
        "\n",
        "# дополнительные данные\n",
        "from additional_data import (\n",
        "    get_distance_from_moscow, target_events, missing_values, organic_mediums, \n",
        "    social_media_sources, moscow_region_cities, big_cities, russian_holidays)"
      ]
    },
    {
      "cell_type": "markdown",
      "metadata": {
        "id": "30fUVLzuiQEa"
      },
      "source": [
        "### Создание констант"
      ]
    },
    {
      "cell_type": "code",
      "execution_count": 3,
      "metadata": {
        "id": "2BJ2wLSSWCH8"
      },
      "outputs": [],
      "source": [
        "# необходимо указать путь к папкам с данными и моделями\n",
        "\n",
        "data_folder = Path('..', 'data')\n",
        "models_folder = Path('..', 'models')\n",
        "\n",
        "sessions_filename = 'ga_sessions.csv'\n",
        "hits_filename = 'ga_hits.csv'"
      ]
    },
    {
      "cell_type": "code",
      "execution_count": 4,
      "metadata": {
        "id": "s1ljYcGeWGTs"
      },
      "outputs": [],
      "source": [
        "TEST_SIZE = 200_000\n",
        "RANDOM_SEED = 0"
      ]
    },
    {
      "cell_type": "markdown",
      "metadata": {
        "id": "W4r8kBnGh3xP"
      },
      "source": [
        "### Настройка ноутбука"
      ]
    },
    {
      "cell_type": "code",
      "execution_count": 5,
      "metadata": {
        "id": "XWlAoE1QLlkl"
      },
      "outputs": [],
      "source": [
        "pd.set_option('display.max_columns', 100)\n",
        "warnings.filterwarnings('ignore')"
      ]
    },
    {
      "cell_type": "code",
      "execution_count": 6,
      "metadata": {
        "colab": {
          "base_uri": "https://localhost:8080/"
        },
        "id": "eZfEEl3BQtfq",
        "outputId": "aef9193b-fb4a-470c-ef03-89a8eb32b406"
      },
      "outputs": [
        {
          "output_type": "stream",
          "name": "stdout",
          "text": [
            "Mounted at /content/drive\n"
          ]
        }
      ],
      "source": [
        "# для среды google colab\n",
        "if 'google.colab' in sys.modules: \n",
        "    from google.colab import drive\n",
        "    drive.mount('/content/drive')\n",
        "    data_folder = Path('drive', 'MyDrive', 'data')\n",
        "    models_folder = Path('models')"
      ]
    },
    {
      "cell_type": "markdown",
      "metadata": {
        "id": "_e6pxmqQi9Zv"
      },
      "source": [
        "### Загрузка данных\n",
        "\n",
        "Для файла `ga_hits.csv` нужно загрузить только колонки 'session_id' и 'event_action', так как остальные не используются."
      ]
    },
    {
      "cell_type": "code",
      "execution_count": 7,
      "metadata": {
        "id": "phTdIgg9MQkL"
      },
      "outputs": [],
      "source": [
        "sessions = pd.read_csv(data_folder / sessions_filename)\n",
        "hits = pd.read_csv(data_folder / hits_filename, \n",
        "                   usecols=['session_id', 'event_action'])"
      ]
    },
    {
      "cell_type": "markdown",
      "metadata": {
        "id": "sG0_hMFGB9dn"
      },
      "source": [
        "## Подготовка данных"
      ]
    },
    {
      "cell_type": "markdown",
      "metadata": {
        "id": "O1OIZL9lr4tl"
      },
      "source": [
        "### Целевая переменная  \n",
        "\n",
        "Целевая переменная считается положительной, если для сессии из `sessions` есть хотя бы одно целевое событие в `hits`. "
      ]
    },
    {
      "cell_type": "code",
      "execution_count": 8,
      "metadata": {
        "id": "M5fWRJzNvsg_"
      },
      "outputs": [],
      "source": [
        "hits['target'] = hits['event_action'].isin(target_events)\n",
        "is_target_event = hits.groupby('session_id')['target'].any().astype(int)"
      ]
    },
    {
      "cell_type": "code",
      "execution_count": 9,
      "metadata": {
        "id": "BqV9-6p7wgmj",
        "colab": {
          "base_uri": "https://localhost:8080/"
        },
        "outputId": "853104e4-ae03-4121-ef07-b3bc1d7295ad"
      },
      "outputs": [
        {
          "output_type": "execute_result",
          "data": {
            "text/plain": [
              "0.0    0.97295\n",
              "1.0    0.02705\n",
              "Name: target, dtype: float64"
            ]
          },
          "metadata": {},
          "execution_count": 9
        }
      ],
      "source": [
        "target = pd.Series(is_target_event, index=sessions['session_id']).fillna(0.0)\n",
        "target.value_counts(dropna=False, normalize=True)"
      ]
    },
    {
      "cell_type": "code",
      "execution_count": 10,
      "metadata": {
        "id": "VuTc3J5CkhkT"
      },
      "outputs": [],
      "source": [
        "del hits"
      ]
    },
    {
      "cell_type": "markdown",
      "metadata": {
        "id": "r5K3svqb1tjM"
      },
      "source": [
        "### Заполнение пропусков  \n",
        "\n",
        "Пропуски в колонке `device_screen_resolution` заполняем самым частым значением.  \n",
        "Все остальные пропуски в колонках заполняем значением '(nan)'."
      ]
    },
    {
      "cell_type": "code",
      "execution_count": 11,
      "metadata": {
        "id": "hPrvYDhY1QfY"
      },
      "outputs": [],
      "source": [
        "def fill_missings(data: pd.DataFrame) -> pd.DataFrame:\n",
        "    \"\"\"Заполняет пропущенные значения:\n",
        "    * самым частым значением для `device_screen_resolution`;\n",
        "    * значением '(nan)' во всех остальных случаях.\n",
        "    \"\"\"\n",
        "\n",
        "    data = data.copy()\n",
        "\n",
        "    if 'device_screen_resolution' in data.columns:\n",
        "        # '414x896' - самое частое значение в 'device_screen_resolution'\n",
        "        # согласно предварительному анализу данных\n",
        "        data['device_screen_resolution'] = \\\n",
        "            data['device_screen_resolution'].replace(missing_values, '414x896')\n",
        "    \n",
        "    return data.fillna('(nan)')"
      ]
    },
    {
      "cell_type": "markdown",
      "metadata": {
        "id": "4jwtfKo29Ad7"
      },
      "source": [
        "### Генерация признаков\n",
        "\n",
        "Создаётся множество дополнительных переменных: день недели и день месяца, является ли день выходным, час и минута посещения, ночью ли посещение, ширина, высота, площадь и соотношение экрана.\n",
        "\n",
        "В том числе с дополнительными данными: является ли день празничным, является ли трафик органическим, из социальных ли сетей он, находится ли пользователь в большом городе или в московской области, расстояние до Москвы как численно, так и в виде категорий."
      ]
    },
    {
      "cell_type": "code",
      "execution_count": 12,
      "metadata": {
        "id": "RmS25hxv_s8V"
      },
      "outputs": [],
      "source": [
        "def distance_category(distance: float) -> str:\n",
        "    \"\"\"Возвращает категорию расстояния до Москвы.\"\"\"\n",
        "\n",
        "    if distance == -1: return 'no distance'\n",
        "    elif distance == 0: return 'moscow'\n",
        "    elif distance < 100: return '< 100 km'\n",
        "    elif distance < 500: return '100-500 km'\n",
        "    elif distance < 1000: return '500-1000 km'\n",
        "    elif distance < 3000: return '1000-3000 km'\n",
        "    else: return '>= 3000 km'"
      ]
    },
    {
      "cell_type": "code",
      "execution_count": 76,
      "metadata": {
        "id": "MXGGgtUq2frS"
      },
      "outputs": [],
      "source": [
        "def create_features(data: pd.DataFrame) -> pd.DataFrame:\n",
        "    \"\"\"Создаёт новые признаки из существующих.\"\"\"\n",
        "\n",
        "    data = data.copy()\n",
        "    \n",
        "    # visit_date признаки \n",
        "    if 'visit_date' in data.columns:\n",
        "        data['visit_date'] = data['visit_date'].astype('datetime64[ns]')\n",
        "        data['visit_date_added_holiday'] = \\\n",
        "            data['visit_date'].isin(russian_holidays)\n",
        "        # числовые признаки сделаем строго положительными \n",
        "        # для лучшей обработки на шаге с YeoJohnsonTransformer\n",
        "        data['visit_date_weekday'] = data['visit_date'].dt.weekday + 1\n",
        "        data['visit_date_weekend'] = data['visit_date'].dt.weekday > 4\n",
        "        data['visit_date_day'] = data['visit_date'].dt.day + 1\n",
        "\n",
        "    # visit_time признаки\n",
        "    if 'visit_time' in data.columns:\n",
        "        data['visit_time'] = data['visit_time'].astype('datetime64[ns]')\n",
        "        data['visit_time_hour'] = data['visit_time'].dt.hour + 1\n",
        "        data['visit_time_minute'] = data['visit_time'].dt.minute + 1\n",
        "        data['visit_time_night'] = data['visit_time'].dt.hour < 9\n",
        "\n",
        "    # utm_* признаки\n",
        "    if 'utm_medium' in data.columns:\n",
        "        data['utm_medium_added_is_organic'] = \\\n",
        "            data['utm_medium'].isin(organic_mediums)\n",
        "    if 'utm_source' in data.columns: \n",
        "        data['utm_source_added_is_social'] = \\\n",
        "            data['utm_source'].isin(social_media_sources)\n",
        "    \n",
        "    # device_screen признаки\n",
        "    if 'device_screen_resolution' in data.columns:\n",
        "        name = 'device_screen_resolution'\n",
        "        data[[name + '_width', name + '_height']] = \\\n",
        "            data[name].str.split('x', expand=True).astype(float)\n",
        "        data[name + '_area'] = data[name + '_width'] * data[name + '_height']\n",
        "        data[name + '_ratio'] = data[name + '_width'] / data[name + '_height']\n",
        "        data[name + '_ratio_greater_1'] = data[name + '_ratio'] > 1\n",
        "\n",
        "    # geo_city признаки \n",
        "    if 'geo_city' in data.columns:\n",
        "        data['geo_city_added_is_moscow_region'] = \\\n",
        "            data['geo_city'].isin(moscow_region_cities)\n",
        "        data['geo_city_added_is_big'] = data['geo_city'].isin(big_cities)\n",
        "        data['geo_city_is_big_or_in_moscow_region'] = \\\n",
        "            data['geo_city_added_is_moscow_region'] \\\n",
        "            | data['geo_city_added_is_big']\n",
        "        data['geo_city_added_distance_from_moscow'] = \\\n",
        "            data['geo_city'].apply(get_distance_from_moscow)\n",
        "        data['geo_city_added_distance_from_moscow_category'] = \\\n",
        "            data['geo_city_added_distance_from_moscow'].apply(distance_category)\n",
        "\n",
        "    return data"
      ]
    },
    {
      "cell_type": "markdown",
      "metadata": {
        "id": "SdmCT5bFkTpy"
      },
      "source": [
        "### Дополнительно"
      ]
    },
    {
      "cell_type": "code",
      "execution_count": 14,
      "metadata": {
        "id": "-h_M6P4-5Gag"
      },
      "outputs": [],
      "source": [
        "def set_index(data: pd.DataFrame, column: str = 'session_id') -> pd.DataFrame:\n",
        "    \"\"\"Устанавливает в качестве индекса датафрейма колонку `column`.\"\"\"\n",
        "    \n",
        "    data = data.copy()\n",
        "\n",
        "    if column in data.columns:\n",
        "        data = data.set_index(column)\n",
        "    \n",
        "    return data"
      ]
    },
    {
      "cell_type": "code",
      "execution_count": 15,
      "metadata": {
        "id": "XVHwnlccAUWB"
      },
      "outputs": [],
      "source": [
        "def converse_types(data: pd.DataFrame) -> pd.DataFrame:\n",
        "    \"\"\"Приводит типы переменных к float. В первую очередь \n",
        "    необходимо для преобразования bool значений.\n",
        "    \"\"\"\n",
        "\n",
        "    return data.astype(float)"
      ]
    },
    {
      "cell_type": "markdown",
      "metadata": {
        "id": "I4Owup725D1u"
      },
      "source": [
        "### Сбор конвейера  \n",
        "\n",
        "Конвейер по подготовке данных состоит из 4 частей:  \n",
        "1. Создание дополнительных признаков\n",
        "2. Преобразование численных переменных\n",
        "3. Преобразование категориальных переменных\n",
        "4. Удаление лишних признаков"
      ]
    },
    {
      "cell_type": "code",
      "execution_count": 16,
      "metadata": {
        "id": "4aBifLGa14rl"
      },
      "outputs": [],
      "source": [
        "preprocessor = Pipeline(steps=[\n",
        "\n",
        "    # Создание дополнительных признаков и\n",
        "    # Приведение датафрейма к удобному виду \n",
        "    ('indexer', FunctionTransformer(set_index)), \n",
        "    ('imputer', FunctionTransformer(fill_missings)), \n",
        "    ('engineer', FunctionTransformer(create_features)), \n",
        "    ('dropper', DropFeatures(['client_id', 'visit_date', 'visit_time', \n",
        "                              'device_screen_resolution'])), \n",
        "\n",
        "    # Преобразования численных переменных\n",
        "    ('normalization', YeoJohnsonTransformer()), \n",
        "    ('outlier_remover', Winsorizer()), \n",
        "    ('scaler', SklearnTransformerWrapper(StandardScaler())), \n",
        "\n",
        "    # Преобразования категориальных признаков\n",
        "    ('rare_encoder', RareLabelEncoder(tol=0.05, replace_with='rare')), \n",
        "    ('onehot_encoder', OneHotEncoder(drop_last_binary=True)), \n",
        "    ('bool_converter', FunctionTransformer(converse_types)), \n",
        "\n",
        "    # Удаление дубликатов и коррелируемых признаков\n",
        "    ('constant_dropper', DropConstantFeatures(tol=0.99)), \n",
        "    ('duplicated_dropper', DropDuplicateFeatures()), \n",
        "    ('correlated_dropper', DropCorrelatedFeatures(threshold=0.8)), \n",
        "\n",
        "])"
      ]
    },
    {
      "cell_type": "markdown",
      "metadata": {
        "id": "Vapx7kE14bXl"
      },
      "source": [
        "## Моделирование"
      ]
    },
    {
      "cell_type": "markdown",
      "metadata": {
        "id": "p7no5DMn5KQA"
      },
      "source": [
        "### Разделение данных  \n",
        "\n",
        "Разделим данные на тренировочную, валидационную и тестовую выборки.  \n"
      ]
    },
    {
      "cell_type": "code",
      "execution_count": 17,
      "metadata": {
        "id": "IbEwzDFl5SBC",
        "colab": {
          "base_uri": "https://localhost:8080/"
        },
        "outputId": "5f67c4fc-a54d-473b-c9e0-5f16321f9adf"
      },
      "outputs": [
        {
          "output_type": "stream",
          "name": "stdout",
          "text": [
            "train shapes: (1460042, 18) (1460042,)\n",
            "valid shapes: (200000, 18) (200000,)\n",
            "test  shapes: (200000, 18) (200000,)\n"
          ]
        }
      ],
      "source": [
        "X, X_test, y, y_test = train_test_split(\n",
        "    sessions, target, test_size=TEST_SIZE, \n",
        "    stratify=target, random_state=RANDOM_SEED)\n",
        "\n",
        "X_train, X_valid, y_train, y_valid = train_test_split(\n",
        "    X, y, test_size=TEST_SIZE, \n",
        "    stratify=y, random_state=RANDOM_SEED)\n",
        "\n",
        "print(f'train shapes: {X_train.shape} {y_train.shape}')\n",
        "print(f'valid shapes: {X_valid.shape} {y_valid.shape}')\n",
        "print(f'test  shapes: {X_test.shape} {y_test.shape}')"
      ]
    },
    {
      "cell_type": "markdown",
      "metadata": {
        "id": "faISJrub1s56"
      },
      "source": [
        "### Препроцессинг данных  \n",
        "\n",
        "Преобразуем тренировочные и валидационные данные с помощью построенного конвейера."
      ]
    },
    {
      "cell_type": "code",
      "execution_count": 18,
      "metadata": {
        "colab": {
          "base_uri": "https://localhost:8080/"
        },
        "id": "2vtF_r6P1sen",
        "outputId": "b299fdf6-872b-49f2-87a5-4c0b9bb328a1"
      },
      "outputs": [
        {
          "output_type": "stream",
          "name": "stdout",
          "text": [
            "X_train.shape = (1460042, 55)\n"
          ]
        }
      ],
      "source": [
        "X_train_preprocessed = preprocessor.fit_transform(X_train)\n",
        "X_valid_preprocessed = preprocessor.transform(X_valid)\n",
        "\n",
        "print(f'X_train.shape = {X_train_preprocessed.shape}')"
      ]
    },
    {
      "cell_type": "markdown",
      "metadata": {
        "id": "-G6lNagZNfgM"
      },
      "source": [
        "### Выбор метрик  \n",
        "\n",
        "Будем использовать в качестве основной метрики - `roc_auc`. Но также взглянем и на другие метрики: `accuracy`, `precision`, `recall`, `f1`.  \n"
      ]
    },
    {
      "cell_type": "code",
      "execution_count": 19,
      "metadata": {
        "id": "klHCY5FJOgDz"
      },
      "outputs": [],
      "source": [
        "def find_best_threshold(\n",
        "    y_true: pd.Series, \n",
        "    y_proba: pd.Series, \n",
        "    metriс_name: str = 'roc_auc', \n",
        "    iterations: int = 250, \n",
        "    learning_rate: float = 0.05\n",
        ") -> float:\n",
        "    \"\"\"Находит лучший порог перевода вероятностей `y_proba` \n",
        "    в принадлежность к классу 1.\n",
        "    \"\"\"\n",
        "    \n",
        "    # Получение функции метрики, которую оптимизируем\n",
        "    metrics = {'roc_auc': roc_auc_score, 'f1': f1_score, \n",
        "               'precision': precision_score, 'recall': recall_score}\n",
        "    metric_function = metrics.get(metriс_name, accuracy_score)\n",
        "\n",
        "    # Получение метрики\n",
        "    def get_metric(threshold: float) -> float:\n",
        "        prediction = (y_proba > threshold).astype(int)\n",
        "        return metric_function(y_true, prediction)\n",
        "\n",
        "    direction = -1\n",
        "    shift = 0.25\n",
        "\n",
        "    best_threshold = 0.5\n",
        "    best_metric = get_metric(best_threshold)\n",
        "\n",
        "    # На каждой итерации\n",
        "    for i in range(iterations):\n",
        "\n",
        "        # Меняем порог\n",
        "        threshold = best_threshold + direction * shift\n",
        "        shift *= (1 - learning_rate)\n",
        "        metric = get_metric(threshold)\n",
        "\n",
        "        # И проверяем, улучшилась ли метрика\n",
        "        if metric > best_metric: \n",
        "            best_threshold = threshold\n",
        "            best_metric = metric\n",
        "        else: \n",
        "            direction *= -1\n",
        "            \n",
        "    return best_threshold"
      ]
    },
    {
      "cell_type": "code",
      "execution_count": 20,
      "metadata": {
        "id": "Gy9AoqAeowRX"
      },
      "outputs": [],
      "source": [
        "def print_metrics(\n",
        "    model: BaseEstimator, \n",
        "    X: pd.DataFrame, \n",
        "    y: pd.Series, \n",
        "    threshold: Union[float, None] = None, \n",
        "    show_roc_curve: bool = False\n",
        ") -> None:\n",
        "    \"\"\"Получает метрики бинарной классификации из модели `model` на данных \n",
        "    `X` и `y`. Если возможно, то через метод `predict_proba` с заданным \n",
        "    порогом перевода вероятностей в классы `threshold`, иначе через `predict`. \n",
        "    Если `threshold` равен None, автоматически найдёт лучший порог.  \n",
        "    ---\n",
        "    Метрики: roc_auc, accuracy, precision, recall, f1, confusion_matrix, \n",
        "    roc_curve.\n",
        "    \"\"\"\n",
        "\n",
        "    # Получим предсказания, если возможно в виде вероятностей\n",
        "    try: \n",
        "        probas = model.predict_proba(X)[:, 1]\n",
        "    except AttributeError:\n",
        "        prediction = model.predict(X)\n",
        "        threshold = None\n",
        "        probas = None\n",
        "    else:\n",
        "        threshold = threshold or find_best_threshold(y, probas, 'roc_auc')\n",
        "        prediction = (probas > threshold).astype(int)\n",
        "\n",
        "    # Распечатаем порог перевода вероятностей в классы\n",
        "    if threshold is None:\n",
        "        print(\"Порог перевода вероятностей в классы: не используется\")\n",
        "    else:\n",
        "        print(f\"Порог перевода вероятностей в классы: {threshold}\")\n",
        "        print(f\"{roc_auc_score(y, probas)} - roc_auc на вероятностях\")\n",
        "\n",
        "    # Распечатаем однострочные метрики\n",
        "    print()\n",
        "    print(f\"{roc_auc_score(y, prediction):0.8f} - roc_auc\")\n",
        "    print(f\"{accuracy_score(y, prediction):0.8f} - accuracy\")\n",
        "    print(f\"{precision_score(y, prediction):0.8f} - precision\")\n",
        "    print(f\"{recall_score(y, prediction):0.8f} - recall\")\n",
        "    print(f\"{f1_score(y, prediction):0.8f} - f1\")\n",
        "\n",
        "    # Распечатаем матрицу ошибок\n",
        "    conf_mat = confusion_matrix(y, prediction)\n",
        "    classes = model.classes_\n",
        "    n_classes = len(classes)\n",
        "    print()\n",
        "    print(\"|\".join(f\"{i:^10}\" for i in [\"prediction\"] + list(classes)))\n",
        "    print(f\"{'true label':^10}\" + (\"|\" + \" \" * 10) * n_classes)\n",
        "    print(\"-\" * ((n_classes * 10) + n_classes + 10))\n",
        "    for i in range(n_classes):\n",
        "        print(\"|\".join(f\"{j:>10}\" for j in [classes[i]] + list(conf_mat[i])))\n",
        "\n",
        "    # Отобразим ROC-кривую\n",
        "    if show_roc_curve:\n",
        "        print()\n",
        "        plt.figure(figsize=(7, 4))\n",
        "        if probas is not None:\n",
        "            plt.plot(*roc_curve(y_test, probas)[:2], \n",
        "                     c='r', label='on probability')\n",
        "        plt.plot(*roc_curve(y_test, prediction)[:2], c='b', label='on class')\n",
        "        plt.plot([0, 1], [0, 1], c='y', label='random', linestyle='dashed')\n",
        "        plt.title('Receiver operating characteristic')\n",
        "        plt.xlabel('False Positive Rate')\n",
        "        plt.ylabel('True Positive Rate')\n",
        "        plt.legend()\n",
        "        plt.show()"
      ]
    },
    {
      "cell_type": "markdown",
      "metadata": {
        "id": "Fm7hN89g4g4_"
      },
      "source": [
        "### Базовая модель  \n",
        "\n",
        "Так как целевая переменная распределена не равномерно, то в качестве бейзлайна можно выбрать стратегию, которая для каждой сессии предсказывает значение 0.  \n"
      ]
    },
    {
      "cell_type": "code",
      "execution_count": 21,
      "metadata": {
        "colab": {
          "base_uri": "https://localhost:8080/"
        },
        "id": "MoTDCM7V4FUm",
        "outputId": "6bc3bfdd-f2ef-4e83-bda5-64cb81bac603"
      },
      "outputs": [
        {
          "output_type": "stream",
          "name": "stdout",
          "text": [
            "Порог перевода вероятностей в классы: 0.5\n",
            "0.5 - roc_auc на вероятностях\n",
            "\n",
            "0.50000000 - roc_auc\n",
            "0.97295000 - accuracy\n",
            "0.00000000 - precision\n",
            "0.00000000 - recall\n",
            "0.00000000 - f1\n",
            "\n",
            "prediction|   0.0    |   1.0    \n",
            "true label|          |          \n",
            "--------------------------------\n",
            "       0.0|    194590|         0\n",
            "       1.0|      5410|         0\n"
          ]
        }
      ],
      "source": [
        "# Обучим базовую модель \n",
        "baseline = DummyClassifier(strategy='constant', constant=0)\n",
        "baseline.fit(X_train_preprocessed, y_train)\n",
        "\n",
        "# И получим её метрики\n",
        "print_metrics(baseline, X_valid_preprocessed, y_valid, 0.5)"
      ]
    },
    {
      "cell_type": "markdown",
      "metadata": {
        "id": "PWvFBh-uZo0b"
      },
      "source": [
        "### Выбор модели  \n",
        "\n",
        "Обучим несколько моделей, оценим на валидационной выборке и выберем лучшую, которую уже будем оптимизировать."
      ]
    },
    {
      "cell_type": "markdown",
      "metadata": {
        "id": "mx3teaVL1vJH"
      },
      "source": [
        "Логистическая регрессия"
      ]
    },
    {
      "cell_type": "code",
      "execution_count": 22,
      "metadata": {
        "id": "MQN5cdrGBsAl"
      },
      "outputs": [],
      "source": [
        "logreg = LogisticRegression(random_state=RANDOM_SEED)"
      ]
    },
    {
      "cell_type": "code",
      "execution_count": 23,
      "metadata": {
        "id": "HmSC_wnWt7CO",
        "colab": {
          "base_uri": "https://localhost:8080/"
        },
        "outputId": "5882c8ea-44b0-42a7-a9fd-7d2a41d707a0"
      },
      "outputs": [
        {
          "output_type": "stream",
          "name": "stdout",
          "text": [
            "CPU times: user 51.2 s, sys: 14.7 s, total: 1min 5s\n",
            "Wall time: 35.5 s\n"
          ]
        },
        {
          "output_type": "execute_result",
          "data": {
            "text/plain": [
              "LogisticRegression(random_state=0)"
            ]
          },
          "metadata": {},
          "execution_count": 23
        }
      ],
      "source": [
        "%%time\n",
        "logreg.fit(X_train_preprocessed, y_train);"
      ]
    },
    {
      "cell_type": "code",
      "execution_count": 24,
      "metadata": {
        "id": "TwU_sjsouHq4",
        "colab": {
          "base_uri": "https://localhost:8080/"
        },
        "outputId": "f435c38d-cd8c-425f-9ed5-14822cdbf2d8"
      },
      "outputs": [
        {
          "output_type": "stream",
          "name": "stdout",
          "text": [
            "Порог перевода вероятностей в классы: 0.5\n",
            "0.6683645085705108 - roc_auc на вероятностях\n",
            "\n",
            "0.50000000 - roc_auc\n",
            "0.97295000 - accuracy\n",
            "0.00000000 - precision\n",
            "0.00000000 - recall\n",
            "0.00000000 - f1\n",
            "\n",
            "prediction|   0.0    |   1.0    \n",
            "true label|          |          \n",
            "--------------------------------\n",
            "       0.0|    194590|         0\n",
            "       1.0|      5410|         0\n"
          ]
        }
      ],
      "source": [
        "print_metrics(logreg, X_valid_preprocessed, y_valid)"
      ]
    },
    {
      "cell_type": "markdown",
      "metadata": {
        "id": "ibVp5DdMJzS6"
      },
      "source": [
        "Метод опорных векторов"
      ]
    },
    {
      "cell_type": "code",
      "execution_count": 25,
      "metadata": {
        "id": "FIH3-eifJ3Ik"
      },
      "outputs": [],
      "source": [
        "svc = LinearSVC(class_weight='balanced', dual=False)"
      ]
    },
    {
      "cell_type": "code",
      "execution_count": 26,
      "metadata": {
        "id": "rOSy-TIcJ3EE",
        "colab": {
          "base_uri": "https://localhost:8080/"
        },
        "outputId": "ee21a6b7-c8f6-4e0f-847b-252b29e05759"
      },
      "outputs": [
        {
          "output_type": "stream",
          "name": "stdout",
          "text": [
            "CPU times: user 39.3 s, sys: 115 ms, total: 39.4 s\n",
            "Wall time: 40 s\n"
          ]
        },
        {
          "output_type": "execute_result",
          "data": {
            "text/plain": [
              "LinearSVC(class_weight='balanced', dual=False)"
            ]
          },
          "metadata": {},
          "execution_count": 26
        }
      ],
      "source": [
        "%%time\n",
        "svc.fit(X_train_preprocessed, y_train);"
      ]
    },
    {
      "cell_type": "code",
      "execution_count": 27,
      "metadata": {
        "id": "3MM_qupCKUuU",
        "colab": {
          "base_uri": "https://localhost:8080/"
        },
        "outputId": "7d92a790-a50f-49b0-b694-03c1dd2107fc"
      },
      "outputs": [
        {
          "output_type": "stream",
          "name": "stdout",
          "text": [
            "Порог перевода вероятностей в классы: не используется\n",
            "\n",
            "0.61920276 - roc_auc\n",
            "0.56131000 - accuracy\n",
            "0.04104136 - precision\n",
            "0.68040665 - recall\n",
            "0.07741325 - f1\n",
            "\n",
            "prediction|   0.0    |   1.0    \n",
            "true label|          |          \n",
            "--------------------------------\n",
            "       0.0|    108581|     86009\n",
            "       1.0|      1729|      3681\n"
          ]
        }
      ],
      "source": [
        "print_metrics(svc, X_valid_preprocessed, y_valid)"
      ]
    },
    {
      "cell_type": "markdown",
      "metadata": {
        "id": "Z8jQU-SKCPXh"
      },
      "source": [
        "Нейронная сеть"
      ]
    },
    {
      "cell_type": "code",
      "execution_count": 28,
      "metadata": {
        "id": "I1CuFrrmCOaX"
      },
      "outputs": [],
      "source": [
        "mlp = MLPClassifier((32,), random_state=RANDOM_SEED)"
      ]
    },
    {
      "cell_type": "code",
      "execution_count": 29,
      "metadata": {
        "id": "tGqKzgskCOa3",
        "colab": {
          "base_uri": "https://localhost:8080/"
        },
        "outputId": "dfb7b4b6-66c3-43d0-e4ea-2b1d48207957"
      },
      "outputs": [
        {
          "output_type": "stream",
          "name": "stdout",
          "text": [
            "CPU times: user 3min 16s, sys: 2min 29s, total: 5min 46s\n",
            "Wall time: 3min 1s\n"
          ]
        },
        {
          "output_type": "execute_result",
          "data": {
            "text/plain": [
              "MLPClassifier(hidden_layer_sizes=(32,), random_state=0)"
            ]
          },
          "metadata": {},
          "execution_count": 29
        }
      ],
      "source": [
        "%%time\n",
        "mlp.fit(X_train_preprocessed, y_train);"
      ]
    },
    {
      "cell_type": "code",
      "execution_count": 30,
      "metadata": {
        "id": "GWrCizlgCOa4",
        "colab": {
          "base_uri": "https://localhost:8080/"
        },
        "outputId": "2a2b48e4-5a8d-47b8-f870-8891fb08f11d"
      },
      "outputs": [
        {
          "output_type": "stream",
          "name": "stdout",
          "text": [
            "Порог перевода вероятностей в классы: 0.5\n",
            "0.6983782119645087 - roc_auc на вероятностях\n",
            "\n",
            "0.50000000 - roc_auc\n",
            "0.97295000 - accuracy\n",
            "0.00000000 - precision\n",
            "0.00000000 - recall\n",
            "0.00000000 - f1\n",
            "\n",
            "prediction|   0.0    |   1.0    \n",
            "true label|          |          \n",
            "--------------------------------\n",
            "       0.0|    194590|         0\n",
            "       1.0|      5410|         0\n"
          ]
        }
      ],
      "source": [
        "print_metrics(mlp, X_valid_preprocessed, y_valid)"
      ]
    },
    {
      "cell_type": "markdown",
      "metadata": {
        "id": "fnB04lZh17ub"
      },
      "source": [
        "Байесовский классификатор"
      ]
    },
    {
      "cell_type": "code",
      "execution_count": 31,
      "metadata": {
        "id": "05T2TlUWBxHN"
      },
      "outputs": [],
      "source": [
        "gaussnb = GaussianNB()"
      ]
    },
    {
      "cell_type": "code",
      "execution_count": 32,
      "metadata": {
        "id": "-Xr1YU0v2FZq",
        "colab": {
          "base_uri": "https://localhost:8080/"
        },
        "outputId": "bea37996-0d6e-41ca-c592-c47d967a4fb0"
      },
      "outputs": [
        {
          "output_type": "stream",
          "name": "stdout",
          "text": [
            "CPU times: user 1.82 s, sys: 55.8 ms, total: 1.87 s\n",
            "Wall time: 1.87 s\n"
          ]
        },
        {
          "output_type": "execute_result",
          "data": {
            "text/plain": [
              "GaussianNB()"
            ]
          },
          "metadata": {},
          "execution_count": 32
        }
      ],
      "source": [
        "%%time\n",
        "gaussnb.fit(X_train_preprocessed, y_train);"
      ]
    },
    {
      "cell_type": "code",
      "execution_count": 33,
      "metadata": {
        "id": "mTmSxITR2FTk",
        "colab": {
          "base_uri": "https://localhost:8080/"
        },
        "outputId": "de9ad50a-d1d9-4b61-a5bf-369176f19f45"
      },
      "outputs": [
        {
          "output_type": "stream",
          "name": "stdout",
          "text": [
            "Порог перевода вероятностей в классы: 0.05419511287276451\n",
            "0.6458839691283222 - roc_auc на вероятностях\n",
            "\n",
            "0.60928251 - roc_auc\n",
            "0.56001500 - accuracy\n",
            "0.03986940 - precision\n",
            "0.66136784 - recall\n",
            "0.07520520 - f1\n",
            "\n",
            "prediction|   0.0    |   1.0    \n",
            "true label|          |          \n",
            "--------------------------------\n",
            "       0.0|    108425|     86165\n",
            "       1.0|      1832|      3578\n"
          ]
        }
      ],
      "source": [
        "print_metrics(gaussnb, X_valid_preprocessed, y_valid)"
      ]
    },
    {
      "cell_type": "markdown",
      "metadata": {
        "id": "BIZBspdkNsSP"
      },
      "source": [
        "Дерево решений"
      ]
    },
    {
      "cell_type": "code",
      "execution_count": 34,
      "metadata": {
        "id": "UOlsEARaNr98"
      },
      "outputs": [],
      "source": [
        "tree = DecisionTreeClassifier(random_state=RANDOM_SEED)"
      ]
    },
    {
      "cell_type": "code",
      "execution_count": 35,
      "metadata": {
        "id": "2IUaLZBcN2hL",
        "colab": {
          "base_uri": "https://localhost:8080/"
        },
        "outputId": "d8e96598-e76e-4db6-c604-659895757099"
      },
      "outputs": [
        {
          "output_type": "stream",
          "name": "stdout",
          "text": [
            "CPU times: user 41.1 s, sys: 491 ms, total: 41.6 s\n",
            "Wall time: 41.5 s\n"
          ]
        },
        {
          "output_type": "execute_result",
          "data": {
            "text/plain": [
              "DecisionTreeClassifier(random_state=0)"
            ]
          },
          "metadata": {},
          "execution_count": 35
        }
      ],
      "source": [
        "%%time\n",
        "tree.fit(X_train_preprocessed, y_train);"
      ]
    },
    {
      "cell_type": "code",
      "execution_count": 36,
      "metadata": {
        "id": "er40gzjIN2dV",
        "colab": {
          "base_uri": "https://localhost:8080/"
        },
        "outputId": "e2f41afa-0785-4b4c-9820-031dc10676c9"
      },
      "outputs": [
        {
          "output_type": "stream",
          "name": "stdout",
          "text": [
            "Порог перевода вероятностей в классы: 0.033708156968674276\n",
            "0.5204877305418407 - roc_auc на вероятностях\n",
            "\n",
            "0.52080171 - roc_auc\n",
            "0.93335000 - accuracy\n",
            "0.05183341 - precision\n",
            "0.08465804 - recall\n",
            "0.06429875 - f1\n",
            "\n",
            "prediction|   0.0    |   1.0    \n",
            "true label|          |          \n",
            "--------------------------------\n",
            "       0.0|    186212|      8378\n",
            "       1.0|      4952|       458\n"
          ]
        }
      ],
      "source": [
        "print_metrics(tree, X_valid_preprocessed, y_valid)"
      ]
    },
    {
      "cell_type": "markdown",
      "metadata": {
        "id": "ND_qC0SnPczC"
      },
      "source": [
        "Случайный лес"
      ]
    },
    {
      "cell_type": "code",
      "execution_count": 37,
      "metadata": {
        "id": "Ohu0p_RCPgUd"
      },
      "outputs": [],
      "source": [
        "forest = RandomForestClassifier(random_state=RANDOM_SEED)"
      ]
    },
    {
      "cell_type": "code",
      "execution_count": 38,
      "metadata": {
        "id": "X_NwrOzUPgQT",
        "colab": {
          "base_uri": "https://localhost:8080/"
        },
        "outputId": "e5287466-a41d-46b5-94e6-443302f2338a"
      },
      "outputs": [
        {
          "output_type": "stream",
          "name": "stdout",
          "text": [
            "CPU times: user 8min 4s, sys: 3.31 s, total: 8min 8s\n",
            "Wall time: 8min 12s\n"
          ]
        },
        {
          "output_type": "execute_result",
          "data": {
            "text/plain": [
              "RandomForestClassifier(random_state=0)"
            ]
          },
          "metadata": {},
          "execution_count": 38
        }
      ],
      "source": [
        "%%time\n",
        "forest.fit(X_train_preprocessed, y_train);"
      ]
    },
    {
      "cell_type": "code",
      "execution_count": 39,
      "metadata": {
        "id": "MbvfSLq2PdKb",
        "colab": {
          "base_uri": "https://localhost:8080/"
        },
        "outputId": "3017d9c4-6ae5-4e3b-ea2d-32ec684486f0"
      },
      "outputs": [
        {
          "output_type": "stream",
          "name": "stdout",
          "text": [
            "Порог перевода вероятностей в классы: 0.010218123817113232\n",
            "0.6253519433580381 - roc_auc на вероятностях\n",
            "\n",
            "0.59594638 - roc_auc\n",
            "0.59998000 - accuracy\n",
            "0.03952047 - precision\n",
            "0.59168207 - recall\n",
            "0.07409208 - f1\n",
            "\n",
            "prediction|   0.0    |   1.0    \n",
            "true label|          |          \n",
            "--------------------------------\n",
            "       0.0|    116795|     77795\n",
            "       1.0|      2209|      3201\n"
          ]
        }
      ],
      "source": [
        "print_metrics(forest, X_valid_preprocessed, y_valid)"
      ]
    },
    {
      "cell_type": "markdown",
      "metadata": {
        "id": "SJFfsUFc3B5b"
      },
      "source": [
        "Градиентный Бустинг"
      ]
    },
    {
      "cell_type": "code",
      "execution_count": 40,
      "metadata": {
        "id": "A12fP4saB4-e"
      },
      "outputs": [],
      "source": [
        "histboost = HistGradientBoostingClassifier(random_state=RANDOM_SEED)"
      ]
    },
    {
      "cell_type": "code",
      "execution_count": 41,
      "metadata": {
        "id": "vc9PzIjHDXVm",
        "colab": {
          "base_uri": "https://localhost:8080/"
        },
        "outputId": "48e8dcb1-bee1-46e6-9d22-5cc54bc73d0e"
      },
      "outputs": [
        {
          "output_type": "stream",
          "name": "stdout",
          "text": [
            "CPU times: user 1min 33s, sys: 632 ms, total: 1min 34s\n",
            "Wall time: 53.5 s\n"
          ]
        },
        {
          "output_type": "execute_result",
          "data": {
            "text/plain": [
              "HistGradientBoostingClassifier(random_state=0)"
            ]
          },
          "metadata": {},
          "execution_count": 41
        }
      ],
      "source": [
        "%%time\n",
        "histboost.fit(X_train_preprocessed, y_train);"
      ]
    },
    {
      "cell_type": "code",
      "execution_count": 42,
      "metadata": {
        "id": "rs88B_PzDfMF",
        "colab": {
          "base_uri": "https://localhost:8080/"
        },
        "outputId": "5c44e2e5-00fe-4b3b-eb7e-5ccf546af7b1"
      },
      "outputs": [
        {
          "output_type": "stream",
          "name": "stdout",
          "text": [
            "Порог перевода вероятностей в классы: 0.02822602984682529\n",
            "0.70696812360298 - roc_auc на вероятностях\n",
            "\n",
            "0.64682393 - roc_auc\n",
            "0.62957000 - accuracy\n",
            "0.04742197 - precision\n",
            "0.66506470 - recall\n",
            "0.08853129 - f1\n",
            "\n",
            "prediction|   0.0    |   1.0    \n",
            "true label|          |          \n",
            "--------------------------------\n",
            "       0.0|    122316|     72274\n",
            "       1.0|      1812|      3598\n"
          ]
        }
      ],
      "source": [
        "print_metrics(histboost, X_valid_preprocessed, y_valid)"
      ]
    },
    {
      "cell_type": "markdown",
      "metadata": {
        "id": "5vNwKUyjToUJ"
      },
      "source": [
        "CatBoost"
      ]
    },
    {
      "cell_type": "code",
      "execution_count": 43,
      "metadata": {
        "id": "SXMJDwsJgFw5"
      },
      "outputs": [],
      "source": [
        "catboost = CatBoostClassifier(\n",
        "    iterations=100, verbose=False, random_state=RANDOM_SEED)"
      ]
    },
    {
      "cell_type": "code",
      "execution_count": 44,
      "metadata": {
        "id": "miBsOhczge8L",
        "colab": {
          "base_uri": "https://localhost:8080/"
        },
        "outputId": "604417b4-e834-47a4-8c31-35470bf2fd62"
      },
      "outputs": [
        {
          "output_type": "stream",
          "name": "stdout",
          "text": [
            "CPU times: user 1min 3s, sys: 767 ms, total: 1min 4s\n",
            "Wall time: 33.5 s\n"
          ]
        },
        {
          "output_type": "execute_result",
          "data": {
            "text/plain": [
              "<catboost.core.CatBoostClassifier at 0x7f91b9cec890>"
            ]
          },
          "metadata": {},
          "execution_count": 44
        }
      ],
      "source": [
        "%%time\n",
        "catboost.fit(X_train_preprocessed, y_train);"
      ]
    },
    {
      "cell_type": "code",
      "execution_count": 45,
      "metadata": {
        "id": "YjePcwU2gj2D",
        "colab": {
          "base_uri": "https://localhost:8080/"
        },
        "outputId": "58cafbf0-6ed7-47a9-fe9a-e7e9d3530472"
      },
      "outputs": [
        {
          "output_type": "stream",
          "name": "stdout",
          "text": [
            "Порог перевода вероятностей в классы: 0.02483463079565137\n",
            "0.706237016756118 - roc_auc на вероятностях\n",
            "\n",
            "0.64842106 - roc_auc\n",
            "0.57463000 - accuracy\n",
            "0.04490197 - precision\n",
            "0.72643253 - recall\n",
            "0.08457615 - f1\n",
            "\n",
            "prediction|   0.0    |   1.0    \n",
            "true label|          |          \n",
            "--------------------------------\n",
            "       0.0|    110996|     83594\n",
            "       1.0|      1480|      3930\n"
          ]
        }
      ],
      "source": [
        "print_metrics(catboost, X_valid_preprocessed, y_valid)"
      ]
    },
    {
      "cell_type": "markdown",
      "metadata": {
        "id": "YujDtQJRZNtr"
      },
      "source": [
        "XGBoost"
      ]
    },
    {
      "cell_type": "code",
      "execution_count": 46,
      "metadata": {
        "id": "XQLRpwg6ZNts"
      },
      "outputs": [],
      "source": [
        "xgboost = XGBClassifier()"
      ]
    },
    {
      "cell_type": "code",
      "execution_count": 47,
      "metadata": {
        "id": "vP04Ay7mZNtt",
        "colab": {
          "base_uri": "https://localhost:8080/"
        },
        "outputId": "9dfb7ec5-b09f-4c5e-e20d-ed1bfef402cf"
      },
      "outputs": [
        {
          "output_type": "stream",
          "name": "stdout",
          "text": [
            "CPU times: user 4min 24s, sys: 1.78 s, total: 4min 26s\n",
            "Wall time: 4min 25s\n"
          ]
        },
        {
          "output_type": "execute_result",
          "data": {
            "text/plain": [
              "XGBClassifier()"
            ]
          },
          "metadata": {},
          "execution_count": 47
        }
      ],
      "source": [
        "%%time\n",
        "xgboost.fit(X_train_preprocessed.values, y_train.values);"
      ]
    },
    {
      "cell_type": "code",
      "execution_count": 48,
      "metadata": {
        "id": "ct7RtQdDZNtu",
        "colab": {
          "base_uri": "https://localhost:8080/"
        },
        "outputId": "3890feb7-22c8-4a9d-cf44-d6801438df14"
      },
      "outputs": [
        {
          "output_type": "stream",
          "name": "stdout",
          "text": [
            "Порог перевода вероятностей в классы: 0.030991801262137603\n",
            "0.6860580272147163 - roc_auc на вероятностях\n",
            "\n",
            "0.63026024 - roc_auc\n",
            "0.65154000 - accuracy\n",
            "0.04640266 - precision\n",
            "0.60776340 - recall\n",
            "0.08622227 - f1\n",
            "\n",
            "prediction|   0.0    |   1.0    \n",
            "true label|          |          \n",
            "--------------------------------\n",
            "       0.0|    127020|     67570\n",
            "       1.0|      2122|      3288\n"
          ]
        }
      ],
      "source": [
        "print_metrics(xgboost, X_valid_preprocessed.values, y_valid.values)"
      ]
    },
    {
      "cell_type": "markdown",
      "metadata": {
        "id": "UB6kxht3n16M"
      },
      "source": [
        "LGBMClassifier"
      ]
    },
    {
      "cell_type": "code",
      "execution_count": 49,
      "metadata": {
        "id": "jCi3bHfsn16O"
      },
      "outputs": [],
      "source": [
        "lightgbm = LGBMClassifier(random_state=RANDOM_SEED)"
      ]
    },
    {
      "cell_type": "code",
      "execution_count": 50,
      "metadata": {
        "id": "qwJwaO9Xn16P",
        "colab": {
          "base_uri": "https://localhost:8080/"
        },
        "outputId": "e959f569-0219-42e2-d009-4a689154d95a"
      },
      "outputs": [
        {
          "output_type": "stream",
          "name": "stdout",
          "text": [
            "CPU times: user 32.7 s, sys: 120 ms, total: 32.8 s\n",
            "Wall time: 32.7 s\n"
          ]
        },
        {
          "output_type": "execute_result",
          "data": {
            "text/plain": [
              "LGBMClassifier(random_state=0)"
            ]
          },
          "metadata": {},
          "execution_count": 50
        }
      ],
      "source": [
        "%%time\n",
        "lightgbm.fit(X_train_preprocessed, y_train);"
      ]
    },
    {
      "cell_type": "code",
      "execution_count": 51,
      "metadata": {
        "id": "t5bs-yUBn16Q",
        "colab": {
          "base_uri": "https://localhost:8080/"
        },
        "outputId": "2b377fa4-9664-46d9-bdf8-61679ea71c1f"
      },
      "outputs": [
        {
          "output_type": "stream",
          "name": "stdout",
          "text": [
            "Порог перевода вероятностей в классы: 0.02748186954550582\n",
            "0.7065616093708189 - roc_auc на вероятностях\n",
            "\n",
            "0.64728889 - roc_auc\n",
            "0.61351500 - accuracy\n",
            "0.04660873 - precision\n",
            "0.68299445 - recall\n",
            "0.08726251 - f1\n",
            "\n",
            "prediction|   0.0    |   1.0    \n",
            "true label|          |          \n",
            "--------------------------------\n",
            "       0.0|    119008|     75582\n",
            "       1.0|      1715|      3695\n"
          ]
        }
      ],
      "source": [
        "print_metrics(lightgbm, X_valid_preprocessed, y_valid)"
      ]
    },
    {
      "cell_type": "markdown",
      "metadata": {
        "id": "UqnvrGRY7wWC"
      },
      "source": [
        "### Оптимизация модели  \n",
        "\n",
        "Лучшей моделью является LightGBM по следующим причинам:\n",
        "+ Один из лучших показателей `roc_auc`.\n",
        "+ Быстрое обучение. \n",
        "+ Модель интерпретируема, то есть можно получить показатели важности признаков.\n",
        "+ Может предсказывать вероятность класса.\n",
        "+ Нет проблем с процессорами без SSE4 как у CatBoost.\n",
        "\n",
        "Будем оптимизировать гиперпараметры как модели, так и конвейера подготовки данных. GridSearchCV занимает очень большое количество времени, поэтому проведено множество экспериментов вручную для нахождения лучших гиперпараметров."
      ]
    },
    {
      "cell_type": "code",
      "execution_count": 77,
      "metadata": {
        "id": "JWVR-muRJ77Y"
      },
      "outputs": [],
      "source": [
        "final_pipeline = Pipeline(steps=[\n",
        "\n",
        "    # Создание дополнительных признаков и\n",
        "    # Приведение датафрейма к удобному виду \n",
        "    ('indexer', FunctionTransformer(set_index)), \n",
        "    ('imputer', FunctionTransformer(fill_missings)), \n",
        "    ('engineer', FunctionTransformer(create_features)), \n",
        "    ('dropper', DropFeatures(['client_id', 'visit_date', 'visit_time', \n",
        "                              'device_screen_resolution'])), \n",
        "\n",
        "    # Преобразования численных переменных\n",
        "    ('normalization', YeoJohnsonTransformer()), \n",
        "    ('outlier_remover', Winsorizer()), \n",
        "    ('scaler', SklearnTransformerWrapper(StandardScaler())), \n",
        "\n",
        "    # Преобразования категориальных признаков\n",
        "    ('rare_encoder', RareLabelEncoder(tol=0.05, replace_with='rare')),\n",
        "    ('onehot_encoder', OneHotEncoder(drop_last_binary=True)), \n",
        "    ('bool_converter', FunctionTransformer(converse_types)), \n",
        "\n",
        "    # Удаление дубликатов и коррелируемых признаков\n",
        "    ('constant_dropper', DropConstantFeatures(tol=0.99)), \n",
        "    ('duplicated_dropper', DropDuplicateFeatures()), \n",
        "    ('correlated_dropper', DropCorrelatedFeatures(threshold=0.95)), \n",
        "\n",
        "    # Лучшая модель с оптимизированными гиперпараметрами\n",
        "    ('model', LGBMClassifier(\n",
        "        n_estimators=800, learning_rate=0.07, reg_lambda=10, num_leaves=26,\n",
        "        reg_alpha=10, boosting_type='goss', random_state=RANDOM_SEED)), \n",
        "    \n",
        "])"
      ]
    },
    {
      "cell_type": "code",
      "execution_count": 78,
      "metadata": {
        "id": "Ef1T9LmcpW7e"
      },
      "outputs": [],
      "source": [
        "final_pipeline.fit(X_train, y_train);"
      ]
    },
    {
      "cell_type": "code",
      "execution_count": 79,
      "metadata": {
        "colab": {
          "base_uri": "https://localhost:8080/"
        },
        "id": "oWLZpOOxUEyd",
        "outputId": "7ffb0ae4-9706-49b3-8d4b-3c3a2a29644f"
      },
      "outputs": [
        {
          "output_type": "stream",
          "name": "stdout",
          "text": [
            "Метрики оптимизированной модели на валидационных данных:\n",
            "Порог перевода вероятностей в классы: 0.02644111810424645\n",
            "0.7142453372981288 - roc_auc на вероятностях\n",
            "\n",
            "0.65238057 - roc_auc\n",
            "0.60996000 - accuracy\n",
            "0.04706646 - precision\n",
            "0.69722736 - recall\n",
            "0.08818029 - f1\n",
            "\n",
            "prediction|   0.0    |   1.0    \n",
            "true label|          |          \n",
            "--------------------------------\n",
            "       0.0|    118220|     76370\n",
            "       1.0|      1638|      3772\n"
          ]
        }
      ],
      "source": [
        "print('Метрики оптимизированной модели на валидационных данных:')\n",
        "print_metrics(final_pipeline, X_valid, y_valid)"
      ]
    },
    {
      "cell_type": "markdown",
      "metadata": {
        "id": "n-mXUuF72-6z"
      },
      "source": [
        "## Оценка модели"
      ]
    },
    {
      "cell_type": "markdown",
      "metadata": {
        "id": "oafZ3oICgABQ"
      },
      "source": [
        "### Метрики модели\n",
        "\n",
        "Для оценки метрик модели обучим её на объектах тренировочной и валидационной выборках и сделаем предсказания на тестовых данных. \n",
        "\n",
        "Целевая метрика `roc-auc=0.6535` (для пресказанных классов) выбранной модели превосходит 0.65, а значит, цель работы выполнена.\n",
        "\n",
        "Хотя метрика `f1=0.0871` довольно низкая, что неудивительно при большом количестве неверно классиифцированных объектов нулевого класса.\n",
        "\n",
        "У модели не наблюдается переобучение."
      ]
    },
    {
      "cell_type": "code",
      "execution_count": 55,
      "metadata": {
        "id": "5PrafZ4L3Xnj"
      },
      "outputs": [],
      "source": [
        "final_pipeline.fit(X, y);"
      ]
    },
    {
      "cell_type": "code",
      "execution_count": 56,
      "metadata": {
        "id": "Y3sbdVdEUgw0",
        "colab": {
          "base_uri": "https://localhost:8080/"
        },
        "outputId": "09f34ee2-bce8-4f8c-fd50-f37948a9c076"
      },
      "outputs": [
        {
          "output_type": "stream",
          "name": "stdout",
          "text": [
            "Лучший порог перевода вероятностей в класс: 0.025744147983880847\n"
          ]
        }
      ],
      "source": [
        "test_proba = final_pipeline.predict_proba(X_test)[:, 1]\n",
        "best_threshold = find_best_threshold(y_test, test_proba)\n",
        "test_prediction = (test_proba > best_threshold).astype(int)\n",
        "\n",
        "print(f'Лучший порог перевода вероятностей в класс: {best_threshold}')"
      ]
    },
    {
      "cell_type": "code",
      "execution_count": 57,
      "metadata": {
        "id": "OMPFEzUXUgtP",
        "colab": {
          "base_uri": "https://localhost:8080/"
        },
        "outputId": "487899a4-ff1a-47c0-a5c7-c8585a35d1e1"
      },
      "outputs": [
        {
          "output_type": "stream",
          "name": "stdout",
          "text": [
            "Метрики лучшей модели на обучающей выборке:\n",
            "Порог перевода вероятностей в классы: 0.025744147983880847\n",
            "0.7418431169043894 - roc_auc на вероятностях\n",
            "\n",
            "0.67197621 - roc_auc\n",
            "0.59690960 - accuracy\n",
            "0.04877414 - precision\n",
            "0.75133618 - recall\n",
            "0.09160181 - f1\n",
            "\n",
            "prediction|   0.0    |   1.0    \n",
            "true label|          |          \n",
            "--------------------------------\n",
            "       0.0|    957157|    657981\n",
            "       1.0|     11166|     33738\n"
          ]
        }
      ],
      "source": [
        "print(f'Метрики лучшей модели на обучающей выборке:')\n",
        "print_metrics(final_pipeline, X, y, best_threshold)"
      ]
    },
    {
      "cell_type": "code",
      "execution_count": 58,
      "metadata": {
        "id": "QoGbh-kvJ5rI",
        "colab": {
          "base_uri": "https://localhost:8080/",
          "height": 589
        },
        "outputId": "126a52f4-9341-49a7-f836-693a55cc23ab"
      },
      "outputs": [
        {
          "output_type": "stream",
          "name": "stdout",
          "text": [
            "Метрики лучшей модели на тестовой выборке:\n",
            "Порог перевода вероятностей в классы: 0.025744147983880847\n",
            "0.7148069233011747 - roc_auc на вероятностях\n",
            "\n",
            "0.65352572 - roc_auc\n",
            "0.59365500 - accuracy\n",
            "0.04637924 - precision\n",
            "0.71682070 - recall\n",
            "0.08712160 - f1\n",
            "\n",
            "prediction|   0.0    |   1.0    \n",
            "true label|          |          \n",
            "--------------------------------\n",
            "       0.0|    114853|     79737\n",
            "       1.0|      1532|      3878\n",
            "\n"
          ]
        },
        {
          "output_type": "display_data",
          "data": {
            "text/plain": [
              "<Figure size 504x288 with 1 Axes>"
            ],
            "image/png": "[encoded data removed]"
          },
          "metadata": {
            "needs_background": "light"
          }
        }
      ],
      "source": [
        "print(f'Метрики лучшей модели на тестовой выборке:')\n",
        "print_metrics(\n",
        "    final_pipeline, X_test, y_test, best_threshold, show_roc_curve=True)"
      ]
    },
    {
      "cell_type": "markdown",
      "metadata": {
        "id": "rmqEm1P2nT94"
      },
      "source": [
        "### Обучение на всех данных\n",
        "\n",
        "Для анализа обработки данных и важности признаков разобъём финальный конвейер на препроцессор и модель и обучим их на всех данных. А перед сохранением модели объединим обратно."
      ]
    },
    {
      "cell_type": "code",
      "execution_count": 59,
      "metadata": {
        "id": "40ri9TC6MbLJ"
      },
      "outputs": [],
      "source": [
        "final_model = final_pipeline.named_steps['model']\n",
        "final_preprocessor = final_pipeline.set_params(model=None)"
      ]
    },
    {
      "cell_type": "code",
      "execution_count": 60,
      "metadata": {
        "id": "Zb-xUv8GzPtR"
      },
      "outputs": [],
      "source": [
        "sessions_preprocessed = final_preprocessor.fit_transform(sessions)"
      ]
    },
    {
      "cell_type": "code",
      "execution_count": 61,
      "metadata": {
        "id": "-kdJDViDVV6B"
      },
      "outputs": [],
      "source": [
        "final_model.fit(sessions_preprocessed, target);"
      ]
    },
    {
      "cell_type": "markdown",
      "metadata": {
        "id": "nAkkyr8O4wjG"
      },
      "source": [
        "### Анализ обработки данных\n",
        "\n",
        "В итоге всех преобразований получается 67 признаков, при том, что ещё 8 признаков были удалены из-за корреляций и т.п..\n",
        "\n",
        "Датасет имеет 175 787 дубликатов, но как показали эксперименты, удаление дубликатов из тренировочной выборки ведёт к небольшому ухудшению метрик. \n",
        "\n",
        "Признаков, коррелируемых с целевой переменной, нет."
      ]
    },
    {
      "cell_type": "code",
      "execution_count": 62,
      "metadata": {
        "colab": {
          "base_uri": "https://localhost:8080/",
          "height": 319
        },
        "id": "O08IthBdYwd2",
        "outputId": "12923c25-129e-442a-bf3a-a372eeffa321"
      },
      "outputs": [
        {
          "output_type": "execute_result",
          "data": {
            "text/plain": [
              "                                           visit_number  \\\n",
              "session_id                                                \n",
              "9055434745589932991.1637753792.1637753792     -0.585990   \n",
              "905544597018549464.1636867290.1636867290      -0.585990   \n",
              "9055446045651783499.1640648526.1640648526     -0.585990   \n",
              "9055447046360770272.1622255328.1622255328     -0.585990   \n",
              "9055447046360770272.1622255345.1622255345      1.373905   \n",
              "\n",
              "                                           visit_date_added_holiday  \\\n",
              "session_id                                                            \n",
              "9055434745589932991.1637753792.1637753792                       0.0   \n",
              "905544597018549464.1636867290.1636867290                        0.0   \n",
              "9055446045651783499.1640648526.1640648526                       0.0   \n",
              "9055447046360770272.1622255328.1622255328                       0.0   \n",
              "9055447046360770272.1622255345.1622255345                       0.0   \n",
              "\n",
              "                                           visit_date_weekday  \\\n",
              "session_id                                                      \n",
              "9055434745589932991.1637753792.1637753792           -0.311302   \n",
              "905544597018549464.1636867290.1636867290             1.485929   \n",
              "9055446045651783499.1640648526.1640648526           -0.877065   \n",
              "9055447046360770272.1622255328.1622255328            1.084097   \n",
              "9055447046360770272.1622255345.1622255345            1.084097   \n",
              "\n",
              "                                           visit_date_weekend  visit_date_day  \\\n",
              "session_id                                                                      \n",
              "9055434745589932991.1637753792.1637753792                 0.0        0.803575   \n",
              "905544597018549464.1636867290.1636867290                  1.0       -0.307346   \n",
              "9055446045651783499.1640648526.1640648526                 0.0        1.234404   \n",
              "9055447046360770272.1622255328.1622255328                 1.0        1.341147   \n",
              "9055447046360770272.1622255345.1622255345                 1.0        1.341147   \n",
              "\n",
              "                                           visit_time_hour  visit_time_minute  \\\n",
              "session_id                                                                      \n",
              "9055434745589932991.1637753792.1637753792         0.014750           1.339048   \n",
              "905544597018549464.1636867290.1636867290         -0.957672           1.163018   \n",
              "9055446045651783499.1640648526.1640648526        -1.803240           1.382257   \n",
              "9055447046360770272.1622255328.1622255328        -1.400897          -0.822162   \n",
              "9055447046360770272.1622255345.1622255345        -1.400897          -0.822162   \n",
              "\n",
              "                                           visit_time_night  \\\n",
              "session_id                                                    \n",
              "9055434745589932991.1637753792.1637753792               0.0   \n",
              "905544597018549464.1636867290.1636867290                1.0   \n",
              "9055446045651783499.1640648526.1640648526               1.0   \n",
              "9055447046360770272.1622255328.1622255328               1.0   \n",
              "9055447046360770272.1622255345.1622255345               1.0   \n",
              "\n",
              "                                           utm_medium_added_is_organic  \\\n",
              "session_id                                                               \n",
              "9055434745589932991.1637753792.1637753792                          0.0   \n",
              "905544597018549464.1636867290.1636867290                           0.0   \n",
              "9055446045651783499.1640648526.1640648526                          0.0   \n",
              "9055447046360770272.1622255328.1622255328                          0.0   \n",
              "9055447046360770272.1622255345.1622255345                          0.0   \n",
              "\n",
              "                                           utm_source_added_is_social  \\\n",
              "session_id                                                              \n",
              "9055434745589932991.1637753792.1637753792                         0.0   \n",
              "905544597018549464.1636867290.1636867290                          1.0   \n",
              "9055446045651783499.1640648526.1640648526                         0.0   \n",
              "9055447046360770272.1622255328.1622255328                         0.0   \n",
              "9055447046360770272.1622255345.1622255345                         0.0   \n",
              "\n",
              "                                           device_screen_resolution_width  \\\n",
              "session_id                                                                  \n",
              "9055434745589932991.1637753792.1637753792                       -0.829017   \n",
              "905544597018549464.1636867290.1636867290                        -0.447866   \n",
              "9055446045651783499.1640648526.1640648526                       -0.829017   \n",
              "9055447046360770272.1622255328.1622255328                       -0.342270   \n",
              "9055447046360770272.1622255345.1622255345                       -0.342270   \n",
              "\n",
              "                                           device_screen_resolution_height  \\\n",
              "session_id                                                                   \n",
              "9055434745589932991.1637753792.1637753792                        -0.686586   \n",
              "905544597018549464.1636867290.1636867290                          0.183252   \n",
              "9055446045651783499.1640648526.1640648526                        -0.686586   \n",
              "9055447046360770272.1622255328.1622255328                        -0.242671   \n",
              "9055447046360770272.1622255345.1622255345                        -0.242671   \n",
              "\n",
              "                                           device_screen_resolution_ratio  \\\n",
              "session_id                                                                  \n",
              "9055434745589932991.1637753792.1637753792                       -0.311484   \n",
              "905544597018549464.1636867290.1636867290                        -0.789287   \n",
              "9055446045651783499.1640648526.1640648526                       -0.311484   \n",
              "9055447046360770272.1622255328.1622255328                       -0.311484   \n",
              "9055447046360770272.1622255345.1622255345                       -0.311484   \n",
              "\n",
              "                                           device_screen_resolution_ratio_greater_1  \\\n",
              "session_id                                                                            \n",
              "9055434745589932991.1637753792.1637753792                                       0.0   \n",
              "905544597018549464.1636867290.1636867290                                        0.0   \n",
              "9055446045651783499.1640648526.1640648526                                       0.0   \n",
              "9055447046360770272.1622255328.1622255328                                       0.0   \n",
              "9055447046360770272.1622255345.1622255345                                       0.0   \n",
              "\n",
              "                                           geo_city_added_is_moscow_region  \\\n",
              "session_id                                                                   \n",
              "9055434745589932991.1637753792.1637753792                              0.0   \n",
              "905544597018549464.1636867290.1636867290                               0.0   \n",
              "9055446045651783499.1640648526.1640648526                              0.0   \n",
              "9055447046360770272.1622255328.1622255328                              0.0   \n",
              "9055447046360770272.1622255345.1622255345                              0.0   \n",
              "\n",
              "                                           geo_city_added_is_big  \\\n",
              "session_id                                                         \n",
              "9055434745589932991.1637753792.1637753792                    0.0   \n",
              "905544597018549464.1636867290.1636867290                     1.0   \n",
              "9055446045651783499.1640648526.1640648526                    1.0   \n",
              "9055447046360770272.1622255328.1622255328                    1.0   \n",
              "9055447046360770272.1622255345.1622255345                    1.0   \n",
              "\n",
              "                                           geo_city_is_big_or_in_moscow_region  \\\n",
              "session_id                                                                       \n",
              "9055434745589932991.1637753792.1637753792                                  0.0   \n",
              "905544597018549464.1636867290.1636867290                                   1.0   \n",
              "9055446045651783499.1640648526.1640648526                                  1.0   \n",
              "9055447046360770272.1622255328.1622255328                                  1.0   \n",
              "9055447046360770272.1622255345.1622255345                                  1.0   \n",
              "\n",
              "                                           geo_city_added_distance_from_moscow  \\\n",
              "session_id                                                                       \n",
              "9055434745589932991.1637753792.1637753792                             1.193088   \n",
              "905544597018549464.1636867290.1636867290                             -0.885489   \n",
              "9055446045651783499.1640648526.1640648526                             1.407094   \n",
              "9055447046360770272.1622255328.1622255328                            -0.885489   \n",
              "9055447046360770272.1622255345.1622255345                            -0.885489   \n",
              "\n",
              "                                           utm_source_ZpYIoDJMcFzVoPFsHGJL  \\\n",
              "session_id                                                                   \n",
              "9055434745589932991.1637753792.1637753792                              1.0   \n",
              "905544597018549464.1636867290.1636867290                               0.0   \n",
              "9055446045651783499.1640648526.1640648526                              1.0   \n",
              "9055447046360770272.1622255328.1622255328                              0.0   \n",
              "9055447046360770272.1622255345.1622255345                              0.0   \n",
              "\n",
              "                                           utm_source_MvfHsxITijuriZxsqZqt  \\\n",
              "session_id                                                                   \n",
              "9055434745589932991.1637753792.1637753792                              0.0   \n",
              "905544597018549464.1636867290.1636867290                               1.0   \n",
              "9055446045651783499.1640648526.1640648526                              0.0   \n",
              "9055447046360770272.1622255328.1622255328                              0.0   \n",
              "9055447046360770272.1622255345.1622255345                              0.0   \n",
              "\n",
              "                                           utm_source_kjsLglQLzykiRbcDiGcD  \\\n",
              "session_id                                                                   \n",
              "9055434745589932991.1637753792.1637753792                              0.0   \n",
              "905544597018549464.1636867290.1636867290                               0.0   \n",
              "9055446045651783499.1640648526.1640648526                              0.0   \n",
              "9055447046360770272.1622255328.1622255328                              1.0   \n",
              "9055447046360770272.1622255345.1622255345                              1.0   \n",
              "\n",
              "                                           utm_source_rare  \\\n",
              "session_id                                                   \n",
              "9055434745589932991.1637753792.1637753792              0.0   \n",
              "905544597018549464.1636867290.1636867290               0.0   \n",
              "9055446045651783499.1640648526.1640648526              0.0   \n",
              "9055447046360770272.1622255328.1622255328              0.0   \n",
              "9055447046360770272.1622255345.1622255345              0.0   \n",
              "\n",
              "                                           utm_source_fDLlAcSmythWSCVMvqvL  \\\n",
              "session_id                                                                   \n",
              "9055434745589932991.1637753792.1637753792                              0.0   \n",
              "905544597018549464.1636867290.1636867290                               0.0   \n",
              "9055446045651783499.1640648526.1640648526                              0.0   \n",
              "9055447046360770272.1622255328.1622255328                              0.0   \n",
              "9055447046360770272.1622255345.1622255345                              0.0   \n",
              "\n",
              "                                           utm_source_BHcvLfOaCWvWTykYqHVe  \\\n",
              "session_id                                                                   \n",
              "9055434745589932991.1637753792.1637753792                              0.0   \n",
              "905544597018549464.1636867290.1636867290                               0.0   \n",
              "9055446045651783499.1640648526.1640648526                              0.0   \n",
              "9055447046360770272.1622255328.1622255328                              0.0   \n",
              "9055447046360770272.1622255345.1622255345                              0.0   \n",
              "\n",
              "                                           utm_source_bByPQxmDaMXgpHeypKSM  \\\n",
              "session_id                                                                   \n",
              "9055434745589932991.1637753792.1637753792                              0.0   \n",
              "905544597018549464.1636867290.1636867290                               0.0   \n",
              "9055446045651783499.1640648526.1640648526                              0.0   \n",
              "9055447046360770272.1622255328.1622255328                              0.0   \n",
              "9055447046360770272.1622255345.1622255345                              0.0   \n",
              "\n",
              "                                           utm_medium_banner  utm_medium_cpm  \\\n",
              "session_id                                                                     \n",
              "9055434745589932991.1637753792.1637753792                1.0             0.0   \n",
              "905544597018549464.1636867290.1636867290                 0.0             1.0   \n",
              "9055446045651783499.1640648526.1640648526                1.0             0.0   \n",
              "9055447046360770272.1622255328.1622255328                0.0             0.0   \n",
              "9055447046360770272.1622255345.1622255345                0.0             0.0   \n",
              "\n",
              "                                           utm_medium_cpc  utm_medium_rare  \\\n",
              "session_id                                                                   \n",
              "9055434745589932991.1637753792.1637753792             0.0              0.0   \n",
              "905544597018549464.1636867290.1636867290              0.0              0.0   \n",
              "9055446045651783499.1640648526.1640648526             0.0              0.0   \n",
              "9055447046360770272.1622255328.1622255328             1.0              0.0   \n",
              "9055447046360770272.1622255345.1622255345             1.0              0.0   \n",
              "\n",
              "                                           utm_medium_referral  \\\n",
              "session_id                                                       \n",
              "9055434745589932991.1637753792.1637753792                  0.0   \n",
              "905544597018549464.1636867290.1636867290                   0.0   \n",
              "9055446045651783499.1640648526.1640648526                  0.0   \n",
              "9055447046360770272.1622255328.1622255328                  0.0   \n",
              "9055447046360770272.1622255345.1622255345                  0.0   \n",
              "\n",
              "                                           utm_campaign_LEoPHuyFvzoNfnzGgfcd  \\\n",
              "session_id                                                                     \n",
              "9055434745589932991.1637753792.1637753792                                1.0   \n",
              "905544597018549464.1636867290.1636867290                                 0.0   \n",
              "9055446045651783499.1640648526.1640648526                                1.0   \n",
              "9055447046360770272.1622255328.1622255328                                0.0   \n",
              "9055447046360770272.1622255345.1622255345                                0.0   \n",
              "\n",
              "                                           utm_campaign_FTjNLDyTrXaWYgZymFkV  \\\n",
              "session_id                                                                     \n",
              "9055434745589932991.1637753792.1637753792                                0.0   \n",
              "905544597018549464.1636867290.1636867290                                 1.0   \n",
              "9055446045651783499.1640648526.1640648526                                0.0   \n",
              "9055447046360770272.1622255328.1622255328                                0.0   \n",
              "9055447046360770272.1622255345.1622255345                                0.0   \n",
              "\n",
              "                                           utm_campaign_(nan)  \\\n",
              "session_id                                                      \n",
              "9055434745589932991.1637753792.1637753792                 0.0   \n",
              "905544597018549464.1636867290.1636867290                  0.0   \n",
              "9055446045651783499.1640648526.1640648526                 0.0   \n",
              "9055447046360770272.1622255328.1622255328                 1.0   \n",
              "9055447046360770272.1622255345.1622255345                 1.0   \n",
              "\n",
              "                                           utm_campaign_LTuZkdKfxRGVceoWkVyg  \\\n",
              "session_id                                                                     \n",
              "9055434745589932991.1637753792.1637753792                                0.0   \n",
              "905544597018549464.1636867290.1636867290                                 0.0   \n",
              "9055446045651783499.1640648526.1640648526                                0.0   \n",
              "9055447046360770272.1622255328.1622255328                                0.0   \n",
              "9055447046360770272.1622255345.1622255345                                0.0   \n",
              "\n",
              "                                           utm_campaign_gecBYcKZCPMcVYdSSzKP  \\\n",
              "session_id                                                                     \n",
              "9055434745589932991.1637753792.1637753792                                0.0   \n",
              "905544597018549464.1636867290.1636867290                                 0.0   \n",
              "9055446045651783499.1640648526.1640648526                                0.0   \n",
              "9055447046360770272.1622255328.1622255328                                0.0   \n",
              "9055447046360770272.1622255345.1622255345                                0.0   \n",
              "\n",
              "                                           utm_campaign_rare  \\\n",
              "session_id                                                     \n",
              "9055434745589932991.1637753792.1637753792                0.0   \n",
              "905544597018549464.1636867290.1636867290                 0.0   \n",
              "9055446045651783499.1640648526.1640648526                0.0   \n",
              "9055447046360770272.1622255328.1622255328                0.0   \n",
              "9055447046360770272.1622255345.1622255345                0.0   \n",
              "\n",
              "                                           utm_adcontent_vCIpmpaGBnIQhyYNkXqp  \\\n",
              "session_id                                                                      \n",
              "9055434745589932991.1637753792.1637753792                                 1.0   \n",
              "905544597018549464.1636867290.1636867290                                  0.0   \n",
              "9055446045651783499.1640648526.1640648526                                 1.0   \n",
              "9055447046360770272.1622255328.1622255328                                 0.0   \n",
              "9055447046360770272.1622255345.1622255345                                 0.0   \n",
              "\n",
              "                                           utm_adcontent_xhoenQgDQsgfEPYNPwKO  \\\n",
              "session_id                                                                      \n",
              "9055434745589932991.1637753792.1637753792                                 0.0   \n",
              "905544597018549464.1636867290.1636867290                                  1.0   \n",
              "9055446045651783499.1640648526.1640648526                                 0.0   \n",
              "9055447046360770272.1622255328.1622255328                                 0.0   \n",
              "9055447046360770272.1622255345.1622255345                                 0.0   \n",
              "\n",
              "                                           utm_adcontent_rare  \\\n",
              "session_id                                                      \n",
              "9055434745589932991.1637753792.1637753792                 0.0   \n",
              "905544597018549464.1636867290.1636867290                  0.0   \n",
              "9055446045651783499.1640648526.1640648526                 0.0   \n",
              "9055447046360770272.1622255328.1622255328                 1.0   \n",
              "9055447046360770272.1622255345.1622255345                 0.0   \n",
              "\n",
              "                                           utm_adcontent_(nan)  \\\n",
              "session_id                                                       \n",
              "9055434745589932991.1637753792.1637753792                  0.0   \n",
              "905544597018549464.1636867290.1636867290                   0.0   \n",
              "9055446045651783499.1640648526.1640648526                  0.0   \n",
              "9055447046360770272.1622255328.1622255328                  0.0   \n",
              "9055447046360770272.1622255345.1622255345                  1.0   \n",
              "\n",
              "                                           utm_adcontent_JNHcPlZPxEMWDnRiyoBf  \\\n",
              "session_id                                                                      \n",
              "9055434745589932991.1637753792.1637753792                                 0.0   \n",
              "905544597018549464.1636867290.1636867290                                  0.0   \n",
              "9055446045651783499.1640648526.1640648526                                 0.0   \n",
              "9055447046360770272.1622255328.1622255328                                 0.0   \n",
              "9055447046360770272.1622255345.1622255345                                 0.0   \n",
              "\n",
              "                                           utm_keyword_puhZPIYqKXeFPaUviSjo  \\\n",
              "session_id                                                                    \n",
              "9055434745589932991.1637753792.1637753792                               1.0   \n",
              "905544597018549464.1636867290.1636867290                                0.0   \n",
              "9055446045651783499.1640648526.1640648526                               1.0   \n",
              "9055447046360770272.1622255328.1622255328                               0.0   \n",
              "9055447046360770272.1622255345.1622255345                               0.0   \n",
              "\n",
              "                                           utm_keyword_rare  \\\n",
              "session_id                                                    \n",
              "9055434745589932991.1637753792.1637753792               0.0   \n",
              "905544597018549464.1636867290.1636867290                1.0   \n",
              "9055446045651783499.1640648526.1640648526               0.0   \n",
              "9055447046360770272.1622255328.1622255328               0.0   \n",
              "9055447046360770272.1622255345.1622255345               0.0   \n",
              "\n",
              "                                           utm_keyword_(nan)  \\\n",
              "session_id                                                     \n",
              "9055434745589932991.1637753792.1637753792                0.0   \n",
              "905544597018549464.1636867290.1636867290                 0.0   \n",
              "9055446045651783499.1640648526.1640648526                0.0   \n",
              "9055447046360770272.1622255328.1622255328                1.0   \n",
              "9055447046360770272.1622255345.1622255345                1.0   \n",
              "\n",
              "                                           device_category_mobile  \\\n",
              "session_id                                                          \n",
              "9055434745589932991.1637753792.1637753792                     1.0   \n",
              "905544597018549464.1636867290.1636867290                      1.0   \n",
              "9055446045651783499.1640648526.1640648526                     1.0   \n",
              "9055447046360770272.1622255328.1622255328                     1.0   \n",
              "9055447046360770272.1622255345.1622255345                     1.0   \n",
              "\n",
              "                                           device_os_Android  device_os_iOS  \\\n",
              "session_id                                                                    \n",
              "9055434745589932991.1637753792.1637753792                1.0            0.0   \n",
              "905544597018549464.1636867290.1636867290                 1.0            0.0   \n",
              "9055446045651783499.1640648526.1640648526                1.0            0.0   \n",
              "9055447046360770272.1622255328.1622255328                0.0            0.0   \n",
              "9055447046360770272.1622255345.1622255345                0.0            0.0   \n",
              "\n",
              "                                           device_os_rare  \\\n",
              "session_id                                                  \n",
              "9055434745589932991.1637753792.1637753792             0.0   \n",
              "905544597018549464.1636867290.1636867290              0.0   \n",
              "9055446045651783499.1640648526.1640648526             0.0   \n",
              "9055447046360770272.1622255328.1622255328             0.0   \n",
              "9055447046360770272.1622255345.1622255345             0.0   \n",
              "\n",
              "                                           device_brand_Huawei  \\\n",
              "session_id                                                       \n",
              "9055434745589932991.1637753792.1637753792                  1.0   \n",
              "905544597018549464.1636867290.1636867290                   0.0   \n",
              "9055446045651783499.1640648526.1640648526                  1.0   \n",
              "9055447046360770272.1622255328.1622255328                  0.0   \n",
              "9055447046360770272.1622255345.1622255345                  0.0   \n",
              "\n",
              "                                           device_brand_Samsung  \\\n",
              "session_id                                                        \n",
              "9055434745589932991.1637753792.1637753792                   0.0   \n",
              "905544597018549464.1636867290.1636867290                    1.0   \n",
              "9055446045651783499.1640648526.1640648526                   0.0   \n",
              "9055447046360770272.1622255328.1622255328                   0.0   \n",
              "9055447046360770272.1622255345.1622255345                   0.0   \n",
              "\n",
              "                                           device_brand_Xiaomi  \\\n",
              "session_id                                                       \n",
              "9055434745589932991.1637753792.1637753792                  0.0   \n",
              "905544597018549464.1636867290.1636867290                   0.0   \n",
              "9055446045651783499.1640648526.1640648526                  0.0   \n",
              "9055447046360770272.1622255328.1622255328                  1.0   \n",
              "9055447046360770272.1622255345.1622255345                  1.0   \n",
              "\n",
              "                                           device_brand_Apple  \\\n",
              "session_id                                                      \n",
              "9055434745589932991.1637753792.1637753792                 0.0   \n",
              "905544597018549464.1636867290.1636867290                  0.0   \n",
              "9055446045651783499.1640648526.1640648526                 0.0   \n",
              "9055447046360770272.1622255328.1622255328                 0.0   \n",
              "9055447046360770272.1622255345.1622255345                 0.0   \n",
              "\n",
              "                                           device_brand_rare  \\\n",
              "session_id                                                     \n",
              "9055434745589932991.1637753792.1637753792                0.0   \n",
              "905544597018549464.1636867290.1636867290                 0.0   \n",
              "9055446045651783499.1640648526.1640648526                0.0   \n",
              "9055447046360770272.1622255328.1622255328                0.0   \n",
              "9055447046360770272.1622255345.1622255345                0.0   \n",
              "\n",
              "                                           device_browser_Chrome  \\\n",
              "session_id                                                         \n",
              "9055434745589932991.1637753792.1637753792                    1.0   \n",
              "905544597018549464.1636867290.1636867290                     0.0   \n",
              "9055446045651783499.1640648526.1640648526                    1.0   \n",
              "9055447046360770272.1622255328.1622255328                    1.0   \n",
              "9055447046360770272.1622255345.1622255345                    1.0   \n",
              "\n",
              "                                           device_browser_rare  \\\n",
              "session_id                                                       \n",
              "9055434745589932991.1637753792.1637753792                  0.0   \n",
              "905544597018549464.1636867290.1636867290                   1.0   \n",
              "9055446045651783499.1640648526.1640648526                  0.0   \n",
              "9055447046360770272.1622255328.1622255328                  0.0   \n",
              "9055447046360770272.1622255345.1622255345                  0.0   \n",
              "\n",
              "                                           device_browser_Safari  \\\n",
              "session_id                                                         \n",
              "9055434745589932991.1637753792.1637753792                    0.0   \n",
              "905544597018549464.1636867290.1636867290                     0.0   \n",
              "9055446045651783499.1640648526.1640648526                    0.0   \n",
              "9055447046360770272.1622255328.1622255328                    0.0   \n",
              "9055447046360770272.1622255345.1622255345                    0.0   \n",
              "\n",
              "                                           device_browser_YaBrowser  \\\n",
              "session_id                                                            \n",
              "9055434745589932991.1637753792.1637753792                       0.0   \n",
              "905544597018549464.1636867290.1636867290                        0.0   \n",
              "9055446045651783499.1640648526.1640648526                       0.0   \n",
              "9055447046360770272.1622255328.1622255328                       0.0   \n",
              "9055447046360770272.1622255345.1622255345                       0.0   \n",
              "\n",
              "                                           geo_country_Russia  geo_city_rare  \\\n",
              "session_id                                                                     \n",
              "9055434745589932991.1637753792.1637753792                 1.0            1.0   \n",
              "905544597018549464.1636867290.1636867290                  1.0            0.0   \n",
              "9055446045651783499.1640648526.1640648526                 1.0            1.0   \n",
              "9055447046360770272.1622255328.1622255328                 1.0            0.0   \n",
              "9055447046360770272.1622255345.1622255345                 1.0            0.0   \n",
              "\n",
              "                                           geo_city_Moscow  \\\n",
              "session_id                                                   \n",
              "9055434745589932991.1637753792.1637753792              0.0   \n",
              "905544597018549464.1636867290.1636867290               1.0   \n",
              "9055446045651783499.1640648526.1640648526              0.0   \n",
              "9055447046360770272.1622255328.1622255328              1.0   \n",
              "9055447046360770272.1622255345.1622255345              1.0   \n",
              "\n",
              "                                           geo_city_Saint Petersburg  \\\n",
              "session_id                                                             \n",
              "9055434745589932991.1637753792.1637753792                        0.0   \n",
              "905544597018549464.1636867290.1636867290                         0.0   \n",
              "9055446045651783499.1640648526.1640648526                        0.0   \n",
              "9055447046360770272.1622255328.1622255328                        0.0   \n",
              "9055447046360770272.1622255345.1622255345                        0.0   \n",
              "\n",
              "                                           geo_city_added_distance_from_moscow_category_1000-3000 km  \\\n",
              "session_id                                                                                             \n",
              "9055434745589932991.1637753792.1637753792                                                1.0           \n",
              "905544597018549464.1636867290.1636867290                                                 0.0           \n",
              "9055446045651783499.1640648526.1640648526                                                0.0           \n",
              "9055447046360770272.1622255328.1622255328                                                0.0           \n",
              "9055447046360770272.1622255345.1622255345                                                0.0           \n",
              "\n",
              "                                           geo_city_added_distance_from_moscow_category_>= 3000 km  \\\n",
              "session_id                                                                                           \n",
              "9055434745589932991.1637753792.1637753792                                                0.0         \n",
              "905544597018549464.1636867290.1636867290                                                 0.0         \n",
              "9055446045651783499.1640648526.1640648526                                                1.0         \n",
              "9055447046360770272.1622255328.1622255328                                                0.0         \n",
              "9055447046360770272.1622255345.1622255345                                                0.0         \n",
              "\n",
              "                                           geo_city_added_distance_from_moscow_category_500-1000 km  \\\n",
              "session_id                                                                                            \n",
              "9055434745589932991.1637753792.1637753792                                                0.0          \n",
              "905544597018549464.1636867290.1636867290                                                 0.0          \n",
              "9055446045651783499.1640648526.1640648526                                                0.0          \n",
              "9055447046360770272.1622255328.1622255328                                                0.0          \n",
              "9055447046360770272.1622255345.1622255345                                                0.0          \n",
              "\n",
              "                                           geo_city_added_distance_from_moscow_category_100-500 km  \\\n",
              "session_id                                                                                           \n",
              "9055434745589932991.1637753792.1637753792                                                0.0         \n",
              "905544597018549464.1636867290.1636867290                                                 0.0         \n",
              "9055446045651783499.1640648526.1640648526                                                0.0         \n",
              "9055447046360770272.1622255328.1622255328                                                0.0         \n",
              "9055447046360770272.1622255345.1622255345                                                0.0         \n",
              "\n",
              "                                           geo_city_added_distance_from_moscow_category_< 100 km  \\\n",
              "session_id                                                                                         \n",
              "9055434745589932991.1637753792.1637753792                                                0.0       \n",
              "905544597018549464.1636867290.1636867290                                                 0.0       \n",
              "9055446045651783499.1640648526.1640648526                                                0.0       \n",
              "9055447046360770272.1622255328.1622255328                                                0.0       \n",
              "9055447046360770272.1622255345.1622255345                                                0.0       \n",
              "\n",
              "                                           geo_city_added_distance_from_moscow_category_no distance  \n",
              "session_id                                                                                           \n",
              "9055434745589932991.1637753792.1637753792                                                0.0         \n",
              "905544597018549464.1636867290.1636867290                                                 0.0         \n",
              "9055446045651783499.1640648526.1640648526                                                0.0         \n",
              "9055447046360770272.1622255328.1622255328                                                0.0         \n",
              "9055447046360770272.1622255345.1622255345                                                0.0         "
            ],
            "text/html": [
              "\n",
              "  <div id=\"df-226413c6-7f11-4bce-8e86-cb5cfef00ad5\">\n",
              "    <div class=\"colab-df-container\">\n",
              "      <div>\n",
              "<style scoped>\n",
              "    .dataframe tbody tr th:only-of-type {\n",
              "        vertical-align: middle;\n",
              "    }\n",
              "\n",
              "    .dataframe tbody tr th {\n",
              "        vertical-align: top;\n",
              "    }\n",
              "\n",
              "    .dataframe thead th {\n",
              "        text-align: right;\n",
              "    }\n",
              "</style>\n",
              "<table border=\"1\" class=\"dataframe\">\n",
              "  <thead>\n",
              "    <tr style=\"text-align: right;\">\n",
              "      <th></th>\n",
              "      <th>visit_number</th>\n",
              "      <th>visit_date_added_holiday</th>\n",
              "      <th>visit_date_weekday</th>\n",
              "      <th>visit_date_weekend</th>\n",
              "      <th>visit_date_day</th>\n",
              "      <th>visit_time_hour</th>\n",
              "      <th>visit_time_minute</th>\n",
              "      <th>visit_time_night</th>\n",
              "      <th>utm_medium_added_is_organic</th>\n",
              "      <th>utm_source_added_is_social</th>\n",
              "      <th>device_screen_resolution_width</th>\n",
              "      <th>device_screen_resolution_height</th>\n",
              "      <th>device_screen_resolution_ratio</th>\n",
              "      <th>device_screen_resolution_ratio_greater_1</th>\n",
              "      <th>geo_city_added_is_moscow_region</th>\n",
              "      <th>geo_city_added_is_big</th>\n",
              "      <th>geo_city_is_big_or_in_moscow_region</th>\n",
              "      <th>geo_city_added_distance_from_moscow</th>\n",
              "      <th>utm_source_ZpYIoDJMcFzVoPFsHGJL</th>\n",
              "      <th>utm_source_MvfHsxITijuriZxsqZqt</th>\n",
              "      <th>utm_source_kjsLglQLzykiRbcDiGcD</th>\n",
              "      <th>utm_source_rare</th>\n",
              "      <th>utm_source_fDLlAcSmythWSCVMvqvL</th>\n",
              "      <th>utm_source_BHcvLfOaCWvWTykYqHVe</th>\n",
              "      <th>utm_source_bByPQxmDaMXgpHeypKSM</th>\n",
              "      <th>utm_medium_banner</th>\n",
              "      <th>utm_medium_cpm</th>\n",
              "      <th>utm_medium_cpc</th>\n",
              "      <th>utm_medium_rare</th>\n",
              "      <th>utm_medium_referral</th>\n",
              "      <th>utm_campaign_LEoPHuyFvzoNfnzGgfcd</th>\n",
              "      <th>utm_campaign_FTjNLDyTrXaWYgZymFkV</th>\n",
              "      <th>utm_campaign_(nan)</th>\n",
              "      <th>utm_campaign_LTuZkdKfxRGVceoWkVyg</th>\n",
              "      <th>utm_campaign_gecBYcKZCPMcVYdSSzKP</th>\n",
              "      <th>utm_campaign_rare</th>\n",
              "      <th>utm_adcontent_vCIpmpaGBnIQhyYNkXqp</th>\n",
              "      <th>utm_adcontent_xhoenQgDQsgfEPYNPwKO</th>\n",
              "      <th>utm_adcontent_rare</th>\n",
              "      <th>utm_adcontent_(nan)</th>\n",
              "      <th>utm_adcontent_JNHcPlZPxEMWDnRiyoBf</th>\n",
              "      <th>utm_keyword_puhZPIYqKXeFPaUviSjo</th>\n",
              "      <th>utm_keyword_rare</th>\n",
              "      <th>utm_keyword_(nan)</th>\n",
              "      <th>device_category_mobile</th>\n",
              "      <th>device_os_Android</th>\n",
              "      <th>device_os_iOS</th>\n",
              "      <th>device_os_rare</th>\n",
              "      <th>device_brand_Huawei</th>\n",
              "      <th>device_brand_Samsung</th>\n",
              "      <th>device_brand_Xiaomi</th>\n",
              "      <th>device_brand_Apple</th>\n",
              "      <th>device_brand_rare</th>\n",
              "      <th>device_browser_Chrome</th>\n",
              "      <th>device_browser_rare</th>\n",
              "      <th>device_browser_Safari</th>\n",
              "      <th>device_browser_YaBrowser</th>\n",
              "      <th>geo_country_Russia</th>\n",
              "      <th>geo_city_rare</th>\n",
              "      <th>geo_city_Moscow</th>\n",
              "      <th>geo_city_Saint Petersburg</th>\n",
              "      <th>geo_city_added_distance_from_moscow_category_1000-3000 km</th>\n",
              "      <th>geo_city_added_distance_from_moscow_category_&gt;= 3000 km</th>\n",
              "      <th>geo_city_added_distance_from_moscow_category_500-1000 km</th>\n",
              "      <th>geo_city_added_distance_from_moscow_category_100-500 km</th>\n",
              "      <th>geo_city_added_distance_from_moscow_category_&lt; 100 km</th>\n",
              "      <th>geo_city_added_distance_from_moscow_category_no distance</th>\n",
              "    </tr>\n",
              "    <tr>\n",
              "      <th>session_id</th>\n",
              "      <th></th>\n",
              "      <th></th>\n",
              "      <th></th>\n",
              "      <th></th>\n",
              "      <th></th>\n",
              "      <th></th>\n",
              "      <th></th>\n",
              "      <th></th>\n",
              "      <th></th>\n",
              "      <th></th>\n",
              "      <th></th>\n",
              "      <th></th>\n",
              "      <th></th>\n",
              "      <th></th>\n",
              "      <th></th>\n",
              "      <th></th>\n",
              "      <th></th>\n",
              "      <th></th>\n",
              "      <th></th>\n",
              "      <th></th>\n",
              "      <th></th>\n",
              "      <th></th>\n",
              "      <th></th>\n",
              "      <th></th>\n",
              "      <th></th>\n",
              "      <th></th>\n",
              "      <th></th>\n",
              "      <th></th>\n",
              "      <th></th>\n",
              "      <th></th>\n",
              "      <th></th>\n",
              "      <th></th>\n",
              "      <th></th>\n",
              "      <th></th>\n",
              "      <th></th>\n",
              "      <th></th>\n",
              "      <th></th>\n",
              "      <th></th>\n",
              "      <th></th>\n",
              "      <th></th>\n",
              "      <th></th>\n",
              "      <th></th>\n",
              "      <th></th>\n",
              "      <th></th>\n",
              "      <th></th>\n",
              "      <th></th>\n",
              "      <th></th>\n",
              "      <th></th>\n",
              "      <th></th>\n",
              "      <th></th>\n",
              "      <th></th>\n",
              "      <th></th>\n",
              "      <th></th>\n",
              "      <th></th>\n",
              "      <th></th>\n",
              "      <th></th>\n",
              "      <th></th>\n",
              "      <th></th>\n",
              "      <th></th>\n",
              "      <th></th>\n",
              "      <th></th>\n",
              "      <th></th>\n",
              "      <th></th>\n",
              "      <th></th>\n",
              "      <th></th>\n",
              "      <th></th>\n",
              "      <th></th>\n",
              "    </tr>\n",
              "  </thead>\n",
              "  <tbody>\n",
              "    <tr>\n",
              "      <th>9055434745589932991.1637753792.1637753792</th>\n",
              "      <td>-0.585990</td>\n",
              "      <td>0.0</td>\n",
              "      <td>-0.311302</td>\n",
              "      <td>0.0</td>\n",
              "      <td>0.803575</td>\n",
              "      <td>0.014750</td>\n",
              "      <td>1.339048</td>\n",
              "      <td>0.0</td>\n",
              "      <td>0.0</td>\n",
              "      <td>0.0</td>\n",
              "      <td>-0.829017</td>\n",
              "      <td>-0.686586</td>\n",
              "      <td>-0.311484</td>\n",
              "      <td>0.0</td>\n",
              "      <td>0.0</td>\n",
              "      <td>0.0</td>\n",
              "      <td>0.0</td>\n",
              "      <td>1.193088</td>\n",
              "      <td>1.0</td>\n",
              "      <td>0.0</td>\n",
              "      <td>0.0</td>\n",
              "      <td>0.0</td>\n",
              "      <td>0.0</td>\n",
              "      <td>0.0</td>\n",
              "      <td>0.0</td>\n",
              "      <td>1.0</td>\n",
              "      <td>0.0</td>\n",
              "      <td>0.0</td>\n",
              "      <td>0.0</td>\n",
              "      <td>0.0</td>\n",
              "      <td>1.0</td>\n",
              "      <td>0.0</td>\n",
              "      <td>0.0</td>\n",
              "      <td>0.0</td>\n",
              "      <td>0.0</td>\n",
              "      <td>0.0</td>\n",
              "      <td>1.0</td>\n",
              "      <td>0.0</td>\n",
              "      <td>0.0</td>\n",
              "      <td>0.0</td>\n",
              "      <td>0.0</td>\n",
              "      <td>1.0</td>\n",
              "      <td>0.0</td>\n",
              "      <td>0.0</td>\n",
              "      <td>1.0</td>\n",
              "      <td>1.0</td>\n",
              "      <td>0.0</td>\n",
              "      <td>0.0</td>\n",
              "      <td>1.0</td>\n",
              "      <td>0.0</td>\n",
              "      <td>0.0</td>\n",
              "      <td>0.0</td>\n",
              "      <td>0.0</td>\n",
              "      <td>1.0</td>\n",
              "      <td>0.0</td>\n",
              "      <td>0.0</td>\n",
              "      <td>0.0</td>\n",
              "      <td>1.0</td>\n",
              "      <td>1.0</td>\n",
              "      <td>0.0</td>\n",
              "      <td>0.0</td>\n",
              "      <td>1.0</td>\n",
              "      <td>0.0</td>\n",
              "      <td>0.0</td>\n",
              "      <td>0.0</td>\n",
              "      <td>0.0</td>\n",
              "      <td>0.0</td>\n",
              "    </tr>\n",
              "    <tr>\n",
              "      <th>905544597018549464.1636867290.1636867290</th>\n",
              "      <td>-0.585990</td>\n",
              "      <td>0.0</td>\n",
              "      <td>1.485929</td>\n",
              "      <td>1.0</td>\n",
              "      <td>-0.307346</td>\n",
              "      <td>-0.957672</td>\n",
              "      <td>1.163018</td>\n",
              "      <td>1.0</td>\n",
              "      <td>0.0</td>\n",
              "      <td>1.0</td>\n",
              "      <td>-0.447866</td>\n",
              "      <td>0.183252</td>\n",
              "      <td>-0.789287</td>\n",
              "      <td>0.0</td>\n",
              "      <td>0.0</td>\n",
              "      <td>1.0</td>\n",
              "      <td>1.0</td>\n",
              "      <td>-0.885489</td>\n",
              "      <td>0.0</td>\n",
              "      <td>1.0</td>\n",
              "      <td>0.0</td>\n",
              "      <td>0.0</td>\n",
              "      <td>0.0</td>\n",
              "      <td>0.0</td>\n",
              "      <td>0.0</td>\n",
              "      <td>0.0</td>\n",
              "      <td>1.0</td>\n",
              "      <td>0.0</td>\n",
              "      <td>0.0</td>\n",
              "      <td>0.0</td>\n",
              "      <td>0.0</td>\n",
              "      <td>1.0</td>\n",
              "      <td>0.0</td>\n",
              "      <td>0.0</td>\n",
              "      <td>0.0</td>\n",
              "      <td>0.0</td>\n",
              "      <td>0.0</td>\n",
              "      <td>1.0</td>\n",
              "      <td>0.0</td>\n",
              "      <td>0.0</td>\n",
              "      <td>0.0</td>\n",
              "      <td>0.0</td>\n",
              "      <td>1.0</td>\n",
              "      <td>0.0</td>\n",
              "      <td>1.0</td>\n",
              "      <td>1.0</td>\n",
              "      <td>0.0</td>\n",
              "      <td>0.0</td>\n",
              "      <td>0.0</td>\n",
              "      <td>1.0</td>\n",
              "      <td>0.0</td>\n",
              "      <td>0.0</td>\n",
              "      <td>0.0</td>\n",
              "      <td>0.0</td>\n",
              "      <td>1.0</td>\n",
              "      <td>0.0</td>\n",
              "      <td>0.0</td>\n",
              "      <td>1.0</td>\n",
              "      <td>0.0</td>\n",
              "      <td>1.0</td>\n",
              "      <td>0.0</td>\n",
              "      <td>0.0</td>\n",
              "      <td>0.0</td>\n",
              "      <td>0.0</td>\n",
              "      <td>0.0</td>\n",
              "      <td>0.0</td>\n",
              "      <td>0.0</td>\n",
              "    </tr>\n",
              "    <tr>\n",
              "      <th>9055446045651783499.1640648526.1640648526</th>\n",
              "      <td>-0.585990</td>\n",
              "      <td>0.0</td>\n",
              "      <td>-0.877065</td>\n",
              "      <td>0.0</td>\n",
              "      <td>1.234404</td>\n",
              "      <td>-1.803240</td>\n",
              "      <td>1.382257</td>\n",
              "      <td>1.0</td>\n",
              "      <td>0.0</td>\n",
              "      <td>0.0</td>\n",
              "      <td>-0.829017</td>\n",
              "      <td>-0.686586</td>\n",
              "      <td>-0.311484</td>\n",
              "      <td>0.0</td>\n",
              "      <td>0.0</td>\n",
              "      <td>1.0</td>\n",
              "      <td>1.0</td>\n",
              "      <td>1.407094</td>\n",
              "      <td>1.0</td>\n",
              "      <td>0.0</td>\n",
              "      <td>0.0</td>\n",
              "      <td>0.0</td>\n",
              "      <td>0.0</td>\n",
              "      <td>0.0</td>\n",
              "      <td>0.0</td>\n",
              "      <td>1.0</td>\n",
              "      <td>0.0</td>\n",
              "      <td>0.0</td>\n",
              "      <td>0.0</td>\n",
              "      <td>0.0</td>\n",
              "      <td>1.0</td>\n",
              "      <td>0.0</td>\n",
              "      <td>0.0</td>\n",
              "      <td>0.0</td>\n",
              "      <td>0.0</td>\n",
              "      <td>0.0</td>\n",
              "      <td>1.0</td>\n",
              "      <td>0.0</td>\n",
              "      <td>0.0</td>\n",
              "      <td>0.0</td>\n",
              "      <td>0.0</td>\n",
              "      <td>1.0</td>\n",
              "      <td>0.0</td>\n",
              "      <td>0.0</td>\n",
              "      <td>1.0</td>\n",
              "      <td>1.0</td>\n",
              "      <td>0.0</td>\n",
              "      <td>0.0</td>\n",
              "      <td>1.0</td>\n",
              "      <td>0.0</td>\n",
              "      <td>0.0</td>\n",
              "      <td>0.0</td>\n",
              "      <td>0.0</td>\n",
              "      <td>1.0</td>\n",
              "      <td>0.0</td>\n",
              "      <td>0.0</td>\n",
              "      <td>0.0</td>\n",
              "      <td>1.0</td>\n",
              "      <td>1.0</td>\n",
              "      <td>0.0</td>\n",
              "      <td>0.0</td>\n",
              "      <td>0.0</td>\n",
              "      <td>1.0</td>\n",
              "      <td>0.0</td>\n",
              "      <td>0.0</td>\n",
              "      <td>0.0</td>\n",
              "      <td>0.0</td>\n",
              "    </tr>\n",
              "    <tr>\n",
              "      <th>9055447046360770272.1622255328.1622255328</th>\n",
              "      <td>-0.585990</td>\n",
              "      <td>0.0</td>\n",
              "      <td>1.084097</td>\n",
              "      <td>1.0</td>\n",
              "      <td>1.341147</td>\n",
              "      <td>-1.400897</td>\n",
              "      <td>-0.822162</td>\n",
              "      <td>1.0</td>\n",
              "      <td>0.0</td>\n",
              "      <td>0.0</td>\n",
              "      <td>-0.342270</td>\n",
              "      <td>-0.242671</td>\n",
              "      <td>-0.311484</td>\n",
              "      <td>0.0</td>\n",
              "      <td>0.0</td>\n",
              "      <td>1.0</td>\n",
              "      <td>1.0</td>\n",
              "      <td>-0.885489</td>\n",
              "      <td>0.0</td>\n",
              "      <td>0.0</td>\n",
              "      <td>1.0</td>\n",
              "      <td>0.0</td>\n",
              "      <td>0.0</td>\n",
              "      <td>0.0</td>\n",
              "      <td>0.0</td>\n",
              "      <td>0.0</td>\n",
              "      <td>0.0</td>\n",
              "      <td>1.0</td>\n",
              "      <td>0.0</td>\n",
              "      <td>0.0</td>\n",
              "      <td>0.0</td>\n",
              "      <td>0.0</td>\n",
              "      <td>1.0</td>\n",
              "      <td>0.0</td>\n",
              "      <td>0.0</td>\n",
              "      <td>0.0</td>\n",
              "      <td>0.0</td>\n",
              "      <td>0.0</td>\n",
              "      <td>1.0</td>\n",
              "      <td>0.0</td>\n",
              "      <td>0.0</td>\n",
              "      <td>0.0</td>\n",
              "      <td>0.0</td>\n",
              "      <td>1.0</td>\n",
              "      <td>1.0</td>\n",
              "      <td>0.0</td>\n",
              "      <td>0.0</td>\n",
              "      <td>0.0</td>\n",
              "      <td>0.0</td>\n",
              "      <td>0.0</td>\n",
              "      <td>1.0</td>\n",
              "      <td>0.0</td>\n",
              "      <td>0.0</td>\n",
              "      <td>1.0</td>\n",
              "      <td>0.0</td>\n",
              "      <td>0.0</td>\n",
              "      <td>0.0</td>\n",
              "      <td>1.0</td>\n",
              "      <td>0.0</td>\n",
              "      <td>1.0</td>\n",
              "      <td>0.0</td>\n",
              "      <td>0.0</td>\n",
              "      <td>0.0</td>\n",
              "      <td>0.0</td>\n",
              "      <td>0.0</td>\n",
              "      <td>0.0</td>\n",
              "      <td>0.0</td>\n",
              "    </tr>\n",
              "    <tr>\n",
              "      <th>9055447046360770272.1622255345.1622255345</th>\n",
              "      <td>1.373905</td>\n",
              "      <td>0.0</td>\n",
              "      <td>1.084097</td>\n",
              "      <td>1.0</td>\n",
              "      <td>1.341147</td>\n",
              "      <td>-1.400897</td>\n",
              "      <td>-0.822162</td>\n",
              "      <td>1.0</td>\n",
              "      <td>0.0</td>\n",
              "      <td>0.0</td>\n",
              "      <td>-0.342270</td>\n",
              "      <td>-0.242671</td>\n",
              "      <td>-0.311484</td>\n",
              "      <td>0.0</td>\n",
              "      <td>0.0</td>\n",
              "      <td>1.0</td>\n",
              "      <td>1.0</td>\n",
              "      <td>-0.885489</td>\n",
              "      <td>0.0</td>\n",
              "      <td>0.0</td>\n",
              "      <td>1.0</td>\n",
              "      <td>0.0</td>\n",
              "      <td>0.0</td>\n",
              "      <td>0.0</td>\n",
              "      <td>0.0</td>\n",
              "      <td>0.0</td>\n",
              "      <td>0.0</td>\n",
              "      <td>1.0</td>\n",
              "      <td>0.0</td>\n",
              "      <td>0.0</td>\n",
              "      <td>0.0</td>\n",
              "      <td>0.0</td>\n",
              "      <td>1.0</td>\n",
              "      <td>0.0</td>\n",
              "      <td>0.0</td>\n",
              "      <td>0.0</td>\n",
              "      <td>0.0</td>\n",
              "      <td>0.0</td>\n",
              "      <td>0.0</td>\n",
              "      <td>1.0</td>\n",
              "      <td>0.0</td>\n",
              "      <td>0.0</td>\n",
              "      <td>0.0</td>\n",
              "      <td>1.0</td>\n",
              "      <td>1.0</td>\n",
              "      <td>0.0</td>\n",
              "      <td>0.0</td>\n",
              "      <td>0.0</td>\n",
              "      <td>0.0</td>\n",
              "      <td>0.0</td>\n",
              "      <td>1.0</td>\n",
              "      <td>0.0</td>\n",
              "      <td>0.0</td>\n",
              "      <td>1.0</td>\n",
              "      <td>0.0</td>\n",
              "      <td>0.0</td>\n",
              "      <td>0.0</td>\n",
              "      <td>1.0</td>\n",
              "      <td>0.0</td>\n",
              "      <td>1.0</td>\n",
              "      <td>0.0</td>\n",
              "      <td>0.0</td>\n",
              "      <td>0.0</td>\n",
              "      <td>0.0</td>\n",
              "      <td>0.0</td>\n",
              "      <td>0.0</td>\n",
              "      <td>0.0</td>\n",
              "    </tr>\n",
              "  </tbody>\n",
              "</table>\n",
              "</div>\n",
              "      <button class=\"colab-df-convert\" onclick=\"convertToInteractive('df-226413c6-7f11-4bce-8e86-cb5cfef00ad5')\"\n",
              "              title=\"Convert this dataframe to an interactive table.\"\n",
              "              style=\"display:none;\">\n",
              "        \n",
              "  <svg xmlns=\"http://www.w3.org/2000/svg\" height=\"24px\"viewBox=\"0 0 24 24\"\n",
              "       width=\"24px\">\n",
              "    <path d=\"M0 0h24v24H0V0z\" fill=\"none\"/>\n",
              "    <path d=\"M18.56 5.44l.94 2.06.94-2.06 2.06-.94-2.06-.94-.94-2.06-.94 2.06-2.06.94zm-11 1L8.5 8.5l.94-2.06 2.06-.94-2.06-.94L8.5 2.5l-.94 2.06-2.06.94zm10 10l.94 2.06.94-2.06 2.06-.94-2.06-.94-.94-2.06-.94 2.06-2.06.94z\"/><path d=\"M17.41 7.96l-1.37-1.37c-.4-.4-.92-.59-1.43-.59-.52 0-1.04.2-1.43.59L10.3 9.45l-7.72 7.72c-.78.78-.78 2.05 0 2.83L4 21.41c.39.39.9.59 1.41.59.51 0 1.02-.2 1.41-.59l7.78-7.78 2.81-2.81c.8-.78.8-2.07 0-2.86zM5.41 20L4 18.59l7.72-7.72 1.47 1.35L5.41 20z\"/>\n",
              "  </svg>\n",
              "      </button>\n",
              "      \n",
              "  <style>\n",
              "    .colab-df-container {\n",
              "      display:flex;\n",
              "      flex-wrap:wrap;\n",
              "      gap: 12px;\n",
              "    }\n",
              "\n",
              "    .colab-df-convert {\n",
              "      background-color: #E8F0FE;\n",
              "      border: none;\n",
              "      border-radius: 50%;\n",
              "      cursor: pointer;\n",
              "      display: none;\n",
              "      fill: #1967D2;\n",
              "      height: 32px;\n",
              "      padding: 0 0 0 0;\n",
              "      width: 32px;\n",
              "    }\n",
              "\n",
              "    .colab-df-convert:hover {\n",
              "      background-color: #E2EBFA;\n",
              "      box-shadow: 0px 1px 2px rgba(60, 64, 67, 0.3), 0px 1px 3px 1px rgba(60, 64, 67, 0.15);\n",
              "      fill: #174EA6;\n",
              "    }\n",
              "\n",
              "    [theme=dark] .colab-df-convert {\n",
              "      background-color: #3B4455;\n",
              "      fill: #D2E3FC;\n",
              "    }\n",
              "\n",
              "    [theme=dark] .colab-df-convert:hover {\n",
              "      background-color: #434B5C;\n",
              "      box-shadow: 0px 1px 3px 1px rgba(0, 0, 0, 0.15);\n",
              "      filter: drop-shadow(0px 1px 2px rgba(0, 0, 0, 0.3));\n",
              "      fill: #FFFFFF;\n",
              "    }\n",
              "  </style>\n",
              "\n",
              "      <script>\n",
              "        const buttonEl =\n",
              "          document.querySelector('#df-226413c6-7f11-4bce-8e86-cb5cfef00ad5 button.colab-df-convert');\n",
              "        buttonEl.style.display =\n",
              "          google.colab.kernel.accessAllowed ? 'block' : 'none';\n",
              "\n",
              "        async function convertToInteractive(key) {\n",
              "          const element = document.querySelector('#df-226413c6-7f11-4bce-8e86-cb5cfef00ad5');\n",
              "          const dataTable =\n",
              "            await google.colab.kernel.invokeFunction('convertToInteractive',\n",
              "                                                     [key], {});\n",
              "          if (!dataTable) return;\n",
              "\n",
              "          const docLinkHtml = 'Like what you see? Visit the ' +\n",
              "            '<a target=\"_blank\" href=https://colab.research.google.com/notebooks/data_table.ipynb>data table notebook</a>'\n",
              "            + ' to learn more about interactive tables.';\n",
              "          element.innerHTML = '';\n",
              "          dataTable['output_type'] = 'display_data';\n",
              "          await google.colab.output.renderOutput(dataTable, element);\n",
              "          const docLink = document.createElement('div');\n",
              "          docLink.innerHTML = docLinkHtml;\n",
              "          element.appendChild(docLink);\n",
              "        }\n",
              "      </script>\n",
              "    </div>\n",
              "  </div>\n",
              "  "
            ]
          },
          "metadata": {},
          "execution_count": 62
        }
      ],
      "source": [
        "sessions_preprocessed.head()"
      ]
    },
    {
      "cell_type": "code",
      "execution_count": 63,
      "metadata": {
        "colab": {
          "base_uri": "https://localhost:8080/"
        },
        "id": "5SWe0lAcbtwE",
        "outputId": "23834114-a8fc-44da-8277-3bf1f3d54b77"
      },
      "outputs": [
        {
          "output_type": "stream",
          "name": "stdout",
          "text": [
            "<class 'pandas.core.frame.DataFrame'>\n",
            "Index: 1860042 entries, 9055434745589932991.1637753792.1637753792 to 9055430416266113553.1640968742.1640968742\n",
            "Data columns (total 67 columns):\n",
            " #   Column                                                     Dtype  \n",
            "---  ------                                                     -----  \n",
            " 0   visit_number                                               float64\n",
            " 1   visit_date_added_holiday                                   float64\n",
            " 2   visit_date_weekday                                         float64\n",
            " 3   visit_date_weekend                                         float64\n",
            " 4   visit_date_day                                             float64\n",
            " 5   visit_time_hour                                            float64\n",
            " 6   visit_time_minute                                          float64\n",
            " 7   visit_time_night                                           float64\n",
            " 8   utm_medium_added_is_organic                                float64\n",
            " 9   utm_source_added_is_social                                 float64\n",
            " 10  device_screen_resolution_width                             float64\n",
            " 11  device_screen_resolution_height                            float64\n",
            " 12  device_screen_resolution_ratio                             float64\n",
            " 13  device_screen_resolution_ratio_greater_1                   float64\n",
            " 14  geo_city_added_is_moscow_region                            float64\n",
            " 15  geo_city_added_is_big                                      float64\n",
            " 16  geo_city_is_big_or_in_moscow_region                        float64\n",
            " 17  geo_city_added_distance_from_moscow                        float64\n",
            " 18  utm_source_ZpYIoDJMcFzVoPFsHGJL                            float64\n",
            " 19  utm_source_MvfHsxITijuriZxsqZqt                            float64\n",
            " 20  utm_source_kjsLglQLzykiRbcDiGcD                            float64\n",
            " 21  utm_source_rare                                            float64\n",
            " 22  utm_source_fDLlAcSmythWSCVMvqvL                            float64\n",
            " 23  utm_source_BHcvLfOaCWvWTykYqHVe                            float64\n",
            " 24  utm_source_bByPQxmDaMXgpHeypKSM                            float64\n",
            " 25  utm_medium_banner                                          float64\n",
            " 26  utm_medium_cpm                                             float64\n",
            " 27  utm_medium_cpc                                             float64\n",
            " 28  utm_medium_rare                                            float64\n",
            " 29  utm_medium_referral                                        float64\n",
            " 30  utm_campaign_LEoPHuyFvzoNfnzGgfcd                          float64\n",
            " 31  utm_campaign_FTjNLDyTrXaWYgZymFkV                          float64\n",
            " 32  utm_campaign_(nan)                                         float64\n",
            " 33  utm_campaign_LTuZkdKfxRGVceoWkVyg                          float64\n",
            " 34  utm_campaign_gecBYcKZCPMcVYdSSzKP                          float64\n",
            " 35  utm_campaign_rare                                          float64\n",
            " 36  utm_adcontent_vCIpmpaGBnIQhyYNkXqp                         float64\n",
            " 37  utm_adcontent_xhoenQgDQsgfEPYNPwKO                         float64\n",
            " 38  utm_adcontent_rare                                         float64\n",
            " 39  utm_adcontent_(nan)                                        float64\n",
            " 40  utm_adcontent_JNHcPlZPxEMWDnRiyoBf                         float64\n",
            " 41  utm_keyword_puhZPIYqKXeFPaUviSjo                           float64\n",
            " 42  utm_keyword_rare                                           float64\n",
            " 43  utm_keyword_(nan)                                          float64\n",
            " 44  device_category_mobile                                     float64\n",
            " 45  device_os_Android                                          float64\n",
            " 46  device_os_iOS                                              float64\n",
            " 47  device_os_rare                                             float64\n",
            " 48  device_brand_Huawei                                        float64\n",
            " 49  device_brand_Samsung                                       float64\n",
            " 50  device_brand_Xiaomi                                        float64\n",
            " 51  device_brand_Apple                                         float64\n",
            " 52  device_brand_rare                                          float64\n",
            " 53  device_browser_Chrome                                      float64\n",
            " 54  device_browser_rare                                        float64\n",
            " 55  device_browser_Safari                                      float64\n",
            " 56  device_browser_YaBrowser                                   float64\n",
            " 57  geo_country_Russia                                         float64\n",
            " 58  geo_city_rare                                              float64\n",
            " 59  geo_city_Moscow                                            float64\n",
            " 60  geo_city_Saint Petersburg                                  float64\n",
            " 61  geo_city_added_distance_from_moscow_category_1000-3000 km  float64\n",
            " 62  geo_city_added_distance_from_moscow_category_>= 3000 km    float64\n",
            " 63  geo_city_added_distance_from_moscow_category_500-1000 km   float64\n",
            " 64  geo_city_added_distance_from_moscow_category_100-500 km    float64\n",
            " 65  geo_city_added_distance_from_moscow_category_< 100 km      float64\n",
            " 66  geo_city_added_distance_from_moscow_category_no distance   float64\n",
            "dtypes: float64(67)\n",
            "memory usage: 965.0+ MB\n"
          ]
        }
      ],
      "source": [
        "sessions_preprocessed.info()"
      ]
    },
    {
      "cell_type": "code",
      "execution_count": 64,
      "metadata": {
        "colab": {
          "base_uri": "https://localhost:8080/"
        },
        "id": "ENj_Uf0YzbOl",
        "outputId": "0a7f1687-49c0-467d-da14-17f78babf251"
      },
      "outputs": [
        {
          "output_type": "stream",
          "name": "stdout",
          "text": [
            "Количество дубликатов: 175787\n"
          ]
        }
      ],
      "source": [
        "print('Количество дубликатов:', sessions_preprocessed.duplicated().sum())"
      ]
    },
    {
      "cell_type": "code",
      "execution_count": 65,
      "metadata": {
        "colab": {
          "base_uri": "https://localhost:8080/"
        },
        "id": "f2yUUnezly5y",
        "outputId": "36a5f4d9-b3d0-44a9-f89d-5be8cc048468"
      },
      "outputs": [
        {
          "output_type": "stream",
          "name": "stdout",
          "text": [
            "Корреляция с целевой переменной:\n"
          ]
        },
        {
          "output_type": "execute_result",
          "data": {
            "text/plain": [
              "target                                1.000000\n",
              "utm_medium_added_is_organic           0.050813\n",
              "utm_campaign_LTuZkdKfxRGVceoWkVyg     0.049563\n",
              "utm_medium_referral                   0.049207\n",
              "utm_adcontent_JNHcPlZPxEMWDnRiyoBf    0.044788\n",
              "Name: target, dtype: float64"
            ]
          },
          "metadata": {},
          "execution_count": 65
        }
      ],
      "source": [
        "print('Корреляция с целевой переменной:')\n",
        "correlation = pd.concat([sessions_preprocessed, target], axis=1).corr()\n",
        "correlation['target'].sort_values(ascending=False, key=abs).head(5)"
      ]
    },
    {
      "cell_type": "markdown",
      "metadata": {
        "id": "pCDZ_HVmgDaJ"
      },
      "source": [
        "### Важность признаков\n",
        "\n",
        "Самыми важными признаками после преобразования оказались численные переменные: день (месяца и недели), час, минута (скорее всего именно нулевая минута часа) и номер посещения, размеры экрана и расстояние до Москвы.\n",
        "\n",
        "После этих признаков важность остальных сильно падает. Возможно такова особенность работы с категориальными признаками (особенно с большим количеством неравномерно распределенных уникальных значений).\n",
        "\n",
        "Самыми важными исходными признаками окзаались: размеры экрана, дата, время и номер посещения, город пользователя, а также признаки с дополнительными данными (как индикатор органического трафика). "
      ]
    },
    {
      "cell_type": "code",
      "execution_count": 66,
      "metadata": {
        "colab": {
          "base_uri": "https://localhost:8080/"
        },
        "id": "YL5n0vtek5-h",
        "outputId": "9b9be856-14a2-41d4-f382-ea0afa4f550a"
      },
      "outputs": [
        {
          "output_type": "stream",
          "name": "stdout",
          "text": [
            "Признаки, удалённые во время feature selection\n",
            "\n",
            "constant_dropper:\n",
            "\tdevice_screen_resolution_area\n",
            "\tdevice_category_tablet\n",
            "\tdevice_model_(nan)\n",
            "duplicated_dropper:\n",
            "\tutm_medium_(none)\n",
            "\tgeo_city_added_distance_from_moscow_category_moscow\n",
            "correlated_dropper:\n",
            "\tdevice_category_desktop\n",
            "\tdevice_os_(nan)\n",
            "\tdevice_brand_(nan)\n",
            "Всего удалено: 8\n"
          ]
        }
      ],
      "source": [
        "print('Признаки, удалённые во время feature selection\\n')\n",
        "all = 0\n",
        "\n",
        "for step in ('constant_dropper', 'duplicated_dropper', 'correlated_dropper'):\n",
        "    print(step + ':')\n",
        "    for column in final_preprocessor.named_steps[step].features_to_drop_:\n",
        "        print(f'\\t{column}')\n",
        "        all += 1\n",
        "\n",
        "print(f'Всего удалено: {all}')"
      ]
    },
    {
      "cell_type": "code",
      "execution_count": 67,
      "metadata": {
        "id": "zUGLmCB4gvWu"
      },
      "outputs": [],
      "source": [
        "feature_importance = pd.Series(\n",
        "    data=final_model.feature_importances_, \n",
        "    index=sessions_preprocessed.columns)"
      ]
    },
    {
      "cell_type": "code",
      "execution_count": 80,
      "metadata": {
        "colab": {
          "base_uri": "https://localhost:8080/",
          "height": 608
        },
        "id": "virCtTBOgvSl",
        "outputId": "179ed484-a0b3-4cba-e1dc-62fa0ebf915e"
      },
      "outputs": [
        {
          "output_type": "display_data",
          "data": {
            "text/plain": [
              "<Figure size 1152x720 with 1 Axes>"
            ],
            "image/png": "[encoded data removed]"
          },
          "metadata": {
            "needs_background": "light"
          }
        }
      ],
      "source": [
        "plt.figure(figsize=(16, 10))\n",
        "most_important = feature_importance.sort_values(ascending=False).head(25)\n",
        "sns.barplot(x=most_important, y=most_important.index, orient='h')\n",
        "plt.title('Самые важные признаки после преобразования');"
      ]
    },
    {
      "cell_type": "code",
      "execution_count": 69,
      "metadata": {
        "id": "H0QGo6sROydQ"
      },
      "outputs": [],
      "source": [
        "# Из важности производных признаков получим важность оригинальных\n",
        "# Также получим важность признаков с добавленными данными\n",
        "\n",
        "original_columns = list(sessions.columns) + ['_added_']\n",
        "column_importances = list()\n",
        "for col in original_columns:\n",
        "    imp = feature_importance[feature_importance.index.str.contains(col)].sum()\n",
        "    column_importances.append(imp)\n",
        "\n",
        "column_importances = pd.Series(column_importances, index=original_columns)\n",
        "column_importances.sort_values(ascending=False, inplace=True)"
      ]
    },
    {
      "cell_type": "code",
      "execution_count": 70,
      "metadata": {
        "colab": {
          "base_uri": "https://localhost:8080/",
          "height": 607
        },
        "id": "tglso3v3VOFB",
        "outputId": "b1d988b3-8e2a-4202-87ec-63120280ca52"
      },
      "outputs": [
        {
          "output_type": "display_data",
          "data": {
            "text/plain": [
              "<Figure size 1296x720 with 1 Axes>"
            ],
            "image/png": "[encoded data removed]"
          },
          "metadata": {
            "needs_background": "light"
          }
        }
      ],
      "source": [
        "plt.figure(figsize=(18, 10))\n",
        "sns.barplot(x=column_importances, y=column_importances.index, orient='h')\n",
        "plt.title('Важность оригинальных признаков');"
      ]
    },
    {
      "cell_type": "markdown",
      "metadata": {
        "id": "SD8WsuyWgHfD"
      },
      "source": [
        "### Сохранение модели"
      ]
    },
    {
      "cell_type": "code",
      "execution_count": 88,
      "metadata": {
        "id": "XiidXrOEY8bU"
      },
      "outputs": [],
      "source": [
        "# Объединим препроцессор и модель обратно\n",
        "\n",
        "final_pipeline = final_preprocessor.set_params(model=final_model)"
      ]
    },
    {
      "cell_type": "code",
      "execution_count": 89,
      "metadata": {
        "id": "OAGb1h73XpXq"
      },
      "outputs": [],
      "source": [
        "# Добавим метаданные для модели\n",
        "\n",
        "metadata = {\n",
        "    'name': 'SberAutopodpiska: target event prediction', \n",
        "    'descripton': ('Модель по предсказанию совершения пользователем одного из '\n",
        "                   'целевых действий \"Заказать звонок\" или \"Оставить заявку\" '\n",
        "                   'на сайте сервиса СберАвтоподписка.'), \n",
        "    'model_type': final_model.__class__.__name__, \n",
        "    'version': 1.0, \n",
        "    'training_datetime': datetime.now(), \n",
        "    'author': 'Nikolai Borziak', \n",
        "    'threshold': best_threshold, \n",
        "    'metrics': {\n",
        "        'roc_auc': roc_auc_score(y_test, test_proba), \n",
        "        'roc_auc_by_class': roc_auc_score(y_test, test_prediction),\n",
        "        'accuracy': accuracy_score(y_test, test_prediction), \n",
        "        'precision': precision_score(y_test, test_prediction), \n",
        "        'recall': recall_score(y_test, test_prediction), \n",
        "        'f1': f1_score(y_test, test_prediction),\n",
        "    }\n",
        "}\n",
        "\n",
        "final_pipeline.metadata = metadata"
      ]
    },
    {
      "cell_type": "code",
      "execution_count": 90,
      "metadata": {
        "id": "y_UVM_E4XeSH"
      },
      "outputs": [],
      "source": [
        "# Сохраним модель\n",
        "\n",
        "models_folder.mkdir(exist_ok=True)\n",
        "filename = f'model_{datetime.now():%Y%m%d%H%M%S}.pkl'\n",
        "\n",
        "with open(models_folder / filename, 'wb') as file:\n",
        "    dill.dump(final_pipeline, file)"
      ]
    },
    {
      "cell_type": "markdown",
      "metadata": {
        "id": "YuL-rxUw4JmK"
      },
      "source": [
        "## Выводы"
      ]
    },
    {
      "cell_type": "markdown",
      "metadata": {
        "id": "Cq2Ps1_Ymsw4"
      },
      "source": [
        "Для преобразования входных данных, со структурой как в файле `ga_sessions.csv`, в удобный для предсказания вид понадобилось четыре этапа:\n",
        "1. Заполнение пропусков и генерация признаков. В том числе добавление новых данных, как-то органический трафик или расстояние до Москвы.\n",
        "2. Преобразование численных переменных: нормализация и удаление выбросов.\n",
        "3. Преобразование категориальных признаков. Основная сложность с ними была в многообразии редких уникальных значений. В итоге только самые популярные значения были закодированы методом one-hot.\n",
        "4. Удаление дублирующих и коррелируемых признаков. Признаки могут коррелировать до 0.95, но именно с таким порогом финальная модель даёт лучший результат.\n",
        "\n",
        "Было проверено 10 моделей с гиперпараметрами по умолчанию. В тройке лучших оказались алгоритмы бустинга от sklearn, lightgbm и catboost.\n",
        "\n",
        "В итоге в качестве лучшей модели был выбран `LightGBM` по следующим причинам: \n",
        "+ Один из лучших показателей `roc_auc`.\n",
        "+ Быстрое обучение. \n",
        "+ Модель интерпретируема, то есть можно получить показатели важности признаков.\n",
        "+ Может предсказывать вероятность класса.\n",
        "+ Нет проблем с процессорами без SSE4 как у CatBoost.\n",
        "\n",
        "Шаг оптимизации модели помог выбрать лучшие гиперпараметры для модели: n_estimators=800, learning_rate=0.07, reg_lambda=10, num_leaves=26, reg_alpha=10, boosting_type='goss'.\n",
        "\n",
        "Качество модели по метрике `roc-auc` составляет **0.7148** (0.6535 при предсказании классов). Но метрика `f1`=0.0871 оставляет желать лучшего. Тем не менее, переобучения нет и цель проекта выполнена - `roc-auc` > 0.65.\n",
        "\n",
        "Для улучшения качества предсказания можно было бы: \n",
        "1. Увеличить количество данных. Тестовая выборка пойдёт на дообучение модели, так что может модель будет лучше в конечном итоге.\n",
        "2. Провести ребалансировку классов. Но если уменьшить выборку с отрицательной целевой переменной, то модель теряет в качестве, а если увеличивать выборку с положительным классом, то модели обучаются слишком долго. \n",
        "3. Провести более тщательный поиск наилучших гиперпараметров - это займёт много времени, а прирост качества будет небольшим. \n",
        "4. Провести дополнительную генерацию признаков. Но хорошие идеи придумывать сложно.\n",
        "5. Попробовать более сложные модели, например, нейронные сети глубокого обучения. "
      ]
    }
  ],
  "metadata": {
    "colab": {
      "collapsed_sections": [
        "O1OIZL9lr4tl",
        "r5K3svqb1tjM",
        "SdmCT5bFkTpy",
        "I4Owup725D1u",
        "p7no5DMn5KQA",
        "faISJrub1s56"
      ],
      "toc_visible": true,
      "provenance": []
    },
    "gpuClass": "standard",
    "kernelspec": {
      "display_name": "Python 3",
      "name": "python3"
    },
    "language_info": {
      "name": "python"
    }
  },
  "nbformat": 4,
  "nbformat_minor": 0
}