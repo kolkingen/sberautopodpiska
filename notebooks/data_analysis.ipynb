{
  "nbformat": 4,
  "nbformat_minor": 0,
  "metadata": {
    "colab": {
      "provenance": [],
      "toc_visible": true
    },
    "kernelspec": {
      "name": "python3",
      "display_name": "Python 3"
    },
    "language_info": {
      "name": "python"
    }
  },
  "cells": [
    {
      "cell_type": "markdown",
      "metadata": {
        "id": "il9mxL14fbAA"
      },
      "source": [
        "# Анализ данных клиентских сессий сервиса 'СберАвтоподписка'  \n"
      ]
    },
    {
      "cell_type": "markdown",
      "source": [
        "**Цели и задачи ноутбука**:  \n",
        "* знакомство с данными;  \n",
        "* оценка чистоты и полноты данных;  \n",
        "* подготовка плана по форматированию данных;  \n",
        "* оценка распределений данных и их взаимосвязей.  \n"
      ],
      "metadata": {
        "id": "gajkfhZ4R9MC"
      }
    },
    {
      "cell_type": "markdown",
      "metadata": {
        "id": "wsl453hog4Po"
      },
      "source": [
        "## Подготовка"
      ]
    },
    {
      "cell_type": "markdown",
      "metadata": {
        "id": "00cQKFqYg9OA"
      },
      "source": [
        "### Импорт библиотек"
      ]
    },
    {
      "cell_type": "code",
      "execution_count": null,
      "metadata": {
        "id": "s45aMMmq98og"
      },
      "outputs": [],
      "source": [
        "import sys\n",
        "import warnings\n",
        "from pathlib import Path\n",
        "from typing import Sequence, Union\n",
        "\n",
        "import pandas as pd\n",
        "import matplotlib.pyplot as plt\n",
        "import seaborn as sns\n",
        "\n",
        "from additional_data import (\n",
        "    social_media_sources, target_events, moscow_region_cities, organic_mediums, \n",
        "    russian_holidays, get_distance_from_moscow, big_cities, missing_values)"
      ]
    },
    {
      "cell_type": "markdown",
      "metadata": {
        "id": "30fUVLzuiQEa"
      },
      "source": [
        "### Создание констант"
      ]
    },
    {
      "cell_type": "code",
      "source": [
        "# Необходимо задать путь к папке с данными\n",
        "data_folder = Path('..', 'data')\n",
        "sessions_filename = 'ga_sessions.csv'\n",
        "hits_filename = 'ga_hits.csv'"
      ],
      "metadata": {
        "id": "2BJ2wLSSWCH8"
      },
      "execution_count": null,
      "outputs": []
    },
    {
      "cell_type": "markdown",
      "metadata": {
        "id": "W4r8kBnGh3xP"
      },
      "source": [
        "### Настройка ноутбука"
      ]
    },
    {
      "cell_type": "code",
      "execution_count": null,
      "metadata": {
        "id": "XWlAoE1QLlkl"
      },
      "outputs": [],
      "source": [
        "sns.set()\n",
        "plt.rc('figure', figsize=(18, 6))\n",
        "pd.set_option('display.max_columns', 100)\n",
        "warnings.filterwarnings('ignore')"
      ]
    },
    {
      "cell_type": "code",
      "source": [
        "# для среды google colab\n",
        "if 'google.colab' in sys.modules: \n",
        "    from google.colab import drive\n",
        "    drive.mount('/content/drive')\n",
        "    data_folder = Path('drive', 'MyDrive', 'data')"
      ],
      "metadata": {
        "colab": {
          "base_uri": "https://localhost:8080/"
        },
        "id": "sekhQoXUpq22",
        "outputId": "ad2ee85c-1704-42d8-e80c-f66696f23c7d"
      },
      "execution_count": null,
      "outputs": [
        {
          "output_type": "stream",
          "name": "stdout",
          "text": [
            "Drive already mounted at /content/drive; to attempt to forcibly remount, call drive.mount(\"/content/drive\", force_remount=True).\n"
          ]
        }
      ]
    },
    {
      "cell_type": "markdown",
      "source": [
        "### Полезные функции  \n"
      ],
      "metadata": {
        "id": "F7o1S4x7ReiE"
      }
    },
    {
      "cell_type": "code",
      "source": [
        "def count_missings(data: pd.Series) -> int:\n",
        "    \"\"\"Возвращает количество пропущенных значений в pd.Series.\"\"\"\n",
        "\n",
        "    return data.isin(missing_values).sum()"
      ],
      "metadata": {
        "id": "V7hiv1_SRhyy"
      },
      "execution_count": null,
      "outputs": []
    },
    {
      "cell_type": "code",
      "source": [
        "def as_percent(x: float) -> str:\n",
        "    \"\"\"Используется для преобразования доли в процент (в виде строки).\"\"\"\n",
        "    \n",
        "    return f'{x:0.2%}'"
      ],
      "metadata": {
        "id": "NZDTEvo1gHlT"
      },
      "execution_count": null,
      "outputs": []
    },
    {
      "cell_type": "code",
      "source": [
        "def replace_rare(data: pd.Series, tolerance: float = 0.05) -> pd.Series:\n",
        "    \"\"\"Заменяет в колонке редкие значения на 'rare_other'. Редкими считаются \n",
        "    значения, доля появления которых не превышает `tolerance`. Также заполняет \n",
        "    пропуски значением '(nan)'.\n",
        "    \"\"\"\n",
        "\n",
        "    data = data.copy()\n",
        "\n",
        "    value_counts = data.value_counts(dropna=False)\n",
        "    rare_values = value_counts[value_counts < (len(data) * tolerance)]\n",
        "    rare_values = rare_values.index.tolist()\n",
        "    \n",
        "    data[data.isin(rare_values)] = 'rare_other'\n",
        "    return data.fillna('(nan)')"
      ],
      "metadata": {
        "id": "toQ_Bh8gnXk1"
      },
      "execution_count": null,
      "outputs": []
    },
    {
      "cell_type": "code",
      "source": [
        "def target_percentage(\n",
        "    data: pd.DataFrame, \n",
        "    column: str, \n",
        "    index_name: str = '',\n",
        "    only_target: bool = False, \n",
        "    sort: bool = True, \n",
        "    percent: bool = True \n",
        ") -> Union[pd.DataFrame, pd.Series]:\n",
        "    \"\"\"Возвращает в удобном виде процент целевых действий (`target`==1) \n",
        "    по значениям заданной колонки `column`.\"\"\"\n",
        "\n",
        "    # названия колонок\n",
        "    count = 'Количество объектов'\n",
        "    ratio = 'Доля от общего числа'\n",
        "    target = 'Процент целевых действий'\n",
        "\n",
        "    # разбиение по значениям\n",
        "    groupby = data.groupby(column)\n",
        "    \n",
        "    # расчёт количества объектов и доли целевых действий\n",
        "    result = pd.DataFrame(index=groupby.groups)\n",
        "    result[count] = groupby[column].count()\n",
        "    result[ratio] = result[count] / len(data)\n",
        "    result[target] = groupby['target'].sum() / result[count]\n",
        "    \n",
        "    # форматирование выходной таблицы\n",
        "    result.index.name = index_name or column\n",
        "    if sort: result = result.sort_values(target, ascending=False)\n",
        "    if percent: \n",
        "        result[target] = result[target].apply(as_percent)\n",
        "        result[ratio] = result[ratio].apply(as_percent)\n",
        "    \n",
        "    # возвращение результатов\n",
        "    if only_target: \n",
        "        return result[target].rename('target_percentage')\n",
        "    return result"
      ],
      "metadata": {
        "id": "JscNQUp0Ny_c"
      },
      "execution_count": null,
      "outputs": []
    },
    {
      "cell_type": "markdown",
      "metadata": {
        "id": "_e6pxmqQi9Zv"
      },
      "source": [
        "### Загрузка данных"
      ]
    },
    {
      "cell_type": "code",
      "execution_count": null,
      "metadata": {
        "id": "phTdIgg9MQkL"
      },
      "outputs": [],
      "source": [
        "sessions = pd.read_csv(data_folder / sessions_filename)\n",
        "hits = pd.read_csv(data_folder / hits_filename)"
      ]
    },
    {
      "cell_type": "markdown",
      "metadata": {
        "id": "sMNpY76qkpdJ"
      },
      "source": [
        "## Анализ `hits`"
      ]
    },
    {
      "cell_type": "markdown",
      "metadata": {
        "id": "E57GpC2Sar_3"
      },
      "source": [
        "### Общая информация  \n",
        "\n",
        "Таблица `hits` представляет собой набор событий в рамках одного визита на сайт 'СберАвтоподписки'.  \n",
        "\n",
        "Количество строк в таблице - 15 726 470, а количество колонок - 11. Дубликатов нет.  \n",
        "\n",
        "Полезные колонки в данной таблице - `event_action`, в которой содержится целевая переменная, и `session_id`, помогающая определить в какой конкретно сессии произошло событие. Остальные колонки не могут быть использованы во избежание утечки данных при моделировании.  \n"
      ]
    },
    {
      "cell_type": "code",
      "execution_count": null,
      "metadata": {
        "colab": {
          "base_uri": "https://localhost:8080/",
          "height": 357
        },
        "id": "LOYdpiUYNI4j",
        "outputId": "7c16748c-2c4a-4714-e252-dd8b962f1c91"
      },
      "outputs": [
        {
          "output_type": "execute_result",
          "data": {
            "text/plain": [
              "                                  session_id    hit_date  hit_time  \\\n",
              "0  5639623078712724064.1640254056.1640254056  2021-12-23  597864.0   \n",
              "1  7750352294969115059.1640271109.1640271109  2021-12-23  597331.0   \n",
              "2   885342191847998240.1640235807.1640235807  2021-12-23  796252.0   \n",
              "3   142526202120934167.1640211014.1640211014  2021-12-23  934292.0   \n",
              "4  3450086108837475701.1640265078.1640265078  2021-12-23  768741.0   \n",
              "\n",
              "   hit_number hit_type hit_referer  \\\n",
              "0          30    event         NaN   \n",
              "1          41    event         NaN   \n",
              "2          49    event         NaN   \n",
              "3          46    event         NaN   \n",
              "4          79    event         NaN   \n",
              "\n",
              "                                       hit_page_path event_category  \\\n",
              "0  sberauto.com/cars?utm_source_initial=google&ut...           quiz   \n",
              "1  sberauto.com/cars/fiat?city=1&city=18&rental_c...           quiz   \n",
              "2  sberauto.com/cars/all/volkswagen/polo/e994838f...           quiz   \n",
              "3  sberauto.com/cars?utm_source_initial=yandex&ut...           quiz   \n",
              "4  sberauto.com/cars/all/mercedes-benz/cla-klasse...           quiz   \n",
              "\n",
              "  event_action event_label  event_value  \n",
              "0    quiz_show         NaN          NaN  \n",
              "1    quiz_show         NaN          NaN  \n",
              "2    quiz_show         NaN          NaN  \n",
              "3    quiz_show         NaN          NaN  \n",
              "4    quiz_show         NaN          NaN  "
            ],
            "text/html": [
              "\n",
              "  <div id=\"df-fe2f225f-319a-421b-b0c7-255d1731388e\">\n",
              "    <div class=\"colab-df-container\">\n",
              "      <div>\n",
              "<style scoped>\n",
              "    .dataframe tbody tr th:only-of-type {\n",
              "        vertical-align: middle;\n",
              "    }\n",
              "\n",
              "    .dataframe tbody tr th {\n",
              "        vertical-align: top;\n",
              "    }\n",
              "\n",
              "    .dataframe thead th {\n",
              "        text-align: right;\n",
              "    }\n",
              "</style>\n",
              "<table border=\"1\" class=\"dataframe\">\n",
              "  <thead>\n",
              "    <tr style=\"text-align: right;\">\n",
              "      <th></th>\n",
              "      <th>session_id</th>\n",
              "      <th>hit_date</th>\n",
              "      <th>hit_time</th>\n",
              "      <th>hit_number</th>\n",
              "      <th>hit_type</th>\n",
              "      <th>hit_referer</th>\n",
              "      <th>hit_page_path</th>\n",
              "      <th>event_category</th>\n",
              "      <th>event_action</th>\n",
              "      <th>event_label</th>\n",
              "      <th>event_value</th>\n",
              "    </tr>\n",
              "  </thead>\n",
              "  <tbody>\n",
              "    <tr>\n",
              "      <th>0</th>\n",
              "      <td>5639623078712724064.1640254056.1640254056</td>\n",
              "      <td>2021-12-23</td>\n",
              "      <td>597864.0</td>\n",
              "      <td>30</td>\n",
              "      <td>event</td>\n",
              "      <td>NaN</td>\n",
              "      <td>sberauto.com/cars?utm_source_initial=google&amp;ut...</td>\n",
              "      <td>quiz</td>\n",
              "      <td>quiz_show</td>\n",
              "      <td>NaN</td>\n",
              "      <td>NaN</td>\n",
              "    </tr>\n",
              "    <tr>\n",
              "      <th>1</th>\n",
              "      <td>7750352294969115059.1640271109.1640271109</td>\n",
              "      <td>2021-12-23</td>\n",
              "      <td>597331.0</td>\n",
              "      <td>41</td>\n",
              "      <td>event</td>\n",
              "      <td>NaN</td>\n",
              "      <td>sberauto.com/cars/fiat?city=1&amp;city=18&amp;rental_c...</td>\n",
              "      <td>quiz</td>\n",
              "      <td>quiz_show</td>\n",
              "      <td>NaN</td>\n",
              "      <td>NaN</td>\n",
              "    </tr>\n",
              "    <tr>\n",
              "      <th>2</th>\n",
              "      <td>885342191847998240.1640235807.1640235807</td>\n",
              "      <td>2021-12-23</td>\n",
              "      <td>796252.0</td>\n",
              "      <td>49</td>\n",
              "      <td>event</td>\n",
              "      <td>NaN</td>\n",
              "      <td>sberauto.com/cars/all/volkswagen/polo/e994838f...</td>\n",
              "      <td>quiz</td>\n",
              "      <td>quiz_show</td>\n",
              "      <td>NaN</td>\n",
              "      <td>NaN</td>\n",
              "    </tr>\n",
              "    <tr>\n",
              "      <th>3</th>\n",
              "      <td>142526202120934167.1640211014.1640211014</td>\n",
              "      <td>2021-12-23</td>\n",
              "      <td>934292.0</td>\n",
              "      <td>46</td>\n",
              "      <td>event</td>\n",
              "      <td>NaN</td>\n",
              "      <td>sberauto.com/cars?utm_source_initial=yandex&amp;ut...</td>\n",
              "      <td>quiz</td>\n",
              "      <td>quiz_show</td>\n",
              "      <td>NaN</td>\n",
              "      <td>NaN</td>\n",
              "    </tr>\n",
              "    <tr>\n",
              "      <th>4</th>\n",
              "      <td>3450086108837475701.1640265078.1640265078</td>\n",
              "      <td>2021-12-23</td>\n",
              "      <td>768741.0</td>\n",
              "      <td>79</td>\n",
              "      <td>event</td>\n",
              "      <td>NaN</td>\n",
              "      <td>sberauto.com/cars/all/mercedes-benz/cla-klasse...</td>\n",
              "      <td>quiz</td>\n",
              "      <td>quiz_show</td>\n",
              "      <td>NaN</td>\n",
              "      <td>NaN</td>\n",
              "    </tr>\n",
              "  </tbody>\n",
              "</table>\n",
              "</div>\n",
              "      <button class=\"colab-df-convert\" onclick=\"convertToInteractive('df-fe2f225f-319a-421b-b0c7-255d1731388e')\"\n",
              "              title=\"Convert this dataframe to an interactive table.\"\n",
              "              style=\"display:none;\">\n",
              "        \n",
              "  <svg xmlns=\"http://www.w3.org/2000/svg\" height=\"24px\"viewBox=\"0 0 24 24\"\n",
              "       width=\"24px\">\n",
              "    <path d=\"M0 0h24v24H0V0z\" fill=\"none\"/>\n",
              "    <path d=\"M18.56 5.44l.94 2.06.94-2.06 2.06-.94-2.06-.94-.94-2.06-.94 2.06-2.06.94zm-11 1L8.5 8.5l.94-2.06 2.06-.94-2.06-.94L8.5 2.5l-.94 2.06-2.06.94zm10 10l.94 2.06.94-2.06 2.06-.94-2.06-.94-.94-2.06-.94 2.06-2.06.94z\"/><path d=\"M17.41 7.96l-1.37-1.37c-.4-.4-.92-.59-1.43-.59-.52 0-1.04.2-1.43.59L10.3 9.45l-7.72 7.72c-.78.78-.78 2.05 0 2.83L4 21.41c.39.39.9.59 1.41.59.51 0 1.02-.2 1.41-.59l7.78-7.78 2.81-2.81c.8-.78.8-2.07 0-2.86zM5.41 20L4 18.59l7.72-7.72 1.47 1.35L5.41 20z\"/>\n",
              "  </svg>\n",
              "      </button>\n",
              "      \n",
              "  <style>\n",
              "    .colab-df-container {\n",
              "      display:flex;\n",
              "      flex-wrap:wrap;\n",
              "      gap: 12px;\n",
              "    }\n",
              "\n",
              "    .colab-df-convert {\n",
              "      background-color: #E8F0FE;\n",
              "      border: none;\n",
              "      border-radius: 50%;\n",
              "      cursor: pointer;\n",
              "      display: none;\n",
              "      fill: #1967D2;\n",
              "      height: 32px;\n",
              "      padding: 0 0 0 0;\n",
              "      width: 32px;\n",
              "    }\n",
              "\n",
              "    .colab-df-convert:hover {\n",
              "      background-color: #E2EBFA;\n",
              "      box-shadow: 0px 1px 2px rgba(60, 64, 67, 0.3), 0px 1px 3px 1px rgba(60, 64, 67, 0.15);\n",
              "      fill: #174EA6;\n",
              "    }\n",
              "\n",
              "    [theme=dark] .colab-df-convert {\n",
              "      background-color: #3B4455;\n",
              "      fill: #D2E3FC;\n",
              "    }\n",
              "\n",
              "    [theme=dark] .colab-df-convert:hover {\n",
              "      background-color: #434B5C;\n",
              "      box-shadow: 0px 1px 3px 1px rgba(0, 0, 0, 0.15);\n",
              "      filter: drop-shadow(0px 1px 2px rgba(0, 0, 0, 0.3));\n",
              "      fill: #FFFFFF;\n",
              "    }\n",
              "  </style>\n",
              "\n",
              "      <script>\n",
              "        const buttonEl =\n",
              "          document.querySelector('#df-fe2f225f-319a-421b-b0c7-255d1731388e button.colab-df-convert');\n",
              "        buttonEl.style.display =\n",
              "          google.colab.kernel.accessAllowed ? 'block' : 'none';\n",
              "\n",
              "        async function convertToInteractive(key) {\n",
              "          const element = document.querySelector('#df-fe2f225f-319a-421b-b0c7-255d1731388e');\n",
              "          const dataTable =\n",
              "            await google.colab.kernel.invokeFunction('convertToInteractive',\n",
              "                                                     [key], {});\n",
              "          if (!dataTable) return;\n",
              "\n",
              "          const docLinkHtml = 'Like what you see? Visit the ' +\n",
              "            '<a target=\"_blank\" href=https://colab.research.google.com/notebooks/data_table.ipynb>data table notebook</a>'\n",
              "            + ' to learn more about interactive tables.';\n",
              "          element.innerHTML = '';\n",
              "          dataTable['output_type'] = 'display_data';\n",
              "          await google.colab.output.renderOutput(dataTable, element);\n",
              "          const docLink = document.createElement('div');\n",
              "          docLink.innerHTML = docLinkHtml;\n",
              "          element.appendChild(docLink);\n",
              "        }\n",
              "      </script>\n",
              "    </div>\n",
              "  </div>\n",
              "  "
            ]
          },
          "metadata": {},
          "execution_count": 108
        }
      ],
      "source": [
        "hits.head()"
      ]
    },
    {
      "cell_type": "code",
      "execution_count": null,
      "metadata": {
        "colab": {
          "base_uri": "https://localhost:8080/"
        },
        "id": "QFJWPsSKNyj2",
        "outputId": "288942fb-b592-4dca-e859-f6a5ff090563"
      },
      "outputs": [
        {
          "output_type": "stream",
          "name": "stdout",
          "text": [
            "<class 'pandas.core.frame.DataFrame'>\n",
            "RangeIndex: 15726470 entries, 0 to 15726469\n",
            "Data columns (total 11 columns):\n",
            " #   Column          Dtype  \n",
            "---  ------          -----  \n",
            " 0   session_id      object \n",
            " 1   hit_date        object \n",
            " 2   hit_time        float64\n",
            " 3   hit_number      int64  \n",
            " 4   hit_type        object \n",
            " 5   hit_referer     object \n",
            " 6   hit_page_path   object \n",
            " 7   event_category  object \n",
            " 8   event_action    object \n",
            " 9   event_label     object \n",
            " 10  event_value     float64\n",
            "dtypes: float64(2), int64(1), object(8)\n",
            "memory usage: 1.3+ GB\n"
          ]
        }
      ],
      "source": [
        "hits.info()"
      ]
    },
    {
      "cell_type": "code",
      "execution_count": null,
      "metadata": {
        "colab": {
          "base_uri": "https://localhost:8080/"
        },
        "id": "J9dJE1NmbBiq",
        "outputId": "ca5ceedd-34ef-4959-8d8f-ea1c4d7f5181"
      },
      "outputs": [
        {
          "output_type": "stream",
          "name": "stdout",
          "text": [
            "Количество дубликатов в hits: 0\n"
          ]
        }
      ],
      "source": [
        "print(f'Количество дубликатов в hits: {hits.duplicated().sum()}')"
      ]
    },
    {
      "cell_type": "markdown",
      "metadata": {
        "id": "C2FKiWA2XZnK"
      },
      "source": [
        "### `session_id` - ID визита  \n",
        "\n",
        "Пустых значений в колонке нет.  \n",
        "Количество событий за сессию меняется от 1 до 768, но большая часть сесий заканчивается с 1 - 2 событиями.  "
      ]
    },
    {
      "cell_type": "code",
      "execution_count": null,
      "metadata": {
        "colab": {
          "base_uri": "https://localhost:8080/"
        },
        "id": "ApMwYxQlXZni",
        "outputId": "70bca045-ac5c-4a2a-84eb-73f61aca5ed6"
      },
      "outputs": [
        {
          "output_type": "stream",
          "name": "stdout",
          "text": [
            "Количество пустых значений в `session_id`: 0\n"
          ]
        }
      ],
      "source": [
        "missings = count_missings(hits['session_id'])\n",
        "print(f'Количество пустых значений в `session_id`: {missings}')"
      ]
    },
    {
      "cell_type": "code",
      "execution_count": null,
      "metadata": {
        "colab": {
          "base_uri": "https://localhost:8080/"
        },
        "id": "M63I9EqkfeGl",
        "outputId": "7bde9405-6556-421f-abbd-ebf01001ca77"
      },
      "outputs": [
        {
          "output_type": "execute_result",
          "data": {
            "text/plain": [
              "5442565791571325612.1632449195.1632449195    768\n",
              "6568868914238486437.1632270313.1632270313    678\n",
              "5959671972744778783.1632490527.1632490600    548\n",
              "7452598043578978502.1632358598.1632358598    514\n",
              "3070792010704358528.1629752408.1629752408    498\n",
              "                                            ... \n",
              "4570994095441102117.1630324006.1630324006      1\n",
              "768506153535315810.1630314342.1630314342       1\n",
              "5517253735248338264.1630315080.1630315080      1\n",
              "4054272189286640867.1630334209.1630334209      1\n",
              "5381267721977892188.1640271196.1640271196      1\n",
              "Name: event_counts, Length: 1734610, dtype: int64"
            ]
          },
          "metadata": {},
          "execution_count": 112
        }
      ],
      "source": [
        "event_counts = hits['session_id'].value_counts()\n",
        "event_counts.name = 'event_counts'\n",
        "event_counts"
      ]
    },
    {
      "cell_type": "code",
      "execution_count": null,
      "metadata": {
        "colab": {
          "base_uri": "https://localhost:8080/"
        },
        "id": "q9HwowjehPy0",
        "outputId": "52a0164b-946a-4428-947e-1635aa2e6721"
      },
      "outputs": [
        {
          "output_type": "execute_result",
          "data": {
            "text/plain": [
              "1    537243\n",
              "2    237658\n",
              "6     88086\n",
              "3     85233\n",
              "4     63603\n",
              "Name: event_counts, dtype: int64"
            ]
          },
          "metadata": {},
          "execution_count": 113
        }
      ],
      "source": [
        "event_counts.value_counts().head()"
      ]
    },
    {
      "cell_type": "code",
      "execution_count": null,
      "metadata": {
        "colab": {
          "base_uri": "https://localhost:8080/",
          "height": 355
        },
        "id": "2lIHx1lVfjm5",
        "outputId": "c723daa7-e25a-433e-94b7-975042a6d03f"
      },
      "outputs": [
        {
          "output_type": "display_data",
          "data": {
            "text/plain": [
              "<Figure size 1080x360 with 1 Axes>"
            ],
            "image/png": "[encoded data removed]"
          },
          "metadata": {}
        }
      ],
      "source": [
        "plt.figure(figsize=(15, 5))\n",
        "plt.title('Диаграмма размаха количества событий за сессию')\n",
        "plt.xlim(0, 75)\n",
        "sns.boxplot(x=event_counts);"
      ]
    },
    {
      "cell_type": "markdown",
      "metadata": {
        "id": "shOIbQVIiAH7"
      },
      "source": [
        "### `event_action` - тип события    \n",
        "\n",
        "Пустых значений в колонке нет. Уникальных значений - 230.  \n",
        "Только 8 из них являются целевыми в задаче. И их число составляет 104 908 (0.66% от всех событий).  \n",
        "\n",
        "Самыми популярными событиями являются: `view_card`, `view_new_card`, `sub_landing`.  \n",
        "Самыми популярными целевыми событиями являются: `sub_car_claim_click`, `sub_open_dialog_click`."
      ]
    },
    {
      "cell_type": "code",
      "execution_count": null,
      "metadata": {
        "colab": {
          "base_uri": "https://localhost:8080/"
        },
        "id": "2sNcrsHDiLMV",
        "outputId": "a924d7ad-4bf8-4e8d-872f-343c485779db"
      },
      "outputs": [
        {
          "output_type": "stream",
          "name": "stdout",
          "text": [
            "Количество пустых значений в `event_action`: 0\n"
          ]
        }
      ],
      "source": [
        "missings = count_missings(hits['event_action'])\n",
        "print(f'Количество пустых значений в `event_action`: {missings}')"
      ]
    },
    {
      "cell_type": "code",
      "execution_count": null,
      "metadata": {
        "colab": {
          "base_uri": "https://localhost:8080/"
        },
        "id": "q0BhOs7tiPN9",
        "outputId": "e1b8727d-4c0e-484b-f942-5781cb9a4983"
      },
      "outputs": [
        {
          "output_type": "stream",
          "name": "stdout",
          "text": [
            "Количество уникальных значений в `event_action`: 230\n"
          ]
        }
      ],
      "source": [
        "print(f'Количество уникальных значений в `event_action`: '\n",
        "      f'{hits[\"event_action\"].nunique()}')"
      ]
    },
    {
      "cell_type": "code",
      "execution_count": null,
      "metadata": {
        "colab": {
          "base_uri": "https://localhost:8080/"
        },
        "id": "RsGzKNqfiWfF",
        "outputId": "c73d94f1-33a5-4bdc-be43-b465edadab2b"
      },
      "outputs": [
        {
          "output_type": "execute_result",
          "data": {
            "text/plain": [
              "view_card                             3558985\n",
              "view_new_card                         3551009\n",
              "sub_landing                           1798117\n",
              "go_to_car_card                         973666\n",
              "sub_view_cars_click                    791515\n",
              "search_form_region                     512069\n",
              "search_form_search_btn                 433748\n",
              "sap_search_form_cost_to                356596\n",
              "showed_number_ads                      326274\n",
              "pagination_click                       248944\n",
              "search_form_mark_select                222652\n",
              "quiz_show                              214037\n",
              "search_form_model_select               211890\n",
              "sap_search_form_cost_from              188129\n",
              "photos_all                             181493\n",
              "search_form_search_car_type_select     174877\n",
              "photos                                 158543\n",
              "sub_car_page                           130310\n",
              "view_more_click                        109971\n",
              "search_kpp                              79465\n",
              "sub_header_link_click                   79192\n",
              "proactive invitation shown              75147\n",
              "sub_offer_click                         69291\n",
              "start_chat                              66287\n",
              "listing_ads_sort                        64607\n",
              "Name: event_action, dtype: int64"
            ]
          },
          "metadata": {},
          "execution_count": 117
        }
      ],
      "source": [
        "hits['event_action'].value_counts().head(25)"
      ]
    },
    {
      "cell_type": "code",
      "source": [
        "print(f'Количество целевых событий в hits:\\n')\n",
        "target_counts = hits['event_action'].value_counts()[target_events]\n",
        "\n",
        "all = target_counts.sum()\n",
        "print(f'Всего ({as_percent(all/len(hits))}) {all:>23}')\n",
        "target_counts.sort_values(ascending=False)"
      ],
      "metadata": {
        "colab": {
          "base_uri": "https://localhost:8080/"
        },
        "id": "YOWh0KR-XMWZ",
        "outputId": "eb996b27-d220-45d9-8137-b60c8b6ebf97"
      },
      "execution_count": null,
      "outputs": [
        {
          "output_type": "stream",
          "name": "stdout",
          "text": [
            "Количество целевых событий в hits:\n",
            "\n",
            "Всего (0.66%)                  104289\n"
          ]
        },
        {
          "output_type": "execute_result",
          "data": {
            "text/plain": [
              "sub_car_claim_click             37928\n",
              "sub_open_dialog_click           25870\n",
              "sub_submit_success              18439\n",
              "sub_car_claim_submit_click      12359\n",
              "sub_call_number_click            3653\n",
              "sub_callback_submit_click        3074\n",
              "sub_car_request_submit_click     2966\n",
              "Name: event_action, dtype: int64"
            ]
          },
          "metadata": {},
          "execution_count": 118
        }
      ]
    },
    {
      "cell_type": "markdown",
      "metadata": {
        "id": "VnPeqRGOBWde"
      },
      "source": [
        "### Выделение целевой переменной  \n",
        "\n",
        "Целевую переменную считаем положительной, если за сессию состоялось хотя бы одно из целевых событий. Для тех сессий в `sessions`, для которых не нашлось ни одного события в `hits`, целевую переменную заполняем значением `False`. \n",
        "\n",
        "Целевая переменная распределена неравномерно - только 2.7% сессий закончилось совершением целевого действия."
      ]
    },
    {
      "cell_type": "code",
      "source": [
        "hits['target'] = hits['event_action'].isin(target_events)\n",
        "target = hits.groupby('session_id')['target'].any()\n",
        "sessions = sessions.join(target, on='session_id')"
      ],
      "metadata": {
        "id": "Na1IE5OxaNgL"
      },
      "execution_count": null,
      "outputs": []
    },
    {
      "cell_type": "code",
      "source": [
        "print('Распределение целевой переменной:')\n",
        "sessions['target'].value_counts(dropna=False, normalize=True).apply(as_percent)"
      ],
      "metadata": {
        "colab": {
          "base_uri": "https://localhost:8080/"
        },
        "id": "TtSTPZDSaNbz",
        "outputId": "35fb251a-0983-47aa-f0ae-b8f640e96870"
      },
      "execution_count": null,
      "outputs": [
        {
          "output_type": "stream",
          "name": "stdout",
          "text": [
            "Распределение целевой переменной:\n"
          ]
        },
        {
          "output_type": "execute_result",
          "data": {
            "text/plain": [
              "False    90.43%\n",
              "NaN       6.87%\n",
              "True      2.70%\n",
              "Name: target, dtype: object"
            ]
          },
          "metadata": {},
          "execution_count": 120
        }
      ]
    },
    {
      "cell_type": "code",
      "source": [
        "sessions['target'] = sessions['target'].fillna(False).astype(int)"
      ],
      "metadata": {
        "id": "4KX-z-NPwVJe"
      },
      "execution_count": null,
      "outputs": []
    },
    {
      "cell_type": "markdown",
      "metadata": {
        "id": "gBHAyb2dkjRR"
      },
      "source": [
        "## Анализ `sessions`"
      ]
    },
    {
      "cell_type": "markdown",
      "metadata": {
        "id": "Faitc7-xZcS7"
      },
      "source": [
        "### Общая информация  \n",
        "\n",
        "В таблице 1 860 042 строки и 18 колонок. Дубликатов нет.  \n",
        "Одна колонка имеет численный тип (`visit_number`), одна колонка может быть разбита на две численных (`device_screen_resolution`), две колонки представляют дату (`visit_date`) и время (`visit_time`), а остальные колонки категориальные.  \n",
        "\n"
      ]
    },
    {
      "cell_type": "code",
      "execution_count": null,
      "metadata": {
        "colab": {
          "base_uri": "https://localhost:8080/",
          "height": 270
        },
        "id": "0TXUjBxHj5um",
        "outputId": "1c84a8ed-cafc-4f8b-da79-57b4a429f0bb"
      },
      "outputs": [
        {
          "output_type": "execute_result",
          "data": {
            "text/plain": [
              "                                  session_id          client_id  visit_date  \\\n",
              "0  9055434745589932991.1637753792.1637753792  2108382700.163776  2021-11-24   \n",
              "1   905544597018549464.1636867290.1636867290   210838531.163687  2021-11-14   \n",
              "2  9055446045651783499.1640648526.1640648526  2108385331.164065  2021-12-28   \n",
              "3  9055447046360770272.1622255328.1622255328  2108385564.162225  2021-05-29   \n",
              "4  9055447046360770272.1622255345.1622255345  2108385564.162225  2021-05-29   \n",
              "\n",
              "  visit_time  visit_number            utm_source utm_medium  \\\n",
              "0   14:36:32             1  ZpYIoDJMcFzVoPFsHGJL     banner   \n",
              "1   08:21:30             1  MvfHsxITijuriZxsqZqt        cpm   \n",
              "2   02:42:06             1  ZpYIoDJMcFzVoPFsHGJL     banner   \n",
              "3   05:00:00             1  kjsLglQLzykiRbcDiGcD        cpc   \n",
              "4   05:00:00             2  kjsLglQLzykiRbcDiGcD        cpc   \n",
              "\n",
              "           utm_campaign         utm_adcontent           utm_keyword  \\\n",
              "0  LEoPHuyFvzoNfnzGgfcd  vCIpmpaGBnIQhyYNkXqp  puhZPIYqKXeFPaUviSjo   \n",
              "1  FTjNLDyTrXaWYgZymFkV  xhoenQgDQsgfEPYNPwKO  IGUCNvHlhfHpROGclCit   \n",
              "2  LEoPHuyFvzoNfnzGgfcd  vCIpmpaGBnIQhyYNkXqp  puhZPIYqKXeFPaUviSjo   \n",
              "3                   NaN  NOBKLgtuvqYWkXQHeYWM                   NaN   \n",
              "4                   NaN                   NaN                   NaN   \n",
              "\n",
              "  device_category device_os device_brand device_model  \\\n",
              "0          mobile   Android       Huawei          NaN   \n",
              "1          mobile   Android      Samsung          NaN   \n",
              "2          mobile   Android       Huawei          NaN   \n",
              "3          mobile       NaN       Xiaomi          NaN   \n",
              "4          mobile       NaN       Xiaomi          NaN   \n",
              "\n",
              "  device_screen_resolution    device_browser geo_country     geo_city  target  \n",
              "0                  360x720            Chrome      Russia     Zlatoust       0  \n",
              "1                  385x854  Samsung Internet      Russia       Moscow       0  \n",
              "2                  360x720            Chrome      Russia  Krasnoyarsk       0  \n",
              "3                  393x786            Chrome      Russia       Moscow       0  \n",
              "4                  393x786            Chrome      Russia       Moscow       0  "
            ],
            "text/html": [
              "\n",
              "  <div id=\"df-1fe93b00-3cc9-436b-863f-ce6a99d2997a\">\n",
              "    <div class=\"colab-df-container\">\n",
              "      <div>\n",
              "<style scoped>\n",
              "    .dataframe tbody tr th:only-of-type {\n",
              "        vertical-align: middle;\n",
              "    }\n",
              "\n",
              "    .dataframe tbody tr th {\n",
              "        vertical-align: top;\n",
              "    }\n",
              "\n",
              "    .dataframe thead th {\n",
              "        text-align: right;\n",
              "    }\n",
              "</style>\n",
              "<table border=\"1\" class=\"dataframe\">\n",
              "  <thead>\n",
              "    <tr style=\"text-align: right;\">\n",
              "      <th></th>\n",
              "      <th>session_id</th>\n",
              "      <th>client_id</th>\n",
              "      <th>visit_date</th>\n",
              "      <th>visit_time</th>\n",
              "      <th>visit_number</th>\n",
              "      <th>utm_source</th>\n",
              "      <th>utm_medium</th>\n",
              "      <th>utm_campaign</th>\n",
              "      <th>utm_adcontent</th>\n",
              "      <th>utm_keyword</th>\n",
              "      <th>device_category</th>\n",
              "      <th>device_os</th>\n",
              "      <th>device_brand</th>\n",
              "      <th>device_model</th>\n",
              "      <th>device_screen_resolution</th>\n",
              "      <th>device_browser</th>\n",
              "      <th>geo_country</th>\n",
              "      <th>geo_city</th>\n",
              "      <th>target</th>\n",
              "    </tr>\n",
              "  </thead>\n",
              "  <tbody>\n",
              "    <tr>\n",
              "      <th>0</th>\n",
              "      <td>9055434745589932991.1637753792.1637753792</td>\n",
              "      <td>2108382700.163776</td>\n",
              "      <td>2021-11-24</td>\n",
              "      <td>14:36:32</td>\n",
              "      <td>1</td>\n",
              "      <td>ZpYIoDJMcFzVoPFsHGJL</td>\n",
              "      <td>banner</td>\n",
              "      <td>LEoPHuyFvzoNfnzGgfcd</td>\n",
              "      <td>vCIpmpaGBnIQhyYNkXqp</td>\n",
              "      <td>puhZPIYqKXeFPaUviSjo</td>\n",
              "      <td>mobile</td>\n",
              "      <td>Android</td>\n",
              "      <td>Huawei</td>\n",
              "      <td>NaN</td>\n",
              "      <td>360x720</td>\n",
              "      <td>Chrome</td>\n",
              "      <td>Russia</td>\n",
              "      <td>Zlatoust</td>\n",
              "      <td>0</td>\n",
              "    </tr>\n",
              "    <tr>\n",
              "      <th>1</th>\n",
              "      <td>905544597018549464.1636867290.1636867290</td>\n",
              "      <td>210838531.163687</td>\n",
              "      <td>2021-11-14</td>\n",
              "      <td>08:21:30</td>\n",
              "      <td>1</td>\n",
              "      <td>MvfHsxITijuriZxsqZqt</td>\n",
              "      <td>cpm</td>\n",
              "      <td>FTjNLDyTrXaWYgZymFkV</td>\n",
              "      <td>xhoenQgDQsgfEPYNPwKO</td>\n",
              "      <td>IGUCNvHlhfHpROGclCit</td>\n",
              "      <td>mobile</td>\n",
              "      <td>Android</td>\n",
              "      <td>Samsung</td>\n",
              "      <td>NaN</td>\n",
              "      <td>385x854</td>\n",
              "      <td>Samsung Internet</td>\n",
              "      <td>Russia</td>\n",
              "      <td>Moscow</td>\n",
              "      <td>0</td>\n",
              "    </tr>\n",
              "    <tr>\n",
              "      <th>2</th>\n",
              "      <td>9055446045651783499.1640648526.1640648526</td>\n",
              "      <td>2108385331.164065</td>\n",
              "      <td>2021-12-28</td>\n",
              "      <td>02:42:06</td>\n",
              "      <td>1</td>\n",
              "      <td>ZpYIoDJMcFzVoPFsHGJL</td>\n",
              "      <td>banner</td>\n",
              "      <td>LEoPHuyFvzoNfnzGgfcd</td>\n",
              "      <td>vCIpmpaGBnIQhyYNkXqp</td>\n",
              "      <td>puhZPIYqKXeFPaUviSjo</td>\n",
              "      <td>mobile</td>\n",
              "      <td>Android</td>\n",
              "      <td>Huawei</td>\n",
              "      <td>NaN</td>\n",
              "      <td>360x720</td>\n",
              "      <td>Chrome</td>\n",
              "      <td>Russia</td>\n",
              "      <td>Krasnoyarsk</td>\n",
              "      <td>0</td>\n",
              "    </tr>\n",
              "    <tr>\n",
              "      <th>3</th>\n",
              "      <td>9055447046360770272.1622255328.1622255328</td>\n",
              "      <td>2108385564.162225</td>\n",
              "      <td>2021-05-29</td>\n",
              "      <td>05:00:00</td>\n",
              "      <td>1</td>\n",
              "      <td>kjsLglQLzykiRbcDiGcD</td>\n",
              "      <td>cpc</td>\n",
              "      <td>NaN</td>\n",
              "      <td>NOBKLgtuvqYWkXQHeYWM</td>\n",
              "      <td>NaN</td>\n",
              "      <td>mobile</td>\n",
              "      <td>NaN</td>\n",
              "      <td>Xiaomi</td>\n",
              "      <td>NaN</td>\n",
              "      <td>393x786</td>\n",
              "      <td>Chrome</td>\n",
              "      <td>Russia</td>\n",
              "      <td>Moscow</td>\n",
              "      <td>0</td>\n",
              "    </tr>\n",
              "    <tr>\n",
              "      <th>4</th>\n",
              "      <td>9055447046360770272.1622255345.1622255345</td>\n",
              "      <td>2108385564.162225</td>\n",
              "      <td>2021-05-29</td>\n",
              "      <td>05:00:00</td>\n",
              "      <td>2</td>\n",
              "      <td>kjsLglQLzykiRbcDiGcD</td>\n",
              "      <td>cpc</td>\n",
              "      <td>NaN</td>\n",
              "      <td>NaN</td>\n",
              "      <td>NaN</td>\n",
              "      <td>mobile</td>\n",
              "      <td>NaN</td>\n",
              "      <td>Xiaomi</td>\n",
              "      <td>NaN</td>\n",
              "      <td>393x786</td>\n",
              "      <td>Chrome</td>\n",
              "      <td>Russia</td>\n",
              "      <td>Moscow</td>\n",
              "      <td>0</td>\n",
              "    </tr>\n",
              "  </tbody>\n",
              "</table>\n",
              "</div>\n",
              "      <button class=\"colab-df-convert\" onclick=\"convertToInteractive('df-1fe93b00-3cc9-436b-863f-ce6a99d2997a')\"\n",
              "              title=\"Convert this dataframe to an interactive table.\"\n",
              "              style=\"display:none;\">\n",
              "        \n",
              "  <svg xmlns=\"http://www.w3.org/2000/svg\" height=\"24px\"viewBox=\"0 0 24 24\"\n",
              "       width=\"24px\">\n",
              "    <path d=\"M0 0h24v24H0V0z\" fill=\"none\"/>\n",
              "    <path d=\"M18.56 5.44l.94 2.06.94-2.06 2.06-.94-2.06-.94-.94-2.06-.94 2.06-2.06.94zm-11 1L8.5 8.5l.94-2.06 2.06-.94-2.06-.94L8.5 2.5l-.94 2.06-2.06.94zm10 10l.94 2.06.94-2.06 2.06-.94-2.06-.94-.94-2.06-.94 2.06-2.06.94z\"/><path d=\"M17.41 7.96l-1.37-1.37c-.4-.4-.92-.59-1.43-.59-.52 0-1.04.2-1.43.59L10.3 9.45l-7.72 7.72c-.78.78-.78 2.05 0 2.83L4 21.41c.39.39.9.59 1.41.59.51 0 1.02-.2 1.41-.59l7.78-7.78 2.81-2.81c.8-.78.8-2.07 0-2.86zM5.41 20L4 18.59l7.72-7.72 1.47 1.35L5.41 20z\"/>\n",
              "  </svg>\n",
              "      </button>\n",
              "      \n",
              "  <style>\n",
              "    .colab-df-container {\n",
              "      display:flex;\n",
              "      flex-wrap:wrap;\n",
              "      gap: 12px;\n",
              "    }\n",
              "\n",
              "    .colab-df-convert {\n",
              "      background-color: #E8F0FE;\n",
              "      border: none;\n",
              "      border-radius: 50%;\n",
              "      cursor: pointer;\n",
              "      display: none;\n",
              "      fill: #1967D2;\n",
              "      height: 32px;\n",
              "      padding: 0 0 0 0;\n",
              "      width: 32px;\n",
              "    }\n",
              "\n",
              "    .colab-df-convert:hover {\n",
              "      background-color: #E2EBFA;\n",
              "      box-shadow: 0px 1px 2px rgba(60, 64, 67, 0.3), 0px 1px 3px 1px rgba(60, 64, 67, 0.15);\n",
              "      fill: #174EA6;\n",
              "    }\n",
              "\n",
              "    [theme=dark] .colab-df-convert {\n",
              "      background-color: #3B4455;\n",
              "      fill: #D2E3FC;\n",
              "    }\n",
              "\n",
              "    [theme=dark] .colab-df-convert:hover {\n",
              "      background-color: #434B5C;\n",
              "      box-shadow: 0px 1px 3px 1px rgba(0, 0, 0, 0.15);\n",
              "      filter: drop-shadow(0px 1px 2px rgba(0, 0, 0, 0.3));\n",
              "      fill: #FFFFFF;\n",
              "    }\n",
              "  </style>\n",
              "\n",
              "      <script>\n",
              "        const buttonEl =\n",
              "          document.querySelector('#df-1fe93b00-3cc9-436b-863f-ce6a99d2997a button.colab-df-convert');\n",
              "        buttonEl.style.display =\n",
              "          google.colab.kernel.accessAllowed ? 'block' : 'none';\n",
              "\n",
              "        async function convertToInteractive(key) {\n",
              "          const element = document.querySelector('#df-1fe93b00-3cc9-436b-863f-ce6a99d2997a');\n",
              "          const dataTable =\n",
              "            await google.colab.kernel.invokeFunction('convertToInteractive',\n",
              "                                                     [key], {});\n",
              "          if (!dataTable) return;\n",
              "\n",
              "          const docLinkHtml = 'Like what you see? Visit the ' +\n",
              "            '<a target=\"_blank\" href=https://colab.research.google.com/notebooks/data_table.ipynb>data table notebook</a>'\n",
              "            + ' to learn more about interactive tables.';\n",
              "          element.innerHTML = '';\n",
              "          dataTable['output_type'] = 'display_data';\n",
              "          await google.colab.output.renderOutput(dataTable, element);\n",
              "          const docLink = document.createElement('div');\n",
              "          docLink.innerHTML = docLinkHtml;\n",
              "          element.appendChild(docLink);\n",
              "        }\n",
              "      </script>\n",
              "    </div>\n",
              "  </div>\n",
              "  "
            ]
          },
          "metadata": {},
          "execution_count": 122
        }
      ],
      "source": [
        "sessions.head()"
      ]
    },
    {
      "cell_type": "code",
      "execution_count": null,
      "metadata": {
        "colab": {
          "base_uri": "https://localhost:8080/"
        },
        "id": "TeodJQnkkyTY",
        "outputId": "92f4689b-3d84-49ab-846d-bc73a8f766e3"
      },
      "outputs": [
        {
          "output_type": "stream",
          "name": "stdout",
          "text": [
            "<class 'pandas.core.frame.DataFrame'>\n",
            "RangeIndex: 1860042 entries, 0 to 1860041\n",
            "Data columns (total 18 columns):\n",
            " #   Column                    Dtype \n",
            "---  ------                    ----- \n",
            " 0   session_id                object\n",
            " 1   client_id                 object\n",
            " 2   visit_date                object\n",
            " 3   visit_time                object\n",
            " 4   visit_number              int64 \n",
            " 5   utm_source                object\n",
            " 6   utm_medium                object\n",
            " 7   utm_campaign              object\n",
            " 8   utm_adcontent             object\n",
            " 9   utm_keyword               object\n",
            " 10  device_category           object\n",
            " 11  device_os                 object\n",
            " 12  device_brand              object\n",
            " 13  device_model              object\n",
            " 14  device_screen_resolution  object\n",
            " 15  device_browser            object\n",
            " 16  geo_country               object\n",
            " 17  geo_city                  object\n",
            "dtypes: int64(1), object(17)\n",
            "memory usage: 255.4+ MB\n"
          ]
        }
      ],
      "source": [
        "sessions.drop(columns='target').info()"
      ]
    },
    {
      "cell_type": "code",
      "execution_count": null,
      "metadata": {
        "colab": {
          "base_uri": "https://localhost:8080/"
        },
        "id": "jVH1F8byY8Mf",
        "outputId": "97ce566a-550a-4e04-b9f9-6e81bba144f0"
      },
      "outputs": [
        {
          "output_type": "stream",
          "name": "stdout",
          "text": [
            "Количество дубликатов в sessions: 0\n"
          ]
        }
      ],
      "source": [
        "print(f'Количество дубликатов в sessions: {sessions.duplicated().sum()}')"
      ]
    },
    {
      "cell_type": "markdown",
      "metadata": {
        "id": "0sNAw-DMlZXS"
      },
      "source": [
        "### `session_id` - ID визита  \n",
        "\n",
        "Пустых значений в колонке нет. Все значения в колонке уникальны.  \n",
        "Данная колонка будет использоваться в качестве индекса в окончательном датасете."
      ]
    },
    {
      "cell_type": "code",
      "execution_count": null,
      "metadata": {
        "colab": {
          "base_uri": "https://localhost:8080/"
        },
        "id": "8sMfJCAkm8V_",
        "outputId": "ebe4cc14-471b-458a-d45e-7c971400f698"
      },
      "outputs": [
        {
          "output_type": "stream",
          "name": "stdout",
          "text": [
            "Количество пустых значений в `session_id`: 0\n"
          ]
        }
      ],
      "source": [
        "missings = count_missings(sessions['session_id'])\n",
        "print(f'Количество пустых значений в `session_id`: {missings}')"
      ]
    },
    {
      "cell_type": "code",
      "execution_count": null,
      "metadata": {
        "colab": {
          "base_uri": "https://localhost:8080/"
        },
        "id": "pBqkAHPKl5ay",
        "outputId": "0c93bb42-e571-46f7-be62-66ed133694d0"
      },
      "outputs": [
        {
          "output_type": "stream",
          "name": "stdout",
          "text": [
            "Все значения колонки `session_id` уникальны: True\n"
          ]
        }
      ],
      "source": [
        "all_unique = sessions['session_id'].nunique() == len(sessions)\n",
        "print(f'Все значения колонки `session_id` уникальны: {all_unique}')"
      ]
    },
    {
      "cell_type": "markdown",
      "metadata": {
        "id": "c2EvZXqEnxac"
      },
      "source": [
        "### `client_id` - ID посетителя  \n",
        "\n",
        "Пустых значений в колонке нет. А уникальных значений слишком много.\n",
        "\n",
        "Вряд ли получится вытащить полезную информацию из этой колонки. Она просто не будет использоваться.  \n"
      ]
    },
    {
      "cell_type": "code",
      "execution_count": null,
      "metadata": {
        "colab": {
          "base_uri": "https://localhost:8080/"
        },
        "id": "pIqhTuHGoKHF",
        "outputId": "0470d3b4-cd5a-46fe-e2bd-edef60edc480"
      },
      "outputs": [
        {
          "output_type": "stream",
          "name": "stdout",
          "text": [
            "Количество пустых значений в `client_id`: 0\n"
          ]
        }
      ],
      "source": [
        "missings = count_missings(sessions[\"client_id\"])\n",
        "print(f'Количество пустых значений в `client_id`: {missings}')"
      ]
    },
    {
      "cell_type": "code",
      "source": [
        "print(f'Количество уникальных значений в `client_id`: '\n",
        "      f'{sessions[\"client_id\"].nunique()}')"
      ],
      "metadata": {
        "colab": {
          "base_uri": "https://localhost:8080/"
        },
        "id": "kx5hE-UXxxex",
        "outputId": "f4ade2d6-69db-4ab7-95d1-179d22170913"
      },
      "execution_count": null,
      "outputs": [
        {
          "output_type": "stream",
          "name": "stdout",
          "text": [
            "Количество уникальных значений в `client_id`: 1391717\n"
          ]
        }
      ]
    },
    {
      "cell_type": "markdown",
      "metadata": {
        "id": "ybzW67Juonze"
      },
      "source": [
        "### `visit_date` - дата визита  \n",
        "\n",
        "Пустых значений в колонке нет.  \n",
        "\n",
        "Диапазон представленных дат: с 19 мая 2021 по 31 декабря 2021.  \n",
        "Можно предположить, что даны полные данные за 2021 год, так как сервис \"СберАвтоподписка\" начал работу как раз в мае 2021.  \n",
        "\n",
        "В целом на графике количества посещений наблюдается легкий восходящий тренд.  \n",
        "И ещё на графике очень заметен пик посещений в мае 2021, скорее всего это связано с рекламной кампанией, новостями о новом сервисе, хайпом.  \n",
        "Больше сессий происходит и больше целевых действий совершается в начале недели.\n",
        "\n",
        "Сама колонка `visit_date` участвовать в окончательном датасете не будет, но из неё можно получить признаки `visit_date_weekday` - день недели, `visit_date_weekend` - выходной ли, `visit_date_day` - день месяца, `visit_date_holiday` - является ли день праздничным в России."
      ]
    },
    {
      "cell_type": "code",
      "execution_count": null,
      "metadata": {
        "id": "UM_xQkaoot3Z"
      },
      "outputs": [],
      "source": [
        "sessions['visit_date'] = pd.to_datetime(sessions['visit_date'])"
      ]
    },
    {
      "cell_type": "code",
      "execution_count": null,
      "metadata": {
        "colab": {
          "base_uri": "https://localhost:8080/"
        },
        "id": "j2pIX3FIoxJm",
        "outputId": "2517774b-60d0-4cc5-c83b-01b6591350a4"
      },
      "outputs": [
        {
          "output_type": "stream",
          "name": "stdout",
          "text": [
            "Количество пустых значений в `visit_date`: 0\n"
          ]
        }
      ],
      "source": [
        "missings = count_missings(sessions['visit_date'])\n",
        "print(f'Количество пустых значений в `visit_date`: {missings}')"
      ]
    },
    {
      "cell_type": "code",
      "execution_count": null,
      "metadata": {
        "colab": {
          "base_uri": "https://localhost:8080/"
        },
        "id": "LsuVpWmyxaD_",
        "outputId": "8c217b80-672f-44c9-af8a-cdd8ff67de1e"
      },
      "outputs": [
        {
          "output_type": "stream",
          "name": "stdout",
          "text": [
            "Количество уникальных значений в `visit_date`: 226\n"
          ]
        }
      ],
      "source": [
        "n_unique = sessions['visit_date'].nunique()\n",
        "print(f'Количество уникальных значений в `visit_date`: {n_unique}')"
      ]
    },
    {
      "cell_type": "code",
      "execution_count": null,
      "metadata": {
        "colab": {
          "base_uri": "https://localhost:8080/"
        },
        "id": "BYQL6Chho2c_",
        "outputId": "4cacfef8-b180-4d9b-857d-2841f31fa699"
      },
      "outputs": [
        {
          "output_type": "execute_result",
          "data": {
            "text/plain": [
              "count                          1860042\n",
              "mean     2021-09-26 11:45:55.389394176\n",
              "min                2021-05-19 00:00:00\n",
              "25%                2021-08-02 00:00:00\n",
              "50%                2021-10-06 00:00:00\n",
              "75%                2021-11-23 00:00:00\n",
              "max                2021-12-31 00:00:00\n",
              "Name: visit_date, dtype: object"
            ]
          },
          "metadata": {},
          "execution_count": 132
        }
      ],
      "source": [
        "sessions['visit_date'].describe(datetime_is_numeric=True)"
      ]
    },
    {
      "cell_type": "code",
      "execution_count": null,
      "metadata": {
        "colab": {
          "base_uri": "https://localhost:8080/",
          "height": 410
        },
        "id": "dRWjOHI7wjg5",
        "outputId": "fa4ec8c5-0f6c-47c5-c976-924c964021f5"
      },
      "outputs": [
        {
          "output_type": "display_data",
          "data": {
            "text/plain": [
              "<Figure size 1296x432 with 1 Axes>"
            ],
            "image/png": "[encoded data removed]"
          },
          "metadata": {}
        }
      ],
      "source": [
        "sns.histplot(sessions, x='visit_date', discrete=True)\n",
        "plt.title('Количество сессий по дням');"
      ]
    },
    {
      "cell_type": "markdown",
      "source": [
        "Получим новый признак - день недели `visit_date_weekday`."
      ],
      "metadata": {
        "id": "AQlXG64Azr3Q"
      }
    },
    {
      "cell_type": "code",
      "source": [
        "sessions['visit_date_weekday'] = sessions['visit_date'].dt.day_of_week"
      ],
      "metadata": {
        "id": "NhpfzHhBaE_c"
      },
      "execution_count": null,
      "outputs": []
    },
    {
      "cell_type": "code",
      "source": [
        "sns.histplot(data=sessions, x='visit_date_weekday', discrete=True)\n",
        "plt.title('Количество сессий по дням недели');"
      ],
      "metadata": {
        "colab": {
          "base_uri": "https://localhost:8080/",
          "height": 410
        },
        "id": "1XggTU4K7TxM",
        "outputId": "85940a58-ecd1-4084-ebc2-c976f03dcbb1"
      },
      "execution_count": null,
      "outputs": [
        {
          "output_type": "display_data",
          "data": {
            "text/plain": [
              "<Figure size 1296x432 with 1 Axes>"
            ],
            "image/png": "[encoded data removed]"
          },
          "metadata": {}
        }
      ]
    },
    {
      "cell_type": "code",
      "source": [
        "print('Процент целевых действий по дням недели:')\n",
        "target_percentage(sessions, 'visit_date_weekday', index_name='День недели')"
      ],
      "metadata": {
        "colab": {
          "base_uri": "https://localhost:8080/",
          "height": 319
        },
        "id": "10dtdmF_9ylW",
        "outputId": "f2eabcca-e7e1-4087-e3a7-02bd7f3de8ca"
      },
      "execution_count": null,
      "outputs": [
        {
          "output_type": "stream",
          "name": "stdout",
          "text": [
            "Процент целевых действий по дням недели:\n"
          ]
        },
        {
          "output_type": "execute_result",
          "data": {
            "text/plain": [
              "             Количество объектов Доля от общего числа Процент целевых действий\n",
              "День недели                                                                   \n",
              "0                         300906               16.18%                    3.15%\n",
              "1                         305130               16.40%                    2.84%\n",
              "2                         258616               13.90%                    2.81%\n",
              "3                         274462               14.76%                    2.63%\n",
              "5                         226397               12.17%                    2.46%\n",
              "6                         225712               12.13%                    2.45%\n",
              "4                         268819               14.45%                    2.44%"
            ],
            "text/html": [
              "\n",
              "  <div id=\"df-66d19ad0-dee4-4281-a161-979a2f935138\">\n",
              "    <div class=\"colab-df-container\">\n",
              "      <div>\n",
              "<style scoped>\n",
              "    .dataframe tbody tr th:only-of-type {\n",
              "        vertical-align: middle;\n",
              "    }\n",
              "\n",
              "    .dataframe tbody tr th {\n",
              "        vertical-align: top;\n",
              "    }\n",
              "\n",
              "    .dataframe thead th {\n",
              "        text-align: right;\n",
              "    }\n",
              "</style>\n",
              "<table border=\"1\" class=\"dataframe\">\n",
              "  <thead>\n",
              "    <tr style=\"text-align: right;\">\n",
              "      <th></th>\n",
              "      <th>Количество объектов</th>\n",
              "      <th>Доля от общего числа</th>\n",
              "      <th>Процент целевых действий</th>\n",
              "    </tr>\n",
              "    <tr>\n",
              "      <th>День недели</th>\n",
              "      <th></th>\n",
              "      <th></th>\n",
              "      <th></th>\n",
              "    </tr>\n",
              "  </thead>\n",
              "  <tbody>\n",
              "    <tr>\n",
              "      <th>0</th>\n",
              "      <td>300906</td>\n",
              "      <td>16.18%</td>\n",
              "      <td>3.15%</td>\n",
              "    </tr>\n",
              "    <tr>\n",
              "      <th>1</th>\n",
              "      <td>305130</td>\n",
              "      <td>16.40%</td>\n",
              "      <td>2.84%</td>\n",
              "    </tr>\n",
              "    <tr>\n",
              "      <th>2</th>\n",
              "      <td>258616</td>\n",
              "      <td>13.90%</td>\n",
              "      <td>2.81%</td>\n",
              "    </tr>\n",
              "    <tr>\n",
              "      <th>3</th>\n",
              "      <td>274462</td>\n",
              "      <td>14.76%</td>\n",
              "      <td>2.63%</td>\n",
              "    </tr>\n",
              "    <tr>\n",
              "      <th>5</th>\n",
              "      <td>226397</td>\n",
              "      <td>12.17%</td>\n",
              "      <td>2.46%</td>\n",
              "    </tr>\n",
              "    <tr>\n",
              "      <th>6</th>\n",
              "      <td>225712</td>\n",
              "      <td>12.13%</td>\n",
              "      <td>2.45%</td>\n",
              "    </tr>\n",
              "    <tr>\n",
              "      <th>4</th>\n",
              "      <td>268819</td>\n",
              "      <td>14.45%</td>\n",
              "      <td>2.44%</td>\n",
              "    </tr>\n",
              "  </tbody>\n",
              "</table>\n",
              "</div>\n",
              "      <button class=\"colab-df-convert\" onclick=\"convertToInteractive('df-66d19ad0-dee4-4281-a161-979a2f935138')\"\n",
              "              title=\"Convert this dataframe to an interactive table.\"\n",
              "              style=\"display:none;\">\n",
              "        \n",
              "  <svg xmlns=\"http://www.w3.org/2000/svg\" height=\"24px\"viewBox=\"0 0 24 24\"\n",
              "       width=\"24px\">\n",
              "    <path d=\"M0 0h24v24H0V0z\" fill=\"none\"/>\n",
              "    <path d=\"M18.56 5.44l.94 2.06.94-2.06 2.06-.94-2.06-.94-.94-2.06-.94 2.06-2.06.94zm-11 1L8.5 8.5l.94-2.06 2.06-.94-2.06-.94L8.5 2.5l-.94 2.06-2.06.94zm10 10l.94 2.06.94-2.06 2.06-.94-2.06-.94-.94-2.06-.94 2.06-2.06.94z\"/><path d=\"M17.41 7.96l-1.37-1.37c-.4-.4-.92-.59-1.43-.59-.52 0-1.04.2-1.43.59L10.3 9.45l-7.72 7.72c-.78.78-.78 2.05 0 2.83L4 21.41c.39.39.9.59 1.41.59.51 0 1.02-.2 1.41-.59l7.78-7.78 2.81-2.81c.8-.78.8-2.07 0-2.86zM5.41 20L4 18.59l7.72-7.72 1.47 1.35L5.41 20z\"/>\n",
              "  </svg>\n",
              "      </button>\n",
              "      \n",
              "  <style>\n",
              "    .colab-df-container {\n",
              "      display:flex;\n",
              "      flex-wrap:wrap;\n",
              "      gap: 12px;\n",
              "    }\n",
              "\n",
              "    .colab-df-convert {\n",
              "      background-color: #E8F0FE;\n",
              "      border: none;\n",
              "      border-radius: 50%;\n",
              "      cursor: pointer;\n",
              "      display: none;\n",
              "      fill: #1967D2;\n",
              "      height: 32px;\n",
              "      padding: 0 0 0 0;\n",
              "      width: 32px;\n",
              "    }\n",
              "\n",
              "    .colab-df-convert:hover {\n",
              "      background-color: #E2EBFA;\n",
              "      box-shadow: 0px 1px 2px rgba(60, 64, 67, 0.3), 0px 1px 3px 1px rgba(60, 64, 67, 0.15);\n",
              "      fill: #174EA6;\n",
              "    }\n",
              "\n",
              "    [theme=dark] .colab-df-convert {\n",
              "      background-color: #3B4455;\n",
              "      fill: #D2E3FC;\n",
              "    }\n",
              "\n",
              "    [theme=dark] .colab-df-convert:hover {\n",
              "      background-color: #434B5C;\n",
              "      box-shadow: 0px 1px 3px 1px rgba(0, 0, 0, 0.15);\n",
              "      filter: drop-shadow(0px 1px 2px rgba(0, 0, 0, 0.3));\n",
              "      fill: #FFFFFF;\n",
              "    }\n",
              "  </style>\n",
              "\n",
              "      <script>\n",
              "        const buttonEl =\n",
              "          document.querySelector('#df-66d19ad0-dee4-4281-a161-979a2f935138 button.colab-df-convert');\n",
              "        buttonEl.style.display =\n",
              "          google.colab.kernel.accessAllowed ? 'block' : 'none';\n",
              "\n",
              "        async function convertToInteractive(key) {\n",
              "          const element = document.querySelector('#df-66d19ad0-dee4-4281-a161-979a2f935138');\n",
              "          const dataTable =\n",
              "            await google.colab.kernel.invokeFunction('convertToInteractive',\n",
              "                                                     [key], {});\n",
              "          if (!dataTable) return;\n",
              "\n",
              "          const docLinkHtml = 'Like what you see? Visit the ' +\n",
              "            '<a target=\"_blank\" href=https://colab.research.google.com/notebooks/data_table.ipynb>data table notebook</a>'\n",
              "            + ' to learn more about interactive tables.';\n",
              "          element.innerHTML = '';\n",
              "          dataTable['output_type'] = 'display_data';\n",
              "          await google.colab.output.renderOutput(dataTable, element);\n",
              "          const docLink = document.createElement('div');\n",
              "          docLink.innerHTML = docLinkHtml;\n",
              "          element.appendChild(docLink);\n",
              "        }\n",
              "      </script>\n",
              "    </div>\n",
              "  </div>\n",
              "  "
            ]
          },
          "metadata": {},
          "execution_count": 136
        }
      ]
    },
    {
      "cell_type": "markdown",
      "source": [
        "Получим новый признак, говорящий о выходном дне `visit_date_weekend`."
      ],
      "metadata": {
        "id": "bsiXK4djz1g-"
      }
    },
    {
      "cell_type": "code",
      "source": [
        "sessions['visit_date_weekend'] = sessions['visit_date_weekday'] > 4"
      ],
      "metadata": {
        "id": "cLRM5frkCeV5"
      },
      "execution_count": null,
      "outputs": []
    },
    {
      "cell_type": "code",
      "source": [
        "print('Распределение выходных дней:')\n",
        "target_percentage(sessions, 'visit_date_weekend', index_name='Выходной')"
      ],
      "metadata": {
        "colab": {
          "base_uri": "https://localhost:8080/",
          "height": 162
        },
        "id": "7F7hmZpcCguZ",
        "outputId": "68a29646-cf28-492f-a729-3f63fd8fa6fb"
      },
      "execution_count": null,
      "outputs": [
        {
          "output_type": "stream",
          "name": "stdout",
          "text": [
            "Распределение выходных дней:\n"
          ]
        },
        {
          "output_type": "execute_result",
          "data": {
            "text/plain": [
              "          Количество объектов Доля от общего числа Процент целевых действий\n",
              "Выходной                                                                   \n",
              "False                 1407933               75.69%                    2.78%\n",
              "True                   452109               24.31%                    2.46%"
            ],
            "text/html": [
              "\n",
              "  <div id=\"df-da571b6f-62e6-49ce-a003-b6195a971e0a\">\n",
              "    <div class=\"colab-df-container\">\n",
              "      <div>\n",
              "<style scoped>\n",
              "    .dataframe tbody tr th:only-of-type {\n",
              "        vertical-align: middle;\n",
              "    }\n",
              "\n",
              "    .dataframe tbody tr th {\n",
              "        vertical-align: top;\n",
              "    }\n",
              "\n",
              "    .dataframe thead th {\n",
              "        text-align: right;\n",
              "    }\n",
              "</style>\n",
              "<table border=\"1\" class=\"dataframe\">\n",
              "  <thead>\n",
              "    <tr style=\"text-align: right;\">\n",
              "      <th></th>\n",
              "      <th>Количество объектов</th>\n",
              "      <th>Доля от общего числа</th>\n",
              "      <th>Процент целевых действий</th>\n",
              "    </tr>\n",
              "    <tr>\n",
              "      <th>Выходной</th>\n",
              "      <th></th>\n",
              "      <th></th>\n",
              "      <th></th>\n",
              "    </tr>\n",
              "  </thead>\n",
              "  <tbody>\n",
              "    <tr>\n",
              "      <th>False</th>\n",
              "      <td>1407933</td>\n",
              "      <td>75.69%</td>\n",
              "      <td>2.78%</td>\n",
              "    </tr>\n",
              "    <tr>\n",
              "      <th>True</th>\n",
              "      <td>452109</td>\n",
              "      <td>24.31%</td>\n",
              "      <td>2.46%</td>\n",
              "    </tr>\n",
              "  </tbody>\n",
              "</table>\n",
              "</div>\n",
              "      <button class=\"colab-df-convert\" onclick=\"convertToInteractive('df-da571b6f-62e6-49ce-a003-b6195a971e0a')\"\n",
              "              title=\"Convert this dataframe to an interactive table.\"\n",
              "              style=\"display:none;\">\n",
              "        \n",
              "  <svg xmlns=\"http://www.w3.org/2000/svg\" height=\"24px\"viewBox=\"0 0 24 24\"\n",
              "       width=\"24px\">\n",
              "    <path d=\"M0 0h24v24H0V0z\" fill=\"none\"/>\n",
              "    <path d=\"M18.56 5.44l.94 2.06.94-2.06 2.06-.94-2.06-.94-.94-2.06-.94 2.06-2.06.94zm-11 1L8.5 8.5l.94-2.06 2.06-.94-2.06-.94L8.5 2.5l-.94 2.06-2.06.94zm10 10l.94 2.06.94-2.06 2.06-.94-2.06-.94-.94-2.06-.94 2.06-2.06.94z\"/><path d=\"M17.41 7.96l-1.37-1.37c-.4-.4-.92-.59-1.43-.59-.52 0-1.04.2-1.43.59L10.3 9.45l-7.72 7.72c-.78.78-.78 2.05 0 2.83L4 21.41c.39.39.9.59 1.41.59.51 0 1.02-.2 1.41-.59l7.78-7.78 2.81-2.81c.8-.78.8-2.07 0-2.86zM5.41 20L4 18.59l7.72-7.72 1.47 1.35L5.41 20z\"/>\n",
              "  </svg>\n",
              "      </button>\n",
              "      \n",
              "  <style>\n",
              "    .colab-df-container {\n",
              "      display:flex;\n",
              "      flex-wrap:wrap;\n",
              "      gap: 12px;\n",
              "    }\n",
              "\n",
              "    .colab-df-convert {\n",
              "      background-color: #E8F0FE;\n",
              "      border: none;\n",
              "      border-radius: 50%;\n",
              "      cursor: pointer;\n",
              "      display: none;\n",
              "      fill: #1967D2;\n",
              "      height: 32px;\n",
              "      padding: 0 0 0 0;\n",
              "      width: 32px;\n",
              "    }\n",
              "\n",
              "    .colab-df-convert:hover {\n",
              "      background-color: #E2EBFA;\n",
              "      box-shadow: 0px 1px 2px rgba(60, 64, 67, 0.3), 0px 1px 3px 1px rgba(60, 64, 67, 0.15);\n",
              "      fill: #174EA6;\n",
              "    }\n",
              "\n",
              "    [theme=dark] .colab-df-convert {\n",
              "      background-color: #3B4455;\n",
              "      fill: #D2E3FC;\n",
              "    }\n",
              "\n",
              "    [theme=dark] .colab-df-convert:hover {\n",
              "      background-color: #434B5C;\n",
              "      box-shadow: 0px 1px 3px 1px rgba(0, 0, 0, 0.15);\n",
              "      filter: drop-shadow(0px 1px 2px rgba(0, 0, 0, 0.3));\n",
              "      fill: #FFFFFF;\n",
              "    }\n",
              "  </style>\n",
              "\n",
              "      <script>\n",
              "        const buttonEl =\n",
              "          document.querySelector('#df-da571b6f-62e6-49ce-a003-b6195a971e0a button.colab-df-convert');\n",
              "        buttonEl.style.display =\n",
              "          google.colab.kernel.accessAllowed ? 'block' : 'none';\n",
              "\n",
              "        async function convertToInteractive(key) {\n",
              "          const element = document.querySelector('#df-da571b6f-62e6-49ce-a003-b6195a971e0a');\n",
              "          const dataTable =\n",
              "            await google.colab.kernel.invokeFunction('convertToInteractive',\n",
              "                                                     [key], {});\n",
              "          if (!dataTable) return;\n",
              "\n",
              "          const docLinkHtml = 'Like what you see? Visit the ' +\n",
              "            '<a target=\"_blank\" href=https://colab.research.google.com/notebooks/data_table.ipynb>data table notebook</a>'\n",
              "            + ' to learn more about interactive tables.';\n",
              "          element.innerHTML = '';\n",
              "          dataTable['output_type'] = 'display_data';\n",
              "          await google.colab.output.renderOutput(dataTable, element);\n",
              "          const docLink = document.createElement('div');\n",
              "          docLink.innerHTML = docLinkHtml;\n",
              "          element.appendChild(docLink);\n",
              "        }\n",
              "      </script>\n",
              "    </div>\n",
              "  </div>\n",
              "  "
            ]
          },
          "metadata": {},
          "execution_count": 138
        }
      ]
    },
    {
      "cell_type": "markdown",
      "source": [
        "Получим новый признак - день месяца `visit_date_day`."
      ],
      "metadata": {
        "id": "JOaa93r006-a"
      }
    },
    {
      "cell_type": "code",
      "source": [
        "sessions['visit_date_day'] = sessions['visit_date'].dt.day"
      ],
      "metadata": {
        "id": "dWJ7nmBa0459"
      },
      "execution_count": null,
      "outputs": []
    },
    {
      "cell_type": "code",
      "source": [
        "_, (ax1, ax2) = plt.subplots(ncols=1, nrows=2, sharex=True, figsize=(18, 10))\n",
        "\n",
        "ax1.set_title('Распределение посещений по дням')\n",
        "sns.histplot(data=sessions, x='visit_date_day', discrete=True, ax=ax1)\n",
        "\n",
        "target_by_day = target_percentage(sessions, 'visit_date_day', \n",
        "                                  percent=False, only_target=True)\n",
        "ax2.set_title('Процент целевых действий по дням')\n",
        "sns.lineplot(data=target_by_day, ax=ax2);"
      ],
      "metadata": {
        "colab": {
          "base_uri": "https://localhost:8080/",
          "height": 627
        },
        "id": "EyJE18dc1GpP",
        "outputId": "f7bf7f43-3b89-473f-af10-f348bf9b8eef"
      },
      "execution_count": null,
      "outputs": [
        {
          "output_type": "display_data",
          "data": {
            "text/plain": [
              "<Figure size 1296x720 with 2 Axes>"
            ],
            "image/png": "[encoded data removed]"
          },
          "metadata": {}
        }
      ]
    },
    {
      "cell_type": "markdown",
      "source": [
        "Получим новый признак, который говорит о наличии праздника в этот день `visit_date_holiday`."
      ],
      "metadata": {
        "id": "mKAsF9qY4Lpb"
      }
    },
    {
      "cell_type": "code",
      "source": [
        "sessions['visit_date_holiday'] = sessions['visit_date'].isin(russian_holidays)"
      ],
      "metadata": {
        "id": "D3I9feiZDFAE"
      },
      "execution_count": null,
      "outputs": []
    },
    {
      "cell_type": "code",
      "source": [
        "print('Распределение праздничных дней:')\n",
        "target_percentage(sessions, 'visit_date_holiday', index_name='Праздник')"
      ],
      "metadata": {
        "colab": {
          "base_uri": "https://localhost:8080/",
          "height": 162
        },
        "id": "KxwiOPoy4VhT",
        "outputId": "baccc5b5-d6de-463e-8de6-9e46867debe3"
      },
      "execution_count": null,
      "outputs": [
        {
          "output_type": "stream",
          "name": "stdout",
          "text": [
            "Распределение праздничных дней:\n"
          ]
        },
        {
          "output_type": "execute_result",
          "data": {
            "text/plain": [
              "          Количество объектов Доля от общего числа Процент целевых действий\n",
              "Праздник                                                                   \n",
              "False                 1820148               97.86%                    2.71%\n",
              "True                    39894                2.14%                    2.54%"
            ],
            "text/html": [
              "\n",
              "  <div id=\"df-24e20fba-5f8d-48b4-ba6b-050b6186dbd8\">\n",
              "    <div class=\"colab-df-container\">\n",
              "      <div>\n",
              "<style scoped>\n",
              "    .dataframe tbody tr th:only-of-type {\n",
              "        vertical-align: middle;\n",
              "    }\n",
              "\n",
              "    .dataframe tbody tr th {\n",
              "        vertical-align: top;\n",
              "    }\n",
              "\n",
              "    .dataframe thead th {\n",
              "        text-align: right;\n",
              "    }\n",
              "</style>\n",
              "<table border=\"1\" class=\"dataframe\">\n",
              "  <thead>\n",
              "    <tr style=\"text-align: right;\">\n",
              "      <th></th>\n",
              "      <th>Количество объектов</th>\n",
              "      <th>Доля от общего числа</th>\n",
              "      <th>Процент целевых действий</th>\n",
              "    </tr>\n",
              "    <tr>\n",
              "      <th>Праздник</th>\n",
              "      <th></th>\n",
              "      <th></th>\n",
              "      <th></th>\n",
              "    </tr>\n",
              "  </thead>\n",
              "  <tbody>\n",
              "    <tr>\n",
              "      <th>False</th>\n",
              "      <td>1820148</td>\n",
              "      <td>97.86%</td>\n",
              "      <td>2.71%</td>\n",
              "    </tr>\n",
              "    <tr>\n",
              "      <th>True</th>\n",
              "      <td>39894</td>\n",
              "      <td>2.14%</td>\n",
              "      <td>2.54%</td>\n",
              "    </tr>\n",
              "  </tbody>\n",
              "</table>\n",
              "</div>\n",
              "      <button class=\"colab-df-convert\" onclick=\"convertToInteractive('df-24e20fba-5f8d-48b4-ba6b-050b6186dbd8')\"\n",
              "              title=\"Convert this dataframe to an interactive table.\"\n",
              "              style=\"display:none;\">\n",
              "        \n",
              "  <svg xmlns=\"http://www.w3.org/2000/svg\" height=\"24px\"viewBox=\"0 0 24 24\"\n",
              "       width=\"24px\">\n",
              "    <path d=\"M0 0h24v24H0V0z\" fill=\"none\"/>\n",
              "    <path d=\"M18.56 5.44l.94 2.06.94-2.06 2.06-.94-2.06-.94-.94-2.06-.94 2.06-2.06.94zm-11 1L8.5 8.5l.94-2.06 2.06-.94-2.06-.94L8.5 2.5l-.94 2.06-2.06.94zm10 10l.94 2.06.94-2.06 2.06-.94-2.06-.94-.94-2.06-.94 2.06-2.06.94z\"/><path d=\"M17.41 7.96l-1.37-1.37c-.4-.4-.92-.59-1.43-.59-.52 0-1.04.2-1.43.59L10.3 9.45l-7.72 7.72c-.78.78-.78 2.05 0 2.83L4 21.41c.39.39.9.59 1.41.59.51 0 1.02-.2 1.41-.59l7.78-7.78 2.81-2.81c.8-.78.8-2.07 0-2.86zM5.41 20L4 18.59l7.72-7.72 1.47 1.35L5.41 20z\"/>\n",
              "  </svg>\n",
              "      </button>\n",
              "      \n",
              "  <style>\n",
              "    .colab-df-container {\n",
              "      display:flex;\n",
              "      flex-wrap:wrap;\n",
              "      gap: 12px;\n",
              "    }\n",
              "\n",
              "    .colab-df-convert {\n",
              "      background-color: #E8F0FE;\n",
              "      border: none;\n",
              "      border-radius: 50%;\n",
              "      cursor: pointer;\n",
              "      display: none;\n",
              "      fill: #1967D2;\n",
              "      height: 32px;\n",
              "      padding: 0 0 0 0;\n",
              "      width: 32px;\n",
              "    }\n",
              "\n",
              "    .colab-df-convert:hover {\n",
              "      background-color: #E2EBFA;\n",
              "      box-shadow: 0px 1px 2px rgba(60, 64, 67, 0.3), 0px 1px 3px 1px rgba(60, 64, 67, 0.15);\n",
              "      fill: #174EA6;\n",
              "    }\n",
              "\n",
              "    [theme=dark] .colab-df-convert {\n",
              "      background-color: #3B4455;\n",
              "      fill: #D2E3FC;\n",
              "    }\n",
              "\n",
              "    [theme=dark] .colab-df-convert:hover {\n",
              "      background-color: #434B5C;\n",
              "      box-shadow: 0px 1px 3px 1px rgba(0, 0, 0, 0.15);\n",
              "      filter: drop-shadow(0px 1px 2px rgba(0, 0, 0, 0.3));\n",
              "      fill: #FFFFFF;\n",
              "    }\n",
              "  </style>\n",
              "\n",
              "      <script>\n",
              "        const buttonEl =\n",
              "          document.querySelector('#df-24e20fba-5f8d-48b4-ba6b-050b6186dbd8 button.colab-df-convert');\n",
              "        buttonEl.style.display =\n",
              "          google.colab.kernel.accessAllowed ? 'block' : 'none';\n",
              "\n",
              "        async function convertToInteractive(key) {\n",
              "          const element = document.querySelector('#df-24e20fba-5f8d-48b4-ba6b-050b6186dbd8');\n",
              "          const dataTable =\n",
              "            await google.colab.kernel.invokeFunction('convertToInteractive',\n",
              "                                                     [key], {});\n",
              "          if (!dataTable) return;\n",
              "\n",
              "          const docLinkHtml = 'Like what you see? Visit the ' +\n",
              "            '<a target=\"_blank\" href=https://colab.research.google.com/notebooks/data_table.ipynb>data table notebook</a>'\n",
              "            + ' to learn more about interactive tables.';\n",
              "          element.innerHTML = '';\n",
              "          dataTable['output_type'] = 'display_data';\n",
              "          await google.colab.output.renderOutput(dataTable, element);\n",
              "          const docLink = document.createElement('div');\n",
              "          docLink.innerHTML = docLinkHtml;\n",
              "          element.appendChild(docLink);\n",
              "        }\n",
              "      </script>\n",
              "    </div>\n",
              "  </div>\n",
              "  "
            ]
          },
          "metadata": {},
          "execution_count": 142
        }
      ]
    },
    {
      "cell_type": "markdown",
      "metadata": {
        "id": "8DjkCgqTq1Yk"
      },
      "source": [
        "### `visit_time` - время визита  \n",
        "\n",
        "Пустых значений в колонке нет. \n",
        "\n",
        "Временные значения представлены от 00:00:00 до 23:59:59, то есть покрывают весь день.  \n",
        "Пик посещений сайта наблюдается в 14:00, то есть в середине дня.  \n",
        "Упадок количества посещений - в середине ночи, в 04:00.  \n",
        "\n",
        "Больший процент сессий закрывается целевым действием в середине дня (11:00-16:00), а меньший - ночью (2:00-6:00).  \n",
        "Большинство сессий происходит на нулевой минуте каждого часа, причём с большим процентом целевых действий. Это больше похоже на алгоритмические действия, чем на реальные посещения сайта пользователем.\n",
        "\n",
        "Сам по себе признак `visit_time` неудобен в использовании, но из него можно получить полезные признаки, например, `visit_hour` - час визита пользователя, `visit_minute` - минута визита, `visit_time_night` - была ли ночь во время визита пользователя."
      ]
    },
    {
      "cell_type": "code",
      "execution_count": null,
      "metadata": {
        "id": "L4Exxvexqz5c"
      },
      "outputs": [],
      "source": [
        "sessions['visit_time'] = pd.to_datetime(sessions['visit_time'])"
      ]
    },
    {
      "cell_type": "code",
      "execution_count": null,
      "metadata": {
        "colab": {
          "base_uri": "https://localhost:8080/"
        },
        "id": "MDJSGe4ArbZA",
        "outputId": "bcef2683-b280-46c4-fbb5-35b2d7076800"
      },
      "outputs": [
        {
          "output_type": "stream",
          "name": "stdout",
          "text": [
            "Количество пустых значений в `visit_time`: 0\n"
          ]
        }
      ],
      "source": [
        "missings = count_missings(sessions['visit_time'])\n",
        "print(f'Количество пустых значений в `visit_time`: {missings}')"
      ]
    },
    {
      "cell_type": "code",
      "execution_count": null,
      "metadata": {
        "colab": {
          "base_uri": "https://localhost:8080/"
        },
        "id": "4QS8Y4SkrbZC",
        "outputId": "acab70b0-b5e2-4f50-f4d8-ea91a999c6f2"
      },
      "outputs": [
        {
          "output_type": "execute_result",
          "data": {
            "text/plain": [
              "count                          1860042\n",
              "mean     2022-11-14 13:49:53.502090752\n",
              "min                2022-11-14 00:00:00\n",
              "25%                2022-11-14 10:00:00\n",
              "50%                2022-11-14 14:09:06\n",
              "75%                2022-11-14 19:00:00\n",
              "max                2022-11-14 23:59:59\n",
              "Name: visit_time, dtype: object"
            ]
          },
          "metadata": {},
          "execution_count": 145
        }
      ],
      "source": [
        "sessions['visit_time'].describe(datetime_is_numeric=True)"
      ]
    },
    {
      "cell_type": "markdown",
      "source": [
        "Получим новый признак - количество часов `visit_time_hour`."
      ],
      "metadata": {
        "id": "C81E94toDtHD"
      }
    },
    {
      "cell_type": "code",
      "source": [
        "sessions['visit_time_hour'] = sessions['visit_time'].dt.hour"
      ],
      "metadata": {
        "id": "ZKSN-C6wD6jE"
      },
      "execution_count": null,
      "outputs": []
    },
    {
      "cell_type": "code",
      "execution_count": null,
      "metadata": {
        "colab": {
          "base_uri": "https://localhost:8080/",
          "height": 410
        },
        "id": "XU3KQW09sh5J",
        "outputId": "6508d3ad-41fe-4025-bbcd-09170c321662"
      },
      "outputs": [
        {
          "output_type": "display_data",
          "data": {
            "text/plain": [
              "<Figure size 1296x432 with 1 Axes>"
            ],
            "image/png": "[encoded data removed]"
          },
          "metadata": {}
        }
      ],
      "source": [
        "sns.histplot(data=sessions, x='visit_time_hour', discrete=True)\n",
        "plt.title('Количество посещений по часам');"
      ]
    },
    {
      "cell_type": "code",
      "source": [
        "target_by_hour = target_percentage(sessions, 'visit_time_hour', \n",
        "                                   percent=False, only_target=True)\n",
        "sns.lineplot(data=target_by_hour)\n",
        "plt.title('Доля целевых действий по часам');"
      ],
      "metadata": {
        "colab": {
          "base_uri": "https://localhost:8080/",
          "height": 410
        },
        "id": "54NSDhDMnHRQ",
        "outputId": "33362a75-80d8-4548-dbc9-7ca400772e37"
      },
      "execution_count": null,
      "outputs": [
        {
          "output_type": "display_data",
          "data": {
            "text/plain": [
              "<Figure size 1296x432 with 1 Axes>"
            ],
            "image/png": "[encoded data removed]"
          },
          "metadata": {}
        }
      ]
    },
    {
      "cell_type": "markdown",
      "source": [
        "Получим новый признак - количество минут `visit_time_minute`."
      ],
      "metadata": {
        "id": "t9aKd2m1JLEV"
      }
    },
    {
      "cell_type": "code",
      "source": [
        "sessions['visit_time_minute'] = sessions['visit_time'].dt.minute"
      ],
      "metadata": {
        "id": "qyy1fEXKJNDe"
      },
      "execution_count": null,
      "outputs": []
    },
    {
      "cell_type": "code",
      "source": [
        "sns.histplot(data=sessions, x='visit_time_minute', discrete=True)\n",
        "plt.title('Количество посещений по минутам');"
      ],
      "metadata": {
        "colab": {
          "base_uri": "https://localhost:8080/",
          "height": 410
        },
        "id": "foWrF4VFJM_I",
        "outputId": "caa44191-9fcb-466a-c9b2-261685c21d35"
      },
      "execution_count": null,
      "outputs": [
        {
          "output_type": "display_data",
          "data": {
            "text/plain": [
              "<Figure size 1296x432 with 1 Axes>"
            ],
            "image/png": "[encoded data removed]"
          },
          "metadata": {}
        }
      ]
    },
    {
      "cell_type": "code",
      "source": [
        "target_by_minute = target_percentage(sessions, 'visit_time_minute', \n",
        "                                     percent=False, only_target=True)\n",
        "sns.lineplot(data=target_by_minute)\n",
        "plt.title('Доля целевых действий по минутам');"
      ],
      "metadata": {
        "colab": {
          "base_uri": "https://localhost:8080/",
          "height": 410
        },
        "id": "oxGZTdhVpVq8",
        "outputId": "1ec0ce65-d0a0-4d07-9b3a-50d3139de79f"
      },
      "execution_count": null,
      "outputs": [
        {
          "output_type": "display_data",
          "data": {
            "text/plain": [
              "<Figure size 1296x432 with 1 Axes>"
            ],
            "image/png": "[encoded data removed]"
          },
          "metadata": {}
        }
      ]
    },
    {
      "cell_type": "code",
      "source": [
        "sessions['visit_time_minute_is_zero'] = sessions['visit_time_minute'] == 0\n",
        "target_percentage(sessions, 'visit_time_minute_is_zero', index_name='0 минут')"
      ],
      "metadata": {
        "colab": {
          "base_uri": "https://localhost:8080/",
          "height": 143
        },
        "id": "Wtgj8TAscbi4",
        "outputId": "c548ca8d-d4d7-4d74-ec6b-29b929e47a36"
      },
      "execution_count": null,
      "outputs": [
        {
          "output_type": "execute_result",
          "data": {
            "text/plain": [
              "         Количество объектов Доля от общего числа Процент целевых действий\n",
              "0 минут                                                                   \n",
              "True                 1083333               58.24%                    3.20%\n",
              "False                 776709               41.76%                    2.01%"
            ],
            "text/html": [
              "\n",
              "  <div id=\"df-9ec1586b-5508-4810-a2f5-1fa535040313\">\n",
              "    <div class=\"colab-df-container\">\n",
              "      <div>\n",
              "<style scoped>\n",
              "    .dataframe tbody tr th:only-of-type {\n",
              "        vertical-align: middle;\n",
              "    }\n",
              "\n",
              "    .dataframe tbody tr th {\n",
              "        vertical-align: top;\n",
              "    }\n",
              "\n",
              "    .dataframe thead th {\n",
              "        text-align: right;\n",
              "    }\n",
              "</style>\n",
              "<table border=\"1\" class=\"dataframe\">\n",
              "  <thead>\n",
              "    <tr style=\"text-align: right;\">\n",
              "      <th></th>\n",
              "      <th>Количество объектов</th>\n",
              "      <th>Доля от общего числа</th>\n",
              "      <th>Процент целевых действий</th>\n",
              "    </tr>\n",
              "    <tr>\n",
              "      <th>0 минут</th>\n",
              "      <th></th>\n",
              "      <th></th>\n",
              "      <th></th>\n",
              "    </tr>\n",
              "  </thead>\n",
              "  <tbody>\n",
              "    <tr>\n",
              "      <th>True</th>\n",
              "      <td>1083333</td>\n",
              "      <td>58.24%</td>\n",
              "      <td>3.20%</td>\n",
              "    </tr>\n",
              "    <tr>\n",
              "      <th>False</th>\n",
              "      <td>776709</td>\n",
              "      <td>41.76%</td>\n",
              "      <td>2.01%</td>\n",
              "    </tr>\n",
              "  </tbody>\n",
              "</table>\n",
              "</div>\n",
              "      <button class=\"colab-df-convert\" onclick=\"convertToInteractive('df-9ec1586b-5508-4810-a2f5-1fa535040313')\"\n",
              "              title=\"Convert this dataframe to an interactive table.\"\n",
              "              style=\"display:none;\">\n",
              "        \n",
              "  <svg xmlns=\"http://www.w3.org/2000/svg\" height=\"24px\"viewBox=\"0 0 24 24\"\n",
              "       width=\"24px\">\n",
              "    <path d=\"M0 0h24v24H0V0z\" fill=\"none\"/>\n",
              "    <path d=\"M18.56 5.44l.94 2.06.94-2.06 2.06-.94-2.06-.94-.94-2.06-.94 2.06-2.06.94zm-11 1L8.5 8.5l.94-2.06 2.06-.94-2.06-.94L8.5 2.5l-.94 2.06-2.06.94zm10 10l.94 2.06.94-2.06 2.06-.94-2.06-.94-.94-2.06-.94 2.06-2.06.94z\"/><path d=\"M17.41 7.96l-1.37-1.37c-.4-.4-.92-.59-1.43-.59-.52 0-1.04.2-1.43.59L10.3 9.45l-7.72 7.72c-.78.78-.78 2.05 0 2.83L4 21.41c.39.39.9.59 1.41.59.51 0 1.02-.2 1.41-.59l7.78-7.78 2.81-2.81c.8-.78.8-2.07 0-2.86zM5.41 20L4 18.59l7.72-7.72 1.47 1.35L5.41 20z\"/>\n",
              "  </svg>\n",
              "      </button>\n",
              "      \n",
              "  <style>\n",
              "    .colab-df-container {\n",
              "      display:flex;\n",
              "      flex-wrap:wrap;\n",
              "      gap: 12px;\n",
              "    }\n",
              "\n",
              "    .colab-df-convert {\n",
              "      background-color: #E8F0FE;\n",
              "      border: none;\n",
              "      border-radius: 50%;\n",
              "      cursor: pointer;\n",
              "      display: none;\n",
              "      fill: #1967D2;\n",
              "      height: 32px;\n",
              "      padding: 0 0 0 0;\n",
              "      width: 32px;\n",
              "    }\n",
              "\n",
              "    .colab-df-convert:hover {\n",
              "      background-color: #E2EBFA;\n",
              "      box-shadow: 0px 1px 2px rgba(60, 64, 67, 0.3), 0px 1px 3px 1px rgba(60, 64, 67, 0.15);\n",
              "      fill: #174EA6;\n",
              "    }\n",
              "\n",
              "    [theme=dark] .colab-df-convert {\n",
              "      background-color: #3B4455;\n",
              "      fill: #D2E3FC;\n",
              "    }\n",
              "\n",
              "    [theme=dark] .colab-df-convert:hover {\n",
              "      background-color: #434B5C;\n",
              "      box-shadow: 0px 1px 3px 1px rgba(0, 0, 0, 0.15);\n",
              "      filter: drop-shadow(0px 1px 2px rgba(0, 0, 0, 0.3));\n",
              "      fill: #FFFFFF;\n",
              "    }\n",
              "  </style>\n",
              "\n",
              "      <script>\n",
              "        const buttonEl =\n",
              "          document.querySelector('#df-9ec1586b-5508-4810-a2f5-1fa535040313 button.colab-df-convert');\n",
              "        buttonEl.style.display =\n",
              "          google.colab.kernel.accessAllowed ? 'block' : 'none';\n",
              "\n",
              "        async function convertToInteractive(key) {\n",
              "          const element = document.querySelector('#df-9ec1586b-5508-4810-a2f5-1fa535040313');\n",
              "          const dataTable =\n",
              "            await google.colab.kernel.invokeFunction('convertToInteractive',\n",
              "                                                     [key], {});\n",
              "          if (!dataTable) return;\n",
              "\n",
              "          const docLinkHtml = 'Like what you see? Visit the ' +\n",
              "            '<a target=\"_blank\" href=https://colab.research.google.com/notebooks/data_table.ipynb>data table notebook</a>'\n",
              "            + ' to learn more about interactive tables.';\n",
              "          element.innerHTML = '';\n",
              "          dataTable['output_type'] = 'display_data';\n",
              "          await google.colab.output.renderOutput(dataTable, element);\n",
              "          const docLink = document.createElement('div');\n",
              "          docLink.innerHTML = docLinkHtml;\n",
              "          element.appendChild(docLink);\n",
              "        }\n",
              "      </script>\n",
              "    </div>\n",
              "  </div>\n",
              "  "
            ]
          },
          "metadata": {},
          "execution_count": 234
        }
      ]
    },
    {
      "cell_type": "markdown",
      "source": [
        "Создадим новый признак, говорящий о наступлении ночи - `visit_time_night`."
      ],
      "metadata": {
        "id": "vd4xwkgyKTCz"
      }
    },
    {
      "cell_type": "code",
      "source": [
        "sessions['visit_time_night'] = sessions['visit_time_hour'] < 9"
      ],
      "metadata": {
        "id": "ts7PixC2JM2-"
      },
      "execution_count": null,
      "outputs": []
    },
    {
      "cell_type": "code",
      "source": [
        "print('Распределение целевых действий ночью и днём:')\n",
        "target_percentage(sessions, 'visit_time_night', index_name='Ночное время')"
      ],
      "metadata": {
        "colab": {
          "base_uri": "https://localhost:8080/",
          "height": 162
        },
        "id": "9wRw4vVJJMt7",
        "outputId": "b8b854b9-7433-48b3-82ae-c5f7790ac40c"
      },
      "execution_count": null,
      "outputs": [
        {
          "output_type": "stream",
          "name": "stdout",
          "text": [
            "Распределение целевых действий ночью и днём:\n"
          ]
        },
        {
          "output_type": "execute_result",
          "data": {
            "text/plain": [
              "              Количество объектов Доля от общего числа  \\\n",
              "Ночное время                                             \n",
              "False                     1496535               80.46%   \n",
              "True                       363507               19.54%   \n",
              "\n",
              "             Процент целевых действий  \n",
              "Ночное время                           \n",
              "False                           2.77%  \n",
              "True                            2.42%  "
            ],
            "text/html": [
              "\n",
              "  <div id=\"df-f7b9374a-507b-4ad7-8dde-15aa2ca2f4cb\">\n",
              "    <div class=\"colab-df-container\">\n",
              "      <div>\n",
              "<style scoped>\n",
              "    .dataframe tbody tr th:only-of-type {\n",
              "        vertical-align: middle;\n",
              "    }\n",
              "\n",
              "    .dataframe tbody tr th {\n",
              "        vertical-align: top;\n",
              "    }\n",
              "\n",
              "    .dataframe thead th {\n",
              "        text-align: right;\n",
              "    }\n",
              "</style>\n",
              "<table border=\"1\" class=\"dataframe\">\n",
              "  <thead>\n",
              "    <tr style=\"text-align: right;\">\n",
              "      <th></th>\n",
              "      <th>Количество объектов</th>\n",
              "      <th>Доля от общего числа</th>\n",
              "      <th>Процент целевых действий</th>\n",
              "    </tr>\n",
              "    <tr>\n",
              "      <th>Ночное время</th>\n",
              "      <th></th>\n",
              "      <th></th>\n",
              "      <th></th>\n",
              "    </tr>\n",
              "  </thead>\n",
              "  <tbody>\n",
              "    <tr>\n",
              "      <th>False</th>\n",
              "      <td>1496535</td>\n",
              "      <td>80.46%</td>\n",
              "      <td>2.77%</td>\n",
              "    </tr>\n",
              "    <tr>\n",
              "      <th>True</th>\n",
              "      <td>363507</td>\n",
              "      <td>19.54%</td>\n",
              "      <td>2.42%</td>\n",
              "    </tr>\n",
              "  </tbody>\n",
              "</table>\n",
              "</div>\n",
              "      <button class=\"colab-df-convert\" onclick=\"convertToInteractive('df-f7b9374a-507b-4ad7-8dde-15aa2ca2f4cb')\"\n",
              "              title=\"Convert this dataframe to an interactive table.\"\n",
              "              style=\"display:none;\">\n",
              "        \n",
              "  <svg xmlns=\"http://www.w3.org/2000/svg\" height=\"24px\"viewBox=\"0 0 24 24\"\n",
              "       width=\"24px\">\n",
              "    <path d=\"M0 0h24v24H0V0z\" fill=\"none\"/>\n",
              "    <path d=\"M18.56 5.44l.94 2.06.94-2.06 2.06-.94-2.06-.94-.94-2.06-.94 2.06-2.06.94zm-11 1L8.5 8.5l.94-2.06 2.06-.94-2.06-.94L8.5 2.5l-.94 2.06-2.06.94zm10 10l.94 2.06.94-2.06 2.06-.94-2.06-.94-.94-2.06-.94 2.06-2.06.94z\"/><path d=\"M17.41 7.96l-1.37-1.37c-.4-.4-.92-.59-1.43-.59-.52 0-1.04.2-1.43.59L10.3 9.45l-7.72 7.72c-.78.78-.78 2.05 0 2.83L4 21.41c.39.39.9.59 1.41.59.51 0 1.02-.2 1.41-.59l7.78-7.78 2.81-2.81c.8-.78.8-2.07 0-2.86zM5.41 20L4 18.59l7.72-7.72 1.47 1.35L5.41 20z\"/>\n",
              "  </svg>\n",
              "      </button>\n",
              "      \n",
              "  <style>\n",
              "    .colab-df-container {\n",
              "      display:flex;\n",
              "      flex-wrap:wrap;\n",
              "      gap: 12px;\n",
              "    }\n",
              "\n",
              "    .colab-df-convert {\n",
              "      background-color: #E8F0FE;\n",
              "      border: none;\n",
              "      border-radius: 50%;\n",
              "      cursor: pointer;\n",
              "      display: none;\n",
              "      fill: #1967D2;\n",
              "      height: 32px;\n",
              "      padding: 0 0 0 0;\n",
              "      width: 32px;\n",
              "    }\n",
              "\n",
              "    .colab-df-convert:hover {\n",
              "      background-color: #E2EBFA;\n",
              "      box-shadow: 0px 1px 2px rgba(60, 64, 67, 0.3), 0px 1px 3px 1px rgba(60, 64, 67, 0.15);\n",
              "      fill: #174EA6;\n",
              "    }\n",
              "\n",
              "    [theme=dark] .colab-df-convert {\n",
              "      background-color: #3B4455;\n",
              "      fill: #D2E3FC;\n",
              "    }\n",
              "\n",
              "    [theme=dark] .colab-df-convert:hover {\n",
              "      background-color: #434B5C;\n",
              "      box-shadow: 0px 1px 3px 1px rgba(0, 0, 0, 0.15);\n",
              "      filter: drop-shadow(0px 1px 2px rgba(0, 0, 0, 0.3));\n",
              "      fill: #FFFFFF;\n",
              "    }\n",
              "  </style>\n",
              "\n",
              "      <script>\n",
              "        const buttonEl =\n",
              "          document.querySelector('#df-f7b9374a-507b-4ad7-8dde-15aa2ca2f4cb button.colab-df-convert');\n",
              "        buttonEl.style.display =\n",
              "          google.colab.kernel.accessAllowed ? 'block' : 'none';\n",
              "\n",
              "        async function convertToInteractive(key) {\n",
              "          const element = document.querySelector('#df-f7b9374a-507b-4ad7-8dde-15aa2ca2f4cb');\n",
              "          const dataTable =\n",
              "            await google.colab.kernel.invokeFunction('convertToInteractive',\n",
              "                                                     [key], {});\n",
              "          if (!dataTable) return;\n",
              "\n",
              "          const docLinkHtml = 'Like what you see? Visit the ' +\n",
              "            '<a target=\"_blank\" href=https://colab.research.google.com/notebooks/data_table.ipynb>data table notebook</a>'\n",
              "            + ' to learn more about interactive tables.';\n",
              "          element.innerHTML = '';\n",
              "          dataTable['output_type'] = 'display_data';\n",
              "          await google.colab.output.renderOutput(dataTable, element);\n",
              "          const docLink = document.createElement('div');\n",
              "          docLink.innerHTML = docLinkHtml;\n",
              "          element.appendChild(docLink);\n",
              "        }\n",
              "      </script>\n",
              "    </div>\n",
              "  </div>\n",
              "  "
            ]
          },
          "metadata": {},
          "execution_count": 153
        }
      ]
    },
    {
      "cell_type": "markdown",
      "metadata": {
        "id": "47_W6j0yzWJO"
      },
      "source": [
        "### `visit_number` - порядковый номер визита посетителя  \n",
        "\n",
        "В колонке нет пустых значений.  \n",
        "\n",
        "Номер колеблется от 1 до 564 (явно есть выбросы) посещений сайта. Хотя большинство пользователей ограничиваются одним-двумя посещениями.  \n",
        "\n",
        "Похоже, что чем чаще пользователь заходит на сайт, тем выше вероятность, что он совершит целевое действие.  \n",
        "Вероятно, первый раз пользователи заходят на сайт, чтобы познакомиться с предложением, а если их оно заинтересует, то они вернутся ещё раз."
      ]
    },
    {
      "cell_type": "code",
      "execution_count": null,
      "metadata": {
        "colab": {
          "base_uri": "https://localhost:8080/"
        },
        "id": "ZANtih5ozgTp",
        "outputId": "fd14ac9b-03c2-4a3c-9d49-87472010866d"
      },
      "outputs": [
        {
          "output_type": "stream",
          "name": "stdout",
          "text": [
            "Количество пустых значений в `visit_number`: 0\n"
          ]
        }
      ],
      "source": [
        "missings = count_missings(sessions['visit_number'])\n",
        "print(f'Количество пустых значений в `visit_number`: {missings}')"
      ]
    },
    {
      "cell_type": "code",
      "execution_count": null,
      "metadata": {
        "colab": {
          "base_uri": "https://localhost:8080/"
        },
        "id": "zQT9g-p8zyIk",
        "outputId": "cfec7c87-0cef-4c3a-e2b1-e05243420cd3"
      },
      "outputs": [
        {
          "output_type": "execute_result",
          "data": {
            "text/plain": [
              "count    1860042.0\n",
              "mean           2.7\n",
              "std           11.8\n",
              "min            1.0\n",
              "25%            1.0\n",
              "50%            1.0\n",
              "75%            2.0\n",
              "max          564.0\n",
              "Name: visit_number, dtype: object"
            ]
          },
          "metadata": {},
          "execution_count": 155
        }
      ],
      "source": [
        "sessions['visit_number'].describe().apply(lambda x: f'{x:0.1f}')"
      ]
    },
    {
      "cell_type": "code",
      "execution_count": null,
      "metadata": {
        "colab": {
          "base_uri": "https://localhost:8080/",
          "height": 410
        },
        "id": "GVsoBSUi0AVg",
        "outputId": "c5626f65-ebe5-4ff7-c8a9-5504bc6f256d"
      },
      "outputs": [
        {
          "output_type": "display_data",
          "data": {
            "text/plain": [
              "<Figure size 1296x432 with 1 Axes>"
            ],
            "image/png": "[encoded data removed]"
          },
          "metadata": {}
        }
      ],
      "source": [
        "sns.boxplot(data=sessions, x='visit_number')\n",
        "plt.xlim(0, 25)\n",
        "plt.title('Диаграмма размаха номера посещения');"
      ]
    },
    {
      "cell_type": "code",
      "source": [
        "# приведём все выбросы к значению 4\n",
        "sessions['visit_number_no_outliers'] = \\\n",
        "    sessions['visit_number'].apply(lambda x: x if x < 4 else 4)"
      ],
      "metadata": {
        "id": "fD9LoyZBXmGd"
      },
      "execution_count": null,
      "outputs": []
    },
    {
      "cell_type": "code",
      "source": [
        "print('Процент успешных сессий в зависимости от номера посещения: ')\n",
        "target_percentage(sessions, 'visit_number_no_outliers', \n",
        "                  index_name='Номер посещения')"
      ],
      "metadata": {
        "colab": {
          "base_uri": "https://localhost:8080/",
          "height": 225
        },
        "id": "wAbhf2YNWhWs",
        "outputId": "12f56059-c959-46da-a505-710438f9ba86"
      },
      "execution_count": null,
      "outputs": [
        {
          "output_type": "stream",
          "name": "stdout",
          "text": [
            "Процент успешных сессий в зависимости от номера посещения: \n"
          ]
        },
        {
          "output_type": "execute_result",
          "data": {
            "text/plain": [
              "                 Количество объектов Доля от общего числа  \\\n",
              "Номер посещения                                             \n",
              "4                             166969                8.98%   \n",
              "3                              81068                4.36%   \n",
              "2                             235656               12.67%   \n",
              "1                            1376349               74.00%   \n",
              "\n",
              "                Процент целевых действий  \n",
              "Номер посещения                           \n",
              "4                                  4.37%  \n",
              "3                                  3.76%  \n",
              "2                                  3.23%  \n",
              "1                                  2.35%  "
            ],
            "text/html": [
              "\n",
              "  <div id=\"df-37dc9d92-b4b2-40f6-b13f-ffa9eb0dcbe2\">\n",
              "    <div class=\"colab-df-container\">\n",
              "      <div>\n",
              "<style scoped>\n",
              "    .dataframe tbody tr th:only-of-type {\n",
              "        vertical-align: middle;\n",
              "    }\n",
              "\n",
              "    .dataframe tbody tr th {\n",
              "        vertical-align: top;\n",
              "    }\n",
              "\n",
              "    .dataframe thead th {\n",
              "        text-align: right;\n",
              "    }\n",
              "</style>\n",
              "<table border=\"1\" class=\"dataframe\">\n",
              "  <thead>\n",
              "    <tr style=\"text-align: right;\">\n",
              "      <th></th>\n",
              "      <th>Количество объектов</th>\n",
              "      <th>Доля от общего числа</th>\n",
              "      <th>Процент целевых действий</th>\n",
              "    </tr>\n",
              "    <tr>\n",
              "      <th>Номер посещения</th>\n",
              "      <th></th>\n",
              "      <th></th>\n",
              "      <th></th>\n",
              "    </tr>\n",
              "  </thead>\n",
              "  <tbody>\n",
              "    <tr>\n",
              "      <th>4</th>\n",
              "      <td>166969</td>\n",
              "      <td>8.98%</td>\n",
              "      <td>4.37%</td>\n",
              "    </tr>\n",
              "    <tr>\n",
              "      <th>3</th>\n",
              "      <td>81068</td>\n",
              "      <td>4.36%</td>\n",
              "      <td>3.76%</td>\n",
              "    </tr>\n",
              "    <tr>\n",
              "      <th>2</th>\n",
              "      <td>235656</td>\n",
              "      <td>12.67%</td>\n",
              "      <td>3.23%</td>\n",
              "    </tr>\n",
              "    <tr>\n",
              "      <th>1</th>\n",
              "      <td>1376349</td>\n",
              "      <td>74.00%</td>\n",
              "      <td>2.35%</td>\n",
              "    </tr>\n",
              "  </tbody>\n",
              "</table>\n",
              "</div>\n",
              "      <button class=\"colab-df-convert\" onclick=\"convertToInteractive('df-37dc9d92-b4b2-40f6-b13f-ffa9eb0dcbe2')\"\n",
              "              title=\"Convert this dataframe to an interactive table.\"\n",
              "              style=\"display:none;\">\n",
              "        \n",
              "  <svg xmlns=\"http://www.w3.org/2000/svg\" height=\"24px\"viewBox=\"0 0 24 24\"\n",
              "       width=\"24px\">\n",
              "    <path d=\"M0 0h24v24H0V0z\" fill=\"none\"/>\n",
              "    <path d=\"M18.56 5.44l.94 2.06.94-2.06 2.06-.94-2.06-.94-.94-2.06-.94 2.06-2.06.94zm-11 1L8.5 8.5l.94-2.06 2.06-.94-2.06-.94L8.5 2.5l-.94 2.06-2.06.94zm10 10l.94 2.06.94-2.06 2.06-.94-2.06-.94-.94-2.06-.94 2.06-2.06.94z\"/><path d=\"M17.41 7.96l-1.37-1.37c-.4-.4-.92-.59-1.43-.59-.52 0-1.04.2-1.43.59L10.3 9.45l-7.72 7.72c-.78.78-.78 2.05 0 2.83L4 21.41c.39.39.9.59 1.41.59.51 0 1.02-.2 1.41-.59l7.78-7.78 2.81-2.81c.8-.78.8-2.07 0-2.86zM5.41 20L4 18.59l7.72-7.72 1.47 1.35L5.41 20z\"/>\n",
              "  </svg>\n",
              "      </button>\n",
              "      \n",
              "  <style>\n",
              "    .colab-df-container {\n",
              "      display:flex;\n",
              "      flex-wrap:wrap;\n",
              "      gap: 12px;\n",
              "    }\n",
              "\n",
              "    .colab-df-convert {\n",
              "      background-color: #E8F0FE;\n",
              "      border: none;\n",
              "      border-radius: 50%;\n",
              "      cursor: pointer;\n",
              "      display: none;\n",
              "      fill: #1967D2;\n",
              "      height: 32px;\n",
              "      padding: 0 0 0 0;\n",
              "      width: 32px;\n",
              "    }\n",
              "\n",
              "    .colab-df-convert:hover {\n",
              "      background-color: #E2EBFA;\n",
              "      box-shadow: 0px 1px 2px rgba(60, 64, 67, 0.3), 0px 1px 3px 1px rgba(60, 64, 67, 0.15);\n",
              "      fill: #174EA6;\n",
              "    }\n",
              "\n",
              "    [theme=dark] .colab-df-convert {\n",
              "      background-color: #3B4455;\n",
              "      fill: #D2E3FC;\n",
              "    }\n",
              "\n",
              "    [theme=dark] .colab-df-convert:hover {\n",
              "      background-color: #434B5C;\n",
              "      box-shadow: 0px 1px 3px 1px rgba(0, 0, 0, 0.15);\n",
              "      filter: drop-shadow(0px 1px 2px rgba(0, 0, 0, 0.3));\n",
              "      fill: #FFFFFF;\n",
              "    }\n",
              "  </style>\n",
              "\n",
              "      <script>\n",
              "        const buttonEl =\n",
              "          document.querySelector('#df-37dc9d92-b4b2-40f6-b13f-ffa9eb0dcbe2 button.colab-df-convert');\n",
              "        buttonEl.style.display =\n",
              "          google.colab.kernel.accessAllowed ? 'block' : 'none';\n",
              "\n",
              "        async function convertToInteractive(key) {\n",
              "          const element = document.querySelector('#df-37dc9d92-b4b2-40f6-b13f-ffa9eb0dcbe2');\n",
              "          const dataTable =\n",
              "            await google.colab.kernel.invokeFunction('convertToInteractive',\n",
              "                                                     [key], {});\n",
              "          if (!dataTable) return;\n",
              "\n",
              "          const docLinkHtml = 'Like what you see? Visit the ' +\n",
              "            '<a target=\"_blank\" href=https://colab.research.google.com/notebooks/data_table.ipynb>data table notebook</a>'\n",
              "            + ' to learn more about interactive tables.';\n",
              "          element.innerHTML = '';\n",
              "          dataTable['output_type'] = 'display_data';\n",
              "          await google.colab.output.renderOutput(dataTable, element);\n",
              "          const docLink = document.createElement('div');\n",
              "          docLink.innerHTML = docLinkHtml;\n",
              "          element.appendChild(docLink);\n",
              "        }\n",
              "      </script>\n",
              "    </div>\n",
              "  </div>\n",
              "  "
            ]
          },
          "metadata": {},
          "execution_count": 158
        }
      ]
    },
    {
      "cell_type": "markdown",
      "metadata": {
        "id": "4tFy9Uai_KIf"
      },
      "source": [
        "### `utm_source` - канал привлечения  \n",
        "\n",
        "Пропусков в колонке не много - 97.  \n",
        "\n",
        "Уникальных значений много (293) и вряд ли они несут много полезной информации, можно в окончательный датасет взять только самые частые значения.  \n",
        "\n",
        "15% трафика из социальных сетей. Но процент целевых действий для него в два раза ниже, чем для остального трафика.  \n",
        "Для популярных каналов привлечения процент целевых действий меняется от 1.21% до 5.43%."
      ]
    },
    {
      "cell_type": "code",
      "execution_count": null,
      "metadata": {
        "colab": {
          "base_uri": "https://localhost:8080/"
        },
        "id": "TlqdYTuhAxMc",
        "outputId": "e5508cff-4431-4642-9448-ee6db8dcfff3"
      },
      "outputs": [
        {
          "output_type": "stream",
          "name": "stdout",
          "text": [
            "Количество пустых значений в `utm_source`: 97\n"
          ]
        }
      ],
      "source": [
        "missings = count_missings(sessions['utm_source'])\n",
        "print(f'Количество пустых значений в `utm_source`: {missings}')"
      ]
    },
    {
      "cell_type": "code",
      "execution_count": null,
      "metadata": {
        "colab": {
          "base_uri": "https://localhost:8080/"
        },
        "id": "7ZF6-6mLAxIE",
        "outputId": "4545ba5f-a8d4-4112-d667-d8d990f0b19e"
      },
      "outputs": [
        {
          "output_type": "stream",
          "name": "stdout",
          "text": [
            "Количество уникальных значений в `utm_source`: 293\n"
          ]
        }
      ],
      "source": [
        "n_unique = sessions['utm_source'].nunique()\n",
        "print(f'Количество уникальных значений в `utm_source`: {n_unique}')"
      ]
    },
    {
      "cell_type": "code",
      "execution_count": null,
      "metadata": {
        "colab": {
          "base_uri": "https://localhost:8080/"
        },
        "id": "NwSBN__UAxAf",
        "outputId": "4a9b55a9-484f-4e20-9770-559890752c3b"
      },
      "outputs": [
        {
          "output_type": "execute_result",
          "data": {
            "text/plain": [
              "ZpYIoDJMcFzVoPFsHGJL    578290\n",
              "fDLlAcSmythWSCVMvqvL    300575\n",
              "kjsLglQLzykiRbcDiGcD    266354\n",
              "MvfHsxITijuriZxsqZqt    186199\n",
              "BHcvLfOaCWvWTykYqHVe    116320\n",
              "bByPQxmDaMXgpHeypKSM    102287\n",
              "QxAxdyPLuQMEcrdZWdWb     51415\n",
              "aXQzDWsJuGXeBXexNHjc     31152\n",
              "jaSOmLICuBzCFqHfBdRg     29241\n",
              "RmEBuqrriAfAVsLQQmhk     28055\n",
              "vFcAhRxLfOWKhvxjELkx     24413\n",
              "PlbkrSYoHuZBWfYjYnfw     20792\n",
              "hTjLvqNxGggkGnxSCaTm     14598\n",
              "gDBGzjFKYabGgSPZvrDH     13565\n",
              "fgymSoTvjKPEgaIJqsiH      9625\n",
              "Name: utm_source, dtype: int64"
            ]
          },
          "metadata": {},
          "execution_count": 161
        }
      ],
      "source": [
        "sessions['utm_source'].value_counts(dropna=False).head(15)"
      ]
    },
    {
      "cell_type": "code",
      "source": [
        "print('Процент целевых действий для частых значений канала привлечения:')\n",
        "sessions['utm_source_frequent'] = replace_rare(sessions['utm_source'])\n",
        "target_percentage(sessions, 'utm_source_frequent', \n",
        "                  index_name='Канал привлечения')"
      ],
      "metadata": {
        "colab": {
          "base_uri": "https://localhost:8080/",
          "height": 319
        },
        "id": "u_oN6adEYqj8",
        "outputId": "f284eea4-b6a9-417a-866d-39bd384f5011"
      },
      "execution_count": null,
      "outputs": [
        {
          "output_type": "stream",
          "name": "stdout",
          "text": [
            "Процент целевых действий для частых значений канала привлечения:\n"
          ]
        },
        {
          "output_type": "execute_result",
          "data": {
            "text/plain": [
              "                      Количество объектов Доля от общего числа  \\\n",
              "Канал привлечения                                                \n",
              "bByPQxmDaMXgpHeypKSM               102287                5.50%   \n",
              "fDLlAcSmythWSCVMvqvL               300575               16.16%   \n",
              "BHcvLfOaCWvWTykYqHVe               116320                6.25%   \n",
              "ZpYIoDJMcFzVoPFsHGJL               578290               31.09%   \n",
              "kjsLglQLzykiRbcDiGcD               266354               14.32%   \n",
              "rare_other                         310017               16.67%   \n",
              "MvfHsxITijuriZxsqZqt               186199               10.01%   \n",
              "\n",
              "                     Процент целевых действий  \n",
              "Канал привлечения                              \n",
              "bByPQxmDaMXgpHeypKSM                    5.43%  \n",
              "fDLlAcSmythWSCVMvqvL                    3.50%  \n",
              "BHcvLfOaCWvWTykYqHVe                    3.34%  \n",
              "ZpYIoDJMcFzVoPFsHGJL                    2.77%  \n",
              "kjsLglQLzykiRbcDiGcD                    2.36%  \n",
              "rare_other                              1.87%  \n",
              "MvfHsxITijuriZxsqZqt                    1.21%  "
            ],
            "text/html": [
              "\n",
              "  <div id=\"df-db2ed87d-8d9e-4b2c-8859-9d7e5a911396\">\n",
              "    <div class=\"colab-df-container\">\n",
              "      <div>\n",
              "<style scoped>\n",
              "    .dataframe tbody tr th:only-of-type {\n",
              "        vertical-align: middle;\n",
              "    }\n",
              "\n",
              "    .dataframe tbody tr th {\n",
              "        vertical-align: top;\n",
              "    }\n",
              "\n",
              "    .dataframe thead th {\n",
              "        text-align: right;\n",
              "    }\n",
              "</style>\n",
              "<table border=\"1\" class=\"dataframe\">\n",
              "  <thead>\n",
              "    <tr style=\"text-align: right;\">\n",
              "      <th></th>\n",
              "      <th>Количество объектов</th>\n",
              "      <th>Доля от общего числа</th>\n",
              "      <th>Процент целевых действий</th>\n",
              "    </tr>\n",
              "    <tr>\n",
              "      <th>Канал привлечения</th>\n",
              "      <th></th>\n",
              "      <th></th>\n",
              "      <th></th>\n",
              "    </tr>\n",
              "  </thead>\n",
              "  <tbody>\n",
              "    <tr>\n",
              "      <th>bByPQxmDaMXgpHeypKSM</th>\n",
              "      <td>102287</td>\n",
              "      <td>5.50%</td>\n",
              "      <td>5.43%</td>\n",
              "    </tr>\n",
              "    <tr>\n",
              "      <th>fDLlAcSmythWSCVMvqvL</th>\n",
              "      <td>300575</td>\n",
              "      <td>16.16%</td>\n",
              "      <td>3.50%</td>\n",
              "    </tr>\n",
              "    <tr>\n",
              "      <th>BHcvLfOaCWvWTykYqHVe</th>\n",
              "      <td>116320</td>\n",
              "      <td>6.25%</td>\n",
              "      <td>3.34%</td>\n",
              "    </tr>\n",
              "    <tr>\n",
              "      <th>ZpYIoDJMcFzVoPFsHGJL</th>\n",
              "      <td>578290</td>\n",
              "      <td>31.09%</td>\n",
              "      <td>2.77%</td>\n",
              "    </tr>\n",
              "    <tr>\n",
              "      <th>kjsLglQLzykiRbcDiGcD</th>\n",
              "      <td>266354</td>\n",
              "      <td>14.32%</td>\n",
              "      <td>2.36%</td>\n",
              "    </tr>\n",
              "    <tr>\n",
              "      <th>rare_other</th>\n",
              "      <td>310017</td>\n",
              "      <td>16.67%</td>\n",
              "      <td>1.87%</td>\n",
              "    </tr>\n",
              "    <tr>\n",
              "      <th>MvfHsxITijuriZxsqZqt</th>\n",
              "      <td>186199</td>\n",
              "      <td>10.01%</td>\n",
              "      <td>1.21%</td>\n",
              "    </tr>\n",
              "  </tbody>\n",
              "</table>\n",
              "</div>\n",
              "      <button class=\"colab-df-convert\" onclick=\"convertToInteractive('df-db2ed87d-8d9e-4b2c-8859-9d7e5a911396')\"\n",
              "              title=\"Convert this dataframe to an interactive table.\"\n",
              "              style=\"display:none;\">\n",
              "        \n",
              "  <svg xmlns=\"http://www.w3.org/2000/svg\" height=\"24px\"viewBox=\"0 0 24 24\"\n",
              "       width=\"24px\">\n",
              "    <path d=\"M0 0h24v24H0V0z\" fill=\"none\"/>\n",
              "    <path d=\"M18.56 5.44l.94 2.06.94-2.06 2.06-.94-2.06-.94-.94-2.06-.94 2.06-2.06.94zm-11 1L8.5 8.5l.94-2.06 2.06-.94-2.06-.94L8.5 2.5l-.94 2.06-2.06.94zm10 10l.94 2.06.94-2.06 2.06-.94-2.06-.94-.94-2.06-.94 2.06-2.06.94z\"/><path d=\"M17.41 7.96l-1.37-1.37c-.4-.4-.92-.59-1.43-.59-.52 0-1.04.2-1.43.59L10.3 9.45l-7.72 7.72c-.78.78-.78 2.05 0 2.83L4 21.41c.39.39.9.59 1.41.59.51 0 1.02-.2 1.41-.59l7.78-7.78 2.81-2.81c.8-.78.8-2.07 0-2.86zM5.41 20L4 18.59l7.72-7.72 1.47 1.35L5.41 20z\"/>\n",
              "  </svg>\n",
              "      </button>\n",
              "      \n",
              "  <style>\n",
              "    .colab-df-container {\n",
              "      display:flex;\n",
              "      flex-wrap:wrap;\n",
              "      gap: 12px;\n",
              "    }\n",
              "\n",
              "    .colab-df-convert {\n",
              "      background-color: #E8F0FE;\n",
              "      border: none;\n",
              "      border-radius: 50%;\n",
              "      cursor: pointer;\n",
              "      display: none;\n",
              "      fill: #1967D2;\n",
              "      height: 32px;\n",
              "      padding: 0 0 0 0;\n",
              "      width: 32px;\n",
              "    }\n",
              "\n",
              "    .colab-df-convert:hover {\n",
              "      background-color: #E2EBFA;\n",
              "      box-shadow: 0px 1px 2px rgba(60, 64, 67, 0.3), 0px 1px 3px 1px rgba(60, 64, 67, 0.15);\n",
              "      fill: #174EA6;\n",
              "    }\n",
              "\n",
              "    [theme=dark] .colab-df-convert {\n",
              "      background-color: #3B4455;\n",
              "      fill: #D2E3FC;\n",
              "    }\n",
              "\n",
              "    [theme=dark] .colab-df-convert:hover {\n",
              "      background-color: #434B5C;\n",
              "      box-shadow: 0px 1px 3px 1px rgba(0, 0, 0, 0.15);\n",
              "      filter: drop-shadow(0px 1px 2px rgba(0, 0, 0, 0.3));\n",
              "      fill: #FFFFFF;\n",
              "    }\n",
              "  </style>\n",
              "\n",
              "      <script>\n",
              "        const buttonEl =\n",
              "          document.querySelector('#df-db2ed87d-8d9e-4b2c-8859-9d7e5a911396 button.colab-df-convert');\n",
              "        buttonEl.style.display =\n",
              "          google.colab.kernel.accessAllowed ? 'block' : 'none';\n",
              "\n",
              "        async function convertToInteractive(key) {\n",
              "          const element = document.querySelector('#df-db2ed87d-8d9e-4b2c-8859-9d7e5a911396');\n",
              "          const dataTable =\n",
              "            await google.colab.kernel.invokeFunction('convertToInteractive',\n",
              "                                                     [key], {});\n",
              "          if (!dataTable) return;\n",
              "\n",
              "          const docLinkHtml = 'Like what you see? Visit the ' +\n",
              "            '<a target=\"_blank\" href=https://colab.research.google.com/notebooks/data_table.ipynb>data table notebook</a>'\n",
              "            + ' to learn more about interactive tables.';\n",
              "          element.innerHTML = '';\n",
              "          dataTable['output_type'] = 'display_data';\n",
              "          await google.colab.output.renderOutput(dataTable, element);\n",
              "          const docLink = document.createElement('div');\n",
              "          docLink.innerHTML = docLinkHtml;\n",
              "          element.appendChild(docLink);\n",
              "        }\n",
              "      </script>\n",
              "    </div>\n",
              "  </div>\n",
              "  "
            ]
          },
          "metadata": {},
          "execution_count": 162
        }
      ]
    },
    {
      "cell_type": "markdown",
      "source": [
        "Создадим новый признак, говорящий о том, что пользователь перешёл на сайт из социальных сетей - `utm_source_is_social`."
      ],
      "metadata": {
        "id": "_picnUjVYVKN"
      }
    },
    {
      "cell_type": "code",
      "source": [
        "sessions['utm_source_is_social'] = \\\n",
        "    sessions['utm_source'].isin(social_media_sources)"
      ],
      "metadata": {
        "id": "NNfEL7e6Yqoa"
      },
      "execution_count": null,
      "outputs": []
    },
    {
      "cell_type": "code",
      "source": [
        "print('Процент целевых действий для пользователей из соцсетей и остальных:')\n",
        "target_percentage(sessions, 'utm_source_is_social', index_name='Из соцсетей')"
      ],
      "metadata": {
        "colab": {
          "base_uri": "https://localhost:8080/",
          "height": 162
        },
        "id": "Iww_hfxUcL8A",
        "outputId": "908c37a1-70bf-43da-fdff-f34e64049cc6"
      },
      "execution_count": null,
      "outputs": [
        {
          "output_type": "stream",
          "name": "stdout",
          "text": [
            "Процент целевых действий для пользователей из соцсетей и остальных:\n"
          ]
        },
        {
          "output_type": "execute_result",
          "data": {
            "text/plain": [
              "             Количество объектов Доля от общего числа Процент целевых действий\n",
              "Из соцсетей                                                                   \n",
              "False                    1585815               85.26%                    2.92%\n",
              "True                      274227               14.74%                    1.47%"
            ],
            "text/html": [
              "\n",
              "  <div id=\"df-b6e17eee-106b-4217-9d53-a11099bcc04a\">\n",
              "    <div class=\"colab-df-container\">\n",
              "      <div>\n",
              "<style scoped>\n",
              "    .dataframe tbody tr th:only-of-type {\n",
              "        vertical-align: middle;\n",
              "    }\n",
              "\n",
              "    .dataframe tbody tr th {\n",
              "        vertical-align: top;\n",
              "    }\n",
              "\n",
              "    .dataframe thead th {\n",
              "        text-align: right;\n",
              "    }\n",
              "</style>\n",
              "<table border=\"1\" class=\"dataframe\">\n",
              "  <thead>\n",
              "    <tr style=\"text-align: right;\">\n",
              "      <th></th>\n",
              "      <th>Количество объектов</th>\n",
              "      <th>Доля от общего числа</th>\n",
              "      <th>Процент целевых действий</th>\n",
              "    </tr>\n",
              "    <tr>\n",
              "      <th>Из соцсетей</th>\n",
              "      <th></th>\n",
              "      <th></th>\n",
              "      <th></th>\n",
              "    </tr>\n",
              "  </thead>\n",
              "  <tbody>\n",
              "    <tr>\n",
              "      <th>False</th>\n",
              "      <td>1585815</td>\n",
              "      <td>85.26%</td>\n",
              "      <td>2.92%</td>\n",
              "    </tr>\n",
              "    <tr>\n",
              "      <th>True</th>\n",
              "      <td>274227</td>\n",
              "      <td>14.74%</td>\n",
              "      <td>1.47%</td>\n",
              "    </tr>\n",
              "  </tbody>\n",
              "</table>\n",
              "</div>\n",
              "      <button class=\"colab-df-convert\" onclick=\"convertToInteractive('df-b6e17eee-106b-4217-9d53-a11099bcc04a')\"\n",
              "              title=\"Convert this dataframe to an interactive table.\"\n",
              "              style=\"display:none;\">\n",
              "        \n",
              "  <svg xmlns=\"http://www.w3.org/2000/svg\" height=\"24px\"viewBox=\"0 0 24 24\"\n",
              "       width=\"24px\">\n",
              "    <path d=\"M0 0h24v24H0V0z\" fill=\"none\"/>\n",
              "    <path d=\"M18.56 5.44l.94 2.06.94-2.06 2.06-.94-2.06-.94-.94-2.06-.94 2.06-2.06.94zm-11 1L8.5 8.5l.94-2.06 2.06-.94-2.06-.94L8.5 2.5l-.94 2.06-2.06.94zm10 10l.94 2.06.94-2.06 2.06-.94-2.06-.94-.94-2.06-.94 2.06-2.06.94z\"/><path d=\"M17.41 7.96l-1.37-1.37c-.4-.4-.92-.59-1.43-.59-.52 0-1.04.2-1.43.59L10.3 9.45l-7.72 7.72c-.78.78-.78 2.05 0 2.83L4 21.41c.39.39.9.59 1.41.59.51 0 1.02-.2 1.41-.59l7.78-7.78 2.81-2.81c.8-.78.8-2.07 0-2.86zM5.41 20L4 18.59l7.72-7.72 1.47 1.35L5.41 20z\"/>\n",
              "  </svg>\n",
              "      </button>\n",
              "      \n",
              "  <style>\n",
              "    .colab-df-container {\n",
              "      display:flex;\n",
              "      flex-wrap:wrap;\n",
              "      gap: 12px;\n",
              "    }\n",
              "\n",
              "    .colab-df-convert {\n",
              "      background-color: #E8F0FE;\n",
              "      border: none;\n",
              "      border-radius: 50%;\n",
              "      cursor: pointer;\n",
              "      display: none;\n",
              "      fill: #1967D2;\n",
              "      height: 32px;\n",
              "      padding: 0 0 0 0;\n",
              "      width: 32px;\n",
              "    }\n",
              "\n",
              "    .colab-df-convert:hover {\n",
              "      background-color: #E2EBFA;\n",
              "      box-shadow: 0px 1px 2px rgba(60, 64, 67, 0.3), 0px 1px 3px 1px rgba(60, 64, 67, 0.15);\n",
              "      fill: #174EA6;\n",
              "    }\n",
              "\n",
              "    [theme=dark] .colab-df-convert {\n",
              "      background-color: #3B4455;\n",
              "      fill: #D2E3FC;\n",
              "    }\n",
              "\n",
              "    [theme=dark] .colab-df-convert:hover {\n",
              "      background-color: #434B5C;\n",
              "      box-shadow: 0px 1px 3px 1px rgba(0, 0, 0, 0.15);\n",
              "      filter: drop-shadow(0px 1px 2px rgba(0, 0, 0, 0.3));\n",
              "      fill: #FFFFFF;\n",
              "    }\n",
              "  </style>\n",
              "\n",
              "      <script>\n",
              "        const buttonEl =\n",
              "          document.querySelector('#df-b6e17eee-106b-4217-9d53-a11099bcc04a button.colab-df-convert');\n",
              "        buttonEl.style.display =\n",
              "          google.colab.kernel.accessAllowed ? 'block' : 'none';\n",
              "\n",
              "        async function convertToInteractive(key) {\n",
              "          const element = document.querySelector('#df-b6e17eee-106b-4217-9d53-a11099bcc04a');\n",
              "          const dataTable =\n",
              "            await google.colab.kernel.invokeFunction('convertToInteractive',\n",
              "                                                     [key], {});\n",
              "          if (!dataTable) return;\n",
              "\n",
              "          const docLinkHtml = 'Like what you see? Visit the ' +\n",
              "            '<a target=\"_blank\" href=https://colab.research.google.com/notebooks/data_table.ipynb>data table notebook</a>'\n",
              "            + ' to learn more about interactive tables.';\n",
              "          element.innerHTML = '';\n",
              "          dataTable['output_type'] = 'display_data';\n",
              "          await google.colab.output.renderOutput(dataTable, element);\n",
              "          const docLink = document.createElement('div');\n",
              "          docLink.innerHTML = docLinkHtml;\n",
              "          element.appendChild(docLink);\n",
              "        }\n",
              "      </script>\n",
              "    </div>\n",
              "  </div>\n",
              "  "
            ]
          },
          "metadata": {},
          "execution_count": 164
        }
      ]
    },
    {
      "cell_type": "markdown",
      "metadata": {
        "id": "_ml3PEC7CWYJ"
      },
      "source": [
        "### `utm_medium` - тип привлечения  \n",
        "\n",
        "Пустых значений в колонке `utm_medium` 301 055 - значения (none) и  (not set). Уникальных значений немного - 56.  \n",
        "\n",
        "Множество значений появляется в датасете слишком малое количество раз. \n",
        "\n",
        "Органический трафик составляет 28%. И для него процент целевых действий значительно выше, чем для остальных типов привлечения.  \n",
        "Самые популярные типы трафика: banner, cpc, cpm, refferal, organic.  \n",
        "\n",
        "Для самых частых значений `utm_medium` процент целевых действий меняется от 1.04% до 5.38%."
      ]
    },
    {
      "cell_type": "code",
      "execution_count": null,
      "metadata": {
        "colab": {
          "base_uri": "https://localhost:8080/"
        },
        "id": "L8QLTSzmCdWy",
        "outputId": "db1f8551-95de-40c0-8c27-bd176659ef35"
      },
      "outputs": [
        {
          "output_type": "stream",
          "name": "stdout",
          "text": [
            "Количество пустых значений в `utm_medium`: 301055\n"
          ]
        }
      ],
      "source": [
        "missings = count_missings(sessions['utm_medium'])\n",
        "print(f'Количество пустых значений в `utm_medium`: {missings}')"
      ]
    },
    {
      "cell_type": "code",
      "execution_count": null,
      "metadata": {
        "colab": {
          "base_uri": "https://localhost:8080/"
        },
        "id": "z8t5L9FQngls",
        "outputId": "d8c78fed-c70e-4b7a-d462-383d9bf68c4a"
      },
      "outputs": [
        {
          "output_type": "stream",
          "name": "stdout",
          "text": [
            "Количество уникальных значений в `utm_medium`: 56\n"
          ]
        }
      ],
      "source": [
        "n_unique = sessions['utm_medium'].nunique()\n",
        "print(f'Количество уникальных значений в `utm_medium`: {n_unique}')"
      ]
    },
    {
      "cell_type": "code",
      "execution_count": null,
      "metadata": {
        "colab": {
          "base_uri": "https://localhost:8080/"
        },
        "id": "mZ_uoSc9Cdaj",
        "outputId": "881e10ca-469e-4104-9669-1f2cf97feee8"
      },
      "outputs": [
        {
          "output_type": "execute_result",
          "data": {
            "text/plain": [
              "banner             552272\n",
              "cpc                434794\n",
              "(none)             300575\n",
              "cpm                242083\n",
              "referral           152050\n",
              "organic             63034\n",
              "email               29240\n",
              "push                28035\n",
              "stories             10582\n",
              "cpv                  8022\n",
              "blogger_channel      8015\n",
              "smartbanner          6794\n",
              "blogger_stories      4312\n",
              "cpa                  4279\n",
              "tg                   4011\n",
              "Name: utm_medium, dtype: int64"
            ]
          },
          "metadata": {},
          "execution_count": 167
        }
      ],
      "source": [
        "sessions['utm_medium'].value_counts(dropna=False).head(15)"
      ]
    },
    {
      "cell_type": "code",
      "source": [
        "print('Процент целевых действий для частых значений типа привлечения:')\n",
        "sessions['utm_medium_frequent'] = replace_rare(sessions['utm_medium'])\n",
        "target_percentage(sessions, 'utm_medium_frequent', index_name='Тип привлечения')"
      ],
      "metadata": {
        "colab": {
          "base_uri": "https://localhost:8080/",
          "height": 287
        },
        "id": "6PPmThvGdJaf",
        "outputId": "0d8bfc44-d2b0-47a0-d831-fee36a4782cd"
      },
      "execution_count": null,
      "outputs": [
        {
          "output_type": "stream",
          "name": "stdout",
          "text": [
            "Процент целевых действий для частых значений типа привлечения:\n"
          ]
        },
        {
          "output_type": "execute_result",
          "data": {
            "text/plain": [
              "                 Количество объектов Доля от общего числа  \\\n",
              "Тип привлечения                                             \n",
              "referral                      152050                8.17%   \n",
              "(none)                        300575               16.16%   \n",
              "banner                        552272               29.69%   \n",
              "rare_other                    178268                9.58%   \n",
              "cpc                           434794               23.38%   \n",
              "cpm                           242083               13.01%   \n",
              "\n",
              "                Процент целевых действий  \n",
              "Тип привлечения                           \n",
              "referral                           5.38%  \n",
              "(none)                             3.50%  \n",
              "banner                             2.74%  \n",
              "rare_other                         2.49%  \n",
              "cpc                                2.19%  \n",
              "cpm                                1.04%  "
            ],
            "text/html": [
              "\n",
              "  <div id=\"df-202fb7c1-04ef-4419-8420-6cf5691600a5\">\n",
              "    <div class=\"colab-df-container\">\n",
              "      <div>\n",
              "<style scoped>\n",
              "    .dataframe tbody tr th:only-of-type {\n",
              "        vertical-align: middle;\n",
              "    }\n",
              "\n",
              "    .dataframe tbody tr th {\n",
              "        vertical-align: top;\n",
              "    }\n",
              "\n",
              "    .dataframe thead th {\n",
              "        text-align: right;\n",
              "    }\n",
              "</style>\n",
              "<table border=\"1\" class=\"dataframe\">\n",
              "  <thead>\n",
              "    <tr style=\"text-align: right;\">\n",
              "      <th></th>\n",
              "      <th>Количество объектов</th>\n",
              "      <th>Доля от общего числа</th>\n",
              "      <th>Процент целевых действий</th>\n",
              "    </tr>\n",
              "    <tr>\n",
              "      <th>Тип привлечения</th>\n",
              "      <th></th>\n",
              "      <th></th>\n",
              "      <th></th>\n",
              "    </tr>\n",
              "  </thead>\n",
              "  <tbody>\n",
              "    <tr>\n",
              "      <th>referral</th>\n",
              "      <td>152050</td>\n",
              "      <td>8.17%</td>\n",
              "      <td>5.38%</td>\n",
              "    </tr>\n",
              "    <tr>\n",
              "      <th>(none)</th>\n",
              "      <td>300575</td>\n",
              "      <td>16.16%</td>\n",
              "      <td>3.50%</td>\n",
              "    </tr>\n",
              "    <tr>\n",
              "      <th>banner</th>\n",
              "      <td>552272</td>\n",
              "      <td>29.69%</td>\n",
              "      <td>2.74%</td>\n",
              "    </tr>\n",
              "    <tr>\n",
              "      <th>rare_other</th>\n",
              "      <td>178268</td>\n",
              "      <td>9.58%</td>\n",
              "      <td>2.49%</td>\n",
              "    </tr>\n",
              "    <tr>\n",
              "      <th>cpc</th>\n",
              "      <td>434794</td>\n",
              "      <td>23.38%</td>\n",
              "      <td>2.19%</td>\n",
              "    </tr>\n",
              "    <tr>\n",
              "      <th>cpm</th>\n",
              "      <td>242083</td>\n",
              "      <td>13.01%</td>\n",
              "      <td>1.04%</td>\n",
              "    </tr>\n",
              "  </tbody>\n",
              "</table>\n",
              "</div>\n",
              "      <button class=\"colab-df-convert\" onclick=\"convertToInteractive('df-202fb7c1-04ef-4419-8420-6cf5691600a5')\"\n",
              "              title=\"Convert this dataframe to an interactive table.\"\n",
              "              style=\"display:none;\">\n",
              "        \n",
              "  <svg xmlns=\"http://www.w3.org/2000/svg\" height=\"24px\"viewBox=\"0 0 24 24\"\n",
              "       width=\"24px\">\n",
              "    <path d=\"M0 0h24v24H0V0z\" fill=\"none\"/>\n",
              "    <path d=\"M18.56 5.44l.94 2.06.94-2.06 2.06-.94-2.06-.94-.94-2.06-.94 2.06-2.06.94zm-11 1L8.5 8.5l.94-2.06 2.06-.94-2.06-.94L8.5 2.5l-.94 2.06-2.06.94zm10 10l.94 2.06.94-2.06 2.06-.94-2.06-.94-.94-2.06-.94 2.06-2.06.94z\"/><path d=\"M17.41 7.96l-1.37-1.37c-.4-.4-.92-.59-1.43-.59-.52 0-1.04.2-1.43.59L10.3 9.45l-7.72 7.72c-.78.78-.78 2.05 0 2.83L4 21.41c.39.39.9.59 1.41.59.51 0 1.02-.2 1.41-.59l7.78-7.78 2.81-2.81c.8-.78.8-2.07 0-2.86zM5.41 20L4 18.59l7.72-7.72 1.47 1.35L5.41 20z\"/>\n",
              "  </svg>\n",
              "      </button>\n",
              "      \n",
              "  <style>\n",
              "    .colab-df-container {\n",
              "      display:flex;\n",
              "      flex-wrap:wrap;\n",
              "      gap: 12px;\n",
              "    }\n",
              "\n",
              "    .colab-df-convert {\n",
              "      background-color: #E8F0FE;\n",
              "      border: none;\n",
              "      border-radius: 50%;\n",
              "      cursor: pointer;\n",
              "      display: none;\n",
              "      fill: #1967D2;\n",
              "      height: 32px;\n",
              "      padding: 0 0 0 0;\n",
              "      width: 32px;\n",
              "    }\n",
              "\n",
              "    .colab-df-convert:hover {\n",
              "      background-color: #E2EBFA;\n",
              "      box-shadow: 0px 1px 2px rgba(60, 64, 67, 0.3), 0px 1px 3px 1px rgba(60, 64, 67, 0.15);\n",
              "      fill: #174EA6;\n",
              "    }\n",
              "\n",
              "    [theme=dark] .colab-df-convert {\n",
              "      background-color: #3B4455;\n",
              "      fill: #D2E3FC;\n",
              "    }\n",
              "\n",
              "    [theme=dark] .colab-df-convert:hover {\n",
              "      background-color: #434B5C;\n",
              "      box-shadow: 0px 1px 3px 1px rgba(0, 0, 0, 0.15);\n",
              "      filter: drop-shadow(0px 1px 2px rgba(0, 0, 0, 0.3));\n",
              "      fill: #FFFFFF;\n",
              "    }\n",
              "  </style>\n",
              "\n",
              "      <script>\n",
              "        const buttonEl =\n",
              "          document.querySelector('#df-202fb7c1-04ef-4419-8420-6cf5691600a5 button.colab-df-convert');\n",
              "        buttonEl.style.display =\n",
              "          google.colab.kernel.accessAllowed ? 'block' : 'none';\n",
              "\n",
              "        async function convertToInteractive(key) {\n",
              "          const element = document.querySelector('#df-202fb7c1-04ef-4419-8420-6cf5691600a5');\n",
              "          const dataTable =\n",
              "            await google.colab.kernel.invokeFunction('convertToInteractive',\n",
              "                                                     [key], {});\n",
              "          if (!dataTable) return;\n",
              "\n",
              "          const docLinkHtml = 'Like what you see? Visit the ' +\n",
              "            '<a target=\"_blank\" href=https://colab.research.google.com/notebooks/data_table.ipynb>data table notebook</a>'\n",
              "            + ' to learn more about interactive tables.';\n",
              "          element.innerHTML = '';\n",
              "          dataTable['output_type'] = 'display_data';\n",
              "          await google.colab.output.renderOutput(dataTable, element);\n",
              "          const docLink = document.createElement('div');\n",
              "          docLink.innerHTML = docLinkHtml;\n",
              "          element.appendChild(docLink);\n",
              "        }\n",
              "      </script>\n",
              "    </div>\n",
              "  </div>\n",
              "  "
            ]
          },
          "metadata": {},
          "execution_count": 168
        }
      ]
    },
    {
      "cell_type": "markdown",
      "source": [
        "Построим новый признак, отвечающий за органический трафик - `utm_medium_is_organic`."
      ],
      "metadata": {
        "id": "SxIUNb0cdC-9"
      }
    },
    {
      "cell_type": "code",
      "source": [
        "sessions['utm_medium_is_organic'] = sessions['utm_medium'].isin(organic_mediums)"
      ],
      "metadata": {
        "id": "nKHpJUx5fntS"
      },
      "execution_count": null,
      "outputs": []
    },
    {
      "cell_type": "code",
      "source": [
        "print('Распределение органического трафика:')\n",
        "target_percentage(sessions, 'utm_medium_is_organic', \n",
        "                  index_name='Органический трафик')"
      ],
      "metadata": {
        "colab": {
          "base_uri": "https://localhost:8080/",
          "height": 162
        },
        "id": "_SISqxGBf898",
        "outputId": "4ee8fa38-e1fb-4e07-e395-65b5e09e72a2"
      },
      "execution_count": null,
      "outputs": [
        {
          "output_type": "stream",
          "name": "stdout",
          "text": [
            "Распределение органического трафика:\n"
          ]
        },
        {
          "output_type": "execute_result",
          "data": {
            "text/plain": [
              "                     Количество объектов Доля от общего числа  \\\n",
              "Органический трафик                                             \n",
              "True                              515659               27.72%   \n",
              "False                            1344383               72.28%   \n",
              "\n",
              "                    Процент целевых действий  \n",
              "Органический трафик                           \n",
              "True                                   4.04%  \n",
              "False                                  2.19%  "
            ],
            "text/html": [
              "\n",
              "  <div id=\"df-ae05d687-5e10-4095-ae9e-3da3a8965ffc\">\n",
              "    <div class=\"colab-df-container\">\n",
              "      <div>\n",
              "<style scoped>\n",
              "    .dataframe tbody tr th:only-of-type {\n",
              "        vertical-align: middle;\n",
              "    }\n",
              "\n",
              "    .dataframe tbody tr th {\n",
              "        vertical-align: top;\n",
              "    }\n",
              "\n",
              "    .dataframe thead th {\n",
              "        text-align: right;\n",
              "    }\n",
              "</style>\n",
              "<table border=\"1\" class=\"dataframe\">\n",
              "  <thead>\n",
              "    <tr style=\"text-align: right;\">\n",
              "      <th></th>\n",
              "      <th>Количество объектов</th>\n",
              "      <th>Доля от общего числа</th>\n",
              "      <th>Процент целевых действий</th>\n",
              "    </tr>\n",
              "    <tr>\n",
              "      <th>Органический трафик</th>\n",
              "      <th></th>\n",
              "      <th></th>\n",
              "      <th></th>\n",
              "    </tr>\n",
              "  </thead>\n",
              "  <tbody>\n",
              "    <tr>\n",
              "      <th>True</th>\n",
              "      <td>515659</td>\n",
              "      <td>27.72%</td>\n",
              "      <td>4.04%</td>\n",
              "    </tr>\n",
              "    <tr>\n",
              "      <th>False</th>\n",
              "      <td>1344383</td>\n",
              "      <td>72.28%</td>\n",
              "      <td>2.19%</td>\n",
              "    </tr>\n",
              "  </tbody>\n",
              "</table>\n",
              "</div>\n",
              "      <button class=\"colab-df-convert\" onclick=\"convertToInteractive('df-ae05d687-5e10-4095-ae9e-3da3a8965ffc')\"\n",
              "              title=\"Convert this dataframe to an interactive table.\"\n",
              "              style=\"display:none;\">\n",
              "        \n",
              "  <svg xmlns=\"http://www.w3.org/2000/svg\" height=\"24px\"viewBox=\"0 0 24 24\"\n",
              "       width=\"24px\">\n",
              "    <path d=\"M0 0h24v24H0V0z\" fill=\"none\"/>\n",
              "    <path d=\"M18.56 5.44l.94 2.06.94-2.06 2.06-.94-2.06-.94-.94-2.06-.94 2.06-2.06.94zm-11 1L8.5 8.5l.94-2.06 2.06-.94-2.06-.94L8.5 2.5l-.94 2.06-2.06.94zm10 10l.94 2.06.94-2.06 2.06-.94-2.06-.94-.94-2.06-.94 2.06-2.06.94z\"/><path d=\"M17.41 7.96l-1.37-1.37c-.4-.4-.92-.59-1.43-.59-.52 0-1.04.2-1.43.59L10.3 9.45l-7.72 7.72c-.78.78-.78 2.05 0 2.83L4 21.41c.39.39.9.59 1.41.59.51 0 1.02-.2 1.41-.59l7.78-7.78 2.81-2.81c.8-.78.8-2.07 0-2.86zM5.41 20L4 18.59l7.72-7.72 1.47 1.35L5.41 20z\"/>\n",
              "  </svg>\n",
              "      </button>\n",
              "      \n",
              "  <style>\n",
              "    .colab-df-container {\n",
              "      display:flex;\n",
              "      flex-wrap:wrap;\n",
              "      gap: 12px;\n",
              "    }\n",
              "\n",
              "    .colab-df-convert {\n",
              "      background-color: #E8F0FE;\n",
              "      border: none;\n",
              "      border-radius: 50%;\n",
              "      cursor: pointer;\n",
              "      display: none;\n",
              "      fill: #1967D2;\n",
              "      height: 32px;\n",
              "      padding: 0 0 0 0;\n",
              "      width: 32px;\n",
              "    }\n",
              "\n",
              "    .colab-df-convert:hover {\n",
              "      background-color: #E2EBFA;\n",
              "      box-shadow: 0px 1px 2px rgba(60, 64, 67, 0.3), 0px 1px 3px 1px rgba(60, 64, 67, 0.15);\n",
              "      fill: #174EA6;\n",
              "    }\n",
              "\n",
              "    [theme=dark] .colab-df-convert {\n",
              "      background-color: #3B4455;\n",
              "      fill: #D2E3FC;\n",
              "    }\n",
              "\n",
              "    [theme=dark] .colab-df-convert:hover {\n",
              "      background-color: #434B5C;\n",
              "      box-shadow: 0px 1px 3px 1px rgba(0, 0, 0, 0.15);\n",
              "      filter: drop-shadow(0px 1px 2px rgba(0, 0, 0, 0.3));\n",
              "      fill: #FFFFFF;\n",
              "    }\n",
              "  </style>\n",
              "\n",
              "      <script>\n",
              "        const buttonEl =\n",
              "          document.querySelector('#df-ae05d687-5e10-4095-ae9e-3da3a8965ffc button.colab-df-convert');\n",
              "        buttonEl.style.display =\n",
              "          google.colab.kernel.accessAllowed ? 'block' : 'none';\n",
              "\n",
              "        async function convertToInteractive(key) {\n",
              "          const element = document.querySelector('#df-ae05d687-5e10-4095-ae9e-3da3a8965ffc');\n",
              "          const dataTable =\n",
              "            await google.colab.kernel.invokeFunction('convertToInteractive',\n",
              "                                                     [key], {});\n",
              "          if (!dataTable) return;\n",
              "\n",
              "          const docLinkHtml = 'Like what you see? Visit the ' +\n",
              "            '<a target=\"_blank\" href=https://colab.research.google.com/notebooks/data_table.ipynb>data table notebook</a>'\n",
              "            + ' to learn more about interactive tables.';\n",
              "          element.innerHTML = '';\n",
              "          dataTable['output_type'] = 'display_data';\n",
              "          await google.colab.output.renderOutput(dataTable, element);\n",
              "          const docLink = document.createElement('div');\n",
              "          docLink.innerHTML = docLinkHtml;\n",
              "          element.appendChild(docLink);\n",
              "        }\n",
              "      </script>\n",
              "    </div>\n",
              "  </div>\n",
              "  "
            ]
          },
          "metadata": {},
          "execution_count": 170
        }
      ]
    },
    {
      "cell_type": "markdown",
      "metadata": {
        "id": "99cm3o0SIy-k"
      },
      "source": [
        "### `utm_campaign` - рекламная кампания  \n",
        "\n",
        "12% значений в колонке пропущено.  \n",
        "Уникальных значений в колонке 412, причём большая часть уникальных значений встречается в датасете очень редко. \n",
        "\n",
        "Для самых частых значений процент целевых действий меняется от 0.99% до 4.10%."
      ]
    },
    {
      "cell_type": "code",
      "execution_count": null,
      "metadata": {
        "colab": {
          "base_uri": "https://localhost:8080/"
        },
        "id": "Q3nfSKfqJJjo",
        "outputId": "d1bad618-bd47-40ca-8b55-96f7b1fb069c"
      },
      "outputs": [
        {
          "output_type": "stream",
          "name": "stdout",
          "text": [
            "Количество пропущенных значений в `utm_campaign`: 11.81%\n"
          ]
        }
      ],
      "source": [
        "missings = count_missings(sessions['utm_campaign']) / len(sessions)\n",
        "print(f'Количество пропущенных значений в `utm_campaign`: {missings:0.2%}')"
      ]
    },
    {
      "cell_type": "code",
      "execution_count": null,
      "metadata": {
        "colab": {
          "base_uri": "https://localhost:8080/"
        },
        "id": "-_pIazxqJJgJ",
        "outputId": "3117ceda-716b-4cd2-c7ff-6df500ad95a0"
      },
      "outputs": [
        {
          "output_type": "stream",
          "name": "stdout",
          "text": [
            "Количество уникальных значений в `utm_campaign` = 412\n"
          ]
        }
      ],
      "source": [
        "n_unique = sessions['utm_campaign'].nunique()\n",
        "print(f'Количество уникальных значений в `utm_campaign` = {n_unique}')"
      ]
    },
    {
      "cell_type": "code",
      "execution_count": null,
      "metadata": {
        "colab": {
          "base_uri": "https://localhost:8080/"
        },
        "id": "Lvu6gXCIJJSH",
        "outputId": "27e61721-bc4c-45ec-da03-245fdb8ce259"
      },
      "outputs": [
        {
          "output_type": "execute_result",
          "data": {
            "text/plain": [
              "LTuZkdKfxRGVceoWkVyg    463481\n",
              "LEoPHuyFvzoNfnzGgfcd    324044\n",
              "FTjNLDyTrXaWYgZymFkV    247360\n",
              "NaN                     219603\n",
              "gecBYcKZCPMcVYdSSzKP    134042\n",
              "TmThBvoCcwkCZZUWACYq     26597\n",
              "XHNUiSKKGTEpSAlaVMFQ     24524\n",
              "okTXSMadDkjvntEHzIjp     24511\n",
              "SgIUDYUKnyWHVowUOqid     22841\n",
              "sbJRYgVfvcnqKJNDDYIr     20188\n",
              "LwJZxKuWmvOhPsaCeRjG     17615\n",
              "RoDitORHdzGfGhNCyEMy     15706\n",
              "bxOTvPtyGSdUrbwoXCPO     15415\n",
              "zxoiLxhuSIFrCeTLQVWZ     12370\n",
              "bJJuEXRheRIxXEaYIXqM     12232\n",
              "Name: utm_campaign, dtype: int64"
            ]
          },
          "metadata": {},
          "execution_count": 173
        }
      ],
      "source": [
        "sessions['utm_campaign'].value_counts(dropna=False).head(15)"
      ]
    },
    {
      "cell_type": "code",
      "source": [
        "print('Процент целевых действий для самых частых значений рекламной кампании:')\n",
        "sessions['utm_campaign_frequent'] = replace_rare(sessions['utm_campaign'], 0.05)\n",
        "target_percentage(sessions, 'utm_campaign_frequent', \n",
        "                  index_name='Рекламная кампания')"
      ],
      "metadata": {
        "colab": {
          "base_uri": "https://localhost:8080/",
          "height": 287
        },
        "id": "DtYtiTQ-lNAs",
        "outputId": "b8721b8c-b3d7-451d-a317-07988a01b2fe"
      },
      "execution_count": null,
      "outputs": [
        {
          "output_type": "stream",
          "name": "stdout",
          "text": [
            "Процент целевых действий для самых частых значений рекламной кампании:\n"
          ]
        },
        {
          "output_type": "execute_result",
          "data": {
            "text/plain": [
              "                      Количество объектов Доля от общего числа  \\\n",
              "Рекламная кампания                                               \n",
              "LTuZkdKfxRGVceoWkVyg               463481               24.92%   \n",
              "gecBYcKZCPMcVYdSSzKP               134042                7.21%   \n",
              "(nan)                              219603               11.81%   \n",
              "LEoPHuyFvzoNfnzGgfcd               324044               17.42%   \n",
              "rare_other                         471512               25.35%   \n",
              "FTjNLDyTrXaWYgZymFkV               247360               13.30%   \n",
              "\n",
              "                     Процент целевых действий  \n",
              "Рекламная кампания                             \n",
              "LTuZkdKfxRGVceoWkVyg                    4.10%  \n",
              "gecBYcKZCPMcVYdSSzKP                    3.39%  \n",
              "(nan)                                   3.27%  \n",
              "LEoPHuyFvzoNfnzGgfcd                    2.88%  \n",
              "rare_other                              1.65%  \n",
              "FTjNLDyTrXaWYgZymFkV                    0.99%  "
            ],
            "text/html": [
              "\n",
              "  <div id=\"df-a3c3e2f0-e1f5-4356-bb47-86aaca58ae72\">\n",
              "    <div class=\"colab-df-container\">\n",
              "      <div>\n",
              "<style scoped>\n",
              "    .dataframe tbody tr th:only-of-type {\n",
              "        vertical-align: middle;\n",
              "    }\n",
              "\n",
              "    .dataframe tbody tr th {\n",
              "        vertical-align: top;\n",
              "    }\n",
              "\n",
              "    .dataframe thead th {\n",
              "        text-align: right;\n",
              "    }\n",
              "</style>\n",
              "<table border=\"1\" class=\"dataframe\">\n",
              "  <thead>\n",
              "    <tr style=\"text-align: right;\">\n",
              "      <th></th>\n",
              "      <th>Количество объектов</th>\n",
              "      <th>Доля от общего числа</th>\n",
              "      <th>Процент целевых действий</th>\n",
              "    </tr>\n",
              "    <tr>\n",
              "      <th>Рекламная кампания</th>\n",
              "      <th></th>\n",
              "      <th></th>\n",
              "      <th></th>\n",
              "    </tr>\n",
              "  </thead>\n",
              "  <tbody>\n",
              "    <tr>\n",
              "      <th>LTuZkdKfxRGVceoWkVyg</th>\n",
              "      <td>463481</td>\n",
              "      <td>24.92%</td>\n",
              "      <td>4.10%</td>\n",
              "    </tr>\n",
              "    <tr>\n",
              "      <th>gecBYcKZCPMcVYdSSzKP</th>\n",
              "      <td>134042</td>\n",
              "      <td>7.21%</td>\n",
              "      <td>3.39%</td>\n",
              "    </tr>\n",
              "    <tr>\n",
              "      <th>(nan)</th>\n",
              "      <td>219603</td>\n",
              "      <td>11.81%</td>\n",
              "      <td>3.27%</td>\n",
              "    </tr>\n",
              "    <tr>\n",
              "      <th>LEoPHuyFvzoNfnzGgfcd</th>\n",
              "      <td>324044</td>\n",
              "      <td>17.42%</td>\n",
              "      <td>2.88%</td>\n",
              "    </tr>\n",
              "    <tr>\n",
              "      <th>rare_other</th>\n",
              "      <td>471512</td>\n",
              "      <td>25.35%</td>\n",
              "      <td>1.65%</td>\n",
              "    </tr>\n",
              "    <tr>\n",
              "      <th>FTjNLDyTrXaWYgZymFkV</th>\n",
              "      <td>247360</td>\n",
              "      <td>13.30%</td>\n",
              "      <td>0.99%</td>\n",
              "    </tr>\n",
              "  </tbody>\n",
              "</table>\n",
              "</div>\n",
              "      <button class=\"colab-df-convert\" onclick=\"convertToInteractive('df-a3c3e2f0-e1f5-4356-bb47-86aaca58ae72')\"\n",
              "              title=\"Convert this dataframe to an interactive table.\"\n",
              "              style=\"display:none;\">\n",
              "        \n",
              "  <svg xmlns=\"http://www.w3.org/2000/svg\" height=\"24px\"viewBox=\"0 0 24 24\"\n",
              "       width=\"24px\">\n",
              "    <path d=\"M0 0h24v24H0V0z\" fill=\"none\"/>\n",
              "    <path d=\"M18.56 5.44l.94 2.06.94-2.06 2.06-.94-2.06-.94-.94-2.06-.94 2.06-2.06.94zm-11 1L8.5 8.5l.94-2.06 2.06-.94-2.06-.94L8.5 2.5l-.94 2.06-2.06.94zm10 10l.94 2.06.94-2.06 2.06-.94-2.06-.94-.94-2.06-.94 2.06-2.06.94z\"/><path d=\"M17.41 7.96l-1.37-1.37c-.4-.4-.92-.59-1.43-.59-.52 0-1.04.2-1.43.59L10.3 9.45l-7.72 7.72c-.78.78-.78 2.05 0 2.83L4 21.41c.39.39.9.59 1.41.59.51 0 1.02-.2 1.41-.59l7.78-7.78 2.81-2.81c.8-.78.8-2.07 0-2.86zM5.41 20L4 18.59l7.72-7.72 1.47 1.35L5.41 20z\"/>\n",
              "  </svg>\n",
              "      </button>\n",
              "      \n",
              "  <style>\n",
              "    .colab-df-container {\n",
              "      display:flex;\n",
              "      flex-wrap:wrap;\n",
              "      gap: 12px;\n",
              "    }\n",
              "\n",
              "    .colab-df-convert {\n",
              "      background-color: #E8F0FE;\n",
              "      border: none;\n",
              "      border-radius: 50%;\n",
              "      cursor: pointer;\n",
              "      display: none;\n",
              "      fill: #1967D2;\n",
              "      height: 32px;\n",
              "      padding: 0 0 0 0;\n",
              "      width: 32px;\n",
              "    }\n",
              "\n",
              "    .colab-df-convert:hover {\n",
              "      background-color: #E2EBFA;\n",
              "      box-shadow: 0px 1px 2px rgba(60, 64, 67, 0.3), 0px 1px 3px 1px rgba(60, 64, 67, 0.15);\n",
              "      fill: #174EA6;\n",
              "    }\n",
              "\n",
              "    [theme=dark] .colab-df-convert {\n",
              "      background-color: #3B4455;\n",
              "      fill: #D2E3FC;\n",
              "    }\n",
              "\n",
              "    [theme=dark] .colab-df-convert:hover {\n",
              "      background-color: #434B5C;\n",
              "      box-shadow: 0px 1px 3px 1px rgba(0, 0, 0, 0.15);\n",
              "      filter: drop-shadow(0px 1px 2px rgba(0, 0, 0, 0.3));\n",
              "      fill: #FFFFFF;\n",
              "    }\n",
              "  </style>\n",
              "\n",
              "      <script>\n",
              "        const buttonEl =\n",
              "          document.querySelector('#df-a3c3e2f0-e1f5-4356-bb47-86aaca58ae72 button.colab-df-convert');\n",
              "        buttonEl.style.display =\n",
              "          google.colab.kernel.accessAllowed ? 'block' : 'none';\n",
              "\n",
              "        async function convertToInteractive(key) {\n",
              "          const element = document.querySelector('#df-a3c3e2f0-e1f5-4356-bb47-86aaca58ae72');\n",
              "          const dataTable =\n",
              "            await google.colab.kernel.invokeFunction('convertToInteractive',\n",
              "                                                     [key], {});\n",
              "          if (!dataTable) return;\n",
              "\n",
              "          const docLinkHtml = 'Like what you see? Visit the ' +\n",
              "            '<a target=\"_blank\" href=https://colab.research.google.com/notebooks/data_table.ipynb>data table notebook</a>'\n",
              "            + ' to learn more about interactive tables.';\n",
              "          element.innerHTML = '';\n",
              "          dataTable['output_type'] = 'display_data';\n",
              "          await google.colab.output.renderOutput(dataTable, element);\n",
              "          const docLink = document.createElement('div');\n",
              "          docLink.innerHTML = docLinkHtml;\n",
              "          element.appendChild(docLink);\n",
              "        }\n",
              "      </script>\n",
              "    </div>\n",
              "  </div>\n",
              "  "
            ]
          },
          "metadata": {},
          "execution_count": 174
        }
      ]
    },
    {
      "cell_type": "markdown",
      "metadata": {
        "id": "M4Gvtqk5KldH"
      },
      "source": [
        "### `utm_adcontent`  \n",
        "\n",
        "18% значений в колонке пропущено.  \n",
        "В колонке 286 уникальных значений, но большая их часть слишком редко встречается в данных.  \n",
        "\n",
        "Для популярных значений процент целевых действий меняется от 1.08% до 3.37%."
      ]
    },
    {
      "cell_type": "code",
      "execution_count": null,
      "metadata": {
        "colab": {
          "base_uri": "https://localhost:8080/"
        },
        "id": "4nJC7eE8K2kK",
        "outputId": "eba50e6d-3549-44fc-8bee-0f92e058c940"
      },
      "outputs": [
        {
          "output_type": "stream",
          "name": "stdout",
          "text": [
            "Количество пропущенных значений в `utm_adcontent`: 18.04%\n"
          ]
        }
      ],
      "source": [
        "missings = count_missings(sessions['utm_adcontent']) / len(sessions)\n",
        "print(f'Количество пропущенных значений в `utm_adcontent`: {missings:0.2%}')"
      ]
    },
    {
      "cell_type": "code",
      "execution_count": null,
      "metadata": {
        "colab": {
          "base_uri": "https://localhost:8080/"
        },
        "id": "0Ov8C2rmK3cG",
        "outputId": "2926ea9d-0075-433c-b14d-bf3526f55551"
      },
      "outputs": [
        {
          "output_type": "stream",
          "name": "stdout",
          "text": [
            "Количество уникальных значений в `utm_adcontent` = 286\n"
          ]
        }
      ],
      "source": [
        "n_unique = sessions['utm_adcontent'].nunique()\n",
        "print(f'Количество уникальных значений в `utm_adcontent` = {n_unique}')"
      ]
    },
    {
      "cell_type": "code",
      "execution_count": null,
      "metadata": {
        "colab": {
          "base_uri": "https://localhost:8080/"
        },
        "id": "0XxcrDnLK3SV",
        "outputId": "3c094786-1ecd-4248-9462-6b15c7d2146c"
      },
      "outputs": [
        {
          "output_type": "execute_result",
          "data": {
            "text/plain": [
              "JNHcPlZPxEMWDnRiyoBf    1006599\n",
              "NaN                      335615\n",
              "vCIpmpaGBnIQhyYNkXqp     181048\n",
              "xhoenQgDQsgfEPYNPwKO     113072\n",
              "PkybGvWbaqORmxjNunqZ      60316\n",
              "LLfCasrxQzJIyuldcuWy      24222\n",
              "TuyPWsGQruPMpKvRxeBF      18189\n",
              "UxrnyMlRBSOhOjytXnMG      13583\n",
              "dUuXlWzvmhDSyclWRhNP      10280\n",
              "yYdBRbPmBMUZHXwqGxNx       9700\n",
              "WYLajZgbUhGimwBKDZUH       8610\n",
              "SOkCdPxfUcZUzzOdgGES       7319\n",
              "AdeErYgVTbRcAWtHrMHq       6391\n",
              "nNqUcgFgcqQbTVSvgaHr       6192\n",
              "aYAcKhelKzYpXrRYknSP       5090\n",
              "Name: utm_adcontent, dtype: int64"
            ]
          },
          "metadata": {},
          "execution_count": 177
        }
      ],
      "source": [
        "sessions['utm_adcontent'].value_counts(dropna=False).head(15)"
      ]
    },
    {
      "cell_type": "code",
      "source": [
        "print('Процент целевых действий для частых значений utm_adcontent:')\n",
        "sessions['utm_adcontent_frequent'] = replace_rare(sessions['utm_adcontent'])\n",
        "target_percentage(sessions, 'utm_adcontent_frequent')"
      ],
      "metadata": {
        "colab": {
          "base_uri": "https://localhost:8080/",
          "height": 256
        },
        "outputId": "5cb63738-5fb8-40d9-ed7f-7245d8376dd8",
        "id": "x2kZwxJnjE7A"
      },
      "execution_count": null,
      "outputs": [
        {
          "output_type": "stream",
          "name": "stdout",
          "text": [
            "Процент целевых действий для частых значений utm_adcontent:\n"
          ]
        },
        {
          "output_type": "execute_result",
          "data": {
            "text/plain": [
              "                        Количество объектов Доля от общего числа  \\\n",
              "utm_adcontent_frequent                                             \n",
              "JNHcPlZPxEMWDnRiyoBf                1006599               54.12%   \n",
              "(nan)                                335615               18.04%   \n",
              "vCIpmpaGBnIQhyYNkXqp                 181048                9.73%   \n",
              "xhoenQgDQsgfEPYNPwKO                 113072                6.08%   \n",
              "rare_other                           223708               12.03%   \n",
              "\n",
              "                       Процент целевых действий  \n",
              "utm_adcontent_frequent                           \n",
              "JNHcPlZPxEMWDnRiyoBf                      3.37%  \n",
              "(nan)                                     2.61%  \n",
              "vCIpmpaGBnIQhyYNkXqp                      2.16%  \n",
              "xhoenQgDQsgfEPYNPwKO                      1.12%  \n",
              "rare_other                                1.08%  "
            ],
            "text/html": [
              "\n",
              "  <div id=\"df-f25e5298-be99-428f-9c8d-f727b521886a\">\n",
              "    <div class=\"colab-df-container\">\n",
              "      <div>\n",
              "<style scoped>\n",
              "    .dataframe tbody tr th:only-of-type {\n",
              "        vertical-align: middle;\n",
              "    }\n",
              "\n",
              "    .dataframe tbody tr th {\n",
              "        vertical-align: top;\n",
              "    }\n",
              "\n",
              "    .dataframe thead th {\n",
              "        text-align: right;\n",
              "    }\n",
              "</style>\n",
              "<table border=\"1\" class=\"dataframe\">\n",
              "  <thead>\n",
              "    <tr style=\"text-align: right;\">\n",
              "      <th></th>\n",
              "      <th>Количество объектов</th>\n",
              "      <th>Доля от общего числа</th>\n",
              "      <th>Процент целевых действий</th>\n",
              "    </tr>\n",
              "    <tr>\n",
              "      <th>utm_adcontent_frequent</th>\n",
              "      <th></th>\n",
              "      <th></th>\n",
              "      <th></th>\n",
              "    </tr>\n",
              "  </thead>\n",
              "  <tbody>\n",
              "    <tr>\n",
              "      <th>JNHcPlZPxEMWDnRiyoBf</th>\n",
              "      <td>1006599</td>\n",
              "      <td>54.12%</td>\n",
              "      <td>3.37%</td>\n",
              "    </tr>\n",
              "    <tr>\n",
              "      <th>(nan)</th>\n",
              "      <td>335615</td>\n",
              "      <td>18.04%</td>\n",
              "      <td>2.61%</td>\n",
              "    </tr>\n",
              "    <tr>\n",
              "      <th>vCIpmpaGBnIQhyYNkXqp</th>\n",
              "      <td>181048</td>\n",
              "      <td>9.73%</td>\n",
              "      <td>2.16%</td>\n",
              "    </tr>\n",
              "    <tr>\n",
              "      <th>xhoenQgDQsgfEPYNPwKO</th>\n",
              "      <td>113072</td>\n",
              "      <td>6.08%</td>\n",
              "      <td>1.12%</td>\n",
              "    </tr>\n",
              "    <tr>\n",
              "      <th>rare_other</th>\n",
              "      <td>223708</td>\n",
              "      <td>12.03%</td>\n",
              "      <td>1.08%</td>\n",
              "    </tr>\n",
              "  </tbody>\n",
              "</table>\n",
              "</div>\n",
              "      <button class=\"colab-df-convert\" onclick=\"convertToInteractive('df-f25e5298-be99-428f-9c8d-f727b521886a')\"\n",
              "              title=\"Convert this dataframe to an interactive table.\"\n",
              "              style=\"display:none;\">\n",
              "        \n",
              "  <svg xmlns=\"http://www.w3.org/2000/svg\" height=\"24px\"viewBox=\"0 0 24 24\"\n",
              "       width=\"24px\">\n",
              "    <path d=\"M0 0h24v24H0V0z\" fill=\"none\"/>\n",
              "    <path d=\"M18.56 5.44l.94 2.06.94-2.06 2.06-.94-2.06-.94-.94-2.06-.94 2.06-2.06.94zm-11 1L8.5 8.5l.94-2.06 2.06-.94-2.06-.94L8.5 2.5l-.94 2.06-2.06.94zm10 10l.94 2.06.94-2.06 2.06-.94-2.06-.94-.94-2.06-.94 2.06-2.06.94z\"/><path d=\"M17.41 7.96l-1.37-1.37c-.4-.4-.92-.59-1.43-.59-.52 0-1.04.2-1.43.59L10.3 9.45l-7.72 7.72c-.78.78-.78 2.05 0 2.83L4 21.41c.39.39.9.59 1.41.59.51 0 1.02-.2 1.41-.59l7.78-7.78 2.81-2.81c.8-.78.8-2.07 0-2.86zM5.41 20L4 18.59l7.72-7.72 1.47 1.35L5.41 20z\"/>\n",
              "  </svg>\n",
              "      </button>\n",
              "      \n",
              "  <style>\n",
              "    .colab-df-container {\n",
              "      display:flex;\n",
              "      flex-wrap:wrap;\n",
              "      gap: 12px;\n",
              "    }\n",
              "\n",
              "    .colab-df-convert {\n",
              "      background-color: #E8F0FE;\n",
              "      border: none;\n",
              "      border-radius: 50%;\n",
              "      cursor: pointer;\n",
              "      display: none;\n",
              "      fill: #1967D2;\n",
              "      height: 32px;\n",
              "      padding: 0 0 0 0;\n",
              "      width: 32px;\n",
              "    }\n",
              "\n",
              "    .colab-df-convert:hover {\n",
              "      background-color: #E2EBFA;\n",
              "      box-shadow: 0px 1px 2px rgba(60, 64, 67, 0.3), 0px 1px 3px 1px rgba(60, 64, 67, 0.15);\n",
              "      fill: #174EA6;\n",
              "    }\n",
              "\n",
              "    [theme=dark] .colab-df-convert {\n",
              "      background-color: #3B4455;\n",
              "      fill: #D2E3FC;\n",
              "    }\n",
              "\n",
              "    [theme=dark] .colab-df-convert:hover {\n",
              "      background-color: #434B5C;\n",
              "      box-shadow: 0px 1px 3px 1px rgba(0, 0, 0, 0.15);\n",
              "      filter: drop-shadow(0px 1px 2px rgba(0, 0, 0, 0.3));\n",
              "      fill: #FFFFFF;\n",
              "    }\n",
              "  </style>\n",
              "\n",
              "      <script>\n",
              "        const buttonEl =\n",
              "          document.querySelector('#df-f25e5298-be99-428f-9c8d-f727b521886a button.colab-df-convert');\n",
              "        buttonEl.style.display =\n",
              "          google.colab.kernel.accessAllowed ? 'block' : 'none';\n",
              "\n",
              "        async function convertToInteractive(key) {\n",
              "          const element = document.querySelector('#df-f25e5298-be99-428f-9c8d-f727b521886a');\n",
              "          const dataTable =\n",
              "            await google.colab.kernel.invokeFunction('convertToInteractive',\n",
              "                                                     [key], {});\n",
              "          if (!dataTable) return;\n",
              "\n",
              "          const docLinkHtml = 'Like what you see? Visit the ' +\n",
              "            '<a target=\"_blank\" href=https://colab.research.google.com/notebooks/data_table.ipynb>data table notebook</a>'\n",
              "            + ' to learn more about interactive tables.';\n",
              "          element.innerHTML = '';\n",
              "          dataTable['output_type'] = 'display_data';\n",
              "          await google.colab.output.renderOutput(dataTable, element);\n",
              "          const docLink = document.createElement('div');\n",
              "          docLink.innerHTML = docLinkHtml;\n",
              "          element.appendChild(docLink);\n",
              "        }\n",
              "      </script>\n",
              "    </div>\n",
              "  </div>\n",
              "  "
            ]
          },
          "metadata": {},
          "execution_count": 178
        }
      ]
    },
    {
      "cell_type": "markdown",
      "metadata": {
        "id": "fijaFf1HL3Hy"
      },
      "source": [
        "### `utm_keyword` - ключевое слово  \n",
        "\n",
        "Пропущенных значений в колонке очень много - 58%. И уникальных значений в колонке - 1219, что говорит о малой ценности этой колонки. Скорее всего из этой колонки будет взято только самое популярное значение puhZPIYqKXeFPaUviSjo.  \n",
        "\n",
        "Больший процент целевых действий у объектов с пропущенными значениями keyword."
      ]
    },
    {
      "cell_type": "code",
      "execution_count": null,
      "metadata": {
        "colab": {
          "base_uri": "https://localhost:8080/"
        },
        "id": "8c6Aw1L4K3Kn",
        "outputId": "07fcd6a6-a6d9-4dd4-d2a3-bd45196188e6"
      },
      "outputs": [
        {
          "output_type": "stream",
          "name": "stdout",
          "text": [
            "Количество пропущенных значений в `utm_keyword`: 58.17%\n"
          ]
        }
      ],
      "source": [
        "missings = count_missings(sessions['utm_keyword']) / len(sessions)\n",
        "print(f'Количество пропущенных значений в `utm_keyword`: {missings:0.2%}')"
      ]
    },
    {
      "cell_type": "code",
      "execution_count": null,
      "metadata": {
        "colab": {
          "base_uri": "https://localhost:8080/"
        },
        "id": "w2aw8CaRK2gR",
        "outputId": "d9d40372-c7b4-4609-f99e-61f611f27f14"
      },
      "outputs": [
        {
          "output_type": "stream",
          "name": "stdout",
          "text": [
            "Количество уникальных значений в `utm_keyword` = 1219\n"
          ]
        }
      ],
      "source": [
        "n_unique = sessions['utm_keyword'].nunique()\n",
        "print(f'Количество уникальных значений в `utm_keyword` = {n_unique}')"
      ]
    },
    {
      "cell_type": "code",
      "execution_count": null,
      "metadata": {
        "colab": {
          "base_uri": "https://localhost:8080/"
        },
        "id": "0lg_AtWvK2cY",
        "outputId": "72440e6c-64a3-4bce-e785-a691068c1ee2"
      },
      "outputs": [
        {
          "output_type": "execute_result",
          "data": {
            "text/plain": [
              "NaN                     1082061\n",
              "puhZPIYqKXeFPaUviSjo     506819\n",
              "aXQzDWsJuGXeBXexNHjc      24241\n",
              "pHqgLcdBQPSLcrTpLkdr      13767\n",
              "ITfrGJNwVsHBGJMAKoct      13353\n",
              "hAmNSZmQkKQKAjZEGlgb      11297\n",
              "UKNBOHebRIIsQRsjNKay      10946\n",
              "IGUCNvHlhfHpROGclCit       7568\n",
              "RkpOyeEPgcMBSDuHLQcj       6978\n",
              "JajANoFxoqXfKRNBUhzx       6758\n",
              "BmOOOIoWGHEfxEfoUezs       6602\n",
              "ZNhSIPchlbnKwZWcsKzz       5661\n",
              "pucKZkLDtpMDBTobJAJG       5391\n",
              "RrhnkuoaqckNtJpAZDzH       5004\n",
              "YQXPpoLsxnykCWKhGEmI       4874\n",
              "Name: utm_keyword, dtype: int64"
            ]
          },
          "metadata": {},
          "execution_count": 181
        }
      ],
      "source": [
        "sessions['utm_keyword'].value_counts(dropna=False).head(15)"
      ]
    },
    {
      "cell_type": "code",
      "source": [
        "print('Процент целевых действий для частых значений utm_keyword:')\n",
        "sessions['utm_keyword_frequent'] = replace_rare(sessions['utm_keyword'], 0.01)\n",
        "target_percentage(sessions, 'utm_keyword_frequent')"
      ],
      "metadata": {
        "colab": {
          "base_uri": "https://localhost:8080/",
          "height": 225
        },
        "outputId": "41a0f921-4d7b-4668-befc-78aa4068bfb7",
        "id": "J0xjmxqowixz"
      },
      "execution_count": null,
      "outputs": [
        {
          "output_type": "stream",
          "name": "stdout",
          "text": [
            "Процент целевых действий для частых значений utm_keyword:\n"
          ]
        },
        {
          "output_type": "execute_result",
          "data": {
            "text/plain": [
              "                      Количество объектов Доля от общего числа  \\\n",
              "utm_keyword_frequent                                             \n",
              "(nan)                             1082061               58.17%   \n",
              "puhZPIYqKXeFPaUviSjo               506819               27.25%   \n",
              "rare_other                         246921               13.28%   \n",
              "aXQzDWsJuGXeBXexNHjc                24241                1.30%   \n",
              "\n",
              "                     Процент целевых действий  \n",
              "utm_keyword_frequent                           \n",
              "(nan)                                   3.20%  \n",
              "puhZPIYqKXeFPaUviSjo                    2.21%  \n",
              "rare_other                              1.81%  \n",
              "aXQzDWsJuGXeBXexNHjc                    0.30%  "
            ],
            "text/html": [
              "\n",
              "  <div id=\"df-c00c7636-a916-4749-b23b-ed349835aaee\">\n",
              "    <div class=\"colab-df-container\">\n",
              "      <div>\n",
              "<style scoped>\n",
              "    .dataframe tbody tr th:only-of-type {\n",
              "        vertical-align: middle;\n",
              "    }\n",
              "\n",
              "    .dataframe tbody tr th {\n",
              "        vertical-align: top;\n",
              "    }\n",
              "\n",
              "    .dataframe thead th {\n",
              "        text-align: right;\n",
              "    }\n",
              "</style>\n",
              "<table border=\"1\" class=\"dataframe\">\n",
              "  <thead>\n",
              "    <tr style=\"text-align: right;\">\n",
              "      <th></th>\n",
              "      <th>Количество объектов</th>\n",
              "      <th>Доля от общего числа</th>\n",
              "      <th>Процент целевых действий</th>\n",
              "    </tr>\n",
              "    <tr>\n",
              "      <th>utm_keyword_frequent</th>\n",
              "      <th></th>\n",
              "      <th></th>\n",
              "      <th></th>\n",
              "    </tr>\n",
              "  </thead>\n",
              "  <tbody>\n",
              "    <tr>\n",
              "      <th>(nan)</th>\n",
              "      <td>1082061</td>\n",
              "      <td>58.17%</td>\n",
              "      <td>3.20%</td>\n",
              "    </tr>\n",
              "    <tr>\n",
              "      <th>puhZPIYqKXeFPaUviSjo</th>\n",
              "      <td>506819</td>\n",
              "      <td>27.25%</td>\n",
              "      <td>2.21%</td>\n",
              "    </tr>\n",
              "    <tr>\n",
              "      <th>rare_other</th>\n",
              "      <td>246921</td>\n",
              "      <td>13.28%</td>\n",
              "      <td>1.81%</td>\n",
              "    </tr>\n",
              "    <tr>\n",
              "      <th>aXQzDWsJuGXeBXexNHjc</th>\n",
              "      <td>24241</td>\n",
              "      <td>1.30%</td>\n",
              "      <td>0.30%</td>\n",
              "    </tr>\n",
              "  </tbody>\n",
              "</table>\n",
              "</div>\n",
              "      <button class=\"colab-df-convert\" onclick=\"convertToInteractive('df-c00c7636-a916-4749-b23b-ed349835aaee')\"\n",
              "              title=\"Convert this dataframe to an interactive table.\"\n",
              "              style=\"display:none;\">\n",
              "        \n",
              "  <svg xmlns=\"http://www.w3.org/2000/svg\" height=\"24px\"viewBox=\"0 0 24 24\"\n",
              "       width=\"24px\">\n",
              "    <path d=\"M0 0h24v24H0V0z\" fill=\"none\"/>\n",
              "    <path d=\"M18.56 5.44l.94 2.06.94-2.06 2.06-.94-2.06-.94-.94-2.06-.94 2.06-2.06.94zm-11 1L8.5 8.5l.94-2.06 2.06-.94-2.06-.94L8.5 2.5l-.94 2.06-2.06.94zm10 10l.94 2.06.94-2.06 2.06-.94-2.06-.94-.94-2.06-.94 2.06-2.06.94z\"/><path d=\"M17.41 7.96l-1.37-1.37c-.4-.4-.92-.59-1.43-.59-.52 0-1.04.2-1.43.59L10.3 9.45l-7.72 7.72c-.78.78-.78 2.05 0 2.83L4 21.41c.39.39.9.59 1.41.59.51 0 1.02-.2 1.41-.59l7.78-7.78 2.81-2.81c.8-.78.8-2.07 0-2.86zM5.41 20L4 18.59l7.72-7.72 1.47 1.35L5.41 20z\"/>\n",
              "  </svg>\n",
              "      </button>\n",
              "      \n",
              "  <style>\n",
              "    .colab-df-container {\n",
              "      display:flex;\n",
              "      flex-wrap:wrap;\n",
              "      gap: 12px;\n",
              "    }\n",
              "\n",
              "    .colab-df-convert {\n",
              "      background-color: #E8F0FE;\n",
              "      border: none;\n",
              "      border-radius: 50%;\n",
              "      cursor: pointer;\n",
              "      display: none;\n",
              "      fill: #1967D2;\n",
              "      height: 32px;\n",
              "      padding: 0 0 0 0;\n",
              "      width: 32px;\n",
              "    }\n",
              "\n",
              "    .colab-df-convert:hover {\n",
              "      background-color: #E2EBFA;\n",
              "      box-shadow: 0px 1px 2px rgba(60, 64, 67, 0.3), 0px 1px 3px 1px rgba(60, 64, 67, 0.15);\n",
              "      fill: #174EA6;\n",
              "    }\n",
              "\n",
              "    [theme=dark] .colab-df-convert {\n",
              "      background-color: #3B4455;\n",
              "      fill: #D2E3FC;\n",
              "    }\n",
              "\n",
              "    [theme=dark] .colab-df-convert:hover {\n",
              "      background-color: #434B5C;\n",
              "      box-shadow: 0px 1px 3px 1px rgba(0, 0, 0, 0.15);\n",
              "      filter: drop-shadow(0px 1px 2px rgba(0, 0, 0, 0.3));\n",
              "      fill: #FFFFFF;\n",
              "    }\n",
              "  </style>\n",
              "\n",
              "      <script>\n",
              "        const buttonEl =\n",
              "          document.querySelector('#df-c00c7636-a916-4749-b23b-ed349835aaee button.colab-df-convert');\n",
              "        buttonEl.style.display =\n",
              "          google.colab.kernel.accessAllowed ? 'block' : 'none';\n",
              "\n",
              "        async function convertToInteractive(key) {\n",
              "          const element = document.querySelector('#df-c00c7636-a916-4749-b23b-ed349835aaee');\n",
              "          const dataTable =\n",
              "            await google.colab.kernel.invokeFunction('convertToInteractive',\n",
              "                                                     [key], {});\n",
              "          if (!dataTable) return;\n",
              "\n",
              "          const docLinkHtml = 'Like what you see? Visit the ' +\n",
              "            '<a target=\"_blank\" href=https://colab.research.google.com/notebooks/data_table.ipynb>data table notebook</a>'\n",
              "            + ' to learn more about interactive tables.';\n",
              "          element.innerHTML = '';\n",
              "          dataTable['output_type'] = 'display_data';\n",
              "          await google.colab.output.renderOutput(dataTable, element);\n",
              "          const docLink = document.createElement('div');\n",
              "          docLink.innerHTML = docLinkHtml;\n",
              "          element.appendChild(docLink);\n",
              "        }\n",
              "      </script>\n",
              "    </div>\n",
              "  </div>\n",
              "  "
            ]
          },
          "metadata": {},
          "execution_count": 182
        }
      ]
    },
    {
      "cell_type": "markdown",
      "metadata": {
        "id": "i7DkGVtvMy6f"
      },
      "source": [
        "### `device_category` - тип устройства  \n",
        "\n",
        "Пропущенных значений в колонке нет.  \n",
        "Уникальных значений немного, а значит проблем с использованием колонки не возникнет.  \n",
        "\n",
        "С компьютера пользователи совершили больше (в процентах) целевых действий, чем с мобильных устройств.  \n"
      ]
    },
    {
      "cell_type": "code",
      "execution_count": null,
      "metadata": {
        "colab": {
          "base_uri": "https://localhost:8080/"
        },
        "id": "dOnLAZlcM6My",
        "outputId": "95d96a70-3e6a-44b1-de66-85cd2baff35b"
      },
      "outputs": [
        {
          "output_type": "stream",
          "name": "stdout",
          "text": [
            "Количество пропущенных значений в `device_category`: 0\n"
          ]
        }
      ],
      "source": [
        "missings = count_missings(sessions['device_category'])\n",
        "print(f'Количество пропущенных значений в `device_category`: {missings}')"
      ]
    },
    {
      "cell_type": "code",
      "execution_count": null,
      "metadata": {
        "colab": {
          "base_uri": "https://localhost:8080/"
        },
        "id": "VWNZbzTpM6Ih",
        "outputId": "7a4c6739-2bd5-4563-dc30-a050a37187b9"
      },
      "outputs": [
        {
          "output_type": "stream",
          "name": "stdout",
          "text": [
            "Количество уникальных значений в `device_category` = 3\n"
          ]
        }
      ],
      "source": [
        "n_unique = sessions['device_category'].nunique()\n",
        "print(f'Количество уникальных значений в `device_category` = {n_unique}')"
      ]
    },
    {
      "cell_type": "code",
      "execution_count": null,
      "metadata": {
        "colab": {
          "base_uri": "https://localhost:8080/"
        },
        "id": "Jpb3NqFbM6EW",
        "outputId": "eb6ec51e-2293-4ef8-a1f5-0449a32bb82a"
      },
      "outputs": [
        {
          "output_type": "execute_result",
          "data": {
            "text/plain": [
              "mobile     1474871\n",
              "desktop     366863\n",
              "tablet       18308\n",
              "Name: device_category, dtype: int64"
            ]
          },
          "metadata": {},
          "execution_count": 185
        }
      ],
      "source": [
        "sessions['device_category'].value_counts(dropna=False)"
      ]
    },
    {
      "cell_type": "code",
      "source": [
        "print('Процент целевых действий по категориям устройств: ')\n",
        "target_percentage(sessions, 'device_category', index_name='Тип устройства')"
      ],
      "metadata": {
        "colab": {
          "base_uri": "https://localhost:8080/",
          "height": 193
        },
        "id": "QVHq1sP7u8mt",
        "outputId": "b4accddb-256e-4ecc-f9d9-655723f2ca4b"
      },
      "execution_count": null,
      "outputs": [
        {
          "output_type": "stream",
          "name": "stdout",
          "text": [
            "Процент целевых действий по категориям устройств: \n"
          ]
        },
        {
          "output_type": "execute_result",
          "data": {
            "text/plain": [
              "                Количество объектов Доля от общего числа  \\\n",
              "Тип устройства                                             \n",
              "desktop                      366863               19.72%   \n",
              "mobile                      1474871               79.29%   \n",
              "tablet                        18308                0.98%   \n",
              "\n",
              "               Процент целевых действий  \n",
              "Тип устройства                           \n",
              "desktop                           3.14%  \n",
              "mobile                            2.60%  \n",
              "tablet                            2.31%  "
            ],
            "text/html": [
              "\n",
              "  <div id=\"df-98e91f3c-f069-4abb-8729-e4838de61890\">\n",
              "    <div class=\"colab-df-container\">\n",
              "      <div>\n",
              "<style scoped>\n",
              "    .dataframe tbody tr th:only-of-type {\n",
              "        vertical-align: middle;\n",
              "    }\n",
              "\n",
              "    .dataframe tbody tr th {\n",
              "        vertical-align: top;\n",
              "    }\n",
              "\n",
              "    .dataframe thead th {\n",
              "        text-align: right;\n",
              "    }\n",
              "</style>\n",
              "<table border=\"1\" class=\"dataframe\">\n",
              "  <thead>\n",
              "    <tr style=\"text-align: right;\">\n",
              "      <th></th>\n",
              "      <th>Количество объектов</th>\n",
              "      <th>Доля от общего числа</th>\n",
              "      <th>Процент целевых действий</th>\n",
              "    </tr>\n",
              "    <tr>\n",
              "      <th>Тип устройства</th>\n",
              "      <th></th>\n",
              "      <th></th>\n",
              "      <th></th>\n",
              "    </tr>\n",
              "  </thead>\n",
              "  <tbody>\n",
              "    <tr>\n",
              "      <th>desktop</th>\n",
              "      <td>366863</td>\n",
              "      <td>19.72%</td>\n",
              "      <td>3.14%</td>\n",
              "    </tr>\n",
              "    <tr>\n",
              "      <th>mobile</th>\n",
              "      <td>1474871</td>\n",
              "      <td>79.29%</td>\n",
              "      <td>2.60%</td>\n",
              "    </tr>\n",
              "    <tr>\n",
              "      <th>tablet</th>\n",
              "      <td>18308</td>\n",
              "      <td>0.98%</td>\n",
              "      <td>2.31%</td>\n",
              "    </tr>\n",
              "  </tbody>\n",
              "</table>\n",
              "</div>\n",
              "      <button class=\"colab-df-convert\" onclick=\"convertToInteractive('df-98e91f3c-f069-4abb-8729-e4838de61890')\"\n",
              "              title=\"Convert this dataframe to an interactive table.\"\n",
              "              style=\"display:none;\">\n",
              "        \n",
              "  <svg xmlns=\"http://www.w3.org/2000/svg\" height=\"24px\"viewBox=\"0 0 24 24\"\n",
              "       width=\"24px\">\n",
              "    <path d=\"M0 0h24v24H0V0z\" fill=\"none\"/>\n",
              "    <path d=\"M18.56 5.44l.94 2.06.94-2.06 2.06-.94-2.06-.94-.94-2.06-.94 2.06-2.06.94zm-11 1L8.5 8.5l.94-2.06 2.06-.94-2.06-.94L8.5 2.5l-.94 2.06-2.06.94zm10 10l.94 2.06.94-2.06 2.06-.94-2.06-.94-.94-2.06-.94 2.06-2.06.94z\"/><path d=\"M17.41 7.96l-1.37-1.37c-.4-.4-.92-.59-1.43-.59-.52 0-1.04.2-1.43.59L10.3 9.45l-7.72 7.72c-.78.78-.78 2.05 0 2.83L4 21.41c.39.39.9.59 1.41.59.51 0 1.02-.2 1.41-.59l7.78-7.78 2.81-2.81c.8-.78.8-2.07 0-2.86zM5.41 20L4 18.59l7.72-7.72 1.47 1.35L5.41 20z\"/>\n",
              "  </svg>\n",
              "      </button>\n",
              "      \n",
              "  <style>\n",
              "    .colab-df-container {\n",
              "      display:flex;\n",
              "      flex-wrap:wrap;\n",
              "      gap: 12px;\n",
              "    }\n",
              "\n",
              "    .colab-df-convert {\n",
              "      background-color: #E8F0FE;\n",
              "      border: none;\n",
              "      border-radius: 50%;\n",
              "      cursor: pointer;\n",
              "      display: none;\n",
              "      fill: #1967D2;\n",
              "      height: 32px;\n",
              "      padding: 0 0 0 0;\n",
              "      width: 32px;\n",
              "    }\n",
              "\n",
              "    .colab-df-convert:hover {\n",
              "      background-color: #E2EBFA;\n",
              "      box-shadow: 0px 1px 2px rgba(60, 64, 67, 0.3), 0px 1px 3px 1px rgba(60, 64, 67, 0.15);\n",
              "      fill: #174EA6;\n",
              "    }\n",
              "\n",
              "    [theme=dark] .colab-df-convert {\n",
              "      background-color: #3B4455;\n",
              "      fill: #D2E3FC;\n",
              "    }\n",
              "\n",
              "    [theme=dark] .colab-df-convert:hover {\n",
              "      background-color: #434B5C;\n",
              "      box-shadow: 0px 1px 3px 1px rgba(0, 0, 0, 0.15);\n",
              "      filter: drop-shadow(0px 1px 2px rgba(0, 0, 0, 0.3));\n",
              "      fill: #FFFFFF;\n",
              "    }\n",
              "  </style>\n",
              "\n",
              "      <script>\n",
              "        const buttonEl =\n",
              "          document.querySelector('#df-98e91f3c-f069-4abb-8729-e4838de61890 button.colab-df-convert');\n",
              "        buttonEl.style.display =\n",
              "          google.colab.kernel.accessAllowed ? 'block' : 'none';\n",
              "\n",
              "        async function convertToInteractive(key) {\n",
              "          const element = document.querySelector('#df-98e91f3c-f069-4abb-8729-e4838de61890');\n",
              "          const dataTable =\n",
              "            await google.colab.kernel.invokeFunction('convertToInteractive',\n",
              "                                                     [key], {});\n",
              "          if (!dataTable) return;\n",
              "\n",
              "          const docLinkHtml = 'Like what you see? Visit the ' +\n",
              "            '<a target=\"_blank\" href=https://colab.research.google.com/notebooks/data_table.ipynb>data table notebook</a>'\n",
              "            + ' to learn more about interactive tables.';\n",
              "          element.innerHTML = '';\n",
              "          dataTable['output_type'] = 'display_data';\n",
              "          await google.colab.output.renderOutput(dataTable, element);\n",
              "          const docLink = document.createElement('div');\n",
              "          docLink.innerHTML = docLinkHtml;\n",
              "          element.appendChild(docLink);\n",
              "        }\n",
              "      </script>\n",
              "    </div>\n",
              "  </div>\n",
              "  "
            ]
          },
          "metadata": {},
          "execution_count": 186
        }
      ]
    },
    {
      "cell_type": "markdown",
      "metadata": {
        "id": "_WlRRupUNf6S"
      },
      "source": [
        "### `device_os` - ОС устройства  \n",
        "\n",
        "Пропущенных значений в колонке 58%. Уникальных значений - 13, но большинство встречается слишком редко.  \n",
        "\n",
        "Больший процент целевых действий был совершен с устройств с неизвестной ОС и с Macintosh. "
      ]
    },
    {
      "cell_type": "code",
      "execution_count": null,
      "metadata": {
        "id": "6a73ebqiM6Av"
      },
      "outputs": [],
      "source": [
        "device_os = sessions['device_os']"
      ]
    },
    {
      "cell_type": "code",
      "execution_count": null,
      "metadata": {
        "colab": {
          "base_uri": "https://localhost:8080/"
        },
        "id": "gxbau0HDM58K",
        "outputId": "2fd97e20-16b8-4f19-b6d3-86b7d990ffa2"
      },
      "outputs": [
        {
          "output_type": "stream",
          "name": "stdout",
          "text": [
            "Количество пропущенных значений в `device_os`: 57.55%\n"
          ]
        }
      ],
      "source": [
        "missings = count_missings(sessions['device_os']) / len(sessions)\n",
        "print(f'Количество пропущенных значений в `device_os`: {missings:0.2%}')"
      ]
    },
    {
      "cell_type": "code",
      "execution_count": null,
      "metadata": {
        "colab": {
          "base_uri": "https://localhost:8080/"
        },
        "id": "xgkIrGE0M50i",
        "outputId": "4f5a4a08-2d76-4404-9a27-13174f350513"
      },
      "outputs": [
        {
          "output_type": "stream",
          "name": "stdout",
          "text": [
            "Количество уникальных значений в `device_os` = 13\n"
          ]
        }
      ],
      "source": [
        "n_unique = sessions['device_os'].nunique()\n",
        "print(f'Количество уникальных значений в `device_os` = {n_unique}')"
      ]
    },
    {
      "cell_type": "code",
      "execution_count": null,
      "metadata": {
        "colab": {
          "base_uri": "https://localhost:8080/"
        },
        "id": "x1sBAJFcM5qk",
        "outputId": "278546d0-f1b5-4a6b-f14c-e1627b5e22e4"
      },
      "outputs": [
        {
          "output_type": "execute_result",
          "data": {
            "text/plain": [
              "NaN              1070138\n",
              "Android           464054\n",
              "iOS               207104\n",
              "Windows            88307\n",
              "Macintosh          24824\n",
              "Linux               5120\n",
              "(not set)            364\n",
              "Chrome OS             83\n",
              "BlackBerry            27\n",
              "Tizen                  7\n",
              "Samsung                4\n",
              "Windows Phone          4\n",
              "Firefox OS             3\n",
              "Nokia                  3\n",
              "Name: device_os, dtype: int64"
            ]
          },
          "metadata": {},
          "execution_count": 190
        }
      ],
      "source": [
        "device_os.value_counts(dropna=False)"
      ]
    },
    {
      "cell_type": "code",
      "source": [
        "print('Процент целевых действий для популярных ОС: ')\n",
        "sessions['device_os_frequent'] = replace_rare(sessions['device_os'], 0.01)\n",
        "target_percentage(sessions, 'device_os_frequent', index_name='ОС')"
      ],
      "metadata": {
        "colab": {
          "base_uri": "https://localhost:8080/",
          "height": 287
        },
        "id": "yTvaCcuWwQvZ",
        "outputId": "8d6385da-0dbf-40ba-8a43-876583121c84"
      },
      "execution_count": null,
      "outputs": [
        {
          "output_type": "stream",
          "name": "stdout",
          "text": [
            "Процент целевых действий для популярных ОС: \n"
          ]
        },
        {
          "output_type": "execute_result",
          "data": {
            "text/plain": [
              "            Количество объектов Доля от общего числа Процент целевых действий\n",
              "ОС                                                                           \n",
              "(nan)                   1070138               57.53%                    3.22%\n",
              "Macintosh                 24824                1.33%                    3.11%\n",
              "Android                  464054               24.95%                    2.04%\n",
              "iOS                      207104               11.13%                    1.89%\n",
              "Windows                   88307                4.75%                    1.85%\n",
              "rare_other                 5615                0.30%                    1.60%"
            ],
            "text/html": [
              "\n",
              "  <div id=\"df-bbb28d1f-67e5-4d40-b3af-03c4b95db4ed\">\n",
              "    <div class=\"colab-df-container\">\n",
              "      <div>\n",
              "<style scoped>\n",
              "    .dataframe tbody tr th:only-of-type {\n",
              "        vertical-align: middle;\n",
              "    }\n",
              "\n",
              "    .dataframe tbody tr th {\n",
              "        vertical-align: top;\n",
              "    }\n",
              "\n",
              "    .dataframe thead th {\n",
              "        text-align: right;\n",
              "    }\n",
              "</style>\n",
              "<table border=\"1\" class=\"dataframe\">\n",
              "  <thead>\n",
              "    <tr style=\"text-align: right;\">\n",
              "      <th></th>\n",
              "      <th>Количество объектов</th>\n",
              "      <th>Доля от общего числа</th>\n",
              "      <th>Процент целевых действий</th>\n",
              "    </tr>\n",
              "    <tr>\n",
              "      <th>ОС</th>\n",
              "      <th></th>\n",
              "      <th></th>\n",
              "      <th></th>\n",
              "    </tr>\n",
              "  </thead>\n",
              "  <tbody>\n",
              "    <tr>\n",
              "      <th>(nan)</th>\n",
              "      <td>1070138</td>\n",
              "      <td>57.53%</td>\n",
              "      <td>3.22%</td>\n",
              "    </tr>\n",
              "    <tr>\n",
              "      <th>Macintosh</th>\n",
              "      <td>24824</td>\n",
              "      <td>1.33%</td>\n",
              "      <td>3.11%</td>\n",
              "    </tr>\n",
              "    <tr>\n",
              "      <th>Android</th>\n",
              "      <td>464054</td>\n",
              "      <td>24.95%</td>\n",
              "      <td>2.04%</td>\n",
              "    </tr>\n",
              "    <tr>\n",
              "      <th>iOS</th>\n",
              "      <td>207104</td>\n",
              "      <td>11.13%</td>\n",
              "      <td>1.89%</td>\n",
              "    </tr>\n",
              "    <tr>\n",
              "      <th>Windows</th>\n",
              "      <td>88307</td>\n",
              "      <td>4.75%</td>\n",
              "      <td>1.85%</td>\n",
              "    </tr>\n",
              "    <tr>\n",
              "      <th>rare_other</th>\n",
              "      <td>5615</td>\n",
              "      <td>0.30%</td>\n",
              "      <td>1.60%</td>\n",
              "    </tr>\n",
              "  </tbody>\n",
              "</table>\n",
              "</div>\n",
              "      <button class=\"colab-df-convert\" onclick=\"convertToInteractive('df-bbb28d1f-67e5-4d40-b3af-03c4b95db4ed')\"\n",
              "              title=\"Convert this dataframe to an interactive table.\"\n",
              "              style=\"display:none;\">\n",
              "        \n",
              "  <svg xmlns=\"http://www.w3.org/2000/svg\" height=\"24px\"viewBox=\"0 0 24 24\"\n",
              "       width=\"24px\">\n",
              "    <path d=\"M0 0h24v24H0V0z\" fill=\"none\"/>\n",
              "    <path d=\"M18.56 5.44l.94 2.06.94-2.06 2.06-.94-2.06-.94-.94-2.06-.94 2.06-2.06.94zm-11 1L8.5 8.5l.94-2.06 2.06-.94-2.06-.94L8.5 2.5l-.94 2.06-2.06.94zm10 10l.94 2.06.94-2.06 2.06-.94-2.06-.94-.94-2.06-.94 2.06-2.06.94z\"/><path d=\"M17.41 7.96l-1.37-1.37c-.4-.4-.92-.59-1.43-.59-.52 0-1.04.2-1.43.59L10.3 9.45l-7.72 7.72c-.78.78-.78 2.05 0 2.83L4 21.41c.39.39.9.59 1.41.59.51 0 1.02-.2 1.41-.59l7.78-7.78 2.81-2.81c.8-.78.8-2.07 0-2.86zM5.41 20L4 18.59l7.72-7.72 1.47 1.35L5.41 20z\"/>\n",
              "  </svg>\n",
              "      </button>\n",
              "      \n",
              "  <style>\n",
              "    .colab-df-container {\n",
              "      display:flex;\n",
              "      flex-wrap:wrap;\n",
              "      gap: 12px;\n",
              "    }\n",
              "\n",
              "    .colab-df-convert {\n",
              "      background-color: #E8F0FE;\n",
              "      border: none;\n",
              "      border-radius: 50%;\n",
              "      cursor: pointer;\n",
              "      display: none;\n",
              "      fill: #1967D2;\n",
              "      height: 32px;\n",
              "      padding: 0 0 0 0;\n",
              "      width: 32px;\n",
              "    }\n",
              "\n",
              "    .colab-df-convert:hover {\n",
              "      background-color: #E2EBFA;\n",
              "      box-shadow: 0px 1px 2px rgba(60, 64, 67, 0.3), 0px 1px 3px 1px rgba(60, 64, 67, 0.15);\n",
              "      fill: #174EA6;\n",
              "    }\n",
              "\n",
              "    [theme=dark] .colab-df-convert {\n",
              "      background-color: #3B4455;\n",
              "      fill: #D2E3FC;\n",
              "    }\n",
              "\n",
              "    [theme=dark] .colab-df-convert:hover {\n",
              "      background-color: #434B5C;\n",
              "      box-shadow: 0px 1px 3px 1px rgba(0, 0, 0, 0.15);\n",
              "      filter: drop-shadow(0px 1px 2px rgba(0, 0, 0, 0.3));\n",
              "      fill: #FFFFFF;\n",
              "    }\n",
              "  </style>\n",
              "\n",
              "      <script>\n",
              "        const buttonEl =\n",
              "          document.querySelector('#df-bbb28d1f-67e5-4d40-b3af-03c4b95db4ed button.colab-df-convert');\n",
              "        buttonEl.style.display =\n",
              "          google.colab.kernel.accessAllowed ? 'block' : 'none';\n",
              "\n",
              "        async function convertToInteractive(key) {\n",
              "          const element = document.querySelector('#df-bbb28d1f-67e5-4d40-b3af-03c4b95db4ed');\n",
              "          const dataTable =\n",
              "            await google.colab.kernel.invokeFunction('convertToInteractive',\n",
              "                                                     [key], {});\n",
              "          if (!dataTable) return;\n",
              "\n",
              "          const docLinkHtml = 'Like what you see? Visit the ' +\n",
              "            '<a target=\"_blank\" href=https://colab.research.google.com/notebooks/data_table.ipynb>data table notebook</a>'\n",
              "            + ' to learn more about interactive tables.';\n",
              "          element.innerHTML = '';\n",
              "          dataTable['output_type'] = 'display_data';\n",
              "          await google.colab.output.renderOutput(dataTable, element);\n",
              "          const docLink = document.createElement('div');\n",
              "          docLink.innerHTML = docLinkHtml;\n",
              "          element.appendChild(docLink);\n",
              "        }\n",
              "      </script>\n",
              "    </div>\n",
              "  </div>\n",
              "  "
            ]
          },
          "metadata": {},
          "execution_count": 191
        }
      ]
    },
    {
      "cell_type": "markdown",
      "metadata": {
        "id": "C-T2L3ewOoBG"
      },
      "source": [
        "### `device_brand` - марка устройства  \n",
        "\n",
        "Количество пропущенных значений в колонке около 20%. Уникальных значений 205.  \n",
        "\n",
        "Процент целевых действий для популярных марок меняется в небольшом промежутке от 2.29% до 3.14%. Причём больший процент с устройств неизвестной марки."
      ]
    },
    {
      "cell_type": "code",
      "execution_count": null,
      "metadata": {
        "colab": {
          "base_uri": "https://localhost:8080/"
        },
        "id": "3LscXE0JOvCe",
        "outputId": "f3d7e282-cd4a-425d-fd72-47c12ddc5c0d"
      },
      "outputs": [
        {
          "output_type": "stream",
          "name": "stdout",
          "text": [
            "Количество пропущенных значений в `device_brand`: 20.68%\n"
          ]
        }
      ],
      "source": [
        "missings = count_missings(sessions['device_brand']) / len(sessions)\n",
        "print(f'Количество пропущенных значений в `device_brand`: {missings:0.2%}')"
      ]
    },
    {
      "cell_type": "code",
      "execution_count": null,
      "metadata": {
        "colab": {
          "base_uri": "https://localhost:8080/"
        },
        "id": "ZlaZkXYGOvCg",
        "outputId": "b424f6d8-db25-4412-a263-ad56e3d8f98a"
      },
      "outputs": [
        {
          "output_type": "stream",
          "name": "stdout",
          "text": [
            "Количество уникальных значений в `device_brand` = 205\n"
          ]
        }
      ],
      "source": [
        "n_unique = sessions['device_brand'].nunique()\n",
        "print(f'Количество уникальных значений в `device_brand` = {n_unique}')"
      ]
    },
    {
      "cell_type": "code",
      "execution_count": null,
      "metadata": {
        "colab": {
          "base_uri": "https://localhost:8080/"
        },
        "id": "9Hfy7h0MOvCh",
        "outputId": "3609c5bd-694c-495d-ea62-4b61145475d3"
      },
      "outputs": [
        {
          "output_type": "execute_result",
          "data": {
            "text/plain": [
              "Apple        551088\n",
              "NaN          367178\n",
              "Samsung      332194\n",
              "Xiaomi       288367\n",
              "Huawei       185853\n",
              "Realme        19058\n",
              "(not set)     17545\n",
              "OPPO          13504\n",
              "Vivo          11740\n",
              "OnePlus        9965\n",
              "Asus           7929\n",
              "Nokia          7285\n",
              "Sony           6459\n",
              "ZTE            6365\n",
              "Google         5150\n",
              "Name: device_brand, dtype: int64"
            ]
          },
          "metadata": {},
          "execution_count": 194
        }
      ],
      "source": [
        "sessions['device_brand'].value_counts(dropna=False).head(15)"
      ]
    },
    {
      "cell_type": "code",
      "source": [
        "print('Процент целевых действий для частых значений марки устройства:')\n",
        "sessions['device_brand_frequent'] = replace_rare(sessions['device_brand'])\n",
        "target_percentage(sessions, 'device_brand_frequent', \n",
        "                  index_name='Марка устройства')"
      ],
      "metadata": {
        "colab": {
          "base_uri": "https://localhost:8080/",
          "height": 287
        },
        "outputId": "56eaef67-c587-41ae-f993-cc33559f319f",
        "id": "Z2YM0A1Sy5td"
      },
      "execution_count": null,
      "outputs": [
        {
          "output_type": "stream",
          "name": "stdout",
          "text": [
            "Процент целевых действий для частых значений марки устройства:\n"
          ]
        },
        {
          "output_type": "execute_result",
          "data": {
            "text/plain": [
              "                  Количество объектов Доля от общего числа  \\\n",
              "Марка устройства                                             \n",
              "(nan)                          367178               19.74%   \n",
              "Samsung                        332194               17.86%   \n",
              "Apple                          551088               29.63%   \n",
              "Huawei                         185853                9.99%   \n",
              "rare_other                     135362                7.28%   \n",
              "Xiaomi                         288367               15.50%   \n",
              "\n",
              "                 Процент целевых действий  \n",
              "Марка устройства                           \n",
              "(nan)                               3.14%  \n",
              "Samsung                             3.03%  \n",
              "Apple                               2.63%  \n",
              "Huawei                              2.43%  \n",
              "rare_other                          2.34%  \n",
              "Xiaomi                              2.29%  "
            ],
            "text/html": [
              "\n",
              "  <div id=\"df-c17b0e09-5abb-4c84-a083-7ce64dd46b7d\">\n",
              "    <div class=\"colab-df-container\">\n",
              "      <div>\n",
              "<style scoped>\n",
              "    .dataframe tbody tr th:only-of-type {\n",
              "        vertical-align: middle;\n",
              "    }\n",
              "\n",
              "    .dataframe tbody tr th {\n",
              "        vertical-align: top;\n",
              "    }\n",
              "\n",
              "    .dataframe thead th {\n",
              "        text-align: right;\n",
              "    }\n",
              "</style>\n",
              "<table border=\"1\" class=\"dataframe\">\n",
              "  <thead>\n",
              "    <tr style=\"text-align: right;\">\n",
              "      <th></th>\n",
              "      <th>Количество объектов</th>\n",
              "      <th>Доля от общего числа</th>\n",
              "      <th>Процент целевых действий</th>\n",
              "    </tr>\n",
              "    <tr>\n",
              "      <th>Марка устройства</th>\n",
              "      <th></th>\n",
              "      <th></th>\n",
              "      <th></th>\n",
              "    </tr>\n",
              "  </thead>\n",
              "  <tbody>\n",
              "    <tr>\n",
              "      <th>(nan)</th>\n",
              "      <td>367178</td>\n",
              "      <td>19.74%</td>\n",
              "      <td>3.14%</td>\n",
              "    </tr>\n",
              "    <tr>\n",
              "      <th>Samsung</th>\n",
              "      <td>332194</td>\n",
              "      <td>17.86%</td>\n",
              "      <td>3.03%</td>\n",
              "    </tr>\n",
              "    <tr>\n",
              "      <th>Apple</th>\n",
              "      <td>551088</td>\n",
              "      <td>29.63%</td>\n",
              "      <td>2.63%</td>\n",
              "    </tr>\n",
              "    <tr>\n",
              "      <th>Huawei</th>\n",
              "      <td>185853</td>\n",
              "      <td>9.99%</td>\n",
              "      <td>2.43%</td>\n",
              "    </tr>\n",
              "    <tr>\n",
              "      <th>rare_other</th>\n",
              "      <td>135362</td>\n",
              "      <td>7.28%</td>\n",
              "      <td>2.34%</td>\n",
              "    </tr>\n",
              "    <tr>\n",
              "      <th>Xiaomi</th>\n",
              "      <td>288367</td>\n",
              "      <td>15.50%</td>\n",
              "      <td>2.29%</td>\n",
              "    </tr>\n",
              "  </tbody>\n",
              "</table>\n",
              "</div>\n",
              "      <button class=\"colab-df-convert\" onclick=\"convertToInteractive('df-c17b0e09-5abb-4c84-a083-7ce64dd46b7d')\"\n",
              "              title=\"Convert this dataframe to an interactive table.\"\n",
              "              style=\"display:none;\">\n",
              "        \n",
              "  <svg xmlns=\"http://www.w3.org/2000/svg\" height=\"24px\"viewBox=\"0 0 24 24\"\n",
              "       width=\"24px\">\n",
              "    <path d=\"M0 0h24v24H0V0z\" fill=\"none\"/>\n",
              "    <path d=\"M18.56 5.44l.94 2.06.94-2.06 2.06-.94-2.06-.94-.94-2.06-.94 2.06-2.06.94zm-11 1L8.5 8.5l.94-2.06 2.06-.94-2.06-.94L8.5 2.5l-.94 2.06-2.06.94zm10 10l.94 2.06.94-2.06 2.06-.94-2.06-.94-.94-2.06-.94 2.06-2.06.94z\"/><path d=\"M17.41 7.96l-1.37-1.37c-.4-.4-.92-.59-1.43-.59-.52 0-1.04.2-1.43.59L10.3 9.45l-7.72 7.72c-.78.78-.78 2.05 0 2.83L4 21.41c.39.39.9.59 1.41.59.51 0 1.02-.2 1.41-.59l7.78-7.78 2.81-2.81c.8-.78.8-2.07 0-2.86zM5.41 20L4 18.59l7.72-7.72 1.47 1.35L5.41 20z\"/>\n",
              "  </svg>\n",
              "      </button>\n",
              "      \n",
              "  <style>\n",
              "    .colab-df-container {\n",
              "      display:flex;\n",
              "      flex-wrap:wrap;\n",
              "      gap: 12px;\n",
              "    }\n",
              "\n",
              "    .colab-df-convert {\n",
              "      background-color: #E8F0FE;\n",
              "      border: none;\n",
              "      border-radius: 50%;\n",
              "      cursor: pointer;\n",
              "      display: none;\n",
              "      fill: #1967D2;\n",
              "      height: 32px;\n",
              "      padding: 0 0 0 0;\n",
              "      width: 32px;\n",
              "    }\n",
              "\n",
              "    .colab-df-convert:hover {\n",
              "      background-color: #E2EBFA;\n",
              "      box-shadow: 0px 1px 2px rgba(60, 64, 67, 0.3), 0px 1px 3px 1px rgba(60, 64, 67, 0.15);\n",
              "      fill: #174EA6;\n",
              "    }\n",
              "\n",
              "    [theme=dark] .colab-df-convert {\n",
              "      background-color: #3B4455;\n",
              "      fill: #D2E3FC;\n",
              "    }\n",
              "\n",
              "    [theme=dark] .colab-df-convert:hover {\n",
              "      background-color: #434B5C;\n",
              "      box-shadow: 0px 1px 3px 1px rgba(0, 0, 0, 0.15);\n",
              "      filter: drop-shadow(0px 1px 2px rgba(0, 0, 0, 0.3));\n",
              "      fill: #FFFFFF;\n",
              "    }\n",
              "  </style>\n",
              "\n",
              "      <script>\n",
              "        const buttonEl =\n",
              "          document.querySelector('#df-c17b0e09-5abb-4c84-a083-7ce64dd46b7d button.colab-df-convert');\n",
              "        buttonEl.style.display =\n",
              "          google.colab.kernel.accessAllowed ? 'block' : 'none';\n",
              "\n",
              "        async function convertToInteractive(key) {\n",
              "          const element = document.querySelector('#df-c17b0e09-5abb-4c84-a083-7ce64dd46b7d');\n",
              "          const dataTable =\n",
              "            await google.colab.kernel.invokeFunction('convertToInteractive',\n",
              "                                                     [key], {});\n",
              "          if (!dataTable) return;\n",
              "\n",
              "          const docLinkHtml = 'Like what you see? Visit the ' +\n",
              "            '<a target=\"_blank\" href=https://colab.research.google.com/notebooks/data_table.ipynb>data table notebook</a>'\n",
              "            + ' to learn more about interactive tables.';\n",
              "          element.innerHTML = '';\n",
              "          dataTable['output_type'] = 'display_data';\n",
              "          await google.colab.output.renderOutput(dataTable, element);\n",
              "          const docLink = document.createElement('div');\n",
              "          docLink.innerHTML = docLinkHtml;\n",
              "          element.appendChild(docLink);\n",
              "        }\n",
              "      </script>\n",
              "    </div>\n",
              "  </div>\n",
              "  "
            ]
          },
          "metadata": {},
          "execution_count": 195
        }
      ]
    },
    {
      "cell_type": "markdown",
      "metadata": {
        "id": "W7MhHZojPVtZ"
      },
      "source": [
        "### `device_model` - модель устройства  \n",
        "\n",
        "Пропущенных значений в колонке - 99%, а значит использоваться она не будет.  \n"
      ]
    },
    {
      "cell_type": "code",
      "execution_count": null,
      "metadata": {
        "colab": {
          "base_uri": "https://localhost:8080/"
        },
        "id": "HD8Gqc9aPZm9",
        "outputId": "bb630570-ac3a-41a1-9489-1b9b907b35bd"
      },
      "outputs": [
        {
          "output_type": "stream",
          "name": "stdout",
          "text": [
            "Количество пропущенных значений в `device_model`: 99.12%\n"
          ]
        }
      ],
      "source": [
        "missings = count_missings(sessions['device_model']) / len(sessions)\n",
        "print(f'Количество пропущенных значений в `device_model`: {missings:0.2%}')"
      ]
    },
    {
      "cell_type": "code",
      "execution_count": null,
      "metadata": {
        "colab": {
          "base_uri": "https://localhost:8080/"
        },
        "outputId": "f090d68a-b12d-4f6f-d413-bbe416d49342",
        "id": "bksLDrgazd4u"
      },
      "outputs": [
        {
          "output_type": "stream",
          "name": "stdout",
          "text": [
            "Количество уникальных значений в `device_model` = 104\n"
          ]
        }
      ],
      "source": [
        "n_unique = sessions['device_model'].nunique()\n",
        "print(f'Количество уникальных значений в `device_model` = {n_unique}')"
      ]
    },
    {
      "cell_type": "code",
      "execution_count": null,
      "metadata": {
        "colab": {
          "base_uri": "https://localhost:8080/"
        },
        "outputId": "55271eaf-b29b-4887-8b5b-dad64e2a4043",
        "id": "AJR10SEIzd4v"
      },
      "outputs": [
        {
          "output_type": "execute_result",
          "data": {
            "text/plain": [
              "NaN                     1843704\n",
              "AuMdmADEIoPXiWpTsBEj       9778\n",
              "tWBQlsvNfHxRUjaPAfhd        653\n",
              "cwMJxNXiWUgMUxGiCTPs        651\n",
              "pTgAEPipQxDXCjPrJbHo        461\n",
              "FJApgTrMAGHoxCxQVKws        372\n",
              "tfPZFRbtlzEssBEesRwM        335\n",
              "pcvPxfVFaAmhwFmvIeYd        325\n",
              "aCLaTVQlHcXbUnQYQvIg        236\n",
              "mzJXHtJPIOSHoHtgezIA        235\n",
              "JAIKWwxRffFOXQcfGTVi        198\n",
              "zFCiMWkbbAhTflrlLWnz        176\n",
              "jXFxTkHxuiBKWOvUtsIa        170\n",
              "mSVMBvlHFgftJaQAZEdp        152\n",
              "AshpvdJdReafUzEMmWGr        141\n",
              "Name: device_model, dtype: int64"
            ]
          },
          "metadata": {},
          "execution_count": 198
        }
      ],
      "source": [
        "sessions['device_model'].value_counts(dropna=False).head(15)"
      ]
    },
    {
      "cell_type": "code",
      "source": [
        "print('Распределение пропущенного и остальных значений device_model:')\n",
        "sessions['device_model_frequent'] = replace_rare(sessions['device_model'], 0.01)\n",
        "target_percentage(sessions, 'device_model_frequent')"
      ],
      "metadata": {
        "colab": {
          "base_uri": "https://localhost:8080/",
          "height": 162
        },
        "outputId": "76c73ee0-dc7f-4e1c-f121-adb83235bcee",
        "id": "6YG_M3Brzd4x"
      },
      "execution_count": null,
      "outputs": [
        {
          "output_type": "stream",
          "name": "stdout",
          "text": [
            "Распределение пропущенного и остальных значений device_model:\n"
          ]
        },
        {
          "output_type": "execute_result",
          "data": {
            "text/plain": [
              "                       Количество объектов Доля от общего числа  \\\n",
              "device_model_frequent                                             \n",
              "(nan)                              1843704               99.12%   \n",
              "rare_other                           16338                0.88%   \n",
              "\n",
              "                      Процент целевых действий  \n",
              "device_model_frequent                           \n",
              "(nan)                                    2.71%  \n",
              "rare_other                               2.09%  "
            ],
            "text/html": [
              "\n",
              "  <div id=\"df-fc96c1d1-545a-42dc-9051-c1f12d22061e\">\n",
              "    <div class=\"colab-df-container\">\n",
              "      <div>\n",
              "<style scoped>\n",
              "    .dataframe tbody tr th:only-of-type {\n",
              "        vertical-align: middle;\n",
              "    }\n",
              "\n",
              "    .dataframe tbody tr th {\n",
              "        vertical-align: top;\n",
              "    }\n",
              "\n",
              "    .dataframe thead th {\n",
              "        text-align: right;\n",
              "    }\n",
              "</style>\n",
              "<table border=\"1\" class=\"dataframe\">\n",
              "  <thead>\n",
              "    <tr style=\"text-align: right;\">\n",
              "      <th></th>\n",
              "      <th>Количество объектов</th>\n",
              "      <th>Доля от общего числа</th>\n",
              "      <th>Процент целевых действий</th>\n",
              "    </tr>\n",
              "    <tr>\n",
              "      <th>device_model_frequent</th>\n",
              "      <th></th>\n",
              "      <th></th>\n",
              "      <th></th>\n",
              "    </tr>\n",
              "  </thead>\n",
              "  <tbody>\n",
              "    <tr>\n",
              "      <th>(nan)</th>\n",
              "      <td>1843704</td>\n",
              "      <td>99.12%</td>\n",
              "      <td>2.71%</td>\n",
              "    </tr>\n",
              "    <tr>\n",
              "      <th>rare_other</th>\n",
              "      <td>16338</td>\n",
              "      <td>0.88%</td>\n",
              "      <td>2.09%</td>\n",
              "    </tr>\n",
              "  </tbody>\n",
              "</table>\n",
              "</div>\n",
              "      <button class=\"colab-df-convert\" onclick=\"convertToInteractive('df-fc96c1d1-545a-42dc-9051-c1f12d22061e')\"\n",
              "              title=\"Convert this dataframe to an interactive table.\"\n",
              "              style=\"display:none;\">\n",
              "        \n",
              "  <svg xmlns=\"http://www.w3.org/2000/svg\" height=\"24px\"viewBox=\"0 0 24 24\"\n",
              "       width=\"24px\">\n",
              "    <path d=\"M0 0h24v24H0V0z\" fill=\"none\"/>\n",
              "    <path d=\"M18.56 5.44l.94 2.06.94-2.06 2.06-.94-2.06-.94-.94-2.06-.94 2.06-2.06.94zm-11 1L8.5 8.5l.94-2.06 2.06-.94-2.06-.94L8.5 2.5l-.94 2.06-2.06.94zm10 10l.94 2.06.94-2.06 2.06-.94-2.06-.94-.94-2.06-.94 2.06-2.06.94z\"/><path d=\"M17.41 7.96l-1.37-1.37c-.4-.4-.92-.59-1.43-.59-.52 0-1.04.2-1.43.59L10.3 9.45l-7.72 7.72c-.78.78-.78 2.05 0 2.83L4 21.41c.39.39.9.59 1.41.59.51 0 1.02-.2 1.41-.59l7.78-7.78 2.81-2.81c.8-.78.8-2.07 0-2.86zM5.41 20L4 18.59l7.72-7.72 1.47 1.35L5.41 20z\"/>\n",
              "  </svg>\n",
              "      </button>\n",
              "      \n",
              "  <style>\n",
              "    .colab-df-container {\n",
              "      display:flex;\n",
              "      flex-wrap:wrap;\n",
              "      gap: 12px;\n",
              "    }\n",
              "\n",
              "    .colab-df-convert {\n",
              "      background-color: #E8F0FE;\n",
              "      border: none;\n",
              "      border-radius: 50%;\n",
              "      cursor: pointer;\n",
              "      display: none;\n",
              "      fill: #1967D2;\n",
              "      height: 32px;\n",
              "      padding: 0 0 0 0;\n",
              "      width: 32px;\n",
              "    }\n",
              "\n",
              "    .colab-df-convert:hover {\n",
              "      background-color: #E2EBFA;\n",
              "      box-shadow: 0px 1px 2px rgba(60, 64, 67, 0.3), 0px 1px 3px 1px rgba(60, 64, 67, 0.15);\n",
              "      fill: #174EA6;\n",
              "    }\n",
              "\n",
              "    [theme=dark] .colab-df-convert {\n",
              "      background-color: #3B4455;\n",
              "      fill: #D2E3FC;\n",
              "    }\n",
              "\n",
              "    [theme=dark] .colab-df-convert:hover {\n",
              "      background-color: #434B5C;\n",
              "      box-shadow: 0px 1px 3px 1px rgba(0, 0, 0, 0.15);\n",
              "      filter: drop-shadow(0px 1px 2px rgba(0, 0, 0, 0.3));\n",
              "      fill: #FFFFFF;\n",
              "    }\n",
              "  </style>\n",
              "\n",
              "      <script>\n",
              "        const buttonEl =\n",
              "          document.querySelector('#df-fc96c1d1-545a-42dc-9051-c1f12d22061e button.colab-df-convert');\n",
              "        buttonEl.style.display =\n",
              "          google.colab.kernel.accessAllowed ? 'block' : 'none';\n",
              "\n",
              "        async function convertToInteractive(key) {\n",
              "          const element = document.querySelector('#df-fc96c1d1-545a-42dc-9051-c1f12d22061e');\n",
              "          const dataTable =\n",
              "            await google.colab.kernel.invokeFunction('convertToInteractive',\n",
              "                                                     [key], {});\n",
              "          if (!dataTable) return;\n",
              "\n",
              "          const docLinkHtml = 'Like what you see? Visit the ' +\n",
              "            '<a target=\"_blank\" href=https://colab.research.google.com/notebooks/data_table.ipynb>data table notebook</a>'\n",
              "            + ' to learn more about interactive tables.';\n",
              "          element.innerHTML = '';\n",
              "          dataTable['output_type'] = 'display_data';\n",
              "          await google.colab.output.renderOutput(dataTable, element);\n",
              "          const docLink = document.createElement('div');\n",
              "          docLink.innerHTML = docLinkHtml;\n",
              "          element.appendChild(docLink);\n",
              "        }\n",
              "      </script>\n",
              "    </div>\n",
              "  </div>\n",
              "  "
            ]
          },
          "metadata": {},
          "execution_count": 199
        }
      ]
    },
    {
      "cell_type": "markdown",
      "metadata": {
        "id": "Nilwkv1PPzoV"
      },
      "source": [
        "### `device_screen_resolution` - разрешение экрана  \n",
        "\n",
        "Пропущенных значений в колонке всего 19 (значения '0x0', '(not set)'). Их было бы удобно заменить на самое частое значение в колонке. Уникальных значений очень много - 5039.  \n",
        "\n",
        "Напрямую использовать признак не получится, но можно из него получить новые признаки, такие как: соотношение сторон, площадь, ширина и высота экрана.  \n",
        "\n",
        "Но в таких производных признаках много выбросов, которые нужно будет обработать.  \n",
        "\n",
        "Целевая переменная не коррелирует ни с одним производным признаком. Судя по диаграммам размаха те, пользователи, у которых разрешение экрана выше, более склонны совершить целевое действие.  "
      ]
    },
    {
      "cell_type": "code",
      "execution_count": null,
      "metadata": {
        "colab": {
          "base_uri": "https://localhost:8080/"
        },
        "id": "pyIVthz7P3kX",
        "outputId": "0e7af4de-63bb-4fb4-db1f-d56beb4ec1c2"
      },
      "outputs": [
        {
          "output_type": "stream",
          "name": "stdout",
          "text": [
            "Пропущенных значений в `device_screen_resolution`: 19\n"
          ]
        }
      ],
      "source": [
        "missings = count_missings(sessions['device_screen_resolution'])\n",
        "print(f'Пропущенных значений в `device_screen_resolution`:', missings)"
      ]
    },
    {
      "cell_type": "code",
      "source": [
        "missed_mask = sessions['device_screen_resolution'].isin(missing_values)\n",
        "sessions[missed_mask]['device_screen_resolution'].value_counts(dropna=False)"
      ],
      "metadata": {
        "colab": {
          "base_uri": "https://localhost:8080/"
        },
        "id": "3lB1iHHo0R6m",
        "outputId": "815a6130-562a-4692-d8ec-5fbed6f653bf"
      },
      "execution_count": null,
      "outputs": [
        {
          "output_type": "execute_result",
          "data": {
            "text/plain": [
              "0x0          11\n",
              "(not set)     8\n",
              "Name: device_screen_resolution, dtype: int64"
            ]
          },
          "metadata": {},
          "execution_count": 201
        }
      ]
    },
    {
      "cell_type": "code",
      "execution_count": null,
      "metadata": {
        "colab": {
          "base_uri": "https://localhost:8080/"
        },
        "id": "9EtJt-pVP3kY",
        "outputId": "d1e37648-347e-4c47-88cb-b8aeb080508d"
      },
      "outputs": [
        {
          "output_type": "stream",
          "name": "stdout",
          "text": [
            "Уникальных значений в `device_screen_resolution` = 5039\n"
          ]
        }
      ],
      "source": [
        "n_unique = sessions['device_screen_resolution'].nunique()\n",
        "print(f'Уникальных значений в `device_screen_resolution` = {n_unique}')"
      ]
    },
    {
      "cell_type": "code",
      "execution_count": null,
      "metadata": {
        "colab": {
          "base_uri": "https://localhost:8080/"
        },
        "id": "y286c8veP3kY",
        "outputId": "096d25b3-a7aa-4d7c-8b2d-cb39fdddb102"
      },
      "outputs": [
        {
          "output_type": "execute_result",
          "data": {
            "text/plain": [
              "414x896      169090\n",
              "1920x1080    125768\n",
              "375x812      117944\n",
              "393x851      115454\n",
              "375x667       93341\n",
              "Name: device_screen_resolution, dtype: int64"
            ]
          },
          "metadata": {},
          "execution_count": 203
        }
      ],
      "source": [
        "sessions['device_screen_resolution'].value_counts(dropna=False).head()"
      ]
    },
    {
      "cell_type": "markdown",
      "source": [
        "Разобъём колонку на ширину и высоту - `device_screen_width` и `device_screen_height`."
      ],
      "metadata": {
        "id": "KfeqX2ma08sg"
      }
    },
    {
      "cell_type": "code",
      "source": [
        "split = sessions['device_screen_resolution']\\\n",
        "    .replace(missing_values, '414x896')\\\n",
        "    .str.split('x', expand=True).astype(int)\n",
        "sessions[['device_screen_width', 'device_screen_height']] = split"
      ],
      "metadata": {
        "id": "BwlbZzaH00gI"
      },
      "execution_count": null,
      "outputs": []
    },
    {
      "cell_type": "code",
      "source": [
        "fig, (ax1, ax2) = plt.subplots(nrows=2, ncols=1, figsize=(18, 8))\n",
        "\n",
        "sns.boxplot(data=sessions, x='device_screen_width', \n",
        "            y='target', ax=ax1, orient='h')\n",
        "sns.boxplot(data=sessions, x='device_screen_height', \n",
        "            y='target', ax=ax2, orient='h')\n",
        "\n",
        "# ограничим показ выбросов\n",
        "ax1.set_xlim(200, 1000)\n",
        "ax2.set_xlim(400, 2000)\n",
        "\n",
        "fig.suptitle(f'Диаграмма размаха ширины и длины экрана '\n",
        "             f'в зависимости от целевой переменной')\n",
        "plt.show()"
      ],
      "metadata": {
        "colab": {
          "base_uri": "https://localhost:8080/",
          "height": 560
        },
        "id": "holzH70O2D2T",
        "outputId": "d4c9d867-e332-49bc-c1c7-a755c53d5c4a"
      },
      "execution_count": null,
      "outputs": [
        {
          "output_type": "display_data",
          "data": {
            "text/plain": [
              "<Figure size 1296x576 with 2 Axes>"
            ],
            "image/png": "[encoded data removed]"
          },
          "metadata": {}
        }
      ]
    },
    {
      "cell_type": "markdown",
      "source": [
        "Создадим дополнительные признаки - площадь экрана `device_screen_area` и соотношение сторон `device_screen_ratio`."
      ],
      "metadata": {
        "id": "PhowONbx4Pi2"
      }
    },
    {
      "cell_type": "code",
      "source": [
        "sessions['device_screen_area'] = sessions['device_screen_width'] \\\n",
        "                                 * sessions['device_screen_height']\n",
        "sessions['device_screen_ratio'] = sessions['device_screen_width'] \\\n",
        "                                 / sessions['device_screen_height']"
      ],
      "metadata": {
        "id": "cMVeXTKe2DxA"
      },
      "execution_count": null,
      "outputs": []
    },
    {
      "cell_type": "code",
      "source": [
        "fig, (ax1, ax2) = plt.subplots(nrows=2, ncols=1, figsize=(18, 8))\n",
        "\n",
        "sns.boxplot(data=sessions, x='device_screen_area', \n",
        "            y='target', ax=ax1, orient='h')\n",
        "sns.boxplot(data=sessions, x='device_screen_ratio', \n",
        "            y='target', ax=ax2, orient='h')\n",
        "\n",
        "# ограничим показ выбросов\n",
        "ax1.set_xlim(100_000, 1_000_000)\n",
        "ax2.set_xlim(0.3, 1.5)\n",
        "\n",
        "fig.suptitle(f'Диаграмма размаха площади экрана и соотношения сторон '\n",
        "             f'в зависимости от целевой переменной')\n",
        "plt.show()"
      ],
      "metadata": {
        "colab": {
          "base_uri": "https://localhost:8080/",
          "height": 560
        },
        "id": "eYJyyPSU2Dsd",
        "outputId": "9e298073-680e-4557-8e06-c4c55534d255"
      },
      "execution_count": null,
      "outputs": [
        {
          "output_type": "display_data",
          "data": {
            "text/plain": [
              "<Figure size 1296x576 with 2 Axes>"
            ],
            "image/png": "[encoded data removed]"
          },
          "metadata": {}
        }
      ]
    },
    {
      "cell_type": "markdown",
      "metadata": {
        "id": "4jUSsrYFTbJV"
      },
      "source": [
        "### `device_browser` - браузер  \n",
        "\n",
        "Пропущенных значений '(not set)' в колонке всего 17. Уникальных значений - 57, но большая часть встречается слишком редко.  \n",
        "\n",
        "Больший процент целевых действий наблюдается с Яндекс Браузера."
      ]
    },
    {
      "cell_type": "code",
      "execution_count": null,
      "metadata": {
        "colab": {
          "base_uri": "https://localhost:8080/"
        },
        "id": "HTk5gT8WTgTi",
        "outputId": "72d00b97-a1ef-4723-90be-647d6308ece5"
      },
      "outputs": [
        {
          "output_type": "stream",
          "name": "stdout",
          "text": [
            "Количество пропущенных значений в `device_browser`: 17\n"
          ]
        }
      ],
      "source": [
        "missings = count_missings(sessions['device_browser'])\n",
        "print(f'Количество пропущенных значений в `device_browser`: {missings}')"
      ]
    },
    {
      "cell_type": "code",
      "execution_count": null,
      "metadata": {
        "colab": {
          "base_uri": "https://localhost:8080/"
        },
        "id": "D0kg-ZyFTgTj",
        "outputId": "225809c2-a913-44af-867d-9436cfa49c2f"
      },
      "outputs": [
        {
          "output_type": "stream",
          "name": "stdout",
          "text": [
            "Количество уникальных значений в `device_browser` = 57\n"
          ]
        }
      ],
      "source": [
        "n_unique = sessions['device_browser'].nunique()\n",
        "print(f'Количество уникальных значений в `device_browser` = {n_unique}')"
      ]
    },
    {
      "cell_type": "code",
      "execution_count": null,
      "metadata": {
        "colab": {
          "base_uri": "https://localhost:8080/"
        },
        "id": "miM6wGdbTgTk",
        "outputId": "e4107345-5a37-41a7-e87a-ab33975e0f8e"
      },
      "outputs": [
        {
          "output_type": "execute_result",
          "data": {
            "text/plain": [
              "Chrome                              1013436\n",
              "Safari                               478562\n",
              "YaBrowser                            133311\n",
              "Safari (in-app)                       69912\n",
              "Android Webview                       55369\n",
              "Samsung Internet                      47309\n",
              "Opera                                 26817\n",
              "Firefox                               16588\n",
              "Edge                                  16065\n",
              "UC Browser                              871\n",
              "Android Runtime                         392\n",
              "Mozilla Compatible Agent                362\n",
              "[FBAN                                   269\n",
              "Instagram 208.0.0.32.135 Android        140\n",
              "Instagram 209.0.0.21.119 Android        111\n",
              "Name: device_browser, dtype: int64"
            ]
          },
          "metadata": {},
          "execution_count": 210
        }
      ],
      "source": [
        "sessions['device_browser'].value_counts(dropna=False).head(15)"
      ]
    },
    {
      "cell_type": "code",
      "source": [
        "print('Процент целевых действий для самых популярных браузеров:')\n",
        "sessions['device_browser_frequent'] = replace_rare(sessions['device_browser'], \n",
        "                                                   tolerance=0.01)\n",
        "target_percentage(sessions, 'device_browser_frequent', index_name='Браузер')"
      ],
      "metadata": {
        "colab": {
          "base_uri": "https://localhost:8080/",
          "height": 350
        },
        "outputId": "a04c0e99-fc1a-45f0-e82a-9020413da6ec",
        "id": "E12NbUjw6b63"
      },
      "execution_count": null,
      "outputs": [
        {
          "output_type": "stream",
          "name": "stdout",
          "text": [
            "Процент целевых действий для самых популярных браузеров:\n"
          ]
        },
        {
          "output_type": "execute_result",
          "data": {
            "text/plain": [
              "                  Количество объектов Доля от общего числа  \\\n",
              "Браузер                                                      \n",
              "rare_other                      35326                1.90%   \n",
              "YaBrowser                      133311                7.17%   \n",
              "Android Webview                 55369                2.98%   \n",
              "Safari                         478562               25.73%   \n",
              "Chrome                        1013436               54.48%   \n",
              "Samsung Internet                47309                2.54%   \n",
              "Opera                           26817                1.44%   \n",
              "Safari (in-app)                 69912                3.76%   \n",
              "\n",
              "                 Процент целевых действий  \n",
              "Браузер                                    \n",
              "rare_other                          3.18%  \n",
              "YaBrowser                           3.07%  \n",
              "Android Webview                     2.81%  \n",
              "Safari                              2.78%  \n",
              "Chrome                              2.68%  \n",
              "Samsung Internet                    2.66%  \n",
              "Opera                               2.09%  \n",
              "Safari (in-app)                     1.75%  "
            ],
            "text/html": [
              "\n",
              "  <div id=\"df-453678ec-b53e-4c3a-b5b8-484e3f809cda\">\n",
              "    <div class=\"colab-df-container\">\n",
              "      <div>\n",
              "<style scoped>\n",
              "    .dataframe tbody tr th:only-of-type {\n",
              "        vertical-align: middle;\n",
              "    }\n",
              "\n",
              "    .dataframe tbody tr th {\n",
              "        vertical-align: top;\n",
              "    }\n",
              "\n",
              "    .dataframe thead th {\n",
              "        text-align: right;\n",
              "    }\n",
              "</style>\n",
              "<table border=\"1\" class=\"dataframe\">\n",
              "  <thead>\n",
              "    <tr style=\"text-align: right;\">\n",
              "      <th></th>\n",
              "      <th>Количество объектов</th>\n",
              "      <th>Доля от общего числа</th>\n",
              "      <th>Процент целевых действий</th>\n",
              "    </tr>\n",
              "    <tr>\n",
              "      <th>Браузер</th>\n",
              "      <th></th>\n",
              "      <th></th>\n",
              "      <th></th>\n",
              "    </tr>\n",
              "  </thead>\n",
              "  <tbody>\n",
              "    <tr>\n",
              "      <th>rare_other</th>\n",
              "      <td>35326</td>\n",
              "      <td>1.90%</td>\n",
              "      <td>3.18%</td>\n",
              "    </tr>\n",
              "    <tr>\n",
              "      <th>YaBrowser</th>\n",
              "      <td>133311</td>\n",
              "      <td>7.17%</td>\n",
              "      <td>3.07%</td>\n",
              "    </tr>\n",
              "    <tr>\n",
              "      <th>Android Webview</th>\n",
              "      <td>55369</td>\n",
              "      <td>2.98%</td>\n",
              "      <td>2.81%</td>\n",
              "    </tr>\n",
              "    <tr>\n",
              "      <th>Safari</th>\n",
              "      <td>478562</td>\n",
              "      <td>25.73%</td>\n",
              "      <td>2.78%</td>\n",
              "    </tr>\n",
              "    <tr>\n",
              "      <th>Chrome</th>\n",
              "      <td>1013436</td>\n",
              "      <td>54.48%</td>\n",
              "      <td>2.68%</td>\n",
              "    </tr>\n",
              "    <tr>\n",
              "      <th>Samsung Internet</th>\n",
              "      <td>47309</td>\n",
              "      <td>2.54%</td>\n",
              "      <td>2.66%</td>\n",
              "    </tr>\n",
              "    <tr>\n",
              "      <th>Opera</th>\n",
              "      <td>26817</td>\n",
              "      <td>1.44%</td>\n",
              "      <td>2.09%</td>\n",
              "    </tr>\n",
              "    <tr>\n",
              "      <th>Safari (in-app)</th>\n",
              "      <td>69912</td>\n",
              "      <td>3.76%</td>\n",
              "      <td>1.75%</td>\n",
              "    </tr>\n",
              "  </tbody>\n",
              "</table>\n",
              "</div>\n",
              "      <button class=\"colab-df-convert\" onclick=\"convertToInteractive('df-453678ec-b53e-4c3a-b5b8-484e3f809cda')\"\n",
              "              title=\"Convert this dataframe to an interactive table.\"\n",
              "              style=\"display:none;\">\n",
              "        \n",
              "  <svg xmlns=\"http://www.w3.org/2000/svg\" height=\"24px\"viewBox=\"0 0 24 24\"\n",
              "       width=\"24px\">\n",
              "    <path d=\"M0 0h24v24H0V0z\" fill=\"none\"/>\n",
              "    <path d=\"M18.56 5.44l.94 2.06.94-2.06 2.06-.94-2.06-.94-.94-2.06-.94 2.06-2.06.94zm-11 1L8.5 8.5l.94-2.06 2.06-.94-2.06-.94L8.5 2.5l-.94 2.06-2.06.94zm10 10l.94 2.06.94-2.06 2.06-.94-2.06-.94-.94-2.06-.94 2.06-2.06.94z\"/><path d=\"M17.41 7.96l-1.37-1.37c-.4-.4-.92-.59-1.43-.59-.52 0-1.04.2-1.43.59L10.3 9.45l-7.72 7.72c-.78.78-.78 2.05 0 2.83L4 21.41c.39.39.9.59 1.41.59.51 0 1.02-.2 1.41-.59l7.78-7.78 2.81-2.81c.8-.78.8-2.07 0-2.86zM5.41 20L4 18.59l7.72-7.72 1.47 1.35L5.41 20z\"/>\n",
              "  </svg>\n",
              "      </button>\n",
              "      \n",
              "  <style>\n",
              "    .colab-df-container {\n",
              "      display:flex;\n",
              "      flex-wrap:wrap;\n",
              "      gap: 12px;\n",
              "    }\n",
              "\n",
              "    .colab-df-convert {\n",
              "      background-color: #E8F0FE;\n",
              "      border: none;\n",
              "      border-radius: 50%;\n",
              "      cursor: pointer;\n",
              "      display: none;\n",
              "      fill: #1967D2;\n",
              "      height: 32px;\n",
              "      padding: 0 0 0 0;\n",
              "      width: 32px;\n",
              "    }\n",
              "\n",
              "    .colab-df-convert:hover {\n",
              "      background-color: #E2EBFA;\n",
              "      box-shadow: 0px 1px 2px rgba(60, 64, 67, 0.3), 0px 1px 3px 1px rgba(60, 64, 67, 0.15);\n",
              "      fill: #174EA6;\n",
              "    }\n",
              "\n",
              "    [theme=dark] .colab-df-convert {\n",
              "      background-color: #3B4455;\n",
              "      fill: #D2E3FC;\n",
              "    }\n",
              "\n",
              "    [theme=dark] .colab-df-convert:hover {\n",
              "      background-color: #434B5C;\n",
              "      box-shadow: 0px 1px 3px 1px rgba(0, 0, 0, 0.15);\n",
              "      filter: drop-shadow(0px 1px 2px rgba(0, 0, 0, 0.3));\n",
              "      fill: #FFFFFF;\n",
              "    }\n",
              "  </style>\n",
              "\n",
              "      <script>\n",
              "        const buttonEl =\n",
              "          document.querySelector('#df-453678ec-b53e-4c3a-b5b8-484e3f809cda button.colab-df-convert');\n",
              "        buttonEl.style.display =\n",
              "          google.colab.kernel.accessAllowed ? 'block' : 'none';\n",
              "\n",
              "        async function convertToInteractive(key) {\n",
              "          const element = document.querySelector('#df-453678ec-b53e-4c3a-b5b8-484e3f809cda');\n",
              "          const dataTable =\n",
              "            await google.colab.kernel.invokeFunction('convertToInteractive',\n",
              "                                                     [key], {});\n",
              "          if (!dataTable) return;\n",
              "\n",
              "          const docLinkHtml = 'Like what you see? Visit the ' +\n",
              "            '<a target=\"_blank\" href=https://colab.research.google.com/notebooks/data_table.ipynb>data table notebook</a>'\n",
              "            + ' to learn more about interactive tables.';\n",
              "          element.innerHTML = '';\n",
              "          dataTable['output_type'] = 'display_data';\n",
              "          await google.colab.output.renderOutput(dataTable, element);\n",
              "          const docLink = document.createElement('div');\n",
              "          docLink.innerHTML = docLinkHtml;\n",
              "          element.appendChild(docLink);\n",
              "        }\n",
              "      </script>\n",
              "    </div>\n",
              "  </div>\n",
              "  "
            ]
          },
          "metadata": {},
          "execution_count": 211
        }
      ]
    },
    {
      "cell_type": "markdown",
      "metadata": {
        "id": "j50tYbUWURDk"
      },
      "source": [
        "### `geo_country` - страна  \n",
        "\n",
        "Пропущенных значений в колонке мало ('(not set)' - 1146). И большая часть пользователей из России, что неудивительно, так как сервис работает только здесь.  \n",
        "\n",
        "И, естественно, пользователи из России совершают больше целевых действий.  \n"
      ]
    },
    {
      "cell_type": "code",
      "execution_count": null,
      "metadata": {
        "colab": {
          "base_uri": "https://localhost:8080/"
        },
        "id": "iJrSrSiFUVRf",
        "outputId": "56a6af5e-ff39-4892-e8cc-1226559028a4"
      },
      "outputs": [
        {
          "output_type": "stream",
          "name": "stdout",
          "text": [
            "Количество пропущенных значений в `geo_country`: 1146\n"
          ]
        }
      ],
      "source": [
        "missings = count_missings(sessions['geo_country'])\n",
        "print(f'Количество пропущенных значений в `geo_country`: {missings}')"
      ]
    },
    {
      "cell_type": "code",
      "execution_count": null,
      "metadata": {
        "colab": {
          "base_uri": "https://localhost:8080/"
        },
        "id": "kQi1YhZPUVRh",
        "outputId": "1db34877-cb05-4437-c93e-e1a58485b543"
      },
      "outputs": [
        {
          "output_type": "stream",
          "name": "stdout",
          "text": [
            "Количество уникальных значений в `geo_country` = 166\n"
          ]
        }
      ],
      "source": [
        "n_unique = sessions['geo_country'].nunique()\n",
        "print(f'Количество уникальных значений в `geo_country` = {n_unique}')"
      ]
    },
    {
      "cell_type": "code",
      "execution_count": null,
      "metadata": {
        "colab": {
          "base_uri": "https://localhost:8080/"
        },
        "id": "eQiHkb7MUVRh",
        "outputId": "5188ac92-14e9-4737-ab83-24f22eef0d3b"
      },
      "outputs": [
        {
          "output_type": "execute_result",
          "data": {
            "text/plain": [
              "Russia            1800565\n",
              "United States       11784\n",
              "Ukraine              9012\n",
              "Ireland              4034\n",
              "Belarus              3636\n",
              "Sweden               2694\n",
              "Kazakhstan           2279\n",
              "Germany              2232\n",
              "Turkey               1953\n",
              "Netherlands          1549\n",
              "Uzbekistan           1523\n",
              "United Kingdom       1462\n",
              "(not set)            1146\n",
              "Kyrgyzstan            974\n",
              "Georgia               935\n",
              "Name: geo_country, dtype: int64"
            ]
          },
          "metadata": {},
          "execution_count": 214
        }
      ],
      "source": [
        "sessions['geo_country'].value_counts(dropna=False).head(15)"
      ]
    },
    {
      "cell_type": "code",
      "source": [
        "print('Процент целевых действий для стран с наибольшим посещением сайта:')\n",
        "sessions['geo_country_frequent'] = replace_rare(sessions['geo_country'], 0.002)\n",
        "target_percentage(sessions, 'geo_country_frequent', index_name='Страна')"
      ],
      "metadata": {
        "colab": {
          "base_uri": "https://localhost:8080/",
          "height": 256
        },
        "outputId": "d1bb4d90-a213-4755-cafc-93462a93268a",
        "id": "bt6ZsMr17bPH"
      },
      "execution_count": null,
      "outputs": [
        {
          "output_type": "stream",
          "name": "stdout",
          "text": [
            "Процент целевых действий для стран с наибольшим посещением сайта:\n"
          ]
        },
        {
          "output_type": "execute_result",
          "data": {
            "text/plain": [
              "               Количество объектов Доля от общего числа  \\\n",
              "Страна                                                    \n",
              "Russia                     1800565               96.80%   \n",
              "rare_other                   34647                1.86%   \n",
              "Ukraine                       9012                0.48%   \n",
              "United States                11784                0.63%   \n",
              "Ireland                       4034                0.22%   \n",
              "\n",
              "              Процент целевых действий  \n",
              "Страна                                  \n",
              "Russia                           2.73%  \n",
              "rare_other                       2.58%  \n",
              "Ukraine                          2.21%  \n",
              "United States                    0.54%  \n",
              "Ireland                          0.02%  "
            ],
            "text/html": [
              "\n",
              "  <div id=\"df-b372b644-3078-458e-ad21-2a2eb1634641\">\n",
              "    <div class=\"colab-df-container\">\n",
              "      <div>\n",
              "<style scoped>\n",
              "    .dataframe tbody tr th:only-of-type {\n",
              "        vertical-align: middle;\n",
              "    }\n",
              "\n",
              "    .dataframe tbody tr th {\n",
              "        vertical-align: top;\n",
              "    }\n",
              "\n",
              "    .dataframe thead th {\n",
              "        text-align: right;\n",
              "    }\n",
              "</style>\n",
              "<table border=\"1\" class=\"dataframe\">\n",
              "  <thead>\n",
              "    <tr style=\"text-align: right;\">\n",
              "      <th></th>\n",
              "      <th>Количество объектов</th>\n",
              "      <th>Доля от общего числа</th>\n",
              "      <th>Процент целевых действий</th>\n",
              "    </tr>\n",
              "    <tr>\n",
              "      <th>Страна</th>\n",
              "      <th></th>\n",
              "      <th></th>\n",
              "      <th></th>\n",
              "    </tr>\n",
              "  </thead>\n",
              "  <tbody>\n",
              "    <tr>\n",
              "      <th>Russia</th>\n",
              "      <td>1800565</td>\n",
              "      <td>96.80%</td>\n",
              "      <td>2.73%</td>\n",
              "    </tr>\n",
              "    <tr>\n",
              "      <th>rare_other</th>\n",
              "      <td>34647</td>\n",
              "      <td>1.86%</td>\n",
              "      <td>2.58%</td>\n",
              "    </tr>\n",
              "    <tr>\n",
              "      <th>Ukraine</th>\n",
              "      <td>9012</td>\n",
              "      <td>0.48%</td>\n",
              "      <td>2.21%</td>\n",
              "    </tr>\n",
              "    <tr>\n",
              "      <th>United States</th>\n",
              "      <td>11784</td>\n",
              "      <td>0.63%</td>\n",
              "      <td>0.54%</td>\n",
              "    </tr>\n",
              "    <tr>\n",
              "      <th>Ireland</th>\n",
              "      <td>4034</td>\n",
              "      <td>0.22%</td>\n",
              "      <td>0.02%</td>\n",
              "    </tr>\n",
              "  </tbody>\n",
              "</table>\n",
              "</div>\n",
              "      <button class=\"colab-df-convert\" onclick=\"convertToInteractive('df-b372b644-3078-458e-ad21-2a2eb1634641')\"\n",
              "              title=\"Convert this dataframe to an interactive table.\"\n",
              "              style=\"display:none;\">\n",
              "        \n",
              "  <svg xmlns=\"http://www.w3.org/2000/svg\" height=\"24px\"viewBox=\"0 0 24 24\"\n",
              "       width=\"24px\">\n",
              "    <path d=\"M0 0h24v24H0V0z\" fill=\"none\"/>\n",
              "    <path d=\"M18.56 5.44l.94 2.06.94-2.06 2.06-.94-2.06-.94-.94-2.06-.94 2.06-2.06.94zm-11 1L8.5 8.5l.94-2.06 2.06-.94-2.06-.94L8.5 2.5l-.94 2.06-2.06.94zm10 10l.94 2.06.94-2.06 2.06-.94-2.06-.94-.94-2.06-.94 2.06-2.06.94z\"/><path d=\"M17.41 7.96l-1.37-1.37c-.4-.4-.92-.59-1.43-.59-.52 0-1.04.2-1.43.59L10.3 9.45l-7.72 7.72c-.78.78-.78 2.05 0 2.83L4 21.41c.39.39.9.59 1.41.59.51 0 1.02-.2 1.41-.59l7.78-7.78 2.81-2.81c.8-.78.8-2.07 0-2.86zM5.41 20L4 18.59l7.72-7.72 1.47 1.35L5.41 20z\"/>\n",
              "  </svg>\n",
              "      </button>\n",
              "      \n",
              "  <style>\n",
              "    .colab-df-container {\n",
              "      display:flex;\n",
              "      flex-wrap:wrap;\n",
              "      gap: 12px;\n",
              "    }\n",
              "\n",
              "    .colab-df-convert {\n",
              "      background-color: #E8F0FE;\n",
              "      border: none;\n",
              "      border-radius: 50%;\n",
              "      cursor: pointer;\n",
              "      display: none;\n",
              "      fill: #1967D2;\n",
              "      height: 32px;\n",
              "      padding: 0 0 0 0;\n",
              "      width: 32px;\n",
              "    }\n",
              "\n",
              "    .colab-df-convert:hover {\n",
              "      background-color: #E2EBFA;\n",
              "      box-shadow: 0px 1px 2px rgba(60, 64, 67, 0.3), 0px 1px 3px 1px rgba(60, 64, 67, 0.15);\n",
              "      fill: #174EA6;\n",
              "    }\n",
              "\n",
              "    [theme=dark] .colab-df-convert {\n",
              "      background-color: #3B4455;\n",
              "      fill: #D2E3FC;\n",
              "    }\n",
              "\n",
              "    [theme=dark] .colab-df-convert:hover {\n",
              "      background-color: #434B5C;\n",
              "      box-shadow: 0px 1px 3px 1px rgba(0, 0, 0, 0.15);\n",
              "      filter: drop-shadow(0px 1px 2px rgba(0, 0, 0, 0.3));\n",
              "      fill: #FFFFFF;\n",
              "    }\n",
              "  </style>\n",
              "\n",
              "      <script>\n",
              "        const buttonEl =\n",
              "          document.querySelector('#df-b372b644-3078-458e-ad21-2a2eb1634641 button.colab-df-convert');\n",
              "        buttonEl.style.display =\n",
              "          google.colab.kernel.accessAllowed ? 'block' : 'none';\n",
              "\n",
              "        async function convertToInteractive(key) {\n",
              "          const element = document.querySelector('#df-b372b644-3078-458e-ad21-2a2eb1634641');\n",
              "          const dataTable =\n",
              "            await google.colab.kernel.invokeFunction('convertToInteractive',\n",
              "                                                     [key], {});\n",
              "          if (!dataTable) return;\n",
              "\n",
              "          const docLinkHtml = 'Like what you see? Visit the ' +\n",
              "            '<a target=\"_blank\" href=https://colab.research.google.com/notebooks/data_table.ipynb>data table notebook</a>'\n",
              "            + ' to learn more about interactive tables.';\n",
              "          element.innerHTML = '';\n",
              "          dataTable['output_type'] = 'display_data';\n",
              "          await google.colab.output.renderOutput(dataTable, element);\n",
              "          const docLink = document.createElement('div');\n",
              "          docLink.innerHTML = docLinkHtml;\n",
              "          element.appendChild(docLink);\n",
              "        }\n",
              "      </script>\n",
              "    </div>\n",
              "  </div>\n",
              "  "
            ]
          },
          "metadata": {},
          "execution_count": 215
        }
      ]
    },
    {
      "cell_type": "markdown",
      "source": [
        "Посмотрим на распределение целевой переменной в России и за рубежом - `geo_country_is_russia`."
      ],
      "metadata": {
        "id": "Ac7qEF537wIN"
      }
    },
    {
      "cell_type": "code",
      "source": [
        "sessions['geo_country_is_russia'] = sessions['geo_country'] == 'Russia'"
      ],
      "metadata": {
        "id": "EayZDZ0j7X-n"
      },
      "execution_count": null,
      "outputs": []
    },
    {
      "cell_type": "code",
      "source": [
        "print('Процент целевых действий в России:')\n",
        "target_percentage(sessions, 'geo_country_is_russia', index_name='Россия')"
      ],
      "metadata": {
        "colab": {
          "base_uri": "https://localhost:8080/",
          "height": 162
        },
        "id": "E77v-KS77X5G",
        "outputId": "b2b42756-5ca8-4f66-9d31-47a5310e734f"
      },
      "execution_count": null,
      "outputs": [
        {
          "output_type": "stream",
          "name": "stdout",
          "text": [
            "Процент целевых действий в России:\n"
          ]
        },
        {
          "output_type": "execute_result",
          "data": {
            "text/plain": [
              "        Количество объектов Доля от общего числа Процент целевых действий\n",
              "Россия                                                                   \n",
              "True                1800565               96.80%                    2.73%\n",
              "False                 59477                3.20%                    1.95%"
            ],
            "text/html": [
              "\n",
              "  <div id=\"df-a307e62e-c2f5-42fd-901d-89cdb48528fa\">\n",
              "    <div class=\"colab-df-container\">\n",
              "      <div>\n",
              "<style scoped>\n",
              "    .dataframe tbody tr th:only-of-type {\n",
              "        vertical-align: middle;\n",
              "    }\n",
              "\n",
              "    .dataframe tbody tr th {\n",
              "        vertical-align: top;\n",
              "    }\n",
              "\n",
              "    .dataframe thead th {\n",
              "        text-align: right;\n",
              "    }\n",
              "</style>\n",
              "<table border=\"1\" class=\"dataframe\">\n",
              "  <thead>\n",
              "    <tr style=\"text-align: right;\">\n",
              "      <th></th>\n",
              "      <th>Количество объектов</th>\n",
              "      <th>Доля от общего числа</th>\n",
              "      <th>Процент целевых действий</th>\n",
              "    </tr>\n",
              "    <tr>\n",
              "      <th>Россия</th>\n",
              "      <th></th>\n",
              "      <th></th>\n",
              "      <th></th>\n",
              "    </tr>\n",
              "  </thead>\n",
              "  <tbody>\n",
              "    <tr>\n",
              "      <th>True</th>\n",
              "      <td>1800565</td>\n",
              "      <td>96.80%</td>\n",
              "      <td>2.73%</td>\n",
              "    </tr>\n",
              "    <tr>\n",
              "      <th>False</th>\n",
              "      <td>59477</td>\n",
              "      <td>3.20%</td>\n",
              "      <td>1.95%</td>\n",
              "    </tr>\n",
              "  </tbody>\n",
              "</table>\n",
              "</div>\n",
              "      <button class=\"colab-df-convert\" onclick=\"convertToInteractive('df-a307e62e-c2f5-42fd-901d-89cdb48528fa')\"\n",
              "              title=\"Convert this dataframe to an interactive table.\"\n",
              "              style=\"display:none;\">\n",
              "        \n",
              "  <svg xmlns=\"http://www.w3.org/2000/svg\" height=\"24px\"viewBox=\"0 0 24 24\"\n",
              "       width=\"24px\">\n",
              "    <path d=\"M0 0h24v24H0V0z\" fill=\"none\"/>\n",
              "    <path d=\"M18.56 5.44l.94 2.06.94-2.06 2.06-.94-2.06-.94-.94-2.06-.94 2.06-2.06.94zm-11 1L8.5 8.5l.94-2.06 2.06-.94-2.06-.94L8.5 2.5l-.94 2.06-2.06.94zm10 10l.94 2.06.94-2.06 2.06-.94-2.06-.94-.94-2.06-.94 2.06-2.06.94z\"/><path d=\"M17.41 7.96l-1.37-1.37c-.4-.4-.92-.59-1.43-.59-.52 0-1.04.2-1.43.59L10.3 9.45l-7.72 7.72c-.78.78-.78 2.05 0 2.83L4 21.41c.39.39.9.59 1.41.59.51 0 1.02-.2 1.41-.59l7.78-7.78 2.81-2.81c.8-.78.8-2.07 0-2.86zM5.41 20L4 18.59l7.72-7.72 1.47 1.35L5.41 20z\"/>\n",
              "  </svg>\n",
              "      </button>\n",
              "      \n",
              "  <style>\n",
              "    .colab-df-container {\n",
              "      display:flex;\n",
              "      flex-wrap:wrap;\n",
              "      gap: 12px;\n",
              "    }\n",
              "\n",
              "    .colab-df-convert {\n",
              "      background-color: #E8F0FE;\n",
              "      border: none;\n",
              "      border-radius: 50%;\n",
              "      cursor: pointer;\n",
              "      display: none;\n",
              "      fill: #1967D2;\n",
              "      height: 32px;\n",
              "      padding: 0 0 0 0;\n",
              "      width: 32px;\n",
              "    }\n",
              "\n",
              "    .colab-df-convert:hover {\n",
              "      background-color: #E2EBFA;\n",
              "      box-shadow: 0px 1px 2px rgba(60, 64, 67, 0.3), 0px 1px 3px 1px rgba(60, 64, 67, 0.15);\n",
              "      fill: #174EA6;\n",
              "    }\n",
              "\n",
              "    [theme=dark] .colab-df-convert {\n",
              "      background-color: #3B4455;\n",
              "      fill: #D2E3FC;\n",
              "    }\n",
              "\n",
              "    [theme=dark] .colab-df-convert:hover {\n",
              "      background-color: #434B5C;\n",
              "      box-shadow: 0px 1px 3px 1px rgba(0, 0, 0, 0.15);\n",
              "      filter: drop-shadow(0px 1px 2px rgba(0, 0, 0, 0.3));\n",
              "      fill: #FFFFFF;\n",
              "    }\n",
              "  </style>\n",
              "\n",
              "      <script>\n",
              "        const buttonEl =\n",
              "          document.querySelector('#df-a307e62e-c2f5-42fd-901d-89cdb48528fa button.colab-df-convert');\n",
              "        buttonEl.style.display =\n",
              "          google.colab.kernel.accessAllowed ? 'block' : 'none';\n",
              "\n",
              "        async function convertToInteractive(key) {\n",
              "          const element = document.querySelector('#df-a307e62e-c2f5-42fd-901d-89cdb48528fa');\n",
              "          const dataTable =\n",
              "            await google.colab.kernel.invokeFunction('convertToInteractive',\n",
              "                                                     [key], {});\n",
              "          if (!dataTable) return;\n",
              "\n",
              "          const docLinkHtml = 'Like what you see? Visit the ' +\n",
              "            '<a target=\"_blank\" href=https://colab.research.google.com/notebooks/data_table.ipynb>data table notebook</a>'\n",
              "            + ' to learn more about interactive tables.';\n",
              "          element.innerHTML = '';\n",
              "          dataTable['output_type'] = 'display_data';\n",
              "          await google.colab.output.renderOutput(dataTable, element);\n",
              "          const docLink = document.createElement('div');\n",
              "          docLink.innerHTML = docLinkHtml;\n",
              "          element.appendChild(docLink);\n",
              "        }\n",
              "      </script>\n",
              "    </div>\n",
              "  </div>\n",
              "  "
            ]
          },
          "metadata": {},
          "execution_count": 217
        }
      ]
    },
    {
      "cell_type": "markdown",
      "metadata": {
        "id": "IGFE88OsVFLN"
      },
      "source": [
        "### `geo_city` - город  \n",
        "\n",
        "Пропущенных значений 4%.  \n",
        "Уникальных значений - 2548, но действительно важные - только 'Moscow' и 'Saint Petersburg'. Можно выделить отдельно города московской области и самые крупные города по населению.  \n",
        "\n",
        "43% сессий из Москвы, 5% из Московской области, а остальные из других городов. В Москве и области целевых действий больше, но не слишком значительно.  \n",
        "\n",
        "Больший процент целевых действий в Москве и в пределах 100 км от Москвы. Это и неудивительно, так как именно здесь сервис и работает по большей части."
      ]
    },
    {
      "cell_type": "code",
      "execution_count": null,
      "metadata": {
        "colab": {
          "base_uri": "https://localhost:8080/"
        },
        "id": "q3QlSyRxVUh6",
        "outputId": "e1657a9e-724e-4e9e-fccb-b1d0a2e4a398"
      },
      "outputs": [
        {
          "output_type": "stream",
          "name": "stdout",
          "text": [
            "Количество пропущенных значений в `geo_city`: 4.20%\n"
          ]
        }
      ],
      "source": [
        "missings = count_missings(sessions['geo_city']) /  len(sessions)\n",
        "print(f'Количество пропущенных значений в `geo_city`: {missings:0.2%}')"
      ]
    },
    {
      "cell_type": "code",
      "execution_count": null,
      "metadata": {
        "colab": {
          "base_uri": "https://localhost:8080/"
        },
        "id": "fdUSc6xcVUh7",
        "outputId": "c0f99cd8-0aed-42f4-f141-7d667fd3374e"
      },
      "outputs": [
        {
          "output_type": "stream",
          "name": "stdout",
          "text": [
            "Количество уникальных значений в `geo_city` = 2548\n"
          ]
        }
      ],
      "source": [
        "n_unique = sessions['geo_city'].nunique()\n",
        "print(f'Количество уникальных значений в `geo_city` = {n_unique}')"
      ]
    },
    {
      "cell_type": "code",
      "execution_count": null,
      "metadata": {
        "colab": {
          "base_uri": "https://localhost:8080/"
        },
        "id": "erPR3UVBVUh7",
        "outputId": "3aa361ad-1be6-4070-a4c5-9334b514c0ce"
      },
      "outputs": [
        {
          "output_type": "execute_result",
          "data": {
            "text/plain": [
              "Moscow              805329\n",
              "Saint Petersburg    296788\n",
              "(not set)            78172\n",
              "Yekaterinburg        35788\n",
              "Krasnodar            32243\n",
              "Kazan                29531\n",
              "Samara               24992\n",
              "Nizhny Novgorod      22227\n",
              "Ufa                  21679\n",
              "Novosibirsk          21568\n",
              "Krasnoyarsk          16346\n",
              "Chelyabinsk          15951\n",
              "Tula                 15814\n",
              "Voronezh             13908\n",
              "Rostov-on-Don        13886\n",
              "Name: geo_city, dtype: int64"
            ]
          },
          "metadata": {},
          "execution_count": 220
        }
      ],
      "source": [
        "sessions['geo_city'].value_counts(dropna=False).head(15)"
      ]
    },
    {
      "cell_type": "code",
      "source": [
        "print('Процент целевых действий для городов с наибольшим посещением сайта:')\n",
        "sessions['geo_city_frequent'] = replace_rare(sessions['geo_city'], 0.01)\n",
        "target_percentage(sessions, 'geo_city_frequent', index_name='Город')"
      ],
      "metadata": {
        "colab": {
          "base_uri": "https://localhost:8080/",
          "height": 444
        },
        "outputId": "e5cabfc7-039b-4d67-b5a8-6e81bebee08e",
        "id": "30o6_vPm8yM3"
      },
      "execution_count": null,
      "outputs": [
        {
          "output_type": "stream",
          "name": "stdout",
          "text": [
            "Процент целевых действий для городов с наибольшим посещением сайта:\n"
          ]
        },
        {
          "output_type": "execute_result",
          "data": {
            "text/plain": [
              "                  Количество объектов Доля от общего числа  \\\n",
              "Город                                                        \n",
              "Kazan                           29531                1.59%   \n",
              "Krasnodar                       32243                1.73%   \n",
              "Ufa                             21679                1.17%   \n",
              "Moscow                         805329               43.30%   \n",
              "Samara                          24992                1.34%   \n",
              "rare_other                     491725               26.44%   \n",
              "Nizhny Novgorod                 22227                1.19%   \n",
              "Yekaterinburg                   35788                1.92%   \n",
              "Saint Petersburg               296788               15.96%   \n",
              "Novosibirsk                     21568                1.16%   \n",
              "(not set)                       78172                4.20%   \n",
              "\n",
              "                 Процент целевых действий  \n",
              "Город                                      \n",
              "Kazan                               3.86%  \n",
              "Krasnodar                           3.35%  \n",
              "Ufa                                 2.95%  \n",
              "Moscow                              2.93%  \n",
              "Samara                              2.91%  \n",
              "rare_other                          2.53%  \n",
              "Nizhny Novgorod                     2.51%  \n",
              "Yekaterinburg                       2.48%  \n",
              "Saint Petersburg                    2.40%  \n",
              "Novosibirsk                         2.36%  \n",
              "(not set)                           2.03%  "
            ],
            "text/html": [
              "\n",
              "  <div id=\"df-28bedbad-76bf-4ed2-ba51-9d12f1f0b66b\">\n",
              "    <div class=\"colab-df-container\">\n",
              "      <div>\n",
              "<style scoped>\n",
              "    .dataframe tbody tr th:only-of-type {\n",
              "        vertical-align: middle;\n",
              "    }\n",
              "\n",
              "    .dataframe tbody tr th {\n",
              "        vertical-align: top;\n",
              "    }\n",
              "\n",
              "    .dataframe thead th {\n",
              "        text-align: right;\n",
              "    }\n",
              "</style>\n",
              "<table border=\"1\" class=\"dataframe\">\n",
              "  <thead>\n",
              "    <tr style=\"text-align: right;\">\n",
              "      <th></th>\n",
              "      <th>Количество объектов</th>\n",
              "      <th>Доля от общего числа</th>\n",
              "      <th>Процент целевых действий</th>\n",
              "    </tr>\n",
              "    <tr>\n",
              "      <th>Город</th>\n",
              "      <th></th>\n",
              "      <th></th>\n",
              "      <th></th>\n",
              "    </tr>\n",
              "  </thead>\n",
              "  <tbody>\n",
              "    <tr>\n",
              "      <th>Kazan</th>\n",
              "      <td>29531</td>\n",
              "      <td>1.59%</td>\n",
              "      <td>3.86%</td>\n",
              "    </tr>\n",
              "    <tr>\n",
              "      <th>Krasnodar</th>\n",
              "      <td>32243</td>\n",
              "      <td>1.73%</td>\n",
              "      <td>3.35%</td>\n",
              "    </tr>\n",
              "    <tr>\n",
              "      <th>Ufa</th>\n",
              "      <td>21679</td>\n",
              "      <td>1.17%</td>\n",
              "      <td>2.95%</td>\n",
              "    </tr>\n",
              "    <tr>\n",
              "      <th>Moscow</th>\n",
              "      <td>805329</td>\n",
              "      <td>43.30%</td>\n",
              "      <td>2.93%</td>\n",
              "    </tr>\n",
              "    <tr>\n",
              "      <th>Samara</th>\n",
              "      <td>24992</td>\n",
              "      <td>1.34%</td>\n",
              "      <td>2.91%</td>\n",
              "    </tr>\n",
              "    <tr>\n",
              "      <th>rare_other</th>\n",
              "      <td>491725</td>\n",
              "      <td>26.44%</td>\n",
              "      <td>2.53%</td>\n",
              "    </tr>\n",
              "    <tr>\n",
              "      <th>Nizhny Novgorod</th>\n",
              "      <td>22227</td>\n",
              "      <td>1.19%</td>\n",
              "      <td>2.51%</td>\n",
              "    </tr>\n",
              "    <tr>\n",
              "      <th>Yekaterinburg</th>\n",
              "      <td>35788</td>\n",
              "      <td>1.92%</td>\n",
              "      <td>2.48%</td>\n",
              "    </tr>\n",
              "    <tr>\n",
              "      <th>Saint Petersburg</th>\n",
              "      <td>296788</td>\n",
              "      <td>15.96%</td>\n",
              "      <td>2.40%</td>\n",
              "    </tr>\n",
              "    <tr>\n",
              "      <th>Novosibirsk</th>\n",
              "      <td>21568</td>\n",
              "      <td>1.16%</td>\n",
              "      <td>2.36%</td>\n",
              "    </tr>\n",
              "    <tr>\n",
              "      <th>(not set)</th>\n",
              "      <td>78172</td>\n",
              "      <td>4.20%</td>\n",
              "      <td>2.03%</td>\n",
              "    </tr>\n",
              "  </tbody>\n",
              "</table>\n",
              "</div>\n",
              "      <button class=\"colab-df-convert\" onclick=\"convertToInteractive('df-28bedbad-76bf-4ed2-ba51-9d12f1f0b66b')\"\n",
              "              title=\"Convert this dataframe to an interactive table.\"\n",
              "              style=\"display:none;\">\n",
              "        \n",
              "  <svg xmlns=\"http://www.w3.org/2000/svg\" height=\"24px\"viewBox=\"0 0 24 24\"\n",
              "       width=\"24px\">\n",
              "    <path d=\"M0 0h24v24H0V0z\" fill=\"none\"/>\n",
              "    <path d=\"M18.56 5.44l.94 2.06.94-2.06 2.06-.94-2.06-.94-.94-2.06-.94 2.06-2.06.94zm-11 1L8.5 8.5l.94-2.06 2.06-.94-2.06-.94L8.5 2.5l-.94 2.06-2.06.94zm10 10l.94 2.06.94-2.06 2.06-.94-2.06-.94-.94-2.06-.94 2.06-2.06.94z\"/><path d=\"M17.41 7.96l-1.37-1.37c-.4-.4-.92-.59-1.43-.59-.52 0-1.04.2-1.43.59L10.3 9.45l-7.72 7.72c-.78.78-.78 2.05 0 2.83L4 21.41c.39.39.9.59 1.41.59.51 0 1.02-.2 1.41-.59l7.78-7.78 2.81-2.81c.8-.78.8-2.07 0-2.86zM5.41 20L4 18.59l7.72-7.72 1.47 1.35L5.41 20z\"/>\n",
              "  </svg>\n",
              "      </button>\n",
              "      \n",
              "  <style>\n",
              "    .colab-df-container {\n",
              "      display:flex;\n",
              "      flex-wrap:wrap;\n",
              "      gap: 12px;\n",
              "    }\n",
              "\n",
              "    .colab-df-convert {\n",
              "      background-color: #E8F0FE;\n",
              "      border: none;\n",
              "      border-radius: 50%;\n",
              "      cursor: pointer;\n",
              "      display: none;\n",
              "      fill: #1967D2;\n",
              "      height: 32px;\n",
              "      padding: 0 0 0 0;\n",
              "      width: 32px;\n",
              "    }\n",
              "\n",
              "    .colab-df-convert:hover {\n",
              "      background-color: #E2EBFA;\n",
              "      box-shadow: 0px 1px 2px rgba(60, 64, 67, 0.3), 0px 1px 3px 1px rgba(60, 64, 67, 0.15);\n",
              "      fill: #174EA6;\n",
              "    }\n",
              "\n",
              "    [theme=dark] .colab-df-convert {\n",
              "      background-color: #3B4455;\n",
              "      fill: #D2E3FC;\n",
              "    }\n",
              "\n",
              "    [theme=dark] .colab-df-convert:hover {\n",
              "      background-color: #434B5C;\n",
              "      box-shadow: 0px 1px 3px 1px rgba(0, 0, 0, 0.15);\n",
              "      filter: drop-shadow(0px 1px 2px rgba(0, 0, 0, 0.3));\n",
              "      fill: #FFFFFF;\n",
              "    }\n",
              "  </style>\n",
              "\n",
              "      <script>\n",
              "        const buttonEl =\n",
              "          document.querySelector('#df-28bedbad-76bf-4ed2-ba51-9d12f1f0b66b button.colab-df-convert');\n",
              "        buttonEl.style.display =\n",
              "          google.colab.kernel.accessAllowed ? 'block' : 'none';\n",
              "\n",
              "        async function convertToInteractive(key) {\n",
              "          const element = document.querySelector('#df-28bedbad-76bf-4ed2-ba51-9d12f1f0b66b');\n",
              "          const dataTable =\n",
              "            await google.colab.kernel.invokeFunction('convertToInteractive',\n",
              "                                                     [key], {});\n",
              "          if (!dataTable) return;\n",
              "\n",
              "          const docLinkHtml = 'Like what you see? Visit the ' +\n",
              "            '<a target=\"_blank\" href=https://colab.research.google.com/notebooks/data_table.ipynb>data table notebook</a>'\n",
              "            + ' to learn more about interactive tables.';\n",
              "          element.innerHTML = '';\n",
              "          dataTable['output_type'] = 'display_data';\n",
              "          await google.colab.output.renderOutput(dataTable, element);\n",
              "          const docLink = document.createElement('div');\n",
              "          docLink.innerHTML = docLinkHtml;\n",
              "          element.appendChild(docLink);\n",
              "        }\n",
              "      </script>\n",
              "    </div>\n",
              "  </div>\n",
              "  "
            ]
          },
          "metadata": {},
          "execution_count": 221
        }
      ]
    },
    {
      "cell_type": "markdown",
      "source": [
        "Создадим новый признак, учитывающий города из Московской области - `geo_moscow_region`."
      ],
      "metadata": {
        "id": "4t3_jBh39j8Y"
      }
    },
    {
      "cell_type": "code",
      "source": [
        "sessions['geo_moscow_region'] = sessions['geo_city'].copy()\n",
        "sessions['geo_moscow_region'][sessions['geo_city'] != 'Moscow'] = 'other'\n",
        "region_mask = sessions['geo_city'].isin(moscow_region_cities)\n",
        "sessions['geo_moscow_region'][region_mask] = 'Moscow region'"
      ],
      "metadata": {
        "id": "aV9xC9Bh_ofi"
      },
      "execution_count": null,
      "outputs": []
    },
    {
      "cell_type": "code",
      "source": [
        "print('Процент целевых действий в Московской области:')\n",
        "target_percentage(sessions, 'geo_moscow_region', index_name='Москва или регион')"
      ],
      "metadata": {
        "colab": {
          "base_uri": "https://localhost:8080/",
          "height": 193
        },
        "id": "6nXJbC9W8uXB",
        "outputId": "c8f08ae7-f931-4802-8497-e3088bdbf05e"
      },
      "execution_count": null,
      "outputs": [
        {
          "output_type": "stream",
          "name": "stdout",
          "text": [
            "Процент целевых действий в Московской области:\n"
          ]
        },
        {
          "output_type": "execute_result",
          "data": {
            "text/plain": [
              "                   Количество объектов Доля от общего числа  \\\n",
              "Москва или регион                                             \n",
              "Moscow                          805329               43.30%   \n",
              "Moscow region                   101694                5.47%   \n",
              "other                           953019               51.24%   \n",
              "\n",
              "                  Процент целевых действий  \n",
              "Москва или регион                           \n",
              "Moscow                               2.93%  \n",
              "Moscow region                        2.87%  \n",
              "other                                2.49%  "
            ],
            "text/html": [
              "\n",
              "  <div id=\"df-a819dcec-c26c-45b1-ac18-397e83ae8fca\">\n",
              "    <div class=\"colab-df-container\">\n",
              "      <div>\n",
              "<style scoped>\n",
              "    .dataframe tbody tr th:only-of-type {\n",
              "        vertical-align: middle;\n",
              "    }\n",
              "\n",
              "    .dataframe tbody tr th {\n",
              "        vertical-align: top;\n",
              "    }\n",
              "\n",
              "    .dataframe thead th {\n",
              "        text-align: right;\n",
              "    }\n",
              "</style>\n",
              "<table border=\"1\" class=\"dataframe\">\n",
              "  <thead>\n",
              "    <tr style=\"text-align: right;\">\n",
              "      <th></th>\n",
              "      <th>Количество объектов</th>\n",
              "      <th>Доля от общего числа</th>\n",
              "      <th>Процент целевых действий</th>\n",
              "    </tr>\n",
              "    <tr>\n",
              "      <th>Москва или регион</th>\n",
              "      <th></th>\n",
              "      <th></th>\n",
              "      <th></th>\n",
              "    </tr>\n",
              "  </thead>\n",
              "  <tbody>\n",
              "    <tr>\n",
              "      <th>Moscow</th>\n",
              "      <td>805329</td>\n",
              "      <td>43.30%</td>\n",
              "      <td>2.93%</td>\n",
              "    </tr>\n",
              "    <tr>\n",
              "      <th>Moscow region</th>\n",
              "      <td>101694</td>\n",
              "      <td>5.47%</td>\n",
              "      <td>2.87%</td>\n",
              "    </tr>\n",
              "    <tr>\n",
              "      <th>other</th>\n",
              "      <td>953019</td>\n",
              "      <td>51.24%</td>\n",
              "      <td>2.49%</td>\n",
              "    </tr>\n",
              "  </tbody>\n",
              "</table>\n",
              "</div>\n",
              "      <button class=\"colab-df-convert\" onclick=\"convertToInteractive('df-a819dcec-c26c-45b1-ac18-397e83ae8fca')\"\n",
              "              title=\"Convert this dataframe to an interactive table.\"\n",
              "              style=\"display:none;\">\n",
              "        \n",
              "  <svg xmlns=\"http://www.w3.org/2000/svg\" height=\"24px\"viewBox=\"0 0 24 24\"\n",
              "       width=\"24px\">\n",
              "    <path d=\"M0 0h24v24H0V0z\" fill=\"none\"/>\n",
              "    <path d=\"M18.56 5.44l.94 2.06.94-2.06 2.06-.94-2.06-.94-.94-2.06-.94 2.06-2.06.94zm-11 1L8.5 8.5l.94-2.06 2.06-.94-2.06-.94L8.5 2.5l-.94 2.06-2.06.94zm10 10l.94 2.06.94-2.06 2.06-.94-2.06-.94-.94-2.06-.94 2.06-2.06.94z\"/><path d=\"M17.41 7.96l-1.37-1.37c-.4-.4-.92-.59-1.43-.59-.52 0-1.04.2-1.43.59L10.3 9.45l-7.72 7.72c-.78.78-.78 2.05 0 2.83L4 21.41c.39.39.9.59 1.41.59.51 0 1.02-.2 1.41-.59l7.78-7.78 2.81-2.81c.8-.78.8-2.07 0-2.86zM5.41 20L4 18.59l7.72-7.72 1.47 1.35L5.41 20z\"/>\n",
              "  </svg>\n",
              "      </button>\n",
              "      \n",
              "  <style>\n",
              "    .colab-df-container {\n",
              "      display:flex;\n",
              "      flex-wrap:wrap;\n",
              "      gap: 12px;\n",
              "    }\n",
              "\n",
              "    .colab-df-convert {\n",
              "      background-color: #E8F0FE;\n",
              "      border: none;\n",
              "      border-radius: 50%;\n",
              "      cursor: pointer;\n",
              "      display: none;\n",
              "      fill: #1967D2;\n",
              "      height: 32px;\n",
              "      padding: 0 0 0 0;\n",
              "      width: 32px;\n",
              "    }\n",
              "\n",
              "    .colab-df-convert:hover {\n",
              "      background-color: #E2EBFA;\n",
              "      box-shadow: 0px 1px 2px rgba(60, 64, 67, 0.3), 0px 1px 3px 1px rgba(60, 64, 67, 0.15);\n",
              "      fill: #174EA6;\n",
              "    }\n",
              "\n",
              "    [theme=dark] .colab-df-convert {\n",
              "      background-color: #3B4455;\n",
              "      fill: #D2E3FC;\n",
              "    }\n",
              "\n",
              "    [theme=dark] .colab-df-convert:hover {\n",
              "      background-color: #434B5C;\n",
              "      box-shadow: 0px 1px 3px 1px rgba(0, 0, 0, 0.15);\n",
              "      filter: drop-shadow(0px 1px 2px rgba(0, 0, 0, 0.3));\n",
              "      fill: #FFFFFF;\n",
              "    }\n",
              "  </style>\n",
              "\n",
              "      <script>\n",
              "        const buttonEl =\n",
              "          document.querySelector('#df-a819dcec-c26c-45b1-ac18-397e83ae8fca button.colab-df-convert');\n",
              "        buttonEl.style.display =\n",
              "          google.colab.kernel.accessAllowed ? 'block' : 'none';\n",
              "\n",
              "        async function convertToInteractive(key) {\n",
              "          const element = document.querySelector('#df-a819dcec-c26c-45b1-ac18-397e83ae8fca');\n",
              "          const dataTable =\n",
              "            await google.colab.kernel.invokeFunction('convertToInteractive',\n",
              "                                                     [key], {});\n",
              "          if (!dataTable) return;\n",
              "\n",
              "          const docLinkHtml = 'Like what you see? Visit the ' +\n",
              "            '<a target=\"_blank\" href=https://colab.research.google.com/notebooks/data_table.ipynb>data table notebook</a>'\n",
              "            + ' to learn more about interactive tables.';\n",
              "          element.innerHTML = '';\n",
              "          dataTable['output_type'] = 'display_data';\n",
              "          await google.colab.output.renderOutput(dataTable, element);\n",
              "          const docLink = document.createElement('div');\n",
              "          docLink.innerHTML = docLinkHtml;\n",
              "          element.appendChild(docLink);\n",
              "        }\n",
              "      </script>\n",
              "    </div>\n",
              "  </div>\n",
              "  "
            ]
          },
          "metadata": {},
          "execution_count": 223
        }
      ]
    },
    {
      "cell_type": "markdown",
      "source": [
        "Создадим новый признак для больших городов - `geo_city_is_big`."
      ],
      "metadata": {
        "id": "jL6MIZOcBMat"
      }
    },
    {
      "cell_type": "code",
      "source": [
        "sessions['geo_city_is_big'] = sessions['geo_city'].isin(big_cities)"
      ],
      "metadata": {
        "id": "PX5fpISaBLxB"
      },
      "execution_count": null,
      "outputs": []
    },
    {
      "cell_type": "code",
      "source": [
        "print('Процент целевых действий для больших городов:')\n",
        "target_percentage(sessions, 'geo_city_is_big', index_name='Большой город')"
      ],
      "metadata": {
        "colab": {
          "base_uri": "https://localhost:8080/",
          "height": 162
        },
        "id": "cD76-RPzBLsR",
        "outputId": "0a870b31-68a0-464e-b7c1-700df32d3081"
      },
      "execution_count": null,
      "outputs": [
        {
          "output_type": "stream",
          "name": "stdout",
          "text": [
            "Процент целевых действий для больших городов:\n"
          ]
        },
        {
          "output_type": "execute_result",
          "data": {
            "text/plain": [
              "               Количество объектов Доля от общего числа  \\\n",
              "Большой город                                             \n",
              "True                       1380287               74.21%   \n",
              "False                       479755               25.79%   \n",
              "\n",
              "              Процент целевых действий  \n",
              "Большой город                           \n",
              "True                             2.78%  \n",
              "False                            2.49%  "
            ],
            "text/html": [
              "\n",
              "  <div id=\"df-8580c208-db0f-472a-af8b-bdb9efea63ae\">\n",
              "    <div class=\"colab-df-container\">\n",
              "      <div>\n",
              "<style scoped>\n",
              "    .dataframe tbody tr th:only-of-type {\n",
              "        vertical-align: middle;\n",
              "    }\n",
              "\n",
              "    .dataframe tbody tr th {\n",
              "        vertical-align: top;\n",
              "    }\n",
              "\n",
              "    .dataframe thead th {\n",
              "        text-align: right;\n",
              "    }\n",
              "</style>\n",
              "<table border=\"1\" class=\"dataframe\">\n",
              "  <thead>\n",
              "    <tr style=\"text-align: right;\">\n",
              "      <th></th>\n",
              "      <th>Количество объектов</th>\n",
              "      <th>Доля от общего числа</th>\n",
              "      <th>Процент целевых действий</th>\n",
              "    </tr>\n",
              "    <tr>\n",
              "      <th>Большой город</th>\n",
              "      <th></th>\n",
              "      <th></th>\n",
              "      <th></th>\n",
              "    </tr>\n",
              "  </thead>\n",
              "  <tbody>\n",
              "    <tr>\n",
              "      <th>True</th>\n",
              "      <td>1380287</td>\n",
              "      <td>74.21%</td>\n",
              "      <td>2.78%</td>\n",
              "    </tr>\n",
              "    <tr>\n",
              "      <th>False</th>\n",
              "      <td>479755</td>\n",
              "      <td>25.79%</td>\n",
              "      <td>2.49%</td>\n",
              "    </tr>\n",
              "  </tbody>\n",
              "</table>\n",
              "</div>\n",
              "      <button class=\"colab-df-convert\" onclick=\"convertToInteractive('df-8580c208-db0f-472a-af8b-bdb9efea63ae')\"\n",
              "              title=\"Convert this dataframe to an interactive table.\"\n",
              "              style=\"display:none;\">\n",
              "        \n",
              "  <svg xmlns=\"http://www.w3.org/2000/svg\" height=\"24px\"viewBox=\"0 0 24 24\"\n",
              "       width=\"24px\">\n",
              "    <path d=\"M0 0h24v24H0V0z\" fill=\"none\"/>\n",
              "    <path d=\"M18.56 5.44l.94 2.06.94-2.06 2.06-.94-2.06-.94-.94-2.06-.94 2.06-2.06.94zm-11 1L8.5 8.5l.94-2.06 2.06-.94-2.06-.94L8.5 2.5l-.94 2.06-2.06.94zm10 10l.94 2.06.94-2.06 2.06-.94-2.06-.94-.94-2.06-.94 2.06-2.06.94z\"/><path d=\"M17.41 7.96l-1.37-1.37c-.4-.4-.92-.59-1.43-.59-.52 0-1.04.2-1.43.59L10.3 9.45l-7.72 7.72c-.78.78-.78 2.05 0 2.83L4 21.41c.39.39.9.59 1.41.59.51 0 1.02-.2 1.41-.59l7.78-7.78 2.81-2.81c.8-.78.8-2.07 0-2.86zM5.41 20L4 18.59l7.72-7.72 1.47 1.35L5.41 20z\"/>\n",
              "  </svg>\n",
              "      </button>\n",
              "      \n",
              "  <style>\n",
              "    .colab-df-container {\n",
              "      display:flex;\n",
              "      flex-wrap:wrap;\n",
              "      gap: 12px;\n",
              "    }\n",
              "\n",
              "    .colab-df-convert {\n",
              "      background-color: #E8F0FE;\n",
              "      border: none;\n",
              "      border-radius: 50%;\n",
              "      cursor: pointer;\n",
              "      display: none;\n",
              "      fill: #1967D2;\n",
              "      height: 32px;\n",
              "      padding: 0 0 0 0;\n",
              "      width: 32px;\n",
              "    }\n",
              "\n",
              "    .colab-df-convert:hover {\n",
              "      background-color: #E2EBFA;\n",
              "      box-shadow: 0px 1px 2px rgba(60, 64, 67, 0.3), 0px 1px 3px 1px rgba(60, 64, 67, 0.15);\n",
              "      fill: #174EA6;\n",
              "    }\n",
              "\n",
              "    [theme=dark] .colab-df-convert {\n",
              "      background-color: #3B4455;\n",
              "      fill: #D2E3FC;\n",
              "    }\n",
              "\n",
              "    [theme=dark] .colab-df-convert:hover {\n",
              "      background-color: #434B5C;\n",
              "      box-shadow: 0px 1px 3px 1px rgba(0, 0, 0, 0.15);\n",
              "      filter: drop-shadow(0px 1px 2px rgba(0, 0, 0, 0.3));\n",
              "      fill: #FFFFFF;\n",
              "    }\n",
              "  </style>\n",
              "\n",
              "      <script>\n",
              "        const buttonEl =\n",
              "          document.querySelector('#df-8580c208-db0f-472a-af8b-bdb9efea63ae button.colab-df-convert');\n",
              "        buttonEl.style.display =\n",
              "          google.colab.kernel.accessAllowed ? 'block' : 'none';\n",
              "\n",
              "        async function convertToInteractive(key) {\n",
              "          const element = document.querySelector('#df-8580c208-db0f-472a-af8b-bdb9efea63ae');\n",
              "          const dataTable =\n",
              "            await google.colab.kernel.invokeFunction('convertToInteractive',\n",
              "                                                     [key], {});\n",
              "          if (!dataTable) return;\n",
              "\n",
              "          const docLinkHtml = 'Like what you see? Visit the ' +\n",
              "            '<a target=\"_blank\" href=https://colab.research.google.com/notebooks/data_table.ipynb>data table notebook</a>'\n",
              "            + ' to learn more about interactive tables.';\n",
              "          element.innerHTML = '';\n",
              "          dataTable['output_type'] = 'display_data';\n",
              "          await google.colab.output.renderOutput(dataTable, element);\n",
              "          const docLink = document.createElement('div');\n",
              "          docLink.innerHTML = docLinkHtml;\n",
              "          element.appendChild(docLink);\n",
              "        }\n",
              "      </script>\n",
              "    </div>\n",
              "  </div>\n",
              "  "
            ]
          },
          "metadata": {},
          "execution_count": 225
        }
      ]
    },
    {
      "cell_type": "markdown",
      "source": [
        "Построим признак - расстояние от Москвы `geo_city_distance_from_moscow`. Расстояния получены с помощью библиотеки `geopy` и сохранены для удобства в словарь в файле `additional_data.py`. Расстояния есть только для российских городов, для остальных расстояние -1."
      ],
      "metadata": {
        "id": "6i1koy5EB8SG"
      }
    },
    {
      "cell_type": "code",
      "source": [
        "sessions['geo_city_distance_from_moscow'] = \\\n",
        "    sessions['geo_city'].apply(get_distance_from_moscow)"
      ],
      "metadata": {
        "id": "QWm0l_jxB8EJ"
      },
      "execution_count": null,
      "outputs": []
    },
    {
      "cell_type": "code",
      "source": [
        "positive_distances = sessions[sessions['geo_city_distance_from_moscow'] > 0]\n",
        "sns.boxplot(data=positive_distances, x='geo_city_distance_from_moscow', \n",
        "            y='target', orient='h')\n",
        "plt.title('Диаграмма размаха расстояния до Москвы');"
      ],
      "metadata": {
        "colab": {
          "base_uri": "https://localhost:8080/",
          "height": 410
        },
        "id": "mWN5s3WPB74_",
        "outputId": "df3f69f4-1df5-4a83-cc63-64bc3f989d18"
      },
      "execution_count": null,
      "outputs": [
        {
          "output_type": "display_data",
          "data": {
            "text/plain": [
              "<Figure size 1296x432 with 1 Axes>"
            ],
            "image/png": "[encoded data removed]"
          },
          "metadata": {}
        }
      ]
    },
    {
      "cell_type": "markdown",
      "source": [
        "Разобъём дистанцию на категории, чтобы оценить влияние расстояния на целевую переменную - `geo_city_distance_from_moscow_category`."
      ],
      "metadata": {
        "id": "46Qm0oTxNdqa"
      }
    },
    {
      "cell_type": "code",
      "source": [
        "def get_distance_category(distance: float) -> str:\n",
        "    \"\"\"Возвращает категорию расстояния до Москвы.\"\"\"\n",
        "\n",
        "    if distance == -1: return 'no distance'\n",
        "    elif distance == 0: return 'moscow'\n",
        "    elif distance < 100: return '< 100 km'\n",
        "    elif distance < 500: return '100-500 km'\n",
        "    elif distance < 1000: return '500-1000 km'\n",
        "    elif distance < 3000: return '1000-3000 km'\n",
        "    else: return '>= 3000 km'\n",
        "\n",
        "sessions['geo_city_distance_from_moscow_category'] = \\\n",
        "    sessions['geo_city_distance_from_moscow'].apply(get_distance_category)"
      ],
      "metadata": {
        "id": "NGa8wp_MEcTK"
      },
      "execution_count": null,
      "outputs": []
    },
    {
      "cell_type": "code",
      "source": [
        "print('Распределение объектов по расстоянию до Москвы:')\n",
        "target_percentage(sessions, 'geo_city_distance_from_moscow_category', \n",
        "                  index_name='Дистанция до Москвы')"
      ],
      "metadata": {
        "colab": {
          "base_uri": "https://localhost:8080/",
          "height": 319
        },
        "id": "CPMmbZX1B7zA",
        "outputId": "001549e3-fab9-4852-efa5-f9725fcd0f14"
      },
      "execution_count": null,
      "outputs": [
        {
          "output_type": "stream",
          "name": "stdout",
          "text": [
            "Распределение объектов по расстоянию до Москвы:\n"
          ]
        },
        {
          "output_type": "execute_result",
          "data": {
            "text/plain": [
              "                     Количество объектов Доля от общего числа  \\\n",
              "Дистанция до Москвы                                             \n",
              "moscow                            805329               43.30%   \n",
              "< 100 km                          102673                5.52%   \n",
              "1000-3000 km                      229616               12.34%   \n",
              "500-1000 km                       421113               22.64%   \n",
              "100-500 km                        107529                5.78%   \n",
              ">= 3000 km                         61687                3.32%   \n",
              "no distance                       132095                7.10%   \n",
              "\n",
              "                    Процент целевых действий  \n",
              "Дистанция до Москвы                           \n",
              "moscow                                 2.93%  \n",
              "< 100 km                               2.90%  \n",
              "1000-3000 km                           2.77%  \n",
              "500-1000 km                            2.54%  \n",
              "100-500 km                             2.50%  \n",
              ">= 3000 km                             2.21%  \n",
              "no distance                            1.96%  "
            ],
            "text/html": [
              "\n",
              "  <div id=\"df-6eef3015-4a3e-445d-a504-9ed1c6ed6043\">\n",
              "    <div class=\"colab-df-container\">\n",
              "      <div>\n",
              "<style scoped>\n",
              "    .dataframe tbody tr th:only-of-type {\n",
              "        vertical-align: middle;\n",
              "    }\n",
              "\n",
              "    .dataframe tbody tr th {\n",
              "        vertical-align: top;\n",
              "    }\n",
              "\n",
              "    .dataframe thead th {\n",
              "        text-align: right;\n",
              "    }\n",
              "</style>\n",
              "<table border=\"1\" class=\"dataframe\">\n",
              "  <thead>\n",
              "    <tr style=\"text-align: right;\">\n",
              "      <th></th>\n",
              "      <th>Количество объектов</th>\n",
              "      <th>Доля от общего числа</th>\n",
              "      <th>Процент целевых действий</th>\n",
              "    </tr>\n",
              "    <tr>\n",
              "      <th>Дистанция до Москвы</th>\n",
              "      <th></th>\n",
              "      <th></th>\n",
              "      <th></th>\n",
              "    </tr>\n",
              "  </thead>\n",
              "  <tbody>\n",
              "    <tr>\n",
              "      <th>moscow</th>\n",
              "      <td>805329</td>\n",
              "      <td>43.30%</td>\n",
              "      <td>2.93%</td>\n",
              "    </tr>\n",
              "    <tr>\n",
              "      <th>&lt; 100 km</th>\n",
              "      <td>102673</td>\n",
              "      <td>5.52%</td>\n",
              "      <td>2.90%</td>\n",
              "    </tr>\n",
              "    <tr>\n",
              "      <th>1000-3000 km</th>\n",
              "      <td>229616</td>\n",
              "      <td>12.34%</td>\n",
              "      <td>2.77%</td>\n",
              "    </tr>\n",
              "    <tr>\n",
              "      <th>500-1000 km</th>\n",
              "      <td>421113</td>\n",
              "      <td>22.64%</td>\n",
              "      <td>2.54%</td>\n",
              "    </tr>\n",
              "    <tr>\n",
              "      <th>100-500 km</th>\n",
              "      <td>107529</td>\n",
              "      <td>5.78%</td>\n",
              "      <td>2.50%</td>\n",
              "    </tr>\n",
              "    <tr>\n",
              "      <th>&gt;= 3000 km</th>\n",
              "      <td>61687</td>\n",
              "      <td>3.32%</td>\n",
              "      <td>2.21%</td>\n",
              "    </tr>\n",
              "    <tr>\n",
              "      <th>no distance</th>\n",
              "      <td>132095</td>\n",
              "      <td>7.10%</td>\n",
              "      <td>1.96%</td>\n",
              "    </tr>\n",
              "  </tbody>\n",
              "</table>\n",
              "</div>\n",
              "      <button class=\"colab-df-convert\" onclick=\"convertToInteractive('df-6eef3015-4a3e-445d-a504-9ed1c6ed6043')\"\n",
              "              title=\"Convert this dataframe to an interactive table.\"\n",
              "              style=\"display:none;\">\n",
              "        \n",
              "  <svg xmlns=\"http://www.w3.org/2000/svg\" height=\"24px\"viewBox=\"0 0 24 24\"\n",
              "       width=\"24px\">\n",
              "    <path d=\"M0 0h24v24H0V0z\" fill=\"none\"/>\n",
              "    <path d=\"M18.56 5.44l.94 2.06.94-2.06 2.06-.94-2.06-.94-.94-2.06-.94 2.06-2.06.94zm-11 1L8.5 8.5l.94-2.06 2.06-.94-2.06-.94L8.5 2.5l-.94 2.06-2.06.94zm10 10l.94 2.06.94-2.06 2.06-.94-2.06-.94-.94-2.06-.94 2.06-2.06.94z\"/><path d=\"M17.41 7.96l-1.37-1.37c-.4-.4-.92-.59-1.43-.59-.52 0-1.04.2-1.43.59L10.3 9.45l-7.72 7.72c-.78.78-.78 2.05 0 2.83L4 21.41c.39.39.9.59 1.41.59.51 0 1.02-.2 1.41-.59l7.78-7.78 2.81-2.81c.8-.78.8-2.07 0-2.86zM5.41 20L4 18.59l7.72-7.72 1.47 1.35L5.41 20z\"/>\n",
              "  </svg>\n",
              "      </button>\n",
              "      \n",
              "  <style>\n",
              "    .colab-df-container {\n",
              "      display:flex;\n",
              "      flex-wrap:wrap;\n",
              "      gap: 12px;\n",
              "    }\n",
              "\n",
              "    .colab-df-convert {\n",
              "      background-color: #E8F0FE;\n",
              "      border: none;\n",
              "      border-radius: 50%;\n",
              "      cursor: pointer;\n",
              "      display: none;\n",
              "      fill: #1967D2;\n",
              "      height: 32px;\n",
              "      padding: 0 0 0 0;\n",
              "      width: 32px;\n",
              "    }\n",
              "\n",
              "    .colab-df-convert:hover {\n",
              "      background-color: #E2EBFA;\n",
              "      box-shadow: 0px 1px 2px rgba(60, 64, 67, 0.3), 0px 1px 3px 1px rgba(60, 64, 67, 0.15);\n",
              "      fill: #174EA6;\n",
              "    }\n",
              "\n",
              "    [theme=dark] .colab-df-convert {\n",
              "      background-color: #3B4455;\n",
              "      fill: #D2E3FC;\n",
              "    }\n",
              "\n",
              "    [theme=dark] .colab-df-convert:hover {\n",
              "      background-color: #434B5C;\n",
              "      box-shadow: 0px 1px 3px 1px rgba(0, 0, 0, 0.15);\n",
              "      filter: drop-shadow(0px 1px 2px rgba(0, 0, 0, 0.3));\n",
              "      fill: #FFFFFF;\n",
              "    }\n",
              "  </style>\n",
              "\n",
              "      <script>\n",
              "        const buttonEl =\n",
              "          document.querySelector('#df-6eef3015-4a3e-445d-a504-9ed1c6ed6043 button.colab-df-convert');\n",
              "        buttonEl.style.display =\n",
              "          google.colab.kernel.accessAllowed ? 'block' : 'none';\n",
              "\n",
              "        async function convertToInteractive(key) {\n",
              "          const element = document.querySelector('#df-6eef3015-4a3e-445d-a504-9ed1c6ed6043');\n",
              "          const dataTable =\n",
              "            await google.colab.kernel.invokeFunction('convertToInteractive',\n",
              "                                                     [key], {});\n",
              "          if (!dataTable) return;\n",
              "\n",
              "          const docLinkHtml = 'Like what you see? Visit the ' +\n",
              "            '<a target=\"_blank\" href=https://colab.research.google.com/notebooks/data_table.ipynb>data table notebook</a>'\n",
              "            + ' to learn more about interactive tables.';\n",
              "          element.innerHTML = '';\n",
              "          dataTable['output_type'] = 'display_data';\n",
              "          await google.colab.output.renderOutput(dataTable, element);\n",
              "          const docLink = document.createElement('div');\n",
              "          docLink.innerHTML = docLinkHtml;\n",
              "          element.appendChild(docLink);\n",
              "        }\n",
              "      </script>\n",
              "    </div>\n",
              "  </div>\n",
              "  "
            ]
          },
          "metadata": {},
          "execution_count": 229
        }
      ]
    },
    {
      "cell_type": "markdown",
      "source": [
        "## Взаимодействия признаков"
      ],
      "metadata": {
        "id": "5ogj7JZIgrOJ"
      }
    },
    {
      "cell_type": "markdown",
      "source": [
        "### Корреляции\n",
        "\n",
        "Из численных признаков действительно коррелируют между собой только те, которые образованы из `device_screen_resolution`.  "
      ],
      "metadata": {
        "id": "Dc8zPsVHiEhY"
      }
    },
    {
      "cell_type": "code",
      "source": [
        "numerical_columns = [\n",
        "    'visit_number', 'target', 'visit_date_weekday', 'visit_date_day', \n",
        "    'visit_time_hour', 'visit_time_minute', 'device_screen_width', \n",
        "    'device_screen_height', 'device_screen_area', 'device_screen_ratio', \n",
        "    'geo_city_distance_from_moscow']\n",
        "\n",
        "plt.figure(figsize=(24,12))\n",
        "sns.heatmap(sessions[numerical_columns].corr(), annot=True, fmt='0.2f')\n",
        "plt.title('Корреляция численных признаков');"
      ],
      "metadata": {
        "colab": {
          "base_uri": "https://localhost:8080/",
          "height": 909
        },
        "id": "MOFKQKkOiHeg",
        "outputId": "9aeda981-b716-499b-986a-fe2c0061e21f"
      },
      "execution_count": null,
      "outputs": [
        {
          "output_type": "display_data",
          "data": {
            "text/plain": [
              "<Figure size 1728x864 with 2 Axes>"
            ],
            "image/png": "[encoded data removed]"
          },
          "metadata": {}
        }
      ]
    },
    {
      "cell_type": "markdown",
      "source": [
        "### Категориальные признаки\n",
        "\n",
        "Процент целевых действий органического трафика снижается гораздо быстрее к концу недели, чем процент неорганического трафика.\n",
        "\n",
        "Органический трафик чаще совершает целевые действия с компьютера, а неорганический - со смартфона.\n",
        "\n",
        "Для реферального типа привлечения больше всего действий в первую минуту часа, возможно из-за недобросовестной накрутки реферальных действий."
      ],
      "metadata": {
        "id": "MUict43IjOHj"
      }
    },
    {
      "cell_type": "code",
      "source": [
        "def target_ratio(data: pd.Series) -> str:\n",
        "    \"\"\"Возвращает процент целевых действий.\"\"\"\n",
        "    return as_percent(data.sum() / data.count())"
      ],
      "metadata": {
        "id": "c9XcpnwlkYSL"
      },
      "execution_count": null,
      "outputs": []
    },
    {
      "cell_type": "code",
      "source": [
        "print('Целевые действия органического трафика по дням недели:')\n",
        "sessions.pivot_table(\n",
        "    index='visit_date_weekday', columns='utm_medium_is_organic', \n",
        "    values='target', aggfunc=[target_ratio, 'count'])"
      ],
      "metadata": {
        "colab": {
          "base_uri": "https://localhost:8080/",
          "height": 350
        },
        "id": "p_8Lvftvc9GS",
        "outputId": "8d1c955a-11e6-4b72-bc70-29e17a5857c1"
      },
      "execution_count": null,
      "outputs": [
        {
          "output_type": "stream",
          "name": "stdout",
          "text": [
            "Целевые действия органического трафика по дням недели:\n"
          ]
        },
        {
          "output_type": "execute_result",
          "data": {
            "text/plain": [
              "                      target_ratio          count        \n",
              "utm_medium_is_organic        False   True   False    True\n",
              "visit_date_weekday                                       \n",
              "0                            2.28%  4.70%  193010  107896\n",
              "1                            2.23%  4.32%  215645   89485\n",
              "2                            2.26%  4.22%  185490   73126\n",
              "3                            2.16%  3.93%  200492   73970\n",
              "4                            2.01%  3.83%  205818   63001\n",
              "5                            2.20%  3.34%  174327   52070\n",
              "6                            2.24%  3.10%  169601   56111"
            ],
            "text/html": [
              "\n",
              "  <div id=\"df-86468027-239d-4ec4-b95c-08ab852badf9\">\n",
              "    <div class=\"colab-df-container\">\n",
              "      <div>\n",
              "<style scoped>\n",
              "    .dataframe tbody tr th:only-of-type {\n",
              "        vertical-align: middle;\n",
              "    }\n",
              "\n",
              "    .dataframe tbody tr th {\n",
              "        vertical-align: top;\n",
              "    }\n",
              "\n",
              "    .dataframe thead tr th {\n",
              "        text-align: left;\n",
              "    }\n",
              "\n",
              "    .dataframe thead tr:last-of-type th {\n",
              "        text-align: right;\n",
              "    }\n",
              "</style>\n",
              "<table border=\"1\" class=\"dataframe\">\n",
              "  <thead>\n",
              "    <tr>\n",
              "      <th></th>\n",
              "      <th colspan=\"2\" halign=\"left\">target_ratio</th>\n",
              "      <th colspan=\"2\" halign=\"left\">count</th>\n",
              "    </tr>\n",
              "    <tr>\n",
              "      <th>utm_medium_is_organic</th>\n",
              "      <th>False</th>\n",
              "      <th>True</th>\n",
              "      <th>False</th>\n",
              "      <th>True</th>\n",
              "    </tr>\n",
              "    <tr>\n",
              "      <th>visit_date_weekday</th>\n",
              "      <th></th>\n",
              "      <th></th>\n",
              "      <th></th>\n",
              "      <th></th>\n",
              "    </tr>\n",
              "  </thead>\n",
              "  <tbody>\n",
              "    <tr>\n",
              "      <th>0</th>\n",
              "      <td>2.28%</td>\n",
              "      <td>4.70%</td>\n",
              "      <td>193010</td>\n",
              "      <td>107896</td>\n",
              "    </tr>\n",
              "    <tr>\n",
              "      <th>1</th>\n",
              "      <td>2.23%</td>\n",
              "      <td>4.32%</td>\n",
              "      <td>215645</td>\n",
              "      <td>89485</td>\n",
              "    </tr>\n",
              "    <tr>\n",
              "      <th>2</th>\n",
              "      <td>2.26%</td>\n",
              "      <td>4.22%</td>\n",
              "      <td>185490</td>\n",
              "      <td>73126</td>\n",
              "    </tr>\n",
              "    <tr>\n",
              "      <th>3</th>\n",
              "      <td>2.16%</td>\n",
              "      <td>3.93%</td>\n",
              "      <td>200492</td>\n",
              "      <td>73970</td>\n",
              "    </tr>\n",
              "    <tr>\n",
              "      <th>4</th>\n",
              "      <td>2.01%</td>\n",
              "      <td>3.83%</td>\n",
              "      <td>205818</td>\n",
              "      <td>63001</td>\n",
              "    </tr>\n",
              "    <tr>\n",
              "      <th>5</th>\n",
              "      <td>2.20%</td>\n",
              "      <td>3.34%</td>\n",
              "      <td>174327</td>\n",
              "      <td>52070</td>\n",
              "    </tr>\n",
              "    <tr>\n",
              "      <th>6</th>\n",
              "      <td>2.24%</td>\n",
              "      <td>3.10%</td>\n",
              "      <td>169601</td>\n",
              "      <td>56111</td>\n",
              "    </tr>\n",
              "  </tbody>\n",
              "</table>\n",
              "</div>\n",
              "      <button class=\"colab-df-convert\" onclick=\"convertToInteractive('df-86468027-239d-4ec4-b95c-08ab852badf9')\"\n",
              "              title=\"Convert this dataframe to an interactive table.\"\n",
              "              style=\"display:none;\">\n",
              "        \n",
              "  <svg xmlns=\"http://www.w3.org/2000/svg\" height=\"24px\"viewBox=\"0 0 24 24\"\n",
              "       width=\"24px\">\n",
              "    <path d=\"M0 0h24v24H0V0z\" fill=\"none\"/>\n",
              "    <path d=\"M18.56 5.44l.94 2.06.94-2.06 2.06-.94-2.06-.94-.94-2.06-.94 2.06-2.06.94zm-11 1L8.5 8.5l.94-2.06 2.06-.94-2.06-.94L8.5 2.5l-.94 2.06-2.06.94zm10 10l.94 2.06.94-2.06 2.06-.94-2.06-.94-.94-2.06-.94 2.06-2.06.94z\"/><path d=\"M17.41 7.96l-1.37-1.37c-.4-.4-.92-.59-1.43-.59-.52 0-1.04.2-1.43.59L10.3 9.45l-7.72 7.72c-.78.78-.78 2.05 0 2.83L4 21.41c.39.39.9.59 1.41.59.51 0 1.02-.2 1.41-.59l7.78-7.78 2.81-2.81c.8-.78.8-2.07 0-2.86zM5.41 20L4 18.59l7.72-7.72 1.47 1.35L5.41 20z\"/>\n",
              "  </svg>\n",
              "      </button>\n",
              "      \n",
              "  <style>\n",
              "    .colab-df-container {\n",
              "      display:flex;\n",
              "      flex-wrap:wrap;\n",
              "      gap: 12px;\n",
              "    }\n",
              "\n",
              "    .colab-df-convert {\n",
              "      background-color: #E8F0FE;\n",
              "      border: none;\n",
              "      border-radius: 50%;\n",
              "      cursor: pointer;\n",
              "      display: none;\n",
              "      fill: #1967D2;\n",
              "      height: 32px;\n",
              "      padding: 0 0 0 0;\n",
              "      width: 32px;\n",
              "    }\n",
              "\n",
              "    .colab-df-convert:hover {\n",
              "      background-color: #E2EBFA;\n",
              "      box-shadow: 0px 1px 2px rgba(60, 64, 67, 0.3), 0px 1px 3px 1px rgba(60, 64, 67, 0.15);\n",
              "      fill: #174EA6;\n",
              "    }\n",
              "\n",
              "    [theme=dark] .colab-df-convert {\n",
              "      background-color: #3B4455;\n",
              "      fill: #D2E3FC;\n",
              "    }\n",
              "\n",
              "    [theme=dark] .colab-df-convert:hover {\n",
              "      background-color: #434B5C;\n",
              "      box-shadow: 0px 1px 3px 1px rgba(0, 0, 0, 0.15);\n",
              "      filter: drop-shadow(0px 1px 2px rgba(0, 0, 0, 0.3));\n",
              "      fill: #FFFFFF;\n",
              "    }\n",
              "  </style>\n",
              "\n",
              "      <script>\n",
              "        const buttonEl =\n",
              "          document.querySelector('#df-86468027-239d-4ec4-b95c-08ab852badf9 button.colab-df-convert');\n",
              "        buttonEl.style.display =\n",
              "          google.colab.kernel.accessAllowed ? 'block' : 'none';\n",
              "\n",
              "        async function convertToInteractive(key) {\n",
              "          const element = document.querySelector('#df-86468027-239d-4ec4-b95c-08ab852badf9');\n",
              "          const dataTable =\n",
              "            await google.colab.kernel.invokeFunction('convertToInteractive',\n",
              "                                                     [key], {});\n",
              "          if (!dataTable) return;\n",
              "\n",
              "          const docLinkHtml = 'Like what you see? Visit the ' +\n",
              "            '<a target=\"_blank\" href=https://colab.research.google.com/notebooks/data_table.ipynb>data table notebook</a>'\n",
              "            + ' to learn more about interactive tables.';\n",
              "          element.innerHTML = '';\n",
              "          dataTable['output_type'] = 'display_data';\n",
              "          await google.colab.output.renderOutput(dataTable, element);\n",
              "          const docLink = document.createElement('div');\n",
              "          docLink.innerHTML = docLinkHtml;\n",
              "          element.appendChild(docLink);\n",
              "        }\n",
              "      </script>\n",
              "    </div>\n",
              "  </div>\n",
              "  "
            ]
          },
          "metadata": {},
          "execution_count": 280
        }
      ]
    },
    {
      "cell_type": "code",
      "source": [
        "print('Целевые действия органического трафика по устройствам:')\n",
        "sessions.pivot_table(\n",
        "    index='utm_medium_is_organic', columns='device_category', \n",
        "    values='target', aggfunc=[target_ratio, 'count'])"
      ],
      "metadata": {
        "colab": {
          "base_uri": "https://localhost:8080/",
          "height": 193
        },
        "outputId": "5285e32c-2c1b-4899-e260-1b26cf65feff",
        "id": "2CzX2cXQhc81"
      },
      "execution_count": null,
      "outputs": [
        {
          "output_type": "stream",
          "name": "stdout",
          "text": [
            "Целевые действия органического трафика по устройствам:\n"
          ]
        },
        {
          "output_type": "execute_result",
          "data": {
            "text/plain": [
              "                      target_ratio                 count                \n",
              "device_category            desktop mobile tablet desktop   mobile tablet\n",
              "utm_medium_is_organic                                                   \n",
              "False                        1.70%  2.28%  1.82%  194791  1136846  12746\n",
              "True                         4.76%  3.68%  3.42%  172072   338025   5562"
            ],
            "text/html": [
              "\n",
              "  <div id=\"df-78ef14c8-0c62-4424-ab82-13990f829b2e\">\n",
              "    <div class=\"colab-df-container\">\n",
              "      <div>\n",
              "<style scoped>\n",
              "    .dataframe tbody tr th:only-of-type {\n",
              "        vertical-align: middle;\n",
              "    }\n",
              "\n",
              "    .dataframe tbody tr th {\n",
              "        vertical-align: top;\n",
              "    }\n",
              "\n",
              "    .dataframe thead tr th {\n",
              "        text-align: left;\n",
              "    }\n",
              "\n",
              "    .dataframe thead tr:last-of-type th {\n",
              "        text-align: right;\n",
              "    }\n",
              "</style>\n",
              "<table border=\"1\" class=\"dataframe\">\n",
              "  <thead>\n",
              "    <tr>\n",
              "      <th></th>\n",
              "      <th colspan=\"3\" halign=\"left\">target_ratio</th>\n",
              "      <th colspan=\"3\" halign=\"left\">count</th>\n",
              "    </tr>\n",
              "    <tr>\n",
              "      <th>device_category</th>\n",
              "      <th>desktop</th>\n",
              "      <th>mobile</th>\n",
              "      <th>tablet</th>\n",
              "      <th>desktop</th>\n",
              "      <th>mobile</th>\n",
              "      <th>tablet</th>\n",
              "    </tr>\n",
              "    <tr>\n",
              "      <th>utm_medium_is_organic</th>\n",
              "      <th></th>\n",
              "      <th></th>\n",
              "      <th></th>\n",
              "      <th></th>\n",
              "      <th></th>\n",
              "      <th></th>\n",
              "    </tr>\n",
              "  </thead>\n",
              "  <tbody>\n",
              "    <tr>\n",
              "      <th>False</th>\n",
              "      <td>1.70%</td>\n",
              "      <td>2.28%</td>\n",
              "      <td>1.82%</td>\n",
              "      <td>194791</td>\n",
              "      <td>1136846</td>\n",
              "      <td>12746</td>\n",
              "    </tr>\n",
              "    <tr>\n",
              "      <th>True</th>\n",
              "      <td>4.76%</td>\n",
              "      <td>3.68%</td>\n",
              "      <td>3.42%</td>\n",
              "      <td>172072</td>\n",
              "      <td>338025</td>\n",
              "      <td>5562</td>\n",
              "    </tr>\n",
              "  </tbody>\n",
              "</table>\n",
              "</div>\n",
              "      <button class=\"colab-df-convert\" onclick=\"convertToInteractive('df-78ef14c8-0c62-4424-ab82-13990f829b2e')\"\n",
              "              title=\"Convert this dataframe to an interactive table.\"\n",
              "              style=\"display:none;\">\n",
              "        \n",
              "  <svg xmlns=\"http://www.w3.org/2000/svg\" height=\"24px\"viewBox=\"0 0 24 24\"\n",
              "       width=\"24px\">\n",
              "    <path d=\"M0 0h24v24H0V0z\" fill=\"none\"/>\n",
              "    <path d=\"M18.56 5.44l.94 2.06.94-2.06 2.06-.94-2.06-.94-.94-2.06-.94 2.06-2.06.94zm-11 1L8.5 8.5l.94-2.06 2.06-.94-2.06-.94L8.5 2.5l-.94 2.06-2.06.94zm10 10l.94 2.06.94-2.06 2.06-.94-2.06-.94-.94-2.06-.94 2.06-2.06.94z\"/><path d=\"M17.41 7.96l-1.37-1.37c-.4-.4-.92-.59-1.43-.59-.52 0-1.04.2-1.43.59L10.3 9.45l-7.72 7.72c-.78.78-.78 2.05 0 2.83L4 21.41c.39.39.9.59 1.41.59.51 0 1.02-.2 1.41-.59l7.78-7.78 2.81-2.81c.8-.78.8-2.07 0-2.86zM5.41 20L4 18.59l7.72-7.72 1.47 1.35L5.41 20z\"/>\n",
              "  </svg>\n",
              "      </button>\n",
              "      \n",
              "  <style>\n",
              "    .colab-df-container {\n",
              "      display:flex;\n",
              "      flex-wrap:wrap;\n",
              "      gap: 12px;\n",
              "    }\n",
              "\n",
              "    .colab-df-convert {\n",
              "      background-color: #E8F0FE;\n",
              "      border: none;\n",
              "      border-radius: 50%;\n",
              "      cursor: pointer;\n",
              "      display: none;\n",
              "      fill: #1967D2;\n",
              "      height: 32px;\n",
              "      padding: 0 0 0 0;\n",
              "      width: 32px;\n",
              "    }\n",
              "\n",
              "    .colab-df-convert:hover {\n",
              "      background-color: #E2EBFA;\n",
              "      box-shadow: 0px 1px 2px rgba(60, 64, 67, 0.3), 0px 1px 3px 1px rgba(60, 64, 67, 0.15);\n",
              "      fill: #174EA6;\n",
              "    }\n",
              "\n",
              "    [theme=dark] .colab-df-convert {\n",
              "      background-color: #3B4455;\n",
              "      fill: #D2E3FC;\n",
              "    }\n",
              "\n",
              "    [theme=dark] .colab-df-convert:hover {\n",
              "      background-color: #434B5C;\n",
              "      box-shadow: 0px 1px 3px 1px rgba(0, 0, 0, 0.15);\n",
              "      filter: drop-shadow(0px 1px 2px rgba(0, 0, 0, 0.3));\n",
              "      fill: #FFFFFF;\n",
              "    }\n",
              "  </style>\n",
              "\n",
              "      <script>\n",
              "        const buttonEl =\n",
              "          document.querySelector('#df-78ef14c8-0c62-4424-ab82-13990f829b2e button.colab-df-convert');\n",
              "        buttonEl.style.display =\n",
              "          google.colab.kernel.accessAllowed ? 'block' : 'none';\n",
              "\n",
              "        async function convertToInteractive(key) {\n",
              "          const element = document.querySelector('#df-78ef14c8-0c62-4424-ab82-13990f829b2e');\n",
              "          const dataTable =\n",
              "            await google.colab.kernel.invokeFunction('convertToInteractive',\n",
              "                                                     [key], {});\n",
              "          if (!dataTable) return;\n",
              "\n",
              "          const docLinkHtml = 'Like what you see? Visit the ' +\n",
              "            '<a target=\"_blank\" href=https://colab.research.google.com/notebooks/data_table.ipynb>data table notebook</a>'\n",
              "            + ' to learn more about interactive tables.';\n",
              "          element.innerHTML = '';\n",
              "          dataTable['output_type'] = 'display_data';\n",
              "          await google.colab.output.renderOutput(dataTable, element);\n",
              "          const docLink = document.createElement('div');\n",
              "          docLink.innerHTML = docLinkHtml;\n",
              "          element.appendChild(docLink);\n",
              "        }\n",
              "      </script>\n",
              "    </div>\n",
              "  </div>\n",
              "  "
            ]
          },
          "metadata": {},
          "execution_count": 281
        }
      ]
    },
    {
      "cell_type": "code",
      "source": [
        "print('Целевые действия по различным типам привлечения в первую минуту часа:')\n",
        "sessions.pivot_table(\n",
        "    index='utm_medium_frequent', columns='visit_time_minute_is_zero', \n",
        "    values='target', aggfunc=[target_ratio, 'count'])"
      ],
      "metadata": {
        "colab": {
          "base_uri": "https://localhost:8080/",
          "height": 319
        },
        "outputId": "6bf49094-1051-4690-99b1-b1c8637ffca3",
        "id": "-wjfQEyxlq84"
      },
      "execution_count": null,
      "outputs": [
        {
          "output_type": "stream",
          "name": "stdout",
          "text": [
            "Целевые действия по различным типам привлечения в первую минуту часа:\n"
          ]
        },
        {
          "output_type": "execute_result",
          "data": {
            "text/plain": [
              "                          target_ratio          count        \n",
              "visit_time_minute_is_zero        False   True   False    True\n",
              "utm_medium_frequent                                          \n",
              "(none)                           2.23%  3.87%   67374  233201\n",
              "banner                           2.16%  3.51%  315462  236810\n",
              "cpc                              2.41%  2.08%  148645  286149\n",
              "cpm                              0.96%  1.11%  113909  128174\n",
              "rare_other                       1.79%  3.30%   95596   82672\n",
              "referral                         2.59%  6.24%   35723  116327"
            ],
            "text/html": [
              "\n",
              "  <div id=\"df-23c74483-3051-4d66-8c2a-bd9536d2c5fa\">\n",
              "    <div class=\"colab-df-container\">\n",
              "      <div>\n",
              "<style scoped>\n",
              "    .dataframe tbody tr th:only-of-type {\n",
              "        vertical-align: middle;\n",
              "    }\n",
              "\n",
              "    .dataframe tbody tr th {\n",
              "        vertical-align: top;\n",
              "    }\n",
              "\n",
              "    .dataframe thead tr th {\n",
              "        text-align: left;\n",
              "    }\n",
              "\n",
              "    .dataframe thead tr:last-of-type th {\n",
              "        text-align: right;\n",
              "    }\n",
              "</style>\n",
              "<table border=\"1\" class=\"dataframe\">\n",
              "  <thead>\n",
              "    <tr>\n",
              "      <th></th>\n",
              "      <th colspan=\"2\" halign=\"left\">target_ratio</th>\n",
              "      <th colspan=\"2\" halign=\"left\">count</th>\n",
              "    </tr>\n",
              "    <tr>\n",
              "      <th>visit_time_minute_is_zero</th>\n",
              "      <th>False</th>\n",
              "      <th>True</th>\n",
              "      <th>False</th>\n",
              "      <th>True</th>\n",
              "    </tr>\n",
              "    <tr>\n",
              "      <th>utm_medium_frequent</th>\n",
              "      <th></th>\n",
              "      <th></th>\n",
              "      <th></th>\n",
              "      <th></th>\n",
              "    </tr>\n",
              "  </thead>\n",
              "  <tbody>\n",
              "    <tr>\n",
              "      <th>(none)</th>\n",
              "      <td>2.23%</td>\n",
              "      <td>3.87%</td>\n",
              "      <td>67374</td>\n",
              "      <td>233201</td>\n",
              "    </tr>\n",
              "    <tr>\n",
              "      <th>banner</th>\n",
              "      <td>2.16%</td>\n",
              "      <td>3.51%</td>\n",
              "      <td>315462</td>\n",
              "      <td>236810</td>\n",
              "    </tr>\n",
              "    <tr>\n",
              "      <th>cpc</th>\n",
              "      <td>2.41%</td>\n",
              "      <td>2.08%</td>\n",
              "      <td>148645</td>\n",
              "      <td>286149</td>\n",
              "    </tr>\n",
              "    <tr>\n",
              "      <th>cpm</th>\n",
              "      <td>0.96%</td>\n",
              "      <td>1.11%</td>\n",
              "      <td>113909</td>\n",
              "      <td>128174</td>\n",
              "    </tr>\n",
              "    <tr>\n",
              "      <th>rare_other</th>\n",
              "      <td>1.79%</td>\n",
              "      <td>3.30%</td>\n",
              "      <td>95596</td>\n",
              "      <td>82672</td>\n",
              "    </tr>\n",
              "    <tr>\n",
              "      <th>referral</th>\n",
              "      <td>2.59%</td>\n",
              "      <td>6.24%</td>\n",
              "      <td>35723</td>\n",
              "      <td>116327</td>\n",
              "    </tr>\n",
              "  </tbody>\n",
              "</table>\n",
              "</div>\n",
              "      <button class=\"colab-df-convert\" onclick=\"convertToInteractive('df-23c74483-3051-4d66-8c2a-bd9536d2c5fa')\"\n",
              "              title=\"Convert this dataframe to an interactive table.\"\n",
              "              style=\"display:none;\">\n",
              "        \n",
              "  <svg xmlns=\"http://www.w3.org/2000/svg\" height=\"24px\"viewBox=\"0 0 24 24\"\n",
              "       width=\"24px\">\n",
              "    <path d=\"M0 0h24v24H0V0z\" fill=\"none\"/>\n",
              "    <path d=\"M18.56 5.44l.94 2.06.94-2.06 2.06-.94-2.06-.94-.94-2.06-.94 2.06-2.06.94zm-11 1L8.5 8.5l.94-2.06 2.06-.94-2.06-.94L8.5 2.5l-.94 2.06-2.06.94zm10 10l.94 2.06.94-2.06 2.06-.94-2.06-.94-.94-2.06-.94 2.06-2.06.94z\"/><path d=\"M17.41 7.96l-1.37-1.37c-.4-.4-.92-.59-1.43-.59-.52 0-1.04.2-1.43.59L10.3 9.45l-7.72 7.72c-.78.78-.78 2.05 0 2.83L4 21.41c.39.39.9.59 1.41.59.51 0 1.02-.2 1.41-.59l7.78-7.78 2.81-2.81c.8-.78.8-2.07 0-2.86zM5.41 20L4 18.59l7.72-7.72 1.47 1.35L5.41 20z\"/>\n",
              "  </svg>\n",
              "      </button>\n",
              "      \n",
              "  <style>\n",
              "    .colab-df-container {\n",
              "      display:flex;\n",
              "      flex-wrap:wrap;\n",
              "      gap: 12px;\n",
              "    }\n",
              "\n",
              "    .colab-df-convert {\n",
              "      background-color: #E8F0FE;\n",
              "      border: none;\n",
              "      border-radius: 50%;\n",
              "      cursor: pointer;\n",
              "      display: none;\n",
              "      fill: #1967D2;\n",
              "      height: 32px;\n",
              "      padding: 0 0 0 0;\n",
              "      width: 32px;\n",
              "    }\n",
              "\n",
              "    .colab-df-convert:hover {\n",
              "      background-color: #E2EBFA;\n",
              "      box-shadow: 0px 1px 2px rgba(60, 64, 67, 0.3), 0px 1px 3px 1px rgba(60, 64, 67, 0.15);\n",
              "      fill: #174EA6;\n",
              "    }\n",
              "\n",
              "    [theme=dark] .colab-df-convert {\n",
              "      background-color: #3B4455;\n",
              "      fill: #D2E3FC;\n",
              "    }\n",
              "\n",
              "    [theme=dark] .colab-df-convert:hover {\n",
              "      background-color: #434B5C;\n",
              "      box-shadow: 0px 1px 3px 1px rgba(0, 0, 0, 0.15);\n",
              "      filter: drop-shadow(0px 1px 2px rgba(0, 0, 0, 0.3));\n",
              "      fill: #FFFFFF;\n",
              "    }\n",
              "  </style>\n",
              "\n",
              "      <script>\n",
              "        const buttonEl =\n",
              "          document.querySelector('#df-23c74483-3051-4d66-8c2a-bd9536d2c5fa button.colab-df-convert');\n",
              "        buttonEl.style.display =\n",
              "          google.colab.kernel.accessAllowed ? 'block' : 'none';\n",
              "\n",
              "        async function convertToInteractive(key) {\n",
              "          const element = document.querySelector('#df-23c74483-3051-4d66-8c2a-bd9536d2c5fa');\n",
              "          const dataTable =\n",
              "            await google.colab.kernel.invokeFunction('convertToInteractive',\n",
              "                                                     [key], {});\n",
              "          if (!dataTable) return;\n",
              "\n",
              "          const docLinkHtml = 'Like what you see? Visit the ' +\n",
              "            '<a target=\"_blank\" href=https://colab.research.google.com/notebooks/data_table.ipynb>data table notebook</a>'\n",
              "            + ' to learn more about interactive tables.';\n",
              "          element.innerHTML = '';\n",
              "          dataTable['output_type'] = 'display_data';\n",
              "          await google.colab.output.renderOutput(dataTable, element);\n",
              "          const docLink = document.createElement('div');\n",
              "          docLink.innerHTML = docLinkHtml;\n",
              "          element.appendChild(docLink);\n",
              "        }\n",
              "      </script>\n",
              "    </div>\n",
              "  </div>\n",
              "  "
            ]
          },
          "metadata": {},
          "execution_count": 295
        }
      ]
    },
    {
      "cell_type": "markdown",
      "source": [
        "## Выводы по данным  \n"
      ],
      "metadata": {
        "id": "ddES_YH5-qaW"
      }
    },
    {
      "cell_type": "markdown",
      "source": [
        "Целевая переменная распределена неравномерно. Только 2.7% сессий завершилось целевым действием. \n",
        "Нужно будет это учесть при разбиении данных на тренировочную и тестовую выборку, а также при выборе метрик для оценки моделей.  \n",
        "\n",
        "+ Больший процент целевых действий наблюдается в сессиях в дневное время и в первой половине недели.  \n",
        "+ Похоже, чем больше раз пользователь посещает сайт, тем скорее он совершит целевое действие.  \n",
        "+ Пользователи с органического трафика чаще совершали целевые действия. \n",
        "+ В нулевую минуту каждого часа совершалось большое количество целевых действий, но это больше похоже на алгоритмы.\n",
        "+ Пользователи, пришедшие из социальных сетей реже совершают целевые действия.\n",
        "+ С компьютера совершается больше целевых действий. Это ещё заметнее для органического трафика.\n",
        "+ Большинство целевых действий совершается пользоваетелями из Москвы или Московской области.\n",
        "+ Из численных признаков коррелируют между собой только производные от разрешения экрана.\n",
        "+ Процент целевых действий органического трафика заметно снижается к концу недели, в отличие от неорганического трафика."
      ],
      "metadata": {
        "id": "YgIn2GzVCr2S"
      }
    },
    {
      "cell_type": "markdown",
      "source": [
        "Не все признаки получится использовать напрямую: \n",
        "+ колонка `session_id` будет использоваться как индекс окончательного датасета, и по сути не будет участвовать в обучении; \n",
        "+ `client_id` неудобно использовать, поэтому этот признак будет просто удалён; \n",
        "+ `visit_date` и `visit_time` прямо использоваться не будут, но из них будут получены дополнительные признаки, такие как: час посещения, день недели, является ли день выходным и т.д.;\n",
        "+ `device_screen_resolution` напрямую использовать не получится, но из него можно получить дополнительные признаки: ширина, высота, площадь и соотношение экрана; \n",
        "+ в `device_model` слишком много пропусков, использоваться не будет;\n",
        "+ в численных колонках много выбросов, их нужно будет обработать; \n",
        "+ большинство категориальных переменных имеет очень большое количество уникальных значений с небольшим числом повторений, поэтому редкие значения будут заменены на 'rare_other' для снижения размера датасета после one-hot кодирования; \n",
        "+ дополнительно можно получить производные признаки, как-то: привлечённые из социальных сетей `utm_social_media_source`, органический трафик `utm_organic_medium`, нахождение города в Московской области `geo_moscow_region`, пользователь из крупного города `geo_big_city` и расстояние до Москвы `geo_city_distance_from_moscow`."
      ],
      "metadata": {
        "id": "dAVhJSG_-uqX"
      }
    }
  ]
}